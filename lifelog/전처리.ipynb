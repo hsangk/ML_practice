{
 "nbformat": 4,
 "nbformat_minor": 0,
 "metadata": {
  "colab": {
   "provenance": [],
   "mount_file_id": "1Kz9E4tjSZOZ37roepgOxQ7131N947jY8",
   "authorship_tag": "ABX9TyOj84shH6jupVJbJtUqk7F7"
  },
  "kernelspec": {
   "name": "python3",
   "language": "python",
   "display_name": "Python 3 (ipykernel)"
  },
  "language_info": {
   "name": "python"
  }
 },
 "cells": [
  {
   "cell_type": "code",
   "execution_count": 2,
   "outputs": [],
   "source": [
    "data_path = \"./data/data_1.xls\""
   ],
   "metadata": {
    "collapsed": false,
    "ExecuteTime": {
     "start_time": "2023-10-20T20:54:03.710919Z",
     "end_time": "2023-10-20T20:54:03.734546Z"
    }
   }
  },
  {
   "cell_type": "code",
   "execution_count": 3,
   "outputs": [],
   "source": [
    "import pandas as pd\n",
    "T_DATA_CALLS = pd.read_excel(data_path,sheet_name='T_DATA_CALLS')\n",
    "T_DATA_DB = pd.read_excel(data_path,sheet_name='T_DATA_DB')\n",
    "T_DATA_HEART_RATE = pd.read_excel(data_path,sheet_name='T_DATA_HEART_RATE')\n",
    "T_DATA_LUX = pd.read_excel(data_path,sheet_name='T_DATA_LUX')\n",
    "T_DATA_MESSAGE = pd.read_excel(data_path,sheet_name='T_DATA_MESSAGE')\n",
    "T_DATA_PICTURE = pd.read_excel(data_path,sheet_name='T_DATA_PICTURE')\n",
    "T_DATA_SLEEP = pd.read_excel(data_path,sheet_name='T_DATA_SLEEP')\n",
    "T_DATA_STEP = pd.read_excel(data_path,sheet_name='T_DATA_STEP')\n",
    "T_DATA_WALKING = pd.read_excel(data_path,sheet_name='T_DATA_WALKING')\n",
    "T_DATA_APP = pd.read_excel(data_path,sheet_name='T_DATA_APP')"
   ],
   "metadata": {
    "collapsed": false,
    "ExecuteTime": {
     "start_time": "2023-10-20T20:54:04.270396Z",
     "end_time": "2023-10-20T20:54:04.422936Z"
    }
   }
  },
  {
   "cell_type": "code",
   "execution_count": 4,
   "outputs": [
    {
     "data": {
      "text/plain": "   USER_ID  CALL_ID  CALL_DURATION     CALL_DATE  CALL_TYPE  \\\n0    admin     8137             39  202306222025          2   \n1    admin     8138             44  202306222030          1   \n2    admin     8139            326  202306231419          1   \n3    admin     8140            185  202306231429          2   \n4    admin     8141            222  202306231440          2   \n..     ...      ...            ...           ...        ...   \n72   admin     8246            107  202307101816          1   \n73   admin     8247             47  202307101826          2   \n74   admin     8248             16  202307101852          1   \n75   admin     8249             53  202307101901          1   \n76   admin     8250             32  202307101904          2   \n\n                                          CALL_NUMBER  \n0   EA4C60B7622973F7C302A1264093943CF9B3D5D7FD733A...  \n1   EA4C60B7622973F7C302A1264093943CF9B3D5D7FD733A...  \n2   66443CE7EBFC4D25D58D9F0D55C1F9154320EC29F7FE3C...  \n3   542CE600D7EAD0CC5BD992A3E92164E87FED6FBB098DCD...  \n4   542CE600D7EAD0CC5BD992A3E92164E87FED6FBB098DCD...  \n..                                                ...  \n72  DCC1F6A4EECB91A75C4F6628391345432A432A16C91863...  \n73  DCC1F6A4EECB91A75C4F6628391345432A432A16C91863...  \n74  DCC1F6A4EECB91A75C4F6628391345432A432A16C91863...  \n75  DCC1F6A4EECB91A75C4F6628391345432A432A16C91863...  \n76  DCC1F6A4EECB91A75C4F6628391345432A432A16C91863...  \n\n[77 rows x 6 columns]",
      "text/html": "<div>\n<style scoped>\n    .dataframe tbody tr th:only-of-type {\n        vertical-align: middle;\n    }\n\n    .dataframe tbody tr th {\n        vertical-align: top;\n    }\n\n    .dataframe thead th {\n        text-align: right;\n    }\n</style>\n<table border=\"1\" class=\"dataframe\">\n  <thead>\n    <tr style=\"text-align: right;\">\n      <th></th>\n      <th>USER_ID</th>\n      <th>CALL_ID</th>\n      <th>CALL_DURATION</th>\n      <th>CALL_DATE</th>\n      <th>CALL_TYPE</th>\n      <th>CALL_NUMBER</th>\n    </tr>\n  </thead>\n  <tbody>\n    <tr>\n      <th>0</th>\n      <td>admin</td>\n      <td>8137</td>\n      <td>39</td>\n      <td>202306222025</td>\n      <td>2</td>\n      <td>EA4C60B7622973F7C302A1264093943CF9B3D5D7FD733A...</td>\n    </tr>\n    <tr>\n      <th>1</th>\n      <td>admin</td>\n      <td>8138</td>\n      <td>44</td>\n      <td>202306222030</td>\n      <td>1</td>\n      <td>EA4C60B7622973F7C302A1264093943CF9B3D5D7FD733A...</td>\n    </tr>\n    <tr>\n      <th>2</th>\n      <td>admin</td>\n      <td>8139</td>\n      <td>326</td>\n      <td>202306231419</td>\n      <td>1</td>\n      <td>66443CE7EBFC4D25D58D9F0D55C1F9154320EC29F7FE3C...</td>\n    </tr>\n    <tr>\n      <th>3</th>\n      <td>admin</td>\n      <td>8140</td>\n      <td>185</td>\n      <td>202306231429</td>\n      <td>2</td>\n      <td>542CE600D7EAD0CC5BD992A3E92164E87FED6FBB098DCD...</td>\n    </tr>\n    <tr>\n      <th>4</th>\n      <td>admin</td>\n      <td>8141</td>\n      <td>222</td>\n      <td>202306231440</td>\n      <td>2</td>\n      <td>542CE600D7EAD0CC5BD992A3E92164E87FED6FBB098DCD...</td>\n    </tr>\n    <tr>\n      <th>...</th>\n      <td>...</td>\n      <td>...</td>\n      <td>...</td>\n      <td>...</td>\n      <td>...</td>\n      <td>...</td>\n    </tr>\n    <tr>\n      <th>72</th>\n      <td>admin</td>\n      <td>8246</td>\n      <td>107</td>\n      <td>202307101816</td>\n      <td>1</td>\n      <td>DCC1F6A4EECB91A75C4F6628391345432A432A16C91863...</td>\n    </tr>\n    <tr>\n      <th>73</th>\n      <td>admin</td>\n      <td>8247</td>\n      <td>47</td>\n      <td>202307101826</td>\n      <td>2</td>\n      <td>DCC1F6A4EECB91A75C4F6628391345432A432A16C91863...</td>\n    </tr>\n    <tr>\n      <th>74</th>\n      <td>admin</td>\n      <td>8248</td>\n      <td>16</td>\n      <td>202307101852</td>\n      <td>1</td>\n      <td>DCC1F6A4EECB91A75C4F6628391345432A432A16C91863...</td>\n    </tr>\n    <tr>\n      <th>75</th>\n      <td>admin</td>\n      <td>8249</td>\n      <td>53</td>\n      <td>202307101901</td>\n      <td>1</td>\n      <td>DCC1F6A4EECB91A75C4F6628391345432A432A16C91863...</td>\n    </tr>\n    <tr>\n      <th>76</th>\n      <td>admin</td>\n      <td>8250</td>\n      <td>32</td>\n      <td>202307101904</td>\n      <td>2</td>\n      <td>DCC1F6A4EECB91A75C4F6628391345432A432A16C91863...</td>\n    </tr>\n  </tbody>\n</table>\n<p>77 rows × 6 columns</p>\n</div>"
     },
     "execution_count": 4,
     "metadata": {},
     "output_type": "execute_result"
    }
   ],
   "source": [
    "T_DATA_CALLS"
   ],
   "metadata": {
    "collapsed": false,
    "ExecuteTime": {
     "start_time": "2023-10-20T20:54:13.142722Z",
     "end_time": "2023-10-20T20:54:13.172233Z"
    }
   }
  },
  {
   "cell_type": "code",
   "source": [
    "T_DATA_CALLS['CALL_DATE'] = T_DATA_CALLS['CALL_DATE'].apply(lambda x:str(x)[:8])\n",
    "T_DATA_CALLS_df = T_DATA_CALLS.groupby(['USER_ID','CALL_DATE'])['CALL_DURATION'].agg(['sum'])\n",
    "T_DATA_CALLS_df.reset_index(drop=False,inplace=True)\n",
    "T_DATA_CALLS_df.rename(columns = {'sum':'call_duration', 'CALL_DATE':'date'},inplace=True)\n",
    "T_DATA_CALLS_df"
   ],
   "metadata": {
    "colab": {
     "base_uri": "https://localhost:8080/",
     "height": 613
    },
    "id": "nIhCRg1LzKDJ",
    "executionInfo": {
     "status": "ok",
     "timestamp": 1692591880829,
     "user_tz": -540,
     "elapsed": 9,
     "user": {
      "displayName": "양지우",
      "userId": "15915436126750620151"
     }
    },
    "outputId": "ec8e2328-089d-4152-d220-1758af8f7db0",
    "ExecuteTime": {
     "start_time": "2023-08-22T13:50:34.371380Z",
     "end_time": "2023-08-22T13:50:34.490075Z"
    }
   },
   "execution_count": 3,
   "outputs": [
    {
     "data": {
      "text/plain": "   USER_ID      date  call_duration\n0    admin  20230622             83\n1    admin  20230623           1197\n2    admin  20230624            100\n3    admin  20230625            180\n4    admin  20230626             46\n5    admin  20230627            206\n6    admin  20230628             41\n7    admin  20230629            136\n8    admin  20230630             93\n9    admin  20230701             39\n10   admin  20230703             76\n11   admin  20230704             79\n12   admin  20230705              0\n13   admin  20230706            130\n14   admin  20230707            372\n15   admin  20230708             29\n16   admin  20230709            224\n17   admin  20230710            992",
      "text/html": "<div>\n<style scoped>\n    .dataframe tbody tr th:only-of-type {\n        vertical-align: middle;\n    }\n\n    .dataframe tbody tr th {\n        vertical-align: top;\n    }\n\n    .dataframe thead th {\n        text-align: right;\n    }\n</style>\n<table border=\"1\" class=\"dataframe\">\n  <thead>\n    <tr style=\"text-align: right;\">\n      <th></th>\n      <th>USER_ID</th>\n      <th>date</th>\n      <th>call_duration</th>\n    </tr>\n  </thead>\n  <tbody>\n    <tr>\n      <th>0</th>\n      <td>admin</td>\n      <td>20230622</td>\n      <td>83</td>\n    </tr>\n    <tr>\n      <th>1</th>\n      <td>admin</td>\n      <td>20230623</td>\n      <td>1197</td>\n    </tr>\n    <tr>\n      <th>2</th>\n      <td>admin</td>\n      <td>20230624</td>\n      <td>100</td>\n    </tr>\n    <tr>\n      <th>3</th>\n      <td>admin</td>\n      <td>20230625</td>\n      <td>180</td>\n    </tr>\n    <tr>\n      <th>4</th>\n      <td>admin</td>\n      <td>20230626</td>\n      <td>46</td>\n    </tr>\n    <tr>\n      <th>5</th>\n      <td>admin</td>\n      <td>20230627</td>\n      <td>206</td>\n    </tr>\n    <tr>\n      <th>6</th>\n      <td>admin</td>\n      <td>20230628</td>\n      <td>41</td>\n    </tr>\n    <tr>\n      <th>7</th>\n      <td>admin</td>\n      <td>20230629</td>\n      <td>136</td>\n    </tr>\n    <tr>\n      <th>8</th>\n      <td>admin</td>\n      <td>20230630</td>\n      <td>93</td>\n    </tr>\n    <tr>\n      <th>9</th>\n      <td>admin</td>\n      <td>20230701</td>\n      <td>39</td>\n    </tr>\n    <tr>\n      <th>10</th>\n      <td>admin</td>\n      <td>20230703</td>\n      <td>76</td>\n    </tr>\n    <tr>\n      <th>11</th>\n      <td>admin</td>\n      <td>20230704</td>\n      <td>79</td>\n    </tr>\n    <tr>\n      <th>12</th>\n      <td>admin</td>\n      <td>20230705</td>\n      <td>0</td>\n    </tr>\n    <tr>\n      <th>13</th>\n      <td>admin</td>\n      <td>20230706</td>\n      <td>130</td>\n    </tr>\n    <tr>\n      <th>14</th>\n      <td>admin</td>\n      <td>20230707</td>\n      <td>372</td>\n    </tr>\n    <tr>\n      <th>15</th>\n      <td>admin</td>\n      <td>20230708</td>\n      <td>29</td>\n    </tr>\n    <tr>\n      <th>16</th>\n      <td>admin</td>\n      <td>20230709</td>\n      <td>224</td>\n    </tr>\n    <tr>\n      <th>17</th>\n      <td>admin</td>\n      <td>20230710</td>\n      <td>992</td>\n    </tr>\n  </tbody>\n</table>\n</div>"
     },
     "execution_count": 3,
     "metadata": {},
     "output_type": "execute_result"
    }
   ]
  },
  {
   "cell_type": "code",
   "source": [
    "T_DATA_DB['DB_TIME'] = T_DATA_DB['DB_TIME'].apply(lambda x:str(x)[:8])\n",
    "T_DATA_DB_df = T_DATA_DB.groupby(['USER_ID', 'DB_TIME'])['DB_VALUE'].agg(['mean', 'max', 'min'])\n",
    "T_DATA_DB_df.reset_index(drop=False,inplace=True)\n",
    "T_DATA_DB_df.rename(columns = {'mean':'db_value_mean', 'max':'db_value_max', 'min':'db_value_min', 'DB_TIME':'date'},inplace=True)\n",
    "T_DATA_DB_df"
   ],
   "metadata": {
    "colab": {
     "base_uri": "https://localhost:8080/",
     "height": 300
    },
    "id": "t_dxf5IWpzfm",
    "executionInfo": {
     "status": "ok",
     "timestamp": 1692591880829,
     "user_tz": -540,
     "elapsed": 8,
     "user": {
      "displayName": "양지우",
      "userId": "15915436126750620151"
     }
    },
    "outputId": "afc58c04-a47b-4dd4-9daa-20313079df8b",
    "ExecuteTime": {
     "start_time": "2023-08-22T13:51:18.362775Z",
     "end_time": "2023-08-22T13:51:18.383146Z"
    }
   },
   "execution_count": 4,
   "outputs": [
    {
     "data": {
      "text/plain": "  USER_ID      date  db_value_mean  db_value_max  db_value_min\n0   admin  20230627      70.142857            90            56\n1   admin  20230628      63.040000            90            53\n2   admin  20230710      67.000000            90            53\n3   admin  20230711      62.040000            84            55\n4   admin  20230712      65.333333            84            58\n5   bhkim  20230630      55.500000            58            53\n6   bhkim  20230710      64.333333            73            54\n7     iai  20230629      66.000000            77            55",
      "text/html": "<div>\n<style scoped>\n    .dataframe tbody tr th:only-of-type {\n        vertical-align: middle;\n    }\n\n    .dataframe tbody tr th {\n        vertical-align: top;\n    }\n\n    .dataframe thead th {\n        text-align: right;\n    }\n</style>\n<table border=\"1\" class=\"dataframe\">\n  <thead>\n    <tr style=\"text-align: right;\">\n      <th></th>\n      <th>USER_ID</th>\n      <th>date</th>\n      <th>db_value_mean</th>\n      <th>db_value_max</th>\n      <th>db_value_min</th>\n    </tr>\n  </thead>\n  <tbody>\n    <tr>\n      <th>0</th>\n      <td>admin</td>\n      <td>20230627</td>\n      <td>70.142857</td>\n      <td>90</td>\n      <td>56</td>\n    </tr>\n    <tr>\n      <th>1</th>\n      <td>admin</td>\n      <td>20230628</td>\n      <td>63.040000</td>\n      <td>90</td>\n      <td>53</td>\n    </tr>\n    <tr>\n      <th>2</th>\n      <td>admin</td>\n      <td>20230710</td>\n      <td>67.000000</td>\n      <td>90</td>\n      <td>53</td>\n    </tr>\n    <tr>\n      <th>3</th>\n      <td>admin</td>\n      <td>20230711</td>\n      <td>62.040000</td>\n      <td>84</td>\n      <td>55</td>\n    </tr>\n    <tr>\n      <th>4</th>\n      <td>admin</td>\n      <td>20230712</td>\n      <td>65.333333</td>\n      <td>84</td>\n      <td>58</td>\n    </tr>\n    <tr>\n      <th>5</th>\n      <td>bhkim</td>\n      <td>20230630</td>\n      <td>55.500000</td>\n      <td>58</td>\n      <td>53</td>\n    </tr>\n    <tr>\n      <th>6</th>\n      <td>bhkim</td>\n      <td>20230710</td>\n      <td>64.333333</td>\n      <td>73</td>\n      <td>54</td>\n    </tr>\n    <tr>\n      <th>7</th>\n      <td>iai</td>\n      <td>20230629</td>\n      <td>66.000000</td>\n      <td>77</td>\n      <td>55</td>\n    </tr>\n  </tbody>\n</table>\n</div>"
     },
     "execution_count": 4,
     "metadata": {},
     "output_type": "execute_result"
    }
   ]
  },
  {
   "cell_type": "code",
   "source": [
    "T_DATA_HEART_RATE['RATE_TIME'] = T_DATA_HEART_RATE['RATE_TIME'].apply(lambda x:str(x)[:8])\n",
    "T_DATA_HEART_RATE_df = T_DATA_HEART_RATE.groupby(['USER_ID','RATE_TIME'])['HEART_RATE'].agg(['mean','max','min'])\n",
    "T_DATA_HEART_RATE_df.reset_index(drop=False, inplace=True)\n",
    "T_DATA_HEART_RATE_df.rename(columns = {'mean':'heart_rate_mean', 'max':'heart_rate_max', 'min':'heart_rate_min', 'RATE_TIME':'date'}, inplace=True)\n",
    "T_DATA_HEART_RATE_df"
   ],
   "metadata": {
    "colab": {
     "base_uri": "https://localhost:8080/",
     "height": 143
    },
    "id": "dc1LQI9djPn4",
    "executionInfo": {
     "status": "ok",
     "timestamp": 1692591880830,
     "user_tz": -540,
     "elapsed": 9,
     "user": {
      "displayName": "양지우",
      "userId": "15915436126750620151"
     }
    },
    "outputId": "fff2f57d-cb67-4467-c69e-865c2a014bcf",
    "ExecuteTime": {
     "start_time": "2023-08-22T13:51:47.899557Z",
     "end_time": "2023-08-22T13:51:47.909579Z"
    }
   },
   "execution_count": 5,
   "outputs": [
    {
     "data": {
      "text/plain": "  USER_ID      date  heart_rate_mean  heart_rate_max  heart_rate_min\n0    0001  20230629             64.0              64              64\n1   admin  20230627             74.0              74              74\n2   admin  20230712             70.0              70              70",
      "text/html": "<div>\n<style scoped>\n    .dataframe tbody tr th:only-of-type {\n        vertical-align: middle;\n    }\n\n    .dataframe tbody tr th {\n        vertical-align: top;\n    }\n\n    .dataframe thead th {\n        text-align: right;\n    }\n</style>\n<table border=\"1\" class=\"dataframe\">\n  <thead>\n    <tr style=\"text-align: right;\">\n      <th></th>\n      <th>USER_ID</th>\n      <th>date</th>\n      <th>heart_rate_mean</th>\n      <th>heart_rate_max</th>\n      <th>heart_rate_min</th>\n    </tr>\n  </thead>\n  <tbody>\n    <tr>\n      <th>0</th>\n      <td>0001</td>\n      <td>20230629</td>\n      <td>64.0</td>\n      <td>64</td>\n      <td>64</td>\n    </tr>\n    <tr>\n      <th>1</th>\n      <td>admin</td>\n      <td>20230627</td>\n      <td>74.0</td>\n      <td>74</td>\n      <td>74</td>\n    </tr>\n    <tr>\n      <th>2</th>\n      <td>admin</td>\n      <td>20230712</td>\n      <td>70.0</td>\n      <td>70</td>\n      <td>70</td>\n    </tr>\n  </tbody>\n</table>\n</div>"
     },
     "execution_count": 5,
     "metadata": {},
     "output_type": "execute_result"
    }
   ]
  },
  {
   "cell_type": "code",
   "source": [
    "T_DATA_LUX['LUX_TIME'] = T_DATA_LUX['LUX_TIME'].apply(lambda x:str(x)[:8])\n",
    "T_DATA_LUX_df=T_DATA_LUX.groupby(['USER_ID','LUX_TIME'])['LUX_VALUE'].agg(['mean','max','min'])\n",
    "T_DATA_LUX_df.reset_index(drop=False,inplace=True)\n",
    "T_DATA_LUX_df.rename(columns = {'mean':'lux_value_mean', 'max':'lux_value_max', 'min':'lux_value_min','LUX_TIME':'date'},inplace=True)\n",
    "T_DATA_LUX_df"
   ],
   "metadata": {
    "colab": {
     "base_uri": "https://localhost:8080/",
     "height": 394
    },
    "id": "i7yhd_14qKnY",
    "executionInfo": {
     "status": "ok",
     "timestamp": 1692591881329,
     "user_tz": -540,
     "elapsed": 507,
     "user": {
      "displayName": "양지우",
      "userId": "15915436126750620151"
     }
    },
    "outputId": "b4b76c5f-7815-40c1-b6aa-7f1c773ac583",
    "ExecuteTime": {
     "start_time": "2023-08-22T13:51:53.905413Z",
     "end_time": "2023-08-22T13:51:53.935863Z"
    }
   },
   "execution_count": 6,
   "outputs": [
    {
     "data": {
      "text/plain": "   USER_ID      date  lux_value_mean  lux_value_max  lux_value_min\n0     0001  20230629      303.333333            358            231\n1     0001  20230630      294.750000            727             63\n2    admin  20230628       80.046875            137              0\n3    admin  20230629       52.000000             52             52\n4    admin  20230706      148.000000            148            148\n5    admin  20230710      133.242424            753             66\n6    admin  20230711       85.600000            114             56\n7    admin  20230712      111.366667            151             72\n8    bhkim  20230630     1972.000000           2266           1678\n9    bhkim  20230710     1337.333333           1675            715\n10     iai  20230629      286.000000            299            273",
      "text/html": "<div>\n<style scoped>\n    .dataframe tbody tr th:only-of-type {\n        vertical-align: middle;\n    }\n\n    .dataframe tbody tr th {\n        vertical-align: top;\n    }\n\n    .dataframe thead th {\n        text-align: right;\n    }\n</style>\n<table border=\"1\" class=\"dataframe\">\n  <thead>\n    <tr style=\"text-align: right;\">\n      <th></th>\n      <th>USER_ID</th>\n      <th>date</th>\n      <th>lux_value_mean</th>\n      <th>lux_value_max</th>\n      <th>lux_value_min</th>\n    </tr>\n  </thead>\n  <tbody>\n    <tr>\n      <th>0</th>\n      <td>0001</td>\n      <td>20230629</td>\n      <td>303.333333</td>\n      <td>358</td>\n      <td>231</td>\n    </tr>\n    <tr>\n      <th>1</th>\n      <td>0001</td>\n      <td>20230630</td>\n      <td>294.750000</td>\n      <td>727</td>\n      <td>63</td>\n    </tr>\n    <tr>\n      <th>2</th>\n      <td>admin</td>\n      <td>20230628</td>\n      <td>80.046875</td>\n      <td>137</td>\n      <td>0</td>\n    </tr>\n    <tr>\n      <th>3</th>\n      <td>admin</td>\n      <td>20230629</td>\n      <td>52.000000</td>\n      <td>52</td>\n      <td>52</td>\n    </tr>\n    <tr>\n      <th>4</th>\n      <td>admin</td>\n      <td>20230706</td>\n      <td>148.000000</td>\n      <td>148</td>\n      <td>148</td>\n    </tr>\n    <tr>\n      <th>5</th>\n      <td>admin</td>\n      <td>20230710</td>\n      <td>133.242424</td>\n      <td>753</td>\n      <td>66</td>\n    </tr>\n    <tr>\n      <th>6</th>\n      <td>admin</td>\n      <td>20230711</td>\n      <td>85.600000</td>\n      <td>114</td>\n      <td>56</td>\n    </tr>\n    <tr>\n      <th>7</th>\n      <td>admin</td>\n      <td>20230712</td>\n      <td>111.366667</td>\n      <td>151</td>\n      <td>72</td>\n    </tr>\n    <tr>\n      <th>8</th>\n      <td>bhkim</td>\n      <td>20230630</td>\n      <td>1972.000000</td>\n      <td>2266</td>\n      <td>1678</td>\n    </tr>\n    <tr>\n      <th>9</th>\n      <td>bhkim</td>\n      <td>20230710</td>\n      <td>1337.333333</td>\n      <td>1675</td>\n      <td>715</td>\n    </tr>\n    <tr>\n      <th>10</th>\n      <td>iai</td>\n      <td>20230629</td>\n      <td>286.000000</td>\n      <td>299</td>\n      <td>273</td>\n    </tr>\n  </tbody>\n</table>\n</div>"
     },
     "execution_count": 6,
     "metadata": {},
     "output_type": "execute_result"
    }
   ]
  },
  {
   "cell_type": "code",
   "source": [
    "T_DATA_MESSAGE['MESSAGE_DATE']=T_DATA_MESSAGE['MESSAGE_DATE'].apply(lambda x:str(x)[:8])\n",
    "T_DATA_MESSAGE_df=T_DATA_MESSAGE.groupby(['USER_ID','MESSAGE_DATE'])['MESSAGE_NUMBER'].agg(['count'])\n",
    "T_DATA_MESSAGE_df.reset_index(drop=False,inplace=True)\n",
    "T_DATA_MESSAGE_df.rename(columns = {'count':'msg_num', 'MESSAGE_DATE':'date'},inplace=True)\n",
    "T_DATA_MESSAGE_df"
   ],
   "metadata": {
    "colab": {
     "base_uri": "https://localhost:8080/",
     "height": 331
    },
    "id": "OwX1OCOvwFMQ",
    "executionInfo": {
     "status": "ok",
     "timestamp": 1692591881330,
     "user_tz": -540,
     "elapsed": 18,
     "user": {
      "displayName": "양지우",
      "userId": "15915436126750620151"
     }
    },
    "outputId": "d0590278-cca6-484a-effd-981680f998ac",
    "ExecuteTime": {
     "start_time": "2023-08-22T13:52:04.052437Z",
     "end_time": "2023-08-22T13:52:04.054438Z"
    }
   },
   "execution_count": 7,
   "outputs": [
    {
     "data": {
      "text/plain": "  USER_ID      date  msg_num\n0   admin  20230530        1\n1   admin  20230607        1\n2   admin  20230615        2\n3   bhkim  20230602        2\n4   bhkim  20230610        1\n5   bhkim  20230708        3\n6   bhkim  20230709        7\n7     iai  20230602        2\n8     iai  20230610        1",
      "text/html": "<div>\n<style scoped>\n    .dataframe tbody tr th:only-of-type {\n        vertical-align: middle;\n    }\n\n    .dataframe tbody tr th {\n        vertical-align: top;\n    }\n\n    .dataframe thead th {\n        text-align: right;\n    }\n</style>\n<table border=\"1\" class=\"dataframe\">\n  <thead>\n    <tr style=\"text-align: right;\">\n      <th></th>\n      <th>USER_ID</th>\n      <th>date</th>\n      <th>msg_num</th>\n    </tr>\n  </thead>\n  <tbody>\n    <tr>\n      <th>0</th>\n      <td>admin</td>\n      <td>20230530</td>\n      <td>1</td>\n    </tr>\n    <tr>\n      <th>1</th>\n      <td>admin</td>\n      <td>20230607</td>\n      <td>1</td>\n    </tr>\n    <tr>\n      <th>2</th>\n      <td>admin</td>\n      <td>20230615</td>\n      <td>2</td>\n    </tr>\n    <tr>\n      <th>3</th>\n      <td>bhkim</td>\n      <td>20230602</td>\n      <td>2</td>\n    </tr>\n    <tr>\n      <th>4</th>\n      <td>bhkim</td>\n      <td>20230610</td>\n      <td>1</td>\n    </tr>\n    <tr>\n      <th>5</th>\n      <td>bhkim</td>\n      <td>20230708</td>\n      <td>3</td>\n    </tr>\n    <tr>\n      <th>6</th>\n      <td>bhkim</td>\n      <td>20230709</td>\n      <td>7</td>\n    </tr>\n    <tr>\n      <th>7</th>\n      <td>iai</td>\n      <td>20230602</td>\n      <td>2</td>\n    </tr>\n    <tr>\n      <th>8</th>\n      <td>iai</td>\n      <td>20230610</td>\n      <td>1</td>\n    </tr>\n  </tbody>\n</table>\n</div>"
     },
     "execution_count": 7,
     "metadata": {},
     "output_type": "execute_result"
    }
   ]
  },
  {
   "cell_type": "code",
   "source": [
    "T_DATA_PICTURE['PICTURE_DATE']=T_DATA_PICTURE['PICTURE_DATE'].apply(lambda x:str(x)[:8])\n",
    "T_DATA_PICTURE_df=T_DATA_PICTURE.groupby(['USER_ID','PICTURE_DATE'])['PICTURE_TITLE'].agg(['count'])\n",
    "T_DATA_PICTURE_df.reset_index(drop=False,inplace=True)\n",
    "T_DATA_PICTURE_df.rename(columns = {'count':'pic_num','PICTURE_DATE':'date'},inplace=True)\n",
    "T_DATA_PICTURE_df"
   ],
   "metadata": {
    "colab": {
     "base_uri": "https://localhost:8080/",
     "height": 739
    },
    "id": "-tWllMb0wgAv",
    "executionInfo": {
     "status": "ok",
     "timestamp": 1692591881330,
     "user_tz": -540,
     "elapsed": 17,
     "user": {
      "displayName": "양지우",
      "userId": "15915436126750620151"
     }
    },
    "outputId": "13cd44a8-bb64-4f19-c884-57879a7dce14",
    "ExecuteTime": {
     "start_time": "2023-08-22T13:52:09.592253Z",
     "end_time": "2023-08-22T13:52:09.605762Z"
    }
   },
   "execution_count": 8,
   "outputs": [
    {
     "data": {
      "text/plain": "   USER_ID      date  pic_num\n0     0001  20230630        2\n1    admin  20230622        1\n2    admin  20230623        2\n3    admin  20230625        1\n4    admin  20230626       16\n5    admin  20230627       26\n6    admin  20230705        1\n7    admin  20230706        1\n8    admin  20230707        2\n9    admin  20230710        1\n10   admin  20230711        3\n11   bhkim  20230628        3\n12   bhkim  20230630        1\n13     iai  20230628        3\n14   test2  20230620        4\n15   test2  20230621       40\n16   test2  20230622       11\n17   test2  20230623        6\n18   test2  20230624       59\n19   test2  20230625        5\n20   test2  20230626        6\n21   test2  20230627        2",
      "text/html": "<div>\n<style scoped>\n    .dataframe tbody tr th:only-of-type {\n        vertical-align: middle;\n    }\n\n    .dataframe tbody tr th {\n        vertical-align: top;\n    }\n\n    .dataframe thead th {\n        text-align: right;\n    }\n</style>\n<table border=\"1\" class=\"dataframe\">\n  <thead>\n    <tr style=\"text-align: right;\">\n      <th></th>\n      <th>USER_ID</th>\n      <th>date</th>\n      <th>pic_num</th>\n    </tr>\n  </thead>\n  <tbody>\n    <tr>\n      <th>0</th>\n      <td>0001</td>\n      <td>20230630</td>\n      <td>2</td>\n    </tr>\n    <tr>\n      <th>1</th>\n      <td>admin</td>\n      <td>20230622</td>\n      <td>1</td>\n    </tr>\n    <tr>\n      <th>2</th>\n      <td>admin</td>\n      <td>20230623</td>\n      <td>2</td>\n    </tr>\n    <tr>\n      <th>3</th>\n      <td>admin</td>\n      <td>20230625</td>\n      <td>1</td>\n    </tr>\n    <tr>\n      <th>4</th>\n      <td>admin</td>\n      <td>20230626</td>\n      <td>16</td>\n    </tr>\n    <tr>\n      <th>5</th>\n      <td>admin</td>\n      <td>20230627</td>\n      <td>26</td>\n    </tr>\n    <tr>\n      <th>6</th>\n      <td>admin</td>\n      <td>20230705</td>\n      <td>1</td>\n    </tr>\n    <tr>\n      <th>7</th>\n      <td>admin</td>\n      <td>20230706</td>\n      <td>1</td>\n    </tr>\n    <tr>\n      <th>8</th>\n      <td>admin</td>\n      <td>20230707</td>\n      <td>2</td>\n    </tr>\n    <tr>\n      <th>9</th>\n      <td>admin</td>\n      <td>20230710</td>\n      <td>1</td>\n    </tr>\n    <tr>\n      <th>10</th>\n      <td>admin</td>\n      <td>20230711</td>\n      <td>3</td>\n    </tr>\n    <tr>\n      <th>11</th>\n      <td>bhkim</td>\n      <td>20230628</td>\n      <td>3</td>\n    </tr>\n    <tr>\n      <th>12</th>\n      <td>bhkim</td>\n      <td>20230630</td>\n      <td>1</td>\n    </tr>\n    <tr>\n      <th>13</th>\n      <td>iai</td>\n      <td>20230628</td>\n      <td>3</td>\n    </tr>\n    <tr>\n      <th>14</th>\n      <td>test2</td>\n      <td>20230620</td>\n      <td>4</td>\n    </tr>\n    <tr>\n      <th>15</th>\n      <td>test2</td>\n      <td>20230621</td>\n      <td>40</td>\n    </tr>\n    <tr>\n      <th>16</th>\n      <td>test2</td>\n      <td>20230622</td>\n      <td>11</td>\n    </tr>\n    <tr>\n      <th>17</th>\n      <td>test2</td>\n      <td>20230623</td>\n      <td>6</td>\n    </tr>\n    <tr>\n      <th>18</th>\n      <td>test2</td>\n      <td>20230624</td>\n      <td>59</td>\n    </tr>\n    <tr>\n      <th>19</th>\n      <td>test2</td>\n      <td>20230625</td>\n      <td>5</td>\n    </tr>\n    <tr>\n      <th>20</th>\n      <td>test2</td>\n      <td>20230626</td>\n      <td>6</td>\n    </tr>\n    <tr>\n      <th>21</th>\n      <td>test2</td>\n      <td>20230627</td>\n      <td>2</td>\n    </tr>\n  </tbody>\n</table>\n</div>"
     },
     "execution_count": 8,
     "metadata": {},
     "output_type": "execute_result"
    }
   ]
  },
  {
   "cell_type": "code",
   "source": [
    "T_DATA_SLEEP['START_TIME']=T_DATA_SLEEP['START_TIME'].apply(lambda x:str(x)[:8])\n",
    "T_DATA_SLEEP['SLEEP_TIME']=T_DATA_SLEEP['SLEEP_TIME'].apply(lambda x:x//60)\n",
    "T_DATA_SLEEP_df=T_DATA_SLEEP.groupby(['USER_ID','START_TIME'])['SLEEP_TIME'].agg(['sum'])\n",
    "T_DATA_SLEEP_df.reset_index(drop=False,inplace=True)\n",
    "T_DATA_SLEEP_df.rename(columns = {'sum':'sleep_duration','START_TIME':'date'},inplace=True)\n",
    "T_DATA_SLEEP_df"
   ],
   "metadata": {
    "colab": {
     "base_uri": "https://localhost:8080/",
     "height": 801
    },
    "id": "pv_z7mRBzpkW",
    "executionInfo": {
     "status": "ok",
     "timestamp": 1692591881330,
     "user_tz": -540,
     "elapsed": 17,
     "user": {
      "displayName": "양지우",
      "userId": "15915436126750620151"
     }
    },
    "outputId": "cbfbb1a4-a580-4378-f569-640122eed8be",
    "ExecuteTime": {
     "start_time": "2023-08-22T13:52:13.106271Z",
     "end_time": "2023-08-22T13:52:13.125962Z"
    }
   },
   "execution_count": 9,
   "outputs": [
    {
     "data": {
      "text/plain": "   USER_ID      date  sleep_duration\n0     0001  20230629             420\n1    admin  20230609             250\n2    admin  20230610             390\n3    admin  20230611             450\n4    admin  20230612             280\n5    admin  20230613             370\n6    admin  20230614             350\n7    admin  20230615             290\n8    admin  20230616             410\n9    admin  20230617             380\n10   admin  20230618             250\n11   admin  20230619             410\n12   admin  20230620             320\n13   admin  20230621             330\n14   admin  20230622             420\n15   admin  20230623             350\n16   admin  20230625             190\n17   admin  20230626             400\n18   admin  20230627             280\n19   admin  20230705             390\n20   admin  20230706             380\n21   admin  20230707             330\n22   admin  20230708             280\n23   admin  20230711             320",
      "text/html": "<div>\n<style scoped>\n    .dataframe tbody tr th:only-of-type {\n        vertical-align: middle;\n    }\n\n    .dataframe tbody tr th {\n        vertical-align: top;\n    }\n\n    .dataframe thead th {\n        text-align: right;\n    }\n</style>\n<table border=\"1\" class=\"dataframe\">\n  <thead>\n    <tr style=\"text-align: right;\">\n      <th></th>\n      <th>USER_ID</th>\n      <th>date</th>\n      <th>sleep_duration</th>\n    </tr>\n  </thead>\n  <tbody>\n    <tr>\n      <th>0</th>\n      <td>0001</td>\n      <td>20230629</td>\n      <td>420</td>\n    </tr>\n    <tr>\n      <th>1</th>\n      <td>admin</td>\n      <td>20230609</td>\n      <td>250</td>\n    </tr>\n    <tr>\n      <th>2</th>\n      <td>admin</td>\n      <td>20230610</td>\n      <td>390</td>\n    </tr>\n    <tr>\n      <th>3</th>\n      <td>admin</td>\n      <td>20230611</td>\n      <td>450</td>\n    </tr>\n    <tr>\n      <th>4</th>\n      <td>admin</td>\n      <td>20230612</td>\n      <td>280</td>\n    </tr>\n    <tr>\n      <th>5</th>\n      <td>admin</td>\n      <td>20230613</td>\n      <td>370</td>\n    </tr>\n    <tr>\n      <th>6</th>\n      <td>admin</td>\n      <td>20230614</td>\n      <td>350</td>\n    </tr>\n    <tr>\n      <th>7</th>\n      <td>admin</td>\n      <td>20230615</td>\n      <td>290</td>\n    </tr>\n    <tr>\n      <th>8</th>\n      <td>admin</td>\n      <td>20230616</td>\n      <td>410</td>\n    </tr>\n    <tr>\n      <th>9</th>\n      <td>admin</td>\n      <td>20230617</td>\n      <td>380</td>\n    </tr>\n    <tr>\n      <th>10</th>\n      <td>admin</td>\n      <td>20230618</td>\n      <td>250</td>\n    </tr>\n    <tr>\n      <th>11</th>\n      <td>admin</td>\n      <td>20230619</td>\n      <td>410</td>\n    </tr>\n    <tr>\n      <th>12</th>\n      <td>admin</td>\n      <td>20230620</td>\n      <td>320</td>\n    </tr>\n    <tr>\n      <th>13</th>\n      <td>admin</td>\n      <td>20230621</td>\n      <td>330</td>\n    </tr>\n    <tr>\n      <th>14</th>\n      <td>admin</td>\n      <td>20230622</td>\n      <td>420</td>\n    </tr>\n    <tr>\n      <th>15</th>\n      <td>admin</td>\n      <td>20230623</td>\n      <td>350</td>\n    </tr>\n    <tr>\n      <th>16</th>\n      <td>admin</td>\n      <td>20230625</td>\n      <td>190</td>\n    </tr>\n    <tr>\n      <th>17</th>\n      <td>admin</td>\n      <td>20230626</td>\n      <td>400</td>\n    </tr>\n    <tr>\n      <th>18</th>\n      <td>admin</td>\n      <td>20230627</td>\n      <td>280</td>\n    </tr>\n    <tr>\n      <th>19</th>\n      <td>admin</td>\n      <td>20230705</td>\n      <td>390</td>\n    </tr>\n    <tr>\n      <th>20</th>\n      <td>admin</td>\n      <td>20230706</td>\n      <td>380</td>\n    </tr>\n    <tr>\n      <th>21</th>\n      <td>admin</td>\n      <td>20230707</td>\n      <td>330</td>\n    </tr>\n    <tr>\n      <th>22</th>\n      <td>admin</td>\n      <td>20230708</td>\n      <td>280</td>\n    </tr>\n    <tr>\n      <th>23</th>\n      <td>admin</td>\n      <td>20230711</td>\n      <td>320</td>\n    </tr>\n  </tbody>\n</table>\n</div>"
     },
     "execution_count": 9,
     "metadata": {},
     "output_type": "execute_result"
    }
   ]
  },
  {
   "cell_type": "code",
   "source": [
    "T_DATA_STEP['STEP_DATE']=T_DATA_STEP['STEP_DATE'].apply(lambda x:str(x)[:8])\n",
    "T_DATA_STEP_df=T_DATA_STEP.groupby(['USER_ID','STEP_DATE'])['STEP_COUNT'].agg(['sum'])\n",
    "T_DATA_STEP_df.reset_index(drop=False,inplace=True)\n",
    "T_DATA_STEP_df.rename(columns = {'sum':'step_count','STEP_DATE':'date'},inplace=True)\n",
    "T_DATA_STEP_df"
   ],
   "metadata": {
    "colab": {
     "base_uri": "https://localhost:8080/",
     "height": 1000
    },
    "id": "NZPDz1lX3Xpn",
    "executionInfo": {
     "status": "ok",
     "timestamp": 1692591881330,
     "user_tz": -540,
     "elapsed": 16,
     "user": {
      "displayName": "양지우",
      "userId": "15915436126750620151"
     }
    },
    "outputId": "a5f9db64-62a0-47a7-cb40-5ee306e20797",
    "ExecuteTime": {
     "start_time": "2023-08-22T13:52:16.304261Z",
     "end_time": "2023-08-22T13:52:16.319362Z"
    }
   },
   "execution_count": 10,
   "outputs": [
    {
     "data": {
      "text/plain": "   USER_ID      date  step_count\n0        1  20230629           8\n1        1  20230630        1556\n2    admin  20230609       16878\n3    admin  20230610        2222\n4    admin  20230611         137\n5    admin  20230612        9449\n6    admin  20230613       10212\n7    admin  20230614       11107\n8    admin  20230615        7765\n9    admin  20230616       11222\n10   admin  20230617        6191\n11   admin  20230618        1655\n12   admin  20230619        8584\n13   admin  20230620        9748\n14   admin  20230621        6441\n15   admin  20230622       13595\n16   admin  20230623       14777\n17   admin  20230624        3945\n18   admin  20230625        6717\n19   admin  20230626       10306\n20   admin  20230627       11569\n21   admin  20230628       10639\n22   admin  20230629        2238\n23   admin  20230630       15108\n24   admin  20230701        1440\n25   admin  20230702        5858\n26   admin  20230703         318\n27   admin  20230704        2146\n28   admin  20230705       12874\n29   admin  20230706        6297\n30   admin  20230707        5662\n31   admin  20230708        5963\n32   admin  20230709        8071\n33   admin  20230710       14084\n34   admin  20230711        6123\n35   admin  20230712        7302",
      "text/html": "<div>\n<style scoped>\n    .dataframe tbody tr th:only-of-type {\n        vertical-align: middle;\n    }\n\n    .dataframe tbody tr th {\n        vertical-align: top;\n    }\n\n    .dataframe thead th {\n        text-align: right;\n    }\n</style>\n<table border=\"1\" class=\"dataframe\">\n  <thead>\n    <tr style=\"text-align: right;\">\n      <th></th>\n      <th>USER_ID</th>\n      <th>date</th>\n      <th>step_count</th>\n    </tr>\n  </thead>\n  <tbody>\n    <tr>\n      <th>0</th>\n      <td>1</td>\n      <td>20230629</td>\n      <td>8</td>\n    </tr>\n    <tr>\n      <th>1</th>\n      <td>1</td>\n      <td>20230630</td>\n      <td>1556</td>\n    </tr>\n    <tr>\n      <th>2</th>\n      <td>admin</td>\n      <td>20230609</td>\n      <td>16878</td>\n    </tr>\n    <tr>\n      <th>3</th>\n      <td>admin</td>\n      <td>20230610</td>\n      <td>2222</td>\n    </tr>\n    <tr>\n      <th>4</th>\n      <td>admin</td>\n      <td>20230611</td>\n      <td>137</td>\n    </tr>\n    <tr>\n      <th>5</th>\n      <td>admin</td>\n      <td>20230612</td>\n      <td>9449</td>\n    </tr>\n    <tr>\n      <th>6</th>\n      <td>admin</td>\n      <td>20230613</td>\n      <td>10212</td>\n    </tr>\n    <tr>\n      <th>7</th>\n      <td>admin</td>\n      <td>20230614</td>\n      <td>11107</td>\n    </tr>\n    <tr>\n      <th>8</th>\n      <td>admin</td>\n      <td>20230615</td>\n      <td>7765</td>\n    </tr>\n    <tr>\n      <th>9</th>\n      <td>admin</td>\n      <td>20230616</td>\n      <td>11222</td>\n    </tr>\n    <tr>\n      <th>10</th>\n      <td>admin</td>\n      <td>20230617</td>\n      <td>6191</td>\n    </tr>\n    <tr>\n      <th>11</th>\n      <td>admin</td>\n      <td>20230618</td>\n      <td>1655</td>\n    </tr>\n    <tr>\n      <th>12</th>\n      <td>admin</td>\n      <td>20230619</td>\n      <td>8584</td>\n    </tr>\n    <tr>\n      <th>13</th>\n      <td>admin</td>\n      <td>20230620</td>\n      <td>9748</td>\n    </tr>\n    <tr>\n      <th>14</th>\n      <td>admin</td>\n      <td>20230621</td>\n      <td>6441</td>\n    </tr>\n    <tr>\n      <th>15</th>\n      <td>admin</td>\n      <td>20230622</td>\n      <td>13595</td>\n    </tr>\n    <tr>\n      <th>16</th>\n      <td>admin</td>\n      <td>20230623</td>\n      <td>14777</td>\n    </tr>\n    <tr>\n      <th>17</th>\n      <td>admin</td>\n      <td>20230624</td>\n      <td>3945</td>\n    </tr>\n    <tr>\n      <th>18</th>\n      <td>admin</td>\n      <td>20230625</td>\n      <td>6717</td>\n    </tr>\n    <tr>\n      <th>19</th>\n      <td>admin</td>\n      <td>20230626</td>\n      <td>10306</td>\n    </tr>\n    <tr>\n      <th>20</th>\n      <td>admin</td>\n      <td>20230627</td>\n      <td>11569</td>\n    </tr>\n    <tr>\n      <th>21</th>\n      <td>admin</td>\n      <td>20230628</td>\n      <td>10639</td>\n    </tr>\n    <tr>\n      <th>22</th>\n      <td>admin</td>\n      <td>20230629</td>\n      <td>2238</td>\n    </tr>\n    <tr>\n      <th>23</th>\n      <td>admin</td>\n      <td>20230630</td>\n      <td>15108</td>\n    </tr>\n    <tr>\n      <th>24</th>\n      <td>admin</td>\n      <td>20230701</td>\n      <td>1440</td>\n    </tr>\n    <tr>\n      <th>25</th>\n      <td>admin</td>\n      <td>20230702</td>\n      <td>5858</td>\n    </tr>\n    <tr>\n      <th>26</th>\n      <td>admin</td>\n      <td>20230703</td>\n      <td>318</td>\n    </tr>\n    <tr>\n      <th>27</th>\n      <td>admin</td>\n      <td>20230704</td>\n      <td>2146</td>\n    </tr>\n    <tr>\n      <th>28</th>\n      <td>admin</td>\n      <td>20230705</td>\n      <td>12874</td>\n    </tr>\n    <tr>\n      <th>29</th>\n      <td>admin</td>\n      <td>20230706</td>\n      <td>6297</td>\n    </tr>\n    <tr>\n      <th>30</th>\n      <td>admin</td>\n      <td>20230707</td>\n      <td>5662</td>\n    </tr>\n    <tr>\n      <th>31</th>\n      <td>admin</td>\n      <td>20230708</td>\n      <td>5963</td>\n    </tr>\n    <tr>\n      <th>32</th>\n      <td>admin</td>\n      <td>20230709</td>\n      <td>8071</td>\n    </tr>\n    <tr>\n      <th>33</th>\n      <td>admin</td>\n      <td>20230710</td>\n      <td>14084</td>\n    </tr>\n    <tr>\n      <th>34</th>\n      <td>admin</td>\n      <td>20230711</td>\n      <td>6123</td>\n    </tr>\n    <tr>\n      <th>35</th>\n      <td>admin</td>\n      <td>20230712</td>\n      <td>7302</td>\n    </tr>\n  </tbody>\n</table>\n</div>"
     },
     "execution_count": 10,
     "metadata": {},
     "output_type": "execute_result"
    }
   ]
  },
  {
   "cell_type": "code",
   "source": [
    "T_DATA_APP['COLLECT_DATE'] = T_DATA_APP['COLLECT_DATE'].apply(lambda x:str(x)[:8])\n",
    "T_DATA_APP_df=T_DATA_APP.groupby(['USER_ID','COLLECT_DATE']).sum()\n",
    "T_DATA_APP_df.reset_index(drop=False,inplace=True)\n",
    "T_DATA_APP_df.rename(columns = {'ACC_COUNT':'app_acc', 'AUDIO_COUNT':'app_audio', 'GAME_COUNT':'app_game', 'IMAGE_COUNT':'app_img', 'MAPS_COUNT':'app_maps', 'NEWS_COUNT':'app_news', 'VIDEO_COUNT':'app_video', 'COLLECT_DATE':'date'},inplace=True)\n",
    "T_DATA_APP_df.drop(['SOCIAL_COUNT'],axis=1,inplace=True)\n",
    "T_DATA_APP_df"
   ],
   "metadata": {
    "colab": {
     "base_uri": "https://localhost:8080/",
     "height": 174
    },
    "id": "8b6fpaw74j8f",
    "executionInfo": {
     "status": "ok",
     "timestamp": 1692591881331,
     "user_tz": -540,
     "elapsed": 17,
     "user": {
      "displayName": "양지우",
      "userId": "15915436126750620151"
     }
    },
    "outputId": "112028d5-b995-4152-80fd-c0d3d2fca242",
    "ExecuteTime": {
     "start_time": "2023-08-22T13:52:18.618454Z",
     "end_time": "2023-08-22T13:52:18.627942Z"
    }
   },
   "execution_count": 11,
   "outputs": [
    {
     "data": {
      "text/plain": "  USER_ID      date  app_acc  app_audio  app_game  app_img  app_maps  \\\n0    0001  20230630        0          2         1        3         6   \n1   admin  20230712        0          3         4        4         7   \n2   bhkim  20230710        0          2         2        1        11   \n3     iai  20230629        0          3         2        1        11   \n\n   app_news  app_video  \n0         1          6  \n1         1          2  \n2         0          2  \n3         0          2  ",
      "text/html": "<div>\n<style scoped>\n    .dataframe tbody tr th:only-of-type {\n        vertical-align: middle;\n    }\n\n    .dataframe tbody tr th {\n        vertical-align: top;\n    }\n\n    .dataframe thead th {\n        text-align: right;\n    }\n</style>\n<table border=\"1\" class=\"dataframe\">\n  <thead>\n    <tr style=\"text-align: right;\">\n      <th></th>\n      <th>USER_ID</th>\n      <th>date</th>\n      <th>app_acc</th>\n      <th>app_audio</th>\n      <th>app_game</th>\n      <th>app_img</th>\n      <th>app_maps</th>\n      <th>app_news</th>\n      <th>app_video</th>\n    </tr>\n  </thead>\n  <tbody>\n    <tr>\n      <th>0</th>\n      <td>0001</td>\n      <td>20230630</td>\n      <td>0</td>\n      <td>2</td>\n      <td>1</td>\n      <td>3</td>\n      <td>6</td>\n      <td>1</td>\n      <td>6</td>\n    </tr>\n    <tr>\n      <th>1</th>\n      <td>admin</td>\n      <td>20230712</td>\n      <td>0</td>\n      <td>3</td>\n      <td>4</td>\n      <td>4</td>\n      <td>7</td>\n      <td>1</td>\n      <td>2</td>\n    </tr>\n    <tr>\n      <th>2</th>\n      <td>bhkim</td>\n      <td>20230710</td>\n      <td>0</td>\n      <td>2</td>\n      <td>2</td>\n      <td>1</td>\n      <td>11</td>\n      <td>0</td>\n      <td>2</td>\n    </tr>\n    <tr>\n      <th>3</th>\n      <td>iai</td>\n      <td>20230629</td>\n      <td>0</td>\n      <td>3</td>\n      <td>2</td>\n      <td>1</td>\n      <td>11</td>\n      <td>0</td>\n      <td>2</td>\n    </tr>\n  </tbody>\n</table>\n</div>"
     },
     "execution_count": 11,
     "metadata": {},
     "output_type": "execute_result"
    }
   ]
  },
  {
   "cell_type": "code",
   "source": [
    "result = pd.merge(T_DATA_CALLS_df, T_DATA_DB_df, how='outer',on=['USER_ID','date'])\n",
    "result = pd.merge(result, T_DATA_HEART_RATE_df, how='outer',on=['USER_ID','date'])\n",
    "result = pd.merge(result, T_DATA_LUX_df, how='outer',on=['USER_ID','date'])\n",
    "result = pd.merge(result, T_DATA_MESSAGE_df, how='outer',on=['USER_ID','date'])\n",
    "result = pd.merge(result, T_DATA_PICTURE_df, how='outer',on=['USER_ID','date'])\n",
    "result = pd.merge(result, T_DATA_SLEEP_df, how='outer',on=['USER_ID','date'])\n",
    "result = pd.merge(result, T_DATA_STEP_df, how='outer',on=['USER_ID','date'])\n",
    "result = pd.merge(result, T_DATA_APP_df, how='outer',on=['USER_ID','date'])\n",
    "result"
   ],
   "metadata": {
    "colab": {
     "base_uri": "https://localhost:8080/",
     "height": 1000
    },
    "id": "1ry1ATC2-a9F",
    "executionInfo": {
     "status": "ok",
     "timestamp": 1692591881331,
     "user_tz": -540,
     "elapsed": 16,
     "user": {
      "displayName": "양지우",
      "userId": "15915436126750620151"
     }
    },
    "outputId": "d9c8748c-6dfb-4314-b297-db32cd898ece",
    "ExecuteTime": {
     "start_time": "2023-08-22T13:52:20.503780Z",
     "end_time": "2023-08-22T13:52:20.589764Z"
    }
   },
   "execution_count": 12,
   "outputs": [
    {
     "data": {
      "text/plain": "   USER_ID      date  call_duration  db_value_mean  db_value_max  \\\n0    admin  20230622           83.0            NaN           NaN   \n1    admin  20230623         1197.0            NaN           NaN   \n2    admin  20230624          100.0            NaN           NaN   \n3    admin  20230625          180.0            NaN           NaN   \n4    admin  20230626           46.0            NaN           NaN   \n5    admin  20230627          206.0      70.142857          90.0   \n6    admin  20230628           41.0      63.040000          90.0   \n7    admin  20230629          136.0            NaN           NaN   \n8    admin  20230630           93.0            NaN           NaN   \n9    admin  20230701           39.0            NaN           NaN   \n10   admin  20230703           76.0            NaN           NaN   \n11   admin  20230704           79.0            NaN           NaN   \n12   admin  20230705            0.0            NaN           NaN   \n13   admin  20230706          130.0            NaN           NaN   \n14   admin  20230707          372.0            NaN           NaN   \n15   admin  20230708           29.0            NaN           NaN   \n16   admin  20230709          224.0            NaN           NaN   \n17   admin  20230710          992.0      67.000000          90.0   \n18   admin  20230711            NaN      62.040000          84.0   \n19   admin  20230712            NaN      65.333333          84.0   \n20   bhkim  20230630            NaN      55.500000          58.0   \n21   bhkim  20230710            NaN      64.333333          73.0   \n22     iai  20230629            NaN      66.000000          77.0   \n23    0001  20230629            NaN            NaN           NaN   \n24    0001  20230630            NaN            NaN           NaN   \n25   admin  20230530            NaN            NaN           NaN   \n26   admin  20230607            NaN            NaN           NaN   \n27   admin  20230615            NaN            NaN           NaN   \n28   bhkim  20230602            NaN            NaN           NaN   \n29   bhkim  20230610            NaN            NaN           NaN   \n30   bhkim  20230708            NaN            NaN           NaN   \n31   bhkim  20230709            NaN            NaN           NaN   \n32     iai  20230602            NaN            NaN           NaN   \n33     iai  20230610            NaN            NaN           NaN   \n34   bhkim  20230628            NaN            NaN           NaN   \n35     iai  20230628            NaN            NaN           NaN   \n36   test2  20230620            NaN            NaN           NaN   \n37   test2  20230621            NaN            NaN           NaN   \n38   test2  20230622            NaN            NaN           NaN   \n39   test2  20230623            NaN            NaN           NaN   \n40   test2  20230624            NaN            NaN           NaN   \n41   test2  20230625            NaN            NaN           NaN   \n42   test2  20230626            NaN            NaN           NaN   \n43   test2  20230627            NaN            NaN           NaN   \n44   admin  20230609            NaN            NaN           NaN   \n45   admin  20230610            NaN            NaN           NaN   \n46   admin  20230611            NaN            NaN           NaN   \n47   admin  20230612            NaN            NaN           NaN   \n48   admin  20230613            NaN            NaN           NaN   \n49   admin  20230614            NaN            NaN           NaN   \n50   admin  20230616            NaN            NaN           NaN   \n51   admin  20230617            NaN            NaN           NaN   \n52   admin  20230618            NaN            NaN           NaN   \n53   admin  20230619            NaN            NaN           NaN   \n54   admin  20230620            NaN            NaN           NaN   \n55   admin  20230621            NaN            NaN           NaN   \n56       1  20230629            NaN            NaN           NaN   \n57       1  20230630            NaN            NaN           NaN   \n58   admin  20230702            NaN            NaN           NaN   \n\n    db_value_min  heart_rate_mean  heart_rate_max  heart_rate_min  \\\n0            NaN              NaN             NaN             NaN   \n1            NaN              NaN             NaN             NaN   \n2            NaN              NaN             NaN             NaN   \n3            NaN              NaN             NaN             NaN   \n4            NaN              NaN             NaN             NaN   \n5           56.0             74.0            74.0            74.0   \n6           53.0              NaN             NaN             NaN   \n7            NaN              NaN             NaN             NaN   \n8            NaN              NaN             NaN             NaN   \n9            NaN              NaN             NaN             NaN   \n10           NaN              NaN             NaN             NaN   \n11           NaN              NaN             NaN             NaN   \n12           NaN              NaN             NaN             NaN   \n13           NaN              NaN             NaN             NaN   \n14           NaN              NaN             NaN             NaN   \n15           NaN              NaN             NaN             NaN   \n16           NaN              NaN             NaN             NaN   \n17          53.0              NaN             NaN             NaN   \n18          55.0              NaN             NaN             NaN   \n19          58.0             70.0            70.0            70.0   \n20          53.0              NaN             NaN             NaN   \n21          54.0              NaN             NaN             NaN   \n22          55.0              NaN             NaN             NaN   \n23           NaN             64.0            64.0            64.0   \n24           NaN              NaN             NaN             NaN   \n25           NaN              NaN             NaN             NaN   \n26           NaN              NaN             NaN             NaN   \n27           NaN              NaN             NaN             NaN   \n28           NaN              NaN             NaN             NaN   \n29           NaN              NaN             NaN             NaN   \n30           NaN              NaN             NaN             NaN   \n31           NaN              NaN             NaN             NaN   \n32           NaN              NaN             NaN             NaN   \n33           NaN              NaN             NaN             NaN   \n34           NaN              NaN             NaN             NaN   \n35           NaN              NaN             NaN             NaN   \n36           NaN              NaN             NaN             NaN   \n37           NaN              NaN             NaN             NaN   \n38           NaN              NaN             NaN             NaN   \n39           NaN              NaN             NaN             NaN   \n40           NaN              NaN             NaN             NaN   \n41           NaN              NaN             NaN             NaN   \n42           NaN              NaN             NaN             NaN   \n43           NaN              NaN             NaN             NaN   \n44           NaN              NaN             NaN             NaN   \n45           NaN              NaN             NaN             NaN   \n46           NaN              NaN             NaN             NaN   \n47           NaN              NaN             NaN             NaN   \n48           NaN              NaN             NaN             NaN   \n49           NaN              NaN             NaN             NaN   \n50           NaN              NaN             NaN             NaN   \n51           NaN              NaN             NaN             NaN   \n52           NaN              NaN             NaN             NaN   \n53           NaN              NaN             NaN             NaN   \n54           NaN              NaN             NaN             NaN   \n55           NaN              NaN             NaN             NaN   \n56           NaN              NaN             NaN             NaN   \n57           NaN              NaN             NaN             NaN   \n58           NaN              NaN             NaN             NaN   \n\n    lux_value_mean  ...  pic_num  sleep_duration  step_count  app_acc  \\\n0              NaN  ...      1.0           420.0     13595.0      NaN   \n1              NaN  ...      2.0           350.0     14777.0      NaN   \n2              NaN  ...      NaN             NaN      3945.0      NaN   \n3              NaN  ...      1.0           190.0      6717.0      NaN   \n4              NaN  ...     16.0           400.0     10306.0      NaN   \n5              NaN  ...     26.0           280.0     11569.0      NaN   \n6        80.046875  ...      NaN             NaN     10639.0      NaN   \n7        52.000000  ...      NaN             NaN      2238.0      NaN   \n8              NaN  ...      NaN             NaN     15108.0      NaN   \n9              NaN  ...      NaN             NaN      1440.0      NaN   \n10             NaN  ...      NaN             NaN       318.0      NaN   \n11             NaN  ...      NaN             NaN      2146.0      NaN   \n12             NaN  ...      1.0           390.0     12874.0      NaN   \n13      148.000000  ...      1.0           380.0      6297.0      NaN   \n14             NaN  ...      2.0           330.0      5662.0      NaN   \n15             NaN  ...      NaN           280.0      5963.0      NaN   \n16             NaN  ...      NaN             NaN      8071.0      NaN   \n17      133.242424  ...      1.0             NaN     14084.0      NaN   \n18       85.600000  ...      3.0           320.0      6123.0      NaN   \n19      111.366667  ...      NaN             NaN      7302.0      0.0   \n20     1972.000000  ...      1.0             NaN         NaN      NaN   \n21     1337.333333  ...      NaN             NaN         NaN      0.0   \n22      286.000000  ...      NaN             NaN         NaN      0.0   \n23      303.333333  ...      NaN           420.0         NaN      NaN   \n24      294.750000  ...      2.0             NaN         NaN      0.0   \n25             NaN  ...      NaN             NaN         NaN      NaN   \n26             NaN  ...      NaN             NaN         NaN      NaN   \n27             NaN  ...      NaN           290.0      7765.0      NaN   \n28             NaN  ...      NaN             NaN         NaN      NaN   \n29             NaN  ...      NaN             NaN         NaN      NaN   \n30             NaN  ...      NaN             NaN         NaN      NaN   \n31             NaN  ...      NaN             NaN         NaN      NaN   \n32             NaN  ...      NaN             NaN         NaN      NaN   \n33             NaN  ...      NaN             NaN         NaN      NaN   \n34             NaN  ...      3.0             NaN         NaN      NaN   \n35             NaN  ...      3.0             NaN         NaN      NaN   \n36             NaN  ...      4.0             NaN         NaN      NaN   \n37             NaN  ...     40.0             NaN         NaN      NaN   \n38             NaN  ...     11.0             NaN         NaN      NaN   \n39             NaN  ...      6.0             NaN         NaN      NaN   \n40             NaN  ...     59.0             NaN         NaN      NaN   \n41             NaN  ...      5.0             NaN         NaN      NaN   \n42             NaN  ...      6.0             NaN         NaN      NaN   \n43             NaN  ...      2.0             NaN         NaN      NaN   \n44             NaN  ...      NaN           250.0     16878.0      NaN   \n45             NaN  ...      NaN           390.0      2222.0      NaN   \n46             NaN  ...      NaN           450.0       137.0      NaN   \n47             NaN  ...      NaN           280.0      9449.0      NaN   \n48             NaN  ...      NaN           370.0     10212.0      NaN   \n49             NaN  ...      NaN           350.0     11107.0      NaN   \n50             NaN  ...      NaN           410.0     11222.0      NaN   \n51             NaN  ...      NaN           380.0      6191.0      NaN   \n52             NaN  ...      NaN           250.0      1655.0      NaN   \n53             NaN  ...      NaN           410.0      8584.0      NaN   \n54             NaN  ...      NaN           320.0      9748.0      NaN   \n55             NaN  ...      NaN           330.0      6441.0      NaN   \n56             NaN  ...      NaN             NaN         8.0      NaN   \n57             NaN  ...      NaN             NaN      1556.0      NaN   \n58             NaN  ...      NaN             NaN      5858.0      NaN   \n\n    app_audio  app_game  app_img  app_maps  app_news  app_video  \n0         NaN       NaN      NaN       NaN       NaN        NaN  \n1         NaN       NaN      NaN       NaN       NaN        NaN  \n2         NaN       NaN      NaN       NaN       NaN        NaN  \n3         NaN       NaN      NaN       NaN       NaN        NaN  \n4         NaN       NaN      NaN       NaN       NaN        NaN  \n5         NaN       NaN      NaN       NaN       NaN        NaN  \n6         NaN       NaN      NaN       NaN       NaN        NaN  \n7         NaN       NaN      NaN       NaN       NaN        NaN  \n8         NaN       NaN      NaN       NaN       NaN        NaN  \n9         NaN       NaN      NaN       NaN       NaN        NaN  \n10        NaN       NaN      NaN       NaN       NaN        NaN  \n11        NaN       NaN      NaN       NaN       NaN        NaN  \n12        NaN       NaN      NaN       NaN       NaN        NaN  \n13        NaN       NaN      NaN       NaN       NaN        NaN  \n14        NaN       NaN      NaN       NaN       NaN        NaN  \n15        NaN       NaN      NaN       NaN       NaN        NaN  \n16        NaN       NaN      NaN       NaN       NaN        NaN  \n17        NaN       NaN      NaN       NaN       NaN        NaN  \n18        NaN       NaN      NaN       NaN       NaN        NaN  \n19        3.0       4.0      4.0       7.0       1.0        2.0  \n20        NaN       NaN      NaN       NaN       NaN        NaN  \n21        2.0       2.0      1.0      11.0       0.0        2.0  \n22        3.0       2.0      1.0      11.0       0.0        2.0  \n23        NaN       NaN      NaN       NaN       NaN        NaN  \n24        2.0       1.0      3.0       6.0       1.0        6.0  \n25        NaN       NaN      NaN       NaN       NaN        NaN  \n26        NaN       NaN      NaN       NaN       NaN        NaN  \n27        NaN       NaN      NaN       NaN       NaN        NaN  \n28        NaN       NaN      NaN       NaN       NaN        NaN  \n29        NaN       NaN      NaN       NaN       NaN        NaN  \n30        NaN       NaN      NaN       NaN       NaN        NaN  \n31        NaN       NaN      NaN       NaN       NaN        NaN  \n32        NaN       NaN      NaN       NaN       NaN        NaN  \n33        NaN       NaN      NaN       NaN       NaN        NaN  \n34        NaN       NaN      NaN       NaN       NaN        NaN  \n35        NaN       NaN      NaN       NaN       NaN        NaN  \n36        NaN       NaN      NaN       NaN       NaN        NaN  \n37        NaN       NaN      NaN       NaN       NaN        NaN  \n38        NaN       NaN      NaN       NaN       NaN        NaN  \n39        NaN       NaN      NaN       NaN       NaN        NaN  \n40        NaN       NaN      NaN       NaN       NaN        NaN  \n41        NaN       NaN      NaN       NaN       NaN        NaN  \n42        NaN       NaN      NaN       NaN       NaN        NaN  \n43        NaN       NaN      NaN       NaN       NaN        NaN  \n44        NaN       NaN      NaN       NaN       NaN        NaN  \n45        NaN       NaN      NaN       NaN       NaN        NaN  \n46        NaN       NaN      NaN       NaN       NaN        NaN  \n47        NaN       NaN      NaN       NaN       NaN        NaN  \n48        NaN       NaN      NaN       NaN       NaN        NaN  \n49        NaN       NaN      NaN       NaN       NaN        NaN  \n50        NaN       NaN      NaN       NaN       NaN        NaN  \n51        NaN       NaN      NaN       NaN       NaN        NaN  \n52        NaN       NaN      NaN       NaN       NaN        NaN  \n53        NaN       NaN      NaN       NaN       NaN        NaN  \n54        NaN       NaN      NaN       NaN       NaN        NaN  \n55        NaN       NaN      NaN       NaN       NaN        NaN  \n56        NaN       NaN      NaN       NaN       NaN        NaN  \n57        NaN       NaN      NaN       NaN       NaN        NaN  \n58        NaN       NaN      NaN       NaN       NaN        NaN  \n\n[59 rows x 23 columns]",
      "text/html": "<div>\n<style scoped>\n    .dataframe tbody tr th:only-of-type {\n        vertical-align: middle;\n    }\n\n    .dataframe tbody tr th {\n        vertical-align: top;\n    }\n\n    .dataframe thead th {\n        text-align: right;\n    }\n</style>\n<table border=\"1\" class=\"dataframe\">\n  <thead>\n    <tr style=\"text-align: right;\">\n      <th></th>\n      <th>USER_ID</th>\n      <th>date</th>\n      <th>call_duration</th>\n      <th>db_value_mean</th>\n      <th>db_value_max</th>\n      <th>db_value_min</th>\n      <th>heart_rate_mean</th>\n      <th>heart_rate_max</th>\n      <th>heart_rate_min</th>\n      <th>lux_value_mean</th>\n      <th>...</th>\n      <th>pic_num</th>\n      <th>sleep_duration</th>\n      <th>step_count</th>\n      <th>app_acc</th>\n      <th>app_audio</th>\n      <th>app_game</th>\n      <th>app_img</th>\n      <th>app_maps</th>\n      <th>app_news</th>\n      <th>app_video</th>\n    </tr>\n  </thead>\n  <tbody>\n    <tr>\n      <th>0</th>\n      <td>admin</td>\n      <td>20230622</td>\n      <td>83.0</td>\n      <td>NaN</td>\n      <td>NaN</td>\n      <td>NaN</td>\n      <td>NaN</td>\n      <td>NaN</td>\n      <td>NaN</td>\n      <td>NaN</td>\n      <td>...</td>\n      <td>1.0</td>\n      <td>420.0</td>\n      <td>13595.0</td>\n      <td>NaN</td>\n      <td>NaN</td>\n      <td>NaN</td>\n      <td>NaN</td>\n      <td>NaN</td>\n      <td>NaN</td>\n      <td>NaN</td>\n    </tr>\n    <tr>\n      <th>1</th>\n      <td>admin</td>\n      <td>20230623</td>\n      <td>1197.0</td>\n      <td>NaN</td>\n      <td>NaN</td>\n      <td>NaN</td>\n      <td>NaN</td>\n      <td>NaN</td>\n      <td>NaN</td>\n      <td>NaN</td>\n      <td>...</td>\n      <td>2.0</td>\n      <td>350.0</td>\n      <td>14777.0</td>\n      <td>NaN</td>\n      <td>NaN</td>\n      <td>NaN</td>\n      <td>NaN</td>\n      <td>NaN</td>\n      <td>NaN</td>\n      <td>NaN</td>\n    </tr>\n    <tr>\n      <th>2</th>\n      <td>admin</td>\n      <td>20230624</td>\n      <td>100.0</td>\n      <td>NaN</td>\n      <td>NaN</td>\n      <td>NaN</td>\n      <td>NaN</td>\n      <td>NaN</td>\n      <td>NaN</td>\n      <td>NaN</td>\n      <td>...</td>\n      <td>NaN</td>\n      <td>NaN</td>\n      <td>3945.0</td>\n      <td>NaN</td>\n      <td>NaN</td>\n      <td>NaN</td>\n      <td>NaN</td>\n      <td>NaN</td>\n      <td>NaN</td>\n      <td>NaN</td>\n    </tr>\n    <tr>\n      <th>3</th>\n      <td>admin</td>\n      <td>20230625</td>\n      <td>180.0</td>\n      <td>NaN</td>\n      <td>NaN</td>\n      <td>NaN</td>\n      <td>NaN</td>\n      <td>NaN</td>\n      <td>NaN</td>\n      <td>NaN</td>\n      <td>...</td>\n      <td>1.0</td>\n      <td>190.0</td>\n      <td>6717.0</td>\n      <td>NaN</td>\n      <td>NaN</td>\n      <td>NaN</td>\n      <td>NaN</td>\n      <td>NaN</td>\n      <td>NaN</td>\n      <td>NaN</td>\n    </tr>\n    <tr>\n      <th>4</th>\n      <td>admin</td>\n      <td>20230626</td>\n      <td>46.0</td>\n      <td>NaN</td>\n      <td>NaN</td>\n      <td>NaN</td>\n      <td>NaN</td>\n      <td>NaN</td>\n      <td>NaN</td>\n      <td>NaN</td>\n      <td>...</td>\n      <td>16.0</td>\n      <td>400.0</td>\n      <td>10306.0</td>\n      <td>NaN</td>\n      <td>NaN</td>\n      <td>NaN</td>\n      <td>NaN</td>\n      <td>NaN</td>\n      <td>NaN</td>\n      <td>NaN</td>\n    </tr>\n    <tr>\n      <th>5</th>\n      <td>admin</td>\n      <td>20230627</td>\n      <td>206.0</td>\n      <td>70.142857</td>\n      <td>90.0</td>\n      <td>56.0</td>\n      <td>74.0</td>\n      <td>74.0</td>\n      <td>74.0</td>\n      <td>NaN</td>\n      <td>...</td>\n      <td>26.0</td>\n      <td>280.0</td>\n      <td>11569.0</td>\n      <td>NaN</td>\n      <td>NaN</td>\n      <td>NaN</td>\n      <td>NaN</td>\n      <td>NaN</td>\n      <td>NaN</td>\n      <td>NaN</td>\n    </tr>\n    <tr>\n      <th>6</th>\n      <td>admin</td>\n      <td>20230628</td>\n      <td>41.0</td>\n      <td>63.040000</td>\n      <td>90.0</td>\n      <td>53.0</td>\n      <td>NaN</td>\n      <td>NaN</td>\n      <td>NaN</td>\n      <td>80.046875</td>\n      <td>...</td>\n      <td>NaN</td>\n      <td>NaN</td>\n      <td>10639.0</td>\n      <td>NaN</td>\n      <td>NaN</td>\n      <td>NaN</td>\n      <td>NaN</td>\n      <td>NaN</td>\n      <td>NaN</td>\n      <td>NaN</td>\n    </tr>\n    <tr>\n      <th>7</th>\n      <td>admin</td>\n      <td>20230629</td>\n      <td>136.0</td>\n      <td>NaN</td>\n      <td>NaN</td>\n      <td>NaN</td>\n      <td>NaN</td>\n      <td>NaN</td>\n      <td>NaN</td>\n      <td>52.000000</td>\n      <td>...</td>\n      <td>NaN</td>\n      <td>NaN</td>\n      <td>2238.0</td>\n      <td>NaN</td>\n      <td>NaN</td>\n      <td>NaN</td>\n      <td>NaN</td>\n      <td>NaN</td>\n      <td>NaN</td>\n      <td>NaN</td>\n    </tr>\n    <tr>\n      <th>8</th>\n      <td>admin</td>\n      <td>20230630</td>\n      <td>93.0</td>\n      <td>NaN</td>\n      <td>NaN</td>\n      <td>NaN</td>\n      <td>NaN</td>\n      <td>NaN</td>\n      <td>NaN</td>\n      <td>NaN</td>\n      <td>...</td>\n      <td>NaN</td>\n      <td>NaN</td>\n      <td>15108.0</td>\n      <td>NaN</td>\n      <td>NaN</td>\n      <td>NaN</td>\n      <td>NaN</td>\n      <td>NaN</td>\n      <td>NaN</td>\n      <td>NaN</td>\n    </tr>\n    <tr>\n      <th>9</th>\n      <td>admin</td>\n      <td>20230701</td>\n      <td>39.0</td>\n      <td>NaN</td>\n      <td>NaN</td>\n      <td>NaN</td>\n      <td>NaN</td>\n      <td>NaN</td>\n      <td>NaN</td>\n      <td>NaN</td>\n      <td>...</td>\n      <td>NaN</td>\n      <td>NaN</td>\n      <td>1440.0</td>\n      <td>NaN</td>\n      <td>NaN</td>\n      <td>NaN</td>\n      <td>NaN</td>\n      <td>NaN</td>\n      <td>NaN</td>\n      <td>NaN</td>\n    </tr>\n    <tr>\n      <th>10</th>\n      <td>admin</td>\n      <td>20230703</td>\n      <td>76.0</td>\n      <td>NaN</td>\n      <td>NaN</td>\n      <td>NaN</td>\n      <td>NaN</td>\n      <td>NaN</td>\n      <td>NaN</td>\n      <td>NaN</td>\n      <td>...</td>\n      <td>NaN</td>\n      <td>NaN</td>\n      <td>318.0</td>\n      <td>NaN</td>\n      <td>NaN</td>\n      <td>NaN</td>\n      <td>NaN</td>\n      <td>NaN</td>\n      <td>NaN</td>\n      <td>NaN</td>\n    </tr>\n    <tr>\n      <th>11</th>\n      <td>admin</td>\n      <td>20230704</td>\n      <td>79.0</td>\n      <td>NaN</td>\n      <td>NaN</td>\n      <td>NaN</td>\n      <td>NaN</td>\n      <td>NaN</td>\n      <td>NaN</td>\n      <td>NaN</td>\n      <td>...</td>\n      <td>NaN</td>\n      <td>NaN</td>\n      <td>2146.0</td>\n      <td>NaN</td>\n      <td>NaN</td>\n      <td>NaN</td>\n      <td>NaN</td>\n      <td>NaN</td>\n      <td>NaN</td>\n      <td>NaN</td>\n    </tr>\n    <tr>\n      <th>12</th>\n      <td>admin</td>\n      <td>20230705</td>\n      <td>0.0</td>\n      <td>NaN</td>\n      <td>NaN</td>\n      <td>NaN</td>\n      <td>NaN</td>\n      <td>NaN</td>\n      <td>NaN</td>\n      <td>NaN</td>\n      <td>...</td>\n      <td>1.0</td>\n      <td>390.0</td>\n      <td>12874.0</td>\n      <td>NaN</td>\n      <td>NaN</td>\n      <td>NaN</td>\n      <td>NaN</td>\n      <td>NaN</td>\n      <td>NaN</td>\n      <td>NaN</td>\n    </tr>\n    <tr>\n      <th>13</th>\n      <td>admin</td>\n      <td>20230706</td>\n      <td>130.0</td>\n      <td>NaN</td>\n      <td>NaN</td>\n      <td>NaN</td>\n      <td>NaN</td>\n      <td>NaN</td>\n      <td>NaN</td>\n      <td>148.000000</td>\n      <td>...</td>\n      <td>1.0</td>\n      <td>380.0</td>\n      <td>6297.0</td>\n      <td>NaN</td>\n      <td>NaN</td>\n      <td>NaN</td>\n      <td>NaN</td>\n      <td>NaN</td>\n      <td>NaN</td>\n      <td>NaN</td>\n    </tr>\n    <tr>\n      <th>14</th>\n      <td>admin</td>\n      <td>20230707</td>\n      <td>372.0</td>\n      <td>NaN</td>\n      <td>NaN</td>\n      <td>NaN</td>\n      <td>NaN</td>\n      <td>NaN</td>\n      <td>NaN</td>\n      <td>NaN</td>\n      <td>...</td>\n      <td>2.0</td>\n      <td>330.0</td>\n      <td>5662.0</td>\n      <td>NaN</td>\n      <td>NaN</td>\n      <td>NaN</td>\n      <td>NaN</td>\n      <td>NaN</td>\n      <td>NaN</td>\n      <td>NaN</td>\n    </tr>\n    <tr>\n      <th>15</th>\n      <td>admin</td>\n      <td>20230708</td>\n      <td>29.0</td>\n      <td>NaN</td>\n      <td>NaN</td>\n      <td>NaN</td>\n      <td>NaN</td>\n      <td>NaN</td>\n      <td>NaN</td>\n      <td>NaN</td>\n      <td>...</td>\n      <td>NaN</td>\n      <td>280.0</td>\n      <td>5963.0</td>\n      <td>NaN</td>\n      <td>NaN</td>\n      <td>NaN</td>\n      <td>NaN</td>\n      <td>NaN</td>\n      <td>NaN</td>\n      <td>NaN</td>\n    </tr>\n    <tr>\n      <th>16</th>\n      <td>admin</td>\n      <td>20230709</td>\n      <td>224.0</td>\n      <td>NaN</td>\n      <td>NaN</td>\n      <td>NaN</td>\n      <td>NaN</td>\n      <td>NaN</td>\n      <td>NaN</td>\n      <td>NaN</td>\n      <td>...</td>\n      <td>NaN</td>\n      <td>NaN</td>\n      <td>8071.0</td>\n      <td>NaN</td>\n      <td>NaN</td>\n      <td>NaN</td>\n      <td>NaN</td>\n      <td>NaN</td>\n      <td>NaN</td>\n      <td>NaN</td>\n    </tr>\n    <tr>\n      <th>17</th>\n      <td>admin</td>\n      <td>20230710</td>\n      <td>992.0</td>\n      <td>67.000000</td>\n      <td>90.0</td>\n      <td>53.0</td>\n      <td>NaN</td>\n      <td>NaN</td>\n      <td>NaN</td>\n      <td>133.242424</td>\n      <td>...</td>\n      <td>1.0</td>\n      <td>NaN</td>\n      <td>14084.0</td>\n      <td>NaN</td>\n      <td>NaN</td>\n      <td>NaN</td>\n      <td>NaN</td>\n      <td>NaN</td>\n      <td>NaN</td>\n      <td>NaN</td>\n    </tr>\n    <tr>\n      <th>18</th>\n      <td>admin</td>\n      <td>20230711</td>\n      <td>NaN</td>\n      <td>62.040000</td>\n      <td>84.0</td>\n      <td>55.0</td>\n      <td>NaN</td>\n      <td>NaN</td>\n      <td>NaN</td>\n      <td>85.600000</td>\n      <td>...</td>\n      <td>3.0</td>\n      <td>320.0</td>\n      <td>6123.0</td>\n      <td>NaN</td>\n      <td>NaN</td>\n      <td>NaN</td>\n      <td>NaN</td>\n      <td>NaN</td>\n      <td>NaN</td>\n      <td>NaN</td>\n    </tr>\n    <tr>\n      <th>19</th>\n      <td>admin</td>\n      <td>20230712</td>\n      <td>NaN</td>\n      <td>65.333333</td>\n      <td>84.0</td>\n      <td>58.0</td>\n      <td>70.0</td>\n      <td>70.0</td>\n      <td>70.0</td>\n      <td>111.366667</td>\n      <td>...</td>\n      <td>NaN</td>\n      <td>NaN</td>\n      <td>7302.0</td>\n      <td>0.0</td>\n      <td>3.0</td>\n      <td>4.0</td>\n      <td>4.0</td>\n      <td>7.0</td>\n      <td>1.0</td>\n      <td>2.0</td>\n    </tr>\n    <tr>\n      <th>20</th>\n      <td>bhkim</td>\n      <td>20230630</td>\n      <td>NaN</td>\n      <td>55.500000</td>\n      <td>58.0</td>\n      <td>53.0</td>\n      <td>NaN</td>\n      <td>NaN</td>\n      <td>NaN</td>\n      <td>1972.000000</td>\n      <td>...</td>\n      <td>1.0</td>\n      <td>NaN</td>\n      <td>NaN</td>\n      <td>NaN</td>\n      <td>NaN</td>\n      <td>NaN</td>\n      <td>NaN</td>\n      <td>NaN</td>\n      <td>NaN</td>\n      <td>NaN</td>\n    </tr>\n    <tr>\n      <th>21</th>\n      <td>bhkim</td>\n      <td>20230710</td>\n      <td>NaN</td>\n      <td>64.333333</td>\n      <td>73.0</td>\n      <td>54.0</td>\n      <td>NaN</td>\n      <td>NaN</td>\n      <td>NaN</td>\n      <td>1337.333333</td>\n      <td>...</td>\n      <td>NaN</td>\n      <td>NaN</td>\n      <td>NaN</td>\n      <td>0.0</td>\n      <td>2.0</td>\n      <td>2.0</td>\n      <td>1.0</td>\n      <td>11.0</td>\n      <td>0.0</td>\n      <td>2.0</td>\n    </tr>\n    <tr>\n      <th>22</th>\n      <td>iai</td>\n      <td>20230629</td>\n      <td>NaN</td>\n      <td>66.000000</td>\n      <td>77.0</td>\n      <td>55.0</td>\n      <td>NaN</td>\n      <td>NaN</td>\n      <td>NaN</td>\n      <td>286.000000</td>\n      <td>...</td>\n      <td>NaN</td>\n      <td>NaN</td>\n      <td>NaN</td>\n      <td>0.0</td>\n      <td>3.0</td>\n      <td>2.0</td>\n      <td>1.0</td>\n      <td>11.0</td>\n      <td>0.0</td>\n      <td>2.0</td>\n    </tr>\n    <tr>\n      <th>23</th>\n      <td>0001</td>\n      <td>20230629</td>\n      <td>NaN</td>\n      <td>NaN</td>\n      <td>NaN</td>\n      <td>NaN</td>\n      <td>64.0</td>\n      <td>64.0</td>\n      <td>64.0</td>\n      <td>303.333333</td>\n      <td>...</td>\n      <td>NaN</td>\n      <td>420.0</td>\n      <td>NaN</td>\n      <td>NaN</td>\n      <td>NaN</td>\n      <td>NaN</td>\n      <td>NaN</td>\n      <td>NaN</td>\n      <td>NaN</td>\n      <td>NaN</td>\n    </tr>\n    <tr>\n      <th>24</th>\n      <td>0001</td>\n      <td>20230630</td>\n      <td>NaN</td>\n      <td>NaN</td>\n      <td>NaN</td>\n      <td>NaN</td>\n      <td>NaN</td>\n      <td>NaN</td>\n      <td>NaN</td>\n      <td>294.750000</td>\n      <td>...</td>\n      <td>2.0</td>\n      <td>NaN</td>\n      <td>NaN</td>\n      <td>0.0</td>\n      <td>2.0</td>\n      <td>1.0</td>\n      <td>3.0</td>\n      <td>6.0</td>\n      <td>1.0</td>\n      <td>6.0</td>\n    </tr>\n    <tr>\n      <th>25</th>\n      <td>admin</td>\n      <td>20230530</td>\n      <td>NaN</td>\n      <td>NaN</td>\n      <td>NaN</td>\n      <td>NaN</td>\n      <td>NaN</td>\n      <td>NaN</td>\n      <td>NaN</td>\n      <td>NaN</td>\n      <td>...</td>\n      <td>NaN</td>\n      <td>NaN</td>\n      <td>NaN</td>\n      <td>NaN</td>\n      <td>NaN</td>\n      <td>NaN</td>\n      <td>NaN</td>\n      <td>NaN</td>\n      <td>NaN</td>\n      <td>NaN</td>\n    </tr>\n    <tr>\n      <th>26</th>\n      <td>admin</td>\n      <td>20230607</td>\n      <td>NaN</td>\n      <td>NaN</td>\n      <td>NaN</td>\n      <td>NaN</td>\n      <td>NaN</td>\n      <td>NaN</td>\n      <td>NaN</td>\n      <td>NaN</td>\n      <td>...</td>\n      <td>NaN</td>\n      <td>NaN</td>\n      <td>NaN</td>\n      <td>NaN</td>\n      <td>NaN</td>\n      <td>NaN</td>\n      <td>NaN</td>\n      <td>NaN</td>\n      <td>NaN</td>\n      <td>NaN</td>\n    </tr>\n    <tr>\n      <th>27</th>\n      <td>admin</td>\n      <td>20230615</td>\n      <td>NaN</td>\n      <td>NaN</td>\n      <td>NaN</td>\n      <td>NaN</td>\n      <td>NaN</td>\n      <td>NaN</td>\n      <td>NaN</td>\n      <td>NaN</td>\n      <td>...</td>\n      <td>NaN</td>\n      <td>290.0</td>\n      <td>7765.0</td>\n      <td>NaN</td>\n      <td>NaN</td>\n      <td>NaN</td>\n      <td>NaN</td>\n      <td>NaN</td>\n      <td>NaN</td>\n      <td>NaN</td>\n    </tr>\n    <tr>\n      <th>28</th>\n      <td>bhkim</td>\n      <td>20230602</td>\n      <td>NaN</td>\n      <td>NaN</td>\n      <td>NaN</td>\n      <td>NaN</td>\n      <td>NaN</td>\n      <td>NaN</td>\n      <td>NaN</td>\n      <td>NaN</td>\n      <td>...</td>\n      <td>NaN</td>\n      <td>NaN</td>\n      <td>NaN</td>\n      <td>NaN</td>\n      <td>NaN</td>\n      <td>NaN</td>\n      <td>NaN</td>\n      <td>NaN</td>\n      <td>NaN</td>\n      <td>NaN</td>\n    </tr>\n    <tr>\n      <th>29</th>\n      <td>bhkim</td>\n      <td>20230610</td>\n      <td>NaN</td>\n      <td>NaN</td>\n      <td>NaN</td>\n      <td>NaN</td>\n      <td>NaN</td>\n      <td>NaN</td>\n      <td>NaN</td>\n      <td>NaN</td>\n      <td>...</td>\n      <td>NaN</td>\n      <td>NaN</td>\n      <td>NaN</td>\n      <td>NaN</td>\n      <td>NaN</td>\n      <td>NaN</td>\n      <td>NaN</td>\n      <td>NaN</td>\n      <td>NaN</td>\n      <td>NaN</td>\n    </tr>\n    <tr>\n      <th>30</th>\n      <td>bhkim</td>\n      <td>20230708</td>\n      <td>NaN</td>\n      <td>NaN</td>\n      <td>NaN</td>\n      <td>NaN</td>\n      <td>NaN</td>\n      <td>NaN</td>\n      <td>NaN</td>\n      <td>NaN</td>\n      <td>...</td>\n      <td>NaN</td>\n      <td>NaN</td>\n      <td>NaN</td>\n      <td>NaN</td>\n      <td>NaN</td>\n      <td>NaN</td>\n      <td>NaN</td>\n      <td>NaN</td>\n      <td>NaN</td>\n      <td>NaN</td>\n    </tr>\n    <tr>\n      <th>31</th>\n      <td>bhkim</td>\n      <td>20230709</td>\n      <td>NaN</td>\n      <td>NaN</td>\n      <td>NaN</td>\n      <td>NaN</td>\n      <td>NaN</td>\n      <td>NaN</td>\n      <td>NaN</td>\n      <td>NaN</td>\n      <td>...</td>\n      <td>NaN</td>\n      <td>NaN</td>\n      <td>NaN</td>\n      <td>NaN</td>\n      <td>NaN</td>\n      <td>NaN</td>\n      <td>NaN</td>\n      <td>NaN</td>\n      <td>NaN</td>\n      <td>NaN</td>\n    </tr>\n    <tr>\n      <th>32</th>\n      <td>iai</td>\n      <td>20230602</td>\n      <td>NaN</td>\n      <td>NaN</td>\n      <td>NaN</td>\n      <td>NaN</td>\n      <td>NaN</td>\n      <td>NaN</td>\n      <td>NaN</td>\n      <td>NaN</td>\n      <td>...</td>\n      <td>NaN</td>\n      <td>NaN</td>\n      <td>NaN</td>\n      <td>NaN</td>\n      <td>NaN</td>\n      <td>NaN</td>\n      <td>NaN</td>\n      <td>NaN</td>\n      <td>NaN</td>\n      <td>NaN</td>\n    </tr>\n    <tr>\n      <th>33</th>\n      <td>iai</td>\n      <td>20230610</td>\n      <td>NaN</td>\n      <td>NaN</td>\n      <td>NaN</td>\n      <td>NaN</td>\n      <td>NaN</td>\n      <td>NaN</td>\n      <td>NaN</td>\n      <td>NaN</td>\n      <td>...</td>\n      <td>NaN</td>\n      <td>NaN</td>\n      <td>NaN</td>\n      <td>NaN</td>\n      <td>NaN</td>\n      <td>NaN</td>\n      <td>NaN</td>\n      <td>NaN</td>\n      <td>NaN</td>\n      <td>NaN</td>\n    </tr>\n    <tr>\n      <th>34</th>\n      <td>bhkim</td>\n      <td>20230628</td>\n      <td>NaN</td>\n      <td>NaN</td>\n      <td>NaN</td>\n      <td>NaN</td>\n      <td>NaN</td>\n      <td>NaN</td>\n      <td>NaN</td>\n      <td>NaN</td>\n      <td>...</td>\n      <td>3.0</td>\n      <td>NaN</td>\n      <td>NaN</td>\n      <td>NaN</td>\n      <td>NaN</td>\n      <td>NaN</td>\n      <td>NaN</td>\n      <td>NaN</td>\n      <td>NaN</td>\n      <td>NaN</td>\n    </tr>\n    <tr>\n      <th>35</th>\n      <td>iai</td>\n      <td>20230628</td>\n      <td>NaN</td>\n      <td>NaN</td>\n      <td>NaN</td>\n      <td>NaN</td>\n      <td>NaN</td>\n      <td>NaN</td>\n      <td>NaN</td>\n      <td>NaN</td>\n      <td>...</td>\n      <td>3.0</td>\n      <td>NaN</td>\n      <td>NaN</td>\n      <td>NaN</td>\n      <td>NaN</td>\n      <td>NaN</td>\n      <td>NaN</td>\n      <td>NaN</td>\n      <td>NaN</td>\n      <td>NaN</td>\n    </tr>\n    <tr>\n      <th>36</th>\n      <td>test2</td>\n      <td>20230620</td>\n      <td>NaN</td>\n      <td>NaN</td>\n      <td>NaN</td>\n      <td>NaN</td>\n      <td>NaN</td>\n      <td>NaN</td>\n      <td>NaN</td>\n      <td>NaN</td>\n      <td>...</td>\n      <td>4.0</td>\n      <td>NaN</td>\n      <td>NaN</td>\n      <td>NaN</td>\n      <td>NaN</td>\n      <td>NaN</td>\n      <td>NaN</td>\n      <td>NaN</td>\n      <td>NaN</td>\n      <td>NaN</td>\n    </tr>\n    <tr>\n      <th>37</th>\n      <td>test2</td>\n      <td>20230621</td>\n      <td>NaN</td>\n      <td>NaN</td>\n      <td>NaN</td>\n      <td>NaN</td>\n      <td>NaN</td>\n      <td>NaN</td>\n      <td>NaN</td>\n      <td>NaN</td>\n      <td>...</td>\n      <td>40.0</td>\n      <td>NaN</td>\n      <td>NaN</td>\n      <td>NaN</td>\n      <td>NaN</td>\n      <td>NaN</td>\n      <td>NaN</td>\n      <td>NaN</td>\n      <td>NaN</td>\n      <td>NaN</td>\n    </tr>\n    <tr>\n      <th>38</th>\n      <td>test2</td>\n      <td>20230622</td>\n      <td>NaN</td>\n      <td>NaN</td>\n      <td>NaN</td>\n      <td>NaN</td>\n      <td>NaN</td>\n      <td>NaN</td>\n      <td>NaN</td>\n      <td>NaN</td>\n      <td>...</td>\n      <td>11.0</td>\n      <td>NaN</td>\n      <td>NaN</td>\n      <td>NaN</td>\n      <td>NaN</td>\n      <td>NaN</td>\n      <td>NaN</td>\n      <td>NaN</td>\n      <td>NaN</td>\n      <td>NaN</td>\n    </tr>\n    <tr>\n      <th>39</th>\n      <td>test2</td>\n      <td>20230623</td>\n      <td>NaN</td>\n      <td>NaN</td>\n      <td>NaN</td>\n      <td>NaN</td>\n      <td>NaN</td>\n      <td>NaN</td>\n      <td>NaN</td>\n      <td>NaN</td>\n      <td>...</td>\n      <td>6.0</td>\n      <td>NaN</td>\n      <td>NaN</td>\n      <td>NaN</td>\n      <td>NaN</td>\n      <td>NaN</td>\n      <td>NaN</td>\n      <td>NaN</td>\n      <td>NaN</td>\n      <td>NaN</td>\n    </tr>\n    <tr>\n      <th>40</th>\n      <td>test2</td>\n      <td>20230624</td>\n      <td>NaN</td>\n      <td>NaN</td>\n      <td>NaN</td>\n      <td>NaN</td>\n      <td>NaN</td>\n      <td>NaN</td>\n      <td>NaN</td>\n      <td>NaN</td>\n      <td>...</td>\n      <td>59.0</td>\n      <td>NaN</td>\n      <td>NaN</td>\n      <td>NaN</td>\n      <td>NaN</td>\n      <td>NaN</td>\n      <td>NaN</td>\n      <td>NaN</td>\n      <td>NaN</td>\n      <td>NaN</td>\n    </tr>\n    <tr>\n      <th>41</th>\n      <td>test2</td>\n      <td>20230625</td>\n      <td>NaN</td>\n      <td>NaN</td>\n      <td>NaN</td>\n      <td>NaN</td>\n      <td>NaN</td>\n      <td>NaN</td>\n      <td>NaN</td>\n      <td>NaN</td>\n      <td>...</td>\n      <td>5.0</td>\n      <td>NaN</td>\n      <td>NaN</td>\n      <td>NaN</td>\n      <td>NaN</td>\n      <td>NaN</td>\n      <td>NaN</td>\n      <td>NaN</td>\n      <td>NaN</td>\n      <td>NaN</td>\n    </tr>\n    <tr>\n      <th>42</th>\n      <td>test2</td>\n      <td>20230626</td>\n      <td>NaN</td>\n      <td>NaN</td>\n      <td>NaN</td>\n      <td>NaN</td>\n      <td>NaN</td>\n      <td>NaN</td>\n      <td>NaN</td>\n      <td>NaN</td>\n      <td>...</td>\n      <td>6.0</td>\n      <td>NaN</td>\n      <td>NaN</td>\n      <td>NaN</td>\n      <td>NaN</td>\n      <td>NaN</td>\n      <td>NaN</td>\n      <td>NaN</td>\n      <td>NaN</td>\n      <td>NaN</td>\n    </tr>\n    <tr>\n      <th>43</th>\n      <td>test2</td>\n      <td>20230627</td>\n      <td>NaN</td>\n      <td>NaN</td>\n      <td>NaN</td>\n      <td>NaN</td>\n      <td>NaN</td>\n      <td>NaN</td>\n      <td>NaN</td>\n      <td>NaN</td>\n      <td>...</td>\n      <td>2.0</td>\n      <td>NaN</td>\n      <td>NaN</td>\n      <td>NaN</td>\n      <td>NaN</td>\n      <td>NaN</td>\n      <td>NaN</td>\n      <td>NaN</td>\n      <td>NaN</td>\n      <td>NaN</td>\n    </tr>\n    <tr>\n      <th>44</th>\n      <td>admin</td>\n      <td>20230609</td>\n      <td>NaN</td>\n      <td>NaN</td>\n      <td>NaN</td>\n      <td>NaN</td>\n      <td>NaN</td>\n      <td>NaN</td>\n      <td>NaN</td>\n      <td>NaN</td>\n      <td>...</td>\n      <td>NaN</td>\n      <td>250.0</td>\n      <td>16878.0</td>\n      <td>NaN</td>\n      <td>NaN</td>\n      <td>NaN</td>\n      <td>NaN</td>\n      <td>NaN</td>\n      <td>NaN</td>\n      <td>NaN</td>\n    </tr>\n    <tr>\n      <th>45</th>\n      <td>admin</td>\n      <td>20230610</td>\n      <td>NaN</td>\n      <td>NaN</td>\n      <td>NaN</td>\n      <td>NaN</td>\n      <td>NaN</td>\n      <td>NaN</td>\n      <td>NaN</td>\n      <td>NaN</td>\n      <td>...</td>\n      <td>NaN</td>\n      <td>390.0</td>\n      <td>2222.0</td>\n      <td>NaN</td>\n      <td>NaN</td>\n      <td>NaN</td>\n      <td>NaN</td>\n      <td>NaN</td>\n      <td>NaN</td>\n      <td>NaN</td>\n    </tr>\n    <tr>\n      <th>46</th>\n      <td>admin</td>\n      <td>20230611</td>\n      <td>NaN</td>\n      <td>NaN</td>\n      <td>NaN</td>\n      <td>NaN</td>\n      <td>NaN</td>\n      <td>NaN</td>\n      <td>NaN</td>\n      <td>NaN</td>\n      <td>...</td>\n      <td>NaN</td>\n      <td>450.0</td>\n      <td>137.0</td>\n      <td>NaN</td>\n      <td>NaN</td>\n      <td>NaN</td>\n      <td>NaN</td>\n      <td>NaN</td>\n      <td>NaN</td>\n      <td>NaN</td>\n    </tr>\n    <tr>\n      <th>47</th>\n      <td>admin</td>\n      <td>20230612</td>\n      <td>NaN</td>\n      <td>NaN</td>\n      <td>NaN</td>\n      <td>NaN</td>\n      <td>NaN</td>\n      <td>NaN</td>\n      <td>NaN</td>\n      <td>NaN</td>\n      <td>...</td>\n      <td>NaN</td>\n      <td>280.0</td>\n      <td>9449.0</td>\n      <td>NaN</td>\n      <td>NaN</td>\n      <td>NaN</td>\n      <td>NaN</td>\n      <td>NaN</td>\n      <td>NaN</td>\n      <td>NaN</td>\n    </tr>\n    <tr>\n      <th>48</th>\n      <td>admin</td>\n      <td>20230613</td>\n      <td>NaN</td>\n      <td>NaN</td>\n      <td>NaN</td>\n      <td>NaN</td>\n      <td>NaN</td>\n      <td>NaN</td>\n      <td>NaN</td>\n      <td>NaN</td>\n      <td>...</td>\n      <td>NaN</td>\n      <td>370.0</td>\n      <td>10212.0</td>\n      <td>NaN</td>\n      <td>NaN</td>\n      <td>NaN</td>\n      <td>NaN</td>\n      <td>NaN</td>\n      <td>NaN</td>\n      <td>NaN</td>\n    </tr>\n    <tr>\n      <th>49</th>\n      <td>admin</td>\n      <td>20230614</td>\n      <td>NaN</td>\n      <td>NaN</td>\n      <td>NaN</td>\n      <td>NaN</td>\n      <td>NaN</td>\n      <td>NaN</td>\n      <td>NaN</td>\n      <td>NaN</td>\n      <td>...</td>\n      <td>NaN</td>\n      <td>350.0</td>\n      <td>11107.0</td>\n      <td>NaN</td>\n      <td>NaN</td>\n      <td>NaN</td>\n      <td>NaN</td>\n      <td>NaN</td>\n      <td>NaN</td>\n      <td>NaN</td>\n    </tr>\n    <tr>\n      <th>50</th>\n      <td>admin</td>\n      <td>20230616</td>\n      <td>NaN</td>\n      <td>NaN</td>\n      <td>NaN</td>\n      <td>NaN</td>\n      <td>NaN</td>\n      <td>NaN</td>\n      <td>NaN</td>\n      <td>NaN</td>\n      <td>...</td>\n      <td>NaN</td>\n      <td>410.0</td>\n      <td>11222.0</td>\n      <td>NaN</td>\n      <td>NaN</td>\n      <td>NaN</td>\n      <td>NaN</td>\n      <td>NaN</td>\n      <td>NaN</td>\n      <td>NaN</td>\n    </tr>\n    <tr>\n      <th>51</th>\n      <td>admin</td>\n      <td>20230617</td>\n      <td>NaN</td>\n      <td>NaN</td>\n      <td>NaN</td>\n      <td>NaN</td>\n      <td>NaN</td>\n      <td>NaN</td>\n      <td>NaN</td>\n      <td>NaN</td>\n      <td>...</td>\n      <td>NaN</td>\n      <td>380.0</td>\n      <td>6191.0</td>\n      <td>NaN</td>\n      <td>NaN</td>\n      <td>NaN</td>\n      <td>NaN</td>\n      <td>NaN</td>\n      <td>NaN</td>\n      <td>NaN</td>\n    </tr>\n    <tr>\n      <th>52</th>\n      <td>admin</td>\n      <td>20230618</td>\n      <td>NaN</td>\n      <td>NaN</td>\n      <td>NaN</td>\n      <td>NaN</td>\n      <td>NaN</td>\n      <td>NaN</td>\n      <td>NaN</td>\n      <td>NaN</td>\n      <td>...</td>\n      <td>NaN</td>\n      <td>250.0</td>\n      <td>1655.0</td>\n      <td>NaN</td>\n      <td>NaN</td>\n      <td>NaN</td>\n      <td>NaN</td>\n      <td>NaN</td>\n      <td>NaN</td>\n      <td>NaN</td>\n    </tr>\n    <tr>\n      <th>53</th>\n      <td>admin</td>\n      <td>20230619</td>\n      <td>NaN</td>\n      <td>NaN</td>\n      <td>NaN</td>\n      <td>NaN</td>\n      <td>NaN</td>\n      <td>NaN</td>\n      <td>NaN</td>\n      <td>NaN</td>\n      <td>...</td>\n      <td>NaN</td>\n      <td>410.0</td>\n      <td>8584.0</td>\n      <td>NaN</td>\n      <td>NaN</td>\n      <td>NaN</td>\n      <td>NaN</td>\n      <td>NaN</td>\n      <td>NaN</td>\n      <td>NaN</td>\n    </tr>\n    <tr>\n      <th>54</th>\n      <td>admin</td>\n      <td>20230620</td>\n      <td>NaN</td>\n      <td>NaN</td>\n      <td>NaN</td>\n      <td>NaN</td>\n      <td>NaN</td>\n      <td>NaN</td>\n      <td>NaN</td>\n      <td>NaN</td>\n      <td>...</td>\n      <td>NaN</td>\n      <td>320.0</td>\n      <td>9748.0</td>\n      <td>NaN</td>\n      <td>NaN</td>\n      <td>NaN</td>\n      <td>NaN</td>\n      <td>NaN</td>\n      <td>NaN</td>\n      <td>NaN</td>\n    </tr>\n    <tr>\n      <th>55</th>\n      <td>admin</td>\n      <td>20230621</td>\n      <td>NaN</td>\n      <td>NaN</td>\n      <td>NaN</td>\n      <td>NaN</td>\n      <td>NaN</td>\n      <td>NaN</td>\n      <td>NaN</td>\n      <td>NaN</td>\n      <td>...</td>\n      <td>NaN</td>\n      <td>330.0</td>\n      <td>6441.0</td>\n      <td>NaN</td>\n      <td>NaN</td>\n      <td>NaN</td>\n      <td>NaN</td>\n      <td>NaN</td>\n      <td>NaN</td>\n      <td>NaN</td>\n    </tr>\n    <tr>\n      <th>56</th>\n      <td>1</td>\n      <td>20230629</td>\n      <td>NaN</td>\n      <td>NaN</td>\n      <td>NaN</td>\n      <td>NaN</td>\n      <td>NaN</td>\n      <td>NaN</td>\n      <td>NaN</td>\n      <td>NaN</td>\n      <td>...</td>\n      <td>NaN</td>\n      <td>NaN</td>\n      <td>8.0</td>\n      <td>NaN</td>\n      <td>NaN</td>\n      <td>NaN</td>\n      <td>NaN</td>\n      <td>NaN</td>\n      <td>NaN</td>\n      <td>NaN</td>\n    </tr>\n    <tr>\n      <th>57</th>\n      <td>1</td>\n      <td>20230630</td>\n      <td>NaN</td>\n      <td>NaN</td>\n      <td>NaN</td>\n      <td>NaN</td>\n      <td>NaN</td>\n      <td>NaN</td>\n      <td>NaN</td>\n      <td>NaN</td>\n      <td>...</td>\n      <td>NaN</td>\n      <td>NaN</td>\n      <td>1556.0</td>\n      <td>NaN</td>\n      <td>NaN</td>\n      <td>NaN</td>\n      <td>NaN</td>\n      <td>NaN</td>\n      <td>NaN</td>\n      <td>NaN</td>\n    </tr>\n    <tr>\n      <th>58</th>\n      <td>admin</td>\n      <td>20230702</td>\n      <td>NaN</td>\n      <td>NaN</td>\n      <td>NaN</td>\n      <td>NaN</td>\n      <td>NaN</td>\n      <td>NaN</td>\n      <td>NaN</td>\n      <td>NaN</td>\n      <td>...</td>\n      <td>NaN</td>\n      <td>NaN</td>\n      <td>5858.0</td>\n      <td>NaN</td>\n      <td>NaN</td>\n      <td>NaN</td>\n      <td>NaN</td>\n      <td>NaN</td>\n      <td>NaN</td>\n      <td>NaN</td>\n    </tr>\n  </tbody>\n</table>\n<p>59 rows × 23 columns</p>\n</div>"
     },
     "execution_count": 12,
     "metadata": {},
     "output_type": "execute_result"
    }
   ]
  },
  {
   "cell_type": "code",
   "source": [
    "result.columns"
   ],
   "metadata": {
    "colab": {
     "base_uri": "https://localhost:8080/"
    },
    "id": "K3dTkd4j9XdY",
    "executionInfo": {
     "status": "ok",
     "timestamp": 1692591881331,
     "user_tz": -540,
     "elapsed": 14,
     "user": {
      "displayName": "양지우",
      "userId": "15915436126750620151"
     }
    },
    "outputId": "4f131aa2-163f-43f6-8caa-24d6befb0ad4",
    "ExecuteTime": {
     "start_time": "2023-08-22T13:52:26.835772Z",
     "end_time": "2023-08-22T13:52:26.845869Z"
    }
   },
   "execution_count": 13,
   "outputs": [
    {
     "data": {
      "text/plain": "Index(['USER_ID', 'date', 'call_duration', 'db_value_mean', 'db_value_max',\n       'db_value_min', 'heart_rate_mean', 'heart_rate_max', 'heart_rate_min',\n       'lux_value_mean', 'lux_value_max', 'lux_value_min', 'msg_num',\n       'pic_num', 'sleep_duration', 'step_count', 'app_acc', 'app_audio',\n       'app_game', 'app_img', 'app_maps', 'app_news', 'app_video'],\n      dtype='object')"
     },
     "execution_count": 13,
     "metadata": {},
     "output_type": "execute_result"
    }
   ]
  },
  {
   "cell_type": "code",
   "source": [
    "result.to_csv('/content/drive/MyDrive/동국대학교/연구실/로그데이터/total_data.csv')"
   ],
   "metadata": {
    "id": "BCmNJz3xVZXd"
   },
   "execution_count": null,
   "outputs": []
  },
  {
   "cell_type": "code",
   "source": [],
   "metadata": {
    "id": "pkd_J0qcVu4V"
   },
   "execution_count": null,
   "outputs": []
  }
 ]
}
