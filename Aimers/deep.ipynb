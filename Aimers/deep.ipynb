{
 "cells": [
  {
   "cell_type": "code",
   "execution_count": 14,
   "id": "7ada941e",
   "metadata": {
    "ExecuteTime": {
     "start_time": "2024-02-07T17:51:23.105488Z",
     "end_time": "2024-02-07T17:51:23.250027Z"
    }
   },
   "outputs": [],
   "source": [
    "df_train = pd.read_csv(\"train.csv\") # 학습용 데이터\n",
    "df_test = pd.read_csv(\"submission.csv\") # 테스트 데이터(제출파일의 데이터)"
   ]
  },
  {
   "cell_type": "code",
   "execution_count": null,
   "outputs": [],
   "source": [],
   "metadata": {
    "collapsed": false
   }
  },
  {
   "cell_type": "code",
   "execution_count": 15,
   "id": "be9af12a",
   "metadata": {
    "ExecuteTime": {
     "start_time": "2024-02-07T17:51:23.280633Z",
     "end_time": "2024-02-07T17:51:23.296636Z"
    }
   },
   "outputs": [
    {
     "data": {
      "text/plain": "   bant_submit          customer_country business_unit  com_reg_ver_win_rate  \\\n0          1.0  /Quezon City/Philippines            AS              0.066667   \n1          1.0        /PH-00/Philippines            AS              0.066667   \n2          1.0           /Kolkata /India            AS              0.088889   \n3          1.0        /Bhubaneswar/India            AS              0.088889   \n4          1.0          /Hyderabad/India            AS              0.088889   \n\n   customer_idx          customer_type  enterprise  historical_existing_cnt  \\\n0         32160           End-Customer  Enterprise                      NaN   \n1         23122           End-Customer  Enterprise                     12.0   \n2          1755           End-Customer  Enterprise                    144.0   \n3          4919           End-Customer  Enterprise                      NaN   \n4         17126  Specifier/ Influencer  Enterprise                      NaN   \n\n   id_strategic_ver  it_strategic_ver  ...  response_corporate  \\\n0               NaN               NaN  ...               LGEPH   \n1               NaN               NaN  ...               LGEPH   \n2               NaN               NaN  ...               LGEIL   \n3               NaN               NaN  ...               LGEIL   \n4               NaN               NaN  ...               LGEIL   \n\n    expected_timeline  ver_cus ver_pro ver_win_rate_x ver_win_ratio_per_bu  \\\n0  less than 3 months        1       0       0.003079             0.026846   \n1  less than 3 months        1       0       0.003079             0.026846   \n2  less than 3 months        1       0       0.003079             0.026846   \n3  less than 3 months        1       0       0.003079             0.026846   \n4  less than 3 months        0       0       0.003079             0.026846   \n\n        business_area business_subarea lead_owner is_converted  \n0  corporate / office      Engineering          0         True  \n1  corporate / office      Advertising          1         True  \n2  corporate / office     Construction          2         True  \n3  corporate / office      IT/Software          3         True  \n4  corporate / office              NaN          4         True  \n\n[5 rows x 29 columns]",
      "text/html": "<div>\n<style scoped>\n    .dataframe tbody tr th:only-of-type {\n        vertical-align: middle;\n    }\n\n    .dataframe tbody tr th {\n        vertical-align: top;\n    }\n\n    .dataframe thead th {\n        text-align: right;\n    }\n</style>\n<table border=\"1\" class=\"dataframe\">\n  <thead>\n    <tr style=\"text-align: right;\">\n      <th></th>\n      <th>bant_submit</th>\n      <th>customer_country</th>\n      <th>business_unit</th>\n      <th>com_reg_ver_win_rate</th>\n      <th>customer_idx</th>\n      <th>customer_type</th>\n      <th>enterprise</th>\n      <th>historical_existing_cnt</th>\n      <th>id_strategic_ver</th>\n      <th>it_strategic_ver</th>\n      <th>...</th>\n      <th>response_corporate</th>\n      <th>expected_timeline</th>\n      <th>ver_cus</th>\n      <th>ver_pro</th>\n      <th>ver_win_rate_x</th>\n      <th>ver_win_ratio_per_bu</th>\n      <th>business_area</th>\n      <th>business_subarea</th>\n      <th>lead_owner</th>\n      <th>is_converted</th>\n    </tr>\n  </thead>\n  <tbody>\n    <tr>\n      <th>0</th>\n      <td>1.0</td>\n      <td>/Quezon City/Philippines</td>\n      <td>AS</td>\n      <td>0.066667</td>\n      <td>32160</td>\n      <td>End-Customer</td>\n      <td>Enterprise</td>\n      <td>NaN</td>\n      <td>NaN</td>\n      <td>NaN</td>\n      <td>...</td>\n      <td>LGEPH</td>\n      <td>less than 3 months</td>\n      <td>1</td>\n      <td>0</td>\n      <td>0.003079</td>\n      <td>0.026846</td>\n      <td>corporate / office</td>\n      <td>Engineering</td>\n      <td>0</td>\n      <td>True</td>\n    </tr>\n    <tr>\n      <th>1</th>\n      <td>1.0</td>\n      <td>/PH-00/Philippines</td>\n      <td>AS</td>\n      <td>0.066667</td>\n      <td>23122</td>\n      <td>End-Customer</td>\n      <td>Enterprise</td>\n      <td>12.0</td>\n      <td>NaN</td>\n      <td>NaN</td>\n      <td>...</td>\n      <td>LGEPH</td>\n      <td>less than 3 months</td>\n      <td>1</td>\n      <td>0</td>\n      <td>0.003079</td>\n      <td>0.026846</td>\n      <td>corporate / office</td>\n      <td>Advertising</td>\n      <td>1</td>\n      <td>True</td>\n    </tr>\n    <tr>\n      <th>2</th>\n      <td>1.0</td>\n      <td>/Kolkata /India</td>\n      <td>AS</td>\n      <td>0.088889</td>\n      <td>1755</td>\n      <td>End-Customer</td>\n      <td>Enterprise</td>\n      <td>144.0</td>\n      <td>NaN</td>\n      <td>NaN</td>\n      <td>...</td>\n      <td>LGEIL</td>\n      <td>less than 3 months</td>\n      <td>1</td>\n      <td>0</td>\n      <td>0.003079</td>\n      <td>0.026846</td>\n      <td>corporate / office</td>\n      <td>Construction</td>\n      <td>2</td>\n      <td>True</td>\n    </tr>\n    <tr>\n      <th>3</th>\n      <td>1.0</td>\n      <td>/Bhubaneswar/India</td>\n      <td>AS</td>\n      <td>0.088889</td>\n      <td>4919</td>\n      <td>End-Customer</td>\n      <td>Enterprise</td>\n      <td>NaN</td>\n      <td>NaN</td>\n      <td>NaN</td>\n      <td>...</td>\n      <td>LGEIL</td>\n      <td>less than 3 months</td>\n      <td>1</td>\n      <td>0</td>\n      <td>0.003079</td>\n      <td>0.026846</td>\n      <td>corporate / office</td>\n      <td>IT/Software</td>\n      <td>3</td>\n      <td>True</td>\n    </tr>\n    <tr>\n      <th>4</th>\n      <td>1.0</td>\n      <td>/Hyderabad/India</td>\n      <td>AS</td>\n      <td>0.088889</td>\n      <td>17126</td>\n      <td>Specifier/ Influencer</td>\n      <td>Enterprise</td>\n      <td>NaN</td>\n      <td>NaN</td>\n      <td>NaN</td>\n      <td>...</td>\n      <td>LGEIL</td>\n      <td>less than 3 months</td>\n      <td>0</td>\n      <td>0</td>\n      <td>0.003079</td>\n      <td>0.026846</td>\n      <td>corporate / office</td>\n      <td>NaN</td>\n      <td>4</td>\n      <td>True</td>\n    </tr>\n  </tbody>\n</table>\n<p>5 rows × 29 columns</p>\n</div>"
     },
     "execution_count": 15,
     "metadata": {},
     "output_type": "execute_result"
    }
   ],
   "source": [
    "df_train.head() # 학습용 데이터 살펴보기"
   ]
  },
  {
   "cell_type": "markdown",
   "id": "af526c13",
   "metadata": {},
   "source": [
    "## 2. 데이터 전처리"
   ]
  },
  {
   "cell_type": "markdown",
   "id": "4bd47e00",
   "metadata": {},
   "source": [
    "### 레이블 인코딩"
   ]
  },
  {
   "cell_type": "code",
   "execution_count": 16,
   "id": "0b42b1a1",
   "metadata": {
    "ExecuteTime": {
     "start_time": "2024-02-07T17:51:24.527406Z",
     "end_time": "2024-02-07T17:51:24.534994Z"
    }
   },
   "outputs": [],
   "source": [
    "def label_encoding(series: pd.Series) -> pd.Series:\n",
    "    \"\"\"범주형 데이터를 시리즈 형태로 받아 숫자형 데이터로 변환합니다.\"\"\"\n",
    "\n",
    "    my_dict = {}\n",
    "\n",
    "    # 모든 요소를 문자열로 변환\n",
    "    series = series.astype(str)\n",
    "\n",
    "    for idx, value in enumerate(sorted(series.unique())):\n",
    "        my_dict[value] = idx\n",
    "    series = series.map(my_dict)\n",
    "\n",
    "    return series"
   ]
  },
  {
   "cell_type": "code",
   "execution_count": 17,
   "id": "881a4612",
   "metadata": {
    "ExecuteTime": {
     "start_time": "2024-02-07T17:51:24.739003Z",
     "end_time": "2024-02-07T17:51:24.877365Z"
    }
   },
   "outputs": [],
   "source": [
    "# 레이블 인코딩할 칼럼들\n",
    "label_columns = [\n",
    "    \"customer_country\",\n",
    "    \"business_subarea\",\n",
    "    \"business_area\",\n",
    "    \"business_unit\",\n",
    "    \"customer_type\",\n",
    "    \"enterprise\",\n",
    "    \"customer_job\",\n",
    "    \"inquiry_type\",\n",
    "    \"product_category\",\n",
    "    \"product_subcategory\",\n",
    "    \"product_modelname\",\n",
    "    \"customer_country.1\",\n",
    "    \"customer_position\",\n",
    "    \"response_corporate\",\n",
    "    \"expected_timeline\",\n",
    "]\n",
    "\n",
    "df_all = pd.concat([df_train[label_columns], df_test[label_columns]])\n",
    "\n",
    "for col in label_columns:\n",
    "    df_all[col] = label_encoding(df_all[col])"
   ]
  },
  {
   "cell_type": "markdown",
   "id": "3a477f93",
   "metadata": {},
   "source": [
    "다시 학습 데이터와 제출 데이터를 분리합니다."
   ]
  },
  {
   "cell_type": "code",
   "execution_count": 18,
   "id": "ff10c5fb",
   "metadata": {
    "ExecuteTime": {
     "start_time": "2024-02-07T17:51:25.333837Z",
     "end_time": "2024-02-07T17:51:25.350327Z"
    }
   },
   "outputs": [],
   "source": [
    "for col in label_columns:  \n",
    "    df_train[col] = df_all.iloc[: len(df_train)][col]\n",
    "    df_test[col] = df_all.iloc[len(df_train) :][col]"
   ]
  },
  {
   "cell_type": "code",
   "execution_count": 19,
   "id": "9d8422fe",
   "metadata": {
    "ExecuteTime": {
     "start_time": "2024-02-07T17:51:25.639088Z",
     "end_time": "2024-02-07T17:51:25.666314Z"
    }
   },
   "outputs": [
    {
     "data": {
      "text/plain": "   bant_submit  customer_country  business_unit  com_reg_ver_win_rate  \\\n0          1.0              9070              0              0.066667   \n1          1.0              8406              0              0.066667   \n2          1.0              6535              0              0.088889   \n3          1.0              3388              0              0.088889   \n4          1.0              5799              0              0.088889   \n\n   customer_idx  customer_type  enterprise  historical_existing_cnt  \\\n0         32160             10           0                      NaN   \n1         23122             10           0                     12.0   \n2          1755             10           0                    144.0   \n3          4919             10           0                      NaN   \n4         17126             29           0                      NaN   \n\n   id_strategic_ver  it_strategic_ver  ...  response_corporate  \\\n0               NaN               NaN  ...                  33   \n1               NaN               NaN  ...                  33   \n2               NaN               NaN  ...                  21   \n3               NaN               NaN  ...                  21   \n4               NaN               NaN  ...                  21   \n\n   expected_timeline  ver_cus  ver_pro  ver_win_rate_x  ver_win_ratio_per_bu  \\\n0                246        1        0        0.003079              0.026846   \n1                246        1        0        0.003079              0.026846   \n2                246        1        0        0.003079              0.026846   \n3                246        1        0        0.003079              0.026846   \n4                246        0        0        0.003079              0.026846   \n\n   business_area  business_subarea  lead_owner  is_converted  \n0              0                28           0          True  \n1              0                 0           1          True  \n2              0                17           2          True  \n3              0                44           3          True  \n4              0                86           4          True  \n\n[5 rows x 29 columns]",
      "text/html": "<div>\n<style scoped>\n    .dataframe tbody tr th:only-of-type {\n        vertical-align: middle;\n    }\n\n    .dataframe tbody tr th {\n        vertical-align: top;\n    }\n\n    .dataframe thead th {\n        text-align: right;\n    }\n</style>\n<table border=\"1\" class=\"dataframe\">\n  <thead>\n    <tr style=\"text-align: right;\">\n      <th></th>\n      <th>bant_submit</th>\n      <th>customer_country</th>\n      <th>business_unit</th>\n      <th>com_reg_ver_win_rate</th>\n      <th>customer_idx</th>\n      <th>customer_type</th>\n      <th>enterprise</th>\n      <th>historical_existing_cnt</th>\n      <th>id_strategic_ver</th>\n      <th>it_strategic_ver</th>\n      <th>...</th>\n      <th>response_corporate</th>\n      <th>expected_timeline</th>\n      <th>ver_cus</th>\n      <th>ver_pro</th>\n      <th>ver_win_rate_x</th>\n      <th>ver_win_ratio_per_bu</th>\n      <th>business_area</th>\n      <th>business_subarea</th>\n      <th>lead_owner</th>\n      <th>is_converted</th>\n    </tr>\n  </thead>\n  <tbody>\n    <tr>\n      <th>0</th>\n      <td>1.0</td>\n      <td>9070</td>\n      <td>0</td>\n      <td>0.066667</td>\n      <td>32160</td>\n      <td>10</td>\n      <td>0</td>\n      <td>NaN</td>\n      <td>NaN</td>\n      <td>NaN</td>\n      <td>...</td>\n      <td>33</td>\n      <td>246</td>\n      <td>1</td>\n      <td>0</td>\n      <td>0.003079</td>\n      <td>0.026846</td>\n      <td>0</td>\n      <td>28</td>\n      <td>0</td>\n      <td>True</td>\n    </tr>\n    <tr>\n      <th>1</th>\n      <td>1.0</td>\n      <td>8406</td>\n      <td>0</td>\n      <td>0.066667</td>\n      <td>23122</td>\n      <td>10</td>\n      <td>0</td>\n      <td>12.0</td>\n      <td>NaN</td>\n      <td>NaN</td>\n      <td>...</td>\n      <td>33</td>\n      <td>246</td>\n      <td>1</td>\n      <td>0</td>\n      <td>0.003079</td>\n      <td>0.026846</td>\n      <td>0</td>\n      <td>0</td>\n      <td>1</td>\n      <td>True</td>\n    </tr>\n    <tr>\n      <th>2</th>\n      <td>1.0</td>\n      <td>6535</td>\n      <td>0</td>\n      <td>0.088889</td>\n      <td>1755</td>\n      <td>10</td>\n      <td>0</td>\n      <td>144.0</td>\n      <td>NaN</td>\n      <td>NaN</td>\n      <td>...</td>\n      <td>21</td>\n      <td>246</td>\n      <td>1</td>\n      <td>0</td>\n      <td>0.003079</td>\n      <td>0.026846</td>\n      <td>0</td>\n      <td>17</td>\n      <td>2</td>\n      <td>True</td>\n    </tr>\n    <tr>\n      <th>3</th>\n      <td>1.0</td>\n      <td>3388</td>\n      <td>0</td>\n      <td>0.088889</td>\n      <td>4919</td>\n      <td>10</td>\n      <td>0</td>\n      <td>NaN</td>\n      <td>NaN</td>\n      <td>NaN</td>\n      <td>...</td>\n      <td>21</td>\n      <td>246</td>\n      <td>1</td>\n      <td>0</td>\n      <td>0.003079</td>\n      <td>0.026846</td>\n      <td>0</td>\n      <td>44</td>\n      <td>3</td>\n      <td>True</td>\n    </tr>\n    <tr>\n      <th>4</th>\n      <td>1.0</td>\n      <td>5799</td>\n      <td>0</td>\n      <td>0.088889</td>\n      <td>17126</td>\n      <td>29</td>\n      <td>0</td>\n      <td>NaN</td>\n      <td>NaN</td>\n      <td>NaN</td>\n      <td>...</td>\n      <td>21</td>\n      <td>246</td>\n      <td>0</td>\n      <td>0</td>\n      <td>0.003079</td>\n      <td>0.026846</td>\n      <td>0</td>\n      <td>86</td>\n      <td>4</td>\n      <td>True</td>\n    </tr>\n  </tbody>\n</table>\n<p>5 rows × 29 columns</p>\n</div>"
     },
     "execution_count": 19,
     "metadata": {},
     "output_type": "execute_result"
    }
   ],
   "source": [
    "df_train.head() # 학습용 데이터 살펴보기"
   ]
  },
  {
   "cell_type": "markdown",
   "id": "d332358a",
   "metadata": {},
   "source": [
    "### 2-2. 학습, 검증 데이터 분리"
   ]
  },
  {
   "cell_type": "code",
   "execution_count": 20,
   "id": "27c9e205",
   "metadata": {
    "ExecuteTime": {
     "start_time": "2024-02-07T17:51:26.908413Z",
     "end_time": "2024-02-07T17:51:26.941334Z"
    }
   },
   "outputs": [
    {
     "name": "stdout",
     "output_type": "stream",
     "text": [
      "[28]\n"
     ]
    }
   ],
   "source": [
    "df_train = df_train.fillna(0)\n",
    "x_train, x_val, y_train, y_val = train_test_split(\n",
    "    df_train.drop(\"is_converted\", axis=1),\n",
    "    df_train[\"is_converted\"],\n",
    "    test_size=0.2,\n",
    "    shuffle=True,\n",
    "    random_state=400,\n",
    ")\n",
    "print([x_train.shape[1]])\n",
    "# print(y_train)"
   ]
  },
  {
   "cell_type": "code",
   "execution_count": 21,
   "outputs": [],
   "source": [
    "import tensorflow as tf\n",
    "def f1_score(y_true, y_pred):\n",
    "\n",
    "    y_pred_binary = tf.round(y_pred)\n",
    "    tp = tf.reduce_sum(tf.cast(y_true * y_pred_binary, 'float'), axis=0)\n",
    "    fp = tf.reduce_sum(tf.cast((1-y_true) * y_pred_binary, 'float'), axis=0)\n",
    "    fn = tf.reduce_sum(tf.cast(y_true * (1-y_pred_binary), 'float'), axis=0)\n",
    "\n",
    "    precision = tp / (tp + fp + tf.keras.backend.epsilon())\n",
    "    recall = tp / (tp + fn + tf.keras.backend.epsilon())\n",
    "\n",
    "    f1 = 2*(precision*recall)/(precision+recall+tf.keras.backend.epsilon())\n",
    "\n",
    "    return tf.reduce_mean(f1)\n",
    "\n",
    "\n",
    "class F1Score(tf.keras.metrics.Metric):\n",
    "    def __init__(self, name='f1_score', **kwargs):\n",
    "        super(F1Score, self).__init__(name=name, **kwargs)\n",
    "        self.f1s = self.add_weight(name='f1', initializer='zeros')\n",
    "\n",
    "    def update_state(self, y_true, y_pred, sample_weight=None):\n",
    "        y_pred_binary = tf.round(y_pred)\n",
    "        tp = tf.reduce_sum(tf.cast(y_true * y_pred_binary, 'float'), axis=0)\n",
    "        fp = tf.reduce_sum(tf.cast((1 - y_true) * y_pred_binary, 'float'), axis=0)\n",
    "        fn = tf.reduce_sum(tf.cast(y_true * (1 - y_pred_binary), 'float'), axis=0)\n",
    "\n",
    "        precision = tp / (tp + fp + tf.keras.backend.epsilon())\n",
    "        recall = tp / (tp + fn + tf.keras.backend.epsilon())\n",
    "        f1 = 2 * (precision * recall) / (precision + recall + tf.keras.backend.epsilon())\n",
    "\n",
    "        self.f1s.assign(tf.reduce_mean(f1))\n",
    "\n",
    "    def result(self):\n",
    "        return self.f1s\n",
    "\n",
    "    def reset_states(self):\n",
    "        self.f1s.assign(0)"
   ],
   "metadata": {
    "collapsed": false,
    "ExecuteTime": {
     "start_time": "2024-02-07T17:51:28.161075Z",
     "end_time": "2024-02-07T17:51:28.167077Z"
    }
   }
  },
  {
   "cell_type": "code",
   "execution_count": 26,
   "outputs": [
    {
     "name": "stdout",
     "output_type": "stream",
     "text": [
      "Epoch 1/100\n",
      "47/47 [==============================] - 2s 24ms/step - loss: 0.3600 - accuracy: 0.8986 - f1_score: 0.0079 - val_loss: 0.4002 - val_accuracy: 0.9202 - val_f1_score: 0.0000e+00\n",
      "Epoch 2/100\n",
      "47/47 [==============================] - 1s 20ms/step - loss: 0.2611 - accuracy: 0.9177 - f1_score: 0.0000e+00 - val_loss: 0.3638 - val_accuracy: 0.9202 - val_f1_score: 0.0000e+00\n",
      "Epoch 3/100\n",
      "47/47 [==============================] - 1s 20ms/step - loss: 0.2572 - accuracy: 0.9177 - f1_score: 0.0000e+00 - val_loss: 0.3147 - val_accuracy: 0.9202 - val_f1_score: 0.0000e+00\n",
      "Epoch 4/100\n",
      "47/47 [==============================] - 1s 20ms/step - loss: 0.2544 - accuracy: 0.9177 - f1_score: 0.0000e+00 - val_loss: 0.2811 - val_accuracy: 0.9202 - val_f1_score: 0.0000e+00\n",
      "Epoch 5/100\n",
      "47/47 [==============================] - 1s 20ms/step - loss: 0.2536 - accuracy: 0.9177 - f1_score: 0.0000e+00 - val_loss: 0.2656 - val_accuracy: 0.9202 - val_f1_score: 0.0000e+00\n",
      "Epoch 6/100\n",
      "47/47 [==============================] - 1s 21ms/step - loss: 0.2510 - accuracy: 0.9177 - f1_score: 0.0000e+00 - val_loss: 0.2542 - val_accuracy: 0.9202 - val_f1_score: 0.0000e+00\n",
      "Epoch 7/100\n",
      "47/47 [==============================] - 1s 21ms/step - loss: 0.2506 - accuracy: 0.9177 - f1_score: 0.0000e+00 - val_loss: 0.2457 - val_accuracy: 0.9202 - val_f1_score: 0.0000e+00\n",
      "Epoch 8/100\n",
      "47/47 [==============================] - 1s 21ms/step - loss: 0.2478 - accuracy: 0.9177 - f1_score: 0.0000e+00 - val_loss: 0.2395 - val_accuracy: 0.9202 - val_f1_score: 0.0000e+00\n",
      "Epoch 9/100\n",
      "47/47 [==============================] - 1s 20ms/step - loss: 0.2421 - accuracy: 0.9177 - f1_score: 0.0000e+00 - val_loss: 0.2437 - val_accuracy: 0.9202 - val_f1_score: 0.0000e+00\n",
      "Epoch 10/100\n",
      "47/47 [==============================] - 1s 20ms/step - loss: 0.2401 - accuracy: 0.9177 - f1_score: 0.0000e+00 - val_loss: 0.2351 - val_accuracy: 0.9202 - val_f1_score: 0.0000e+00\n",
      "Epoch 11/100\n",
      "47/47 [==============================] - 1s 20ms/step - loss: 0.2404 - accuracy: 0.9177 - f1_score: 0.0000e+00 - val_loss: 0.2341 - val_accuracy: 0.9202 - val_f1_score: 0.0000e+00\n",
      "Epoch 12/100\n",
      "47/47 [==============================] - 1s 21ms/step - loss: 0.2370 - accuracy: 0.9177 - f1_score: 0.0000e+00 - val_loss: 0.2324 - val_accuracy: 0.9202 - val_f1_score: 0.0000e+00\n",
      "Epoch 13/100\n",
      "47/47 [==============================] - 1s 20ms/step - loss: 0.2351 - accuracy: 0.9178 - f1_score: 0.0019 - val_loss: 0.2298 - val_accuracy: 0.9202 - val_f1_score: 0.0000e+00\n",
      "Epoch 14/100\n",
      "47/47 [==============================] - 1s 20ms/step - loss: 0.2324 - accuracy: 0.9181 - f1_score: 0.0111 - val_loss: 0.2251 - val_accuracy: 0.9202 - val_f1_score: 0.0000e+00\n",
      "Epoch 15/100\n",
      "47/47 [==============================] - 1s 20ms/step - loss: 0.2339 - accuracy: 0.9186 - f1_score: 0.0274 - val_loss: 0.2727 - val_accuracy: 0.9202 - val_f1_score: 0.0000e+00\n",
      "Epoch 16/100\n",
      "47/47 [==============================] - 1s 20ms/step - loss: 0.2299 - accuracy: 0.9181 - f1_score: 0.0212 - val_loss: 0.2223 - val_accuracy: 0.9202 - val_f1_score: 0.0000e+00\n",
      "Epoch 17/100\n",
      "47/47 [==============================] - 1s 20ms/step - loss: 0.2295 - accuracy: 0.9185 - f1_score: 0.0257 - val_loss: 0.2276 - val_accuracy: 0.9202 - val_f1_score: 0.0000e+00\n",
      "Epoch 18/100\n",
      "47/47 [==============================] - 1s 20ms/step - loss: 0.2358 - accuracy: 0.9180 - f1_score: 0.0139 - val_loss: 0.2250 - val_accuracy: 0.9202 - val_f1_score: 0.0000e+00\n",
      "Epoch 19/100\n",
      "47/47 [==============================] - 1s 21ms/step - loss: 0.2319 - accuracy: 0.9186 - f1_score: 0.0286 - val_loss: 0.2387 - val_accuracy: 0.9202 - val_f1_score: 0.0000e+00\n",
      "Epoch 20/100\n",
      "47/47 [==============================] - 1s 20ms/step - loss: 0.2276 - accuracy: 0.9197 - f1_score: 0.0628 - val_loss: 0.2530 - val_accuracy: 0.9202 - val_f1_score: 0.0000e+00\n",
      "Epoch 21/100\n",
      "47/47 [==============================] - 1s 20ms/step - loss: 0.2290 - accuracy: 0.9210 - f1_score: 0.1007 - val_loss: 0.2335 - val_accuracy: 0.9202 - val_f1_score: 0.0000e+00\n",
      "Epoch 22/100\n",
      "47/47 [==============================] - 1s 20ms/step - loss: 0.2252 - accuracy: 0.9209 - f1_score: 0.1186 - val_loss: 0.2307 - val_accuracy: 0.9202 - val_f1_score: 0.0000e+00\n",
      "Epoch 23/100\n",
      "47/47 [==============================] - 1s 20ms/step - loss: 0.2272 - accuracy: 0.9215 - f1_score: 0.1367 - val_loss: 0.2280 - val_accuracy: 0.9202 - val_f1_score: 0.0000e+00\n",
      "Epoch 24/100\n",
      "47/47 [==============================] - 1s 21ms/step - loss: 0.2244 - accuracy: 0.9231 - f1_score: 0.1718 - val_loss: 0.2290 - val_accuracy: 0.9202 - val_f1_score: 0.0000e+00\n",
      "Epoch 25/100\n",
      "47/47 [==============================] - 1s 20ms/step - loss: 0.2225 - accuracy: 0.9240 - f1_score: 0.1942 - val_loss: 0.2335 - val_accuracy: 0.9202 - val_f1_score: 0.0000e+00\n",
      "Epoch 26/100\n",
      "47/47 [==============================] - 1s 20ms/step - loss: 0.2247 - accuracy: 0.9233 - f1_score: 0.1912 - val_loss: 0.2326 - val_accuracy: 0.9202 - val_f1_score: 0.0000e+00\n",
      "Epoch 27/100\n",
      "47/47 [==============================] - 1s 20ms/step - loss: 0.2234 - accuracy: 0.9235 - f1_score: 0.2025 - val_loss: 0.2350 - val_accuracy: 0.9202 - val_f1_score: 0.0000e+00\n",
      "Epoch 28/100\n",
      "47/47 [==============================] - 1s 20ms/step - loss: 0.2254 - accuracy: 0.9219 - f1_score: 0.1397 - val_loss: 0.2224 - val_accuracy: 0.9202 - val_f1_score: 0.0000e+00\n",
      "Epoch 29/100\n",
      "47/47 [==============================] - 1s 20ms/step - loss: 0.2209 - accuracy: 0.9257 - f1_score: 0.2453 - val_loss: 0.2252 - val_accuracy: 0.9202 - val_f1_score: 0.0000e+00\n",
      "Epoch 30/100\n",
      "47/47 [==============================] - 1s 20ms/step - loss: 0.2201 - accuracy: 0.9263 - f1_score: 0.2681 - val_loss: 0.2250 - val_accuracy: 0.9202 - val_f1_score: 0.0000e+00\n",
      "Epoch 31/100\n",
      "47/47 [==============================] - 1s 20ms/step - loss: 0.2207 - accuracy: 0.9251 - f1_score: 0.2661 - val_loss: 0.2352 - val_accuracy: 0.9202 - val_f1_score: 0.0000e+00\n",
      "Epoch 32/100\n",
      "47/47 [==============================] - 1s 21ms/step - loss: 0.2215 - accuracy: 0.9243 - f1_score: 0.2326 - val_loss: 0.2343 - val_accuracy: 0.9202 - val_f1_score: 0.0000e+00\n",
      "Epoch 33/100\n",
      "47/47 [==============================] - 1s 20ms/step - loss: 0.2214 - accuracy: 0.9248 - f1_score: 0.2290 - val_loss: 0.2417 - val_accuracy: 0.9202 - val_f1_score: 0.0000e+00\n",
      "Epoch 34/100\n",
      "47/47 [==============================] - 1s 20ms/step - loss: 0.2235 - accuracy: 0.9226 - f1_score: 0.1709 - val_loss: 0.2418 - val_accuracy: 0.9202 - val_f1_score: 0.0000e+00\n",
      "Epoch 35/100\n",
      "47/47 [==============================] - 1s 21ms/step - loss: 0.2167 - accuracy: 0.9268 - f1_score: 0.2751 - val_loss: 0.2511 - val_accuracy: 0.9202 - val_f1_score: 0.0000e+00\n",
      "Epoch 36/100\n",
      "47/47 [==============================] - 1s 21ms/step - loss: 0.2155 - accuracy: 0.9259 - f1_score: 0.2535 - val_loss: 0.2412 - val_accuracy: 0.9202 - val_f1_score: 0.0000e+00\n",
      "Epoch 37/100\n",
      "47/47 [==============================] - 1s 21ms/step - loss: 0.2127 - accuracy: 0.9277 - f1_score: 0.2921 - val_loss: 0.2370 - val_accuracy: 0.9202 - val_f1_score: 0.0000e+00\n",
      "Epoch 38/100\n",
      "47/47 [==============================] - 1s 20ms/step - loss: 0.2127 - accuracy: 0.9274 - f1_score: 0.2836 - val_loss: 0.2574 - val_accuracy: 0.9202 - val_f1_score: 0.0000e+00\n",
      "Epoch 39/100\n",
      "47/47 [==============================] - 1s 20ms/step - loss: 0.2098 - accuracy: 0.9285 - f1_score: 0.3213 - val_loss: 0.2653 - val_accuracy: 0.9202 - val_f1_score: 0.0000e+00\n",
      "Epoch 40/100\n",
      "47/47 [==============================] - 1s 21ms/step - loss: 0.2102 - accuracy: 0.9278 - f1_score: 0.3079 - val_loss: 0.2284 - val_accuracy: 0.9202 - val_f1_score: 0.0000e+00\n",
      "Epoch 41/100\n",
      "47/47 [==============================] - 1s 21ms/step - loss: 0.2066 - accuracy: 0.9303 - f1_score: 0.3531 - val_loss: 0.2618 - val_accuracy: 0.9202 - val_f1_score: 0.0000e+00\n",
      "Epoch 42/100\n",
      "47/47 [==============================] - 1s 21ms/step - loss: 0.2139 - accuracy: 0.9264 - f1_score: 0.2603 - val_loss: 0.3025 - val_accuracy: 0.9202 - val_f1_score: 0.0000e+00\n",
      "Epoch 43/100\n",
      "47/47 [==============================] - 1s 20ms/step - loss: 0.2083 - accuracy: 0.9286 - f1_score: 0.3278 - val_loss: 0.3020 - val_accuracy: 0.9202 - val_f1_score: 0.0000e+00\n",
      "Epoch 44/100\n",
      "47/47 [==============================] - 1s 20ms/step - loss: 0.2076 - accuracy: 0.9279 - f1_score: 0.3047 - val_loss: 0.2929 - val_accuracy: 0.9202 - val_f1_score: 0.0000e+00\n",
      "Epoch 45/100\n",
      "47/47 [==============================] - 1s 21ms/step - loss: 0.2004 - accuracy: 0.9324 - f1_score: 0.3750 - val_loss: 0.2788 - val_accuracy: 0.9202 - val_f1_score: 0.0000e+00\n",
      "Epoch 46/100\n",
      "47/47 [==============================] - 1s 21ms/step - loss: 0.2008 - accuracy: 0.9315 - f1_score: 0.3689 - val_loss: 0.2690 - val_accuracy: 0.9202 - val_f1_score: 0.0000e+00\n",
      "Epoch 47/100\n",
      "47/47 [==============================] - 1s 22ms/step - loss: 0.1936 - accuracy: 0.9352 - f1_score: 0.4228 - val_loss: 0.2991 - val_accuracy: 0.9202 - val_f1_score: 0.0000e+00\n",
      "Epoch 48/100\n",
      "47/47 [==============================] - 1s 21ms/step - loss: 0.1947 - accuracy: 0.9348 - f1_score: 0.4184 - val_loss: 0.3130 - val_accuracy: 0.9202 - val_f1_score: 0.0000e+00\n",
      "Epoch 49/100\n",
      "47/47 [==============================] - 1s 21ms/step - loss: 0.1929 - accuracy: 0.9357 - f1_score: 0.4284 - val_loss: 0.3164 - val_accuracy: 0.9202 - val_f1_score: 0.0000e+00\n",
      "Epoch 50/100\n",
      "47/47 [==============================] - 1s 22ms/step - loss: 0.1937 - accuracy: 0.9340 - f1_score: 0.4157 - val_loss: 0.2677 - val_accuracy: 0.9202 - val_f1_score: 0.0000e+00\n",
      "Epoch 51/100\n",
      "47/47 [==============================] - 1s 21ms/step - loss: 0.1935 - accuracy: 0.9342 - f1_score: 0.4163 - val_loss: 0.2778 - val_accuracy: 0.9202 - val_f1_score: 0.0000e+00\n",
      "Epoch 52/100\n",
      "47/47 [==============================] - 1s 21ms/step - loss: 0.1905 - accuracy: 0.9358 - f1_score: 0.4439 - val_loss: 0.2937 - val_accuracy: 0.9202 - val_f1_score: 0.0000e+00\n",
      "Epoch 53/100\n",
      "47/47 [==============================] - 1s 22ms/step - loss: 0.1876 - accuracy: 0.9378 - f1_score: 0.4669 - val_loss: 0.2877 - val_accuracy: 0.9202 - val_f1_score: 0.0000e+00\n",
      "Epoch 54/100\n",
      "47/47 [==============================] - 1s 22ms/step - loss: 0.1906 - accuracy: 0.9353 - f1_score: 0.4373 - val_loss: 0.3062 - val_accuracy: 0.9202 - val_f1_score: 0.0019\n",
      "Epoch 55/100\n",
      "47/47 [==============================] - 1s 21ms/step - loss: 0.1900 - accuracy: 0.9362 - f1_score: 0.4425 - val_loss: 0.2605 - val_accuracy: 0.9202 - val_f1_score: 0.0019\n",
      "Epoch 56/100\n",
      "47/47 [==============================] - 1s 21ms/step - loss: 0.1906 - accuracy: 0.9354 - f1_score: 0.4329 - val_loss: 0.2798 - val_accuracy: 0.9203 - val_f1_score: 0.0038\n",
      "Epoch 57/100\n",
      "47/47 [==============================] - 1s 21ms/step - loss: 0.1887 - accuracy: 0.9363 - f1_score: 0.4423 - val_loss: 0.2706 - val_accuracy: 0.9202 - val_f1_score: 0.0061\n",
      "Epoch 58/100\n",
      "47/47 [==============================] - 1s 22ms/step - loss: 0.1866 - accuracy: 0.9376 - f1_score: 0.4703 - val_loss: 0.2107 - val_accuracy: 0.9203 - val_f1_score: 0.0099\n",
      "Epoch 59/100\n",
      "47/47 [==============================] - 1s 21ms/step - loss: 0.1978 - accuracy: 0.9305 - f1_score: 0.3427 - val_loss: 0.1993 - val_accuracy: 0.9251 - val_f1_score: 0.1706\n",
      "Epoch 60/100\n",
      "47/47 [==============================] - 1s 21ms/step - loss: 0.1881 - accuracy: 0.9361 - f1_score: 0.4398 - val_loss: 0.2174 - val_accuracy: 0.9180 - val_f1_score: 0.0224\n",
      "Epoch 61/100\n",
      "47/47 [==============================] - 1s 20ms/step - loss: 0.1919 - accuracy: 0.9347 - f1_score: 0.4280 - val_loss: 0.2231 - val_accuracy: 0.9206 - val_f1_score: 0.0231\n",
      "Epoch 62/100\n",
      "47/47 [==============================] - 1s 20ms/step - loss: 0.1862 - accuracy: 0.9380 - f1_score: 0.4669 - val_loss: 0.2026 - val_accuracy: 0.9211 - val_f1_score: 0.0507\n",
      "Epoch 63/100\n",
      "47/47 [==============================] - 1s 21ms/step - loss: 0.1869 - accuracy: 0.9364 - f1_score: 0.4466 - val_loss: 0.2184 - val_accuracy: 0.9199 - val_f1_score: 0.0058\n",
      "Epoch 64/100\n",
      "47/47 [==============================] - 1s 20ms/step - loss: 0.1862 - accuracy: 0.9373 - f1_score: 0.4636 - val_loss: 0.1901 - val_accuracy: 0.9480 - val_f1_score: 0.5779\n",
      "Epoch 65/100\n",
      "47/47 [==============================] - 1s 21ms/step - loss: 0.1874 - accuracy: 0.9359 - f1_score: 0.4224 - val_loss: 0.1948 - val_accuracy: 0.9208 - val_f1_score: 0.0476\n",
      "Epoch 66/100\n",
      "47/47 [==============================] - 1s 20ms/step - loss: 0.1843 - accuracy: 0.9378 - f1_score: 0.4623 - val_loss: 0.1707 - val_accuracy: 0.9475 - val_f1_score: 0.5681\n",
      "Epoch 67/100\n",
      "47/47 [==============================] - 1s 20ms/step - loss: 0.1839 - accuracy: 0.9379 - f1_score: 0.4756 - val_loss: 0.1775 - val_accuracy: 0.9427 - val_f1_score: 0.4922\n",
      "Epoch 68/100\n",
      "47/47 [==============================] - 1s 20ms/step - loss: 0.1882 - accuracy: 0.9361 - f1_score: 0.4501 - val_loss: 0.2016 - val_accuracy: 0.9205 - val_f1_score: 0.0154\n",
      "Epoch 69/100\n",
      "47/47 [==============================] - 1s 21ms/step - loss: 0.1847 - accuracy: 0.9364 - f1_score: 0.4556 - val_loss: 0.1940 - val_accuracy: 0.9397 - val_f1_score: 0.5447\n",
      "Epoch 70/100\n",
      "47/47 [==============================] - 1s 20ms/step - loss: 0.1849 - accuracy: 0.9377 - f1_score: 0.4769 - val_loss: 0.1760 - val_accuracy: 0.9425 - val_f1_score: 0.4682\n",
      "Epoch 71/100\n",
      "47/47 [==============================] - 1s 20ms/step - loss: 0.1911 - accuracy: 0.9348 - f1_score: 0.4349 - val_loss: 0.1737 - val_accuracy: 0.9458 - val_f1_score: 0.5635\n",
      "Epoch 72/100\n",
      "47/47 [==============================] - 1s 21ms/step - loss: 0.1883 - accuracy: 0.9342 - f1_score: 0.4280 - val_loss: 0.1902 - val_accuracy: 0.9312 - val_f1_score: 0.2932\n",
      "Epoch 73/100\n",
      "47/47 [==============================] - 1s 21ms/step - loss: 0.1851 - accuracy: 0.9373 - f1_score: 0.4663 - val_loss: 0.1752 - val_accuracy: 0.9438 - val_f1_score: 0.5117\n",
      "Epoch 74/100\n",
      "47/47 [==============================] - 1s 21ms/step - loss: 0.1844 - accuracy: 0.9375 - f1_score: 0.4676 - val_loss: 0.1779 - val_accuracy: 0.9351 - val_f1_score: 0.3465\n",
      "Epoch 75/100\n",
      "47/47 [==============================] - 1s 21ms/step - loss: 0.1819 - accuracy: 0.9393 - f1_score: 0.4771 - val_loss: 0.1765 - val_accuracy: 0.9395 - val_f1_score: 0.4247\n",
      "Epoch 76/100\n",
      "47/47 [==============================] - 1s 21ms/step - loss: 0.1939 - accuracy: 0.9321 - f1_score: 0.3991 - val_loss: 0.1971 - val_accuracy: 0.9229 - val_f1_score: 0.0861\n",
      "Epoch 77/100\n",
      "47/47 [==============================] - 1s 21ms/step - loss: 0.1919 - accuracy: 0.9344 - f1_score: 0.4072 - val_loss: 0.2026 - val_accuracy: 0.9153 - val_f1_score: 0.2047\n",
      "Epoch 78/100\n",
      "47/47 [==============================] - 1s 21ms/step - loss: 0.1945 - accuracy: 0.9309 - f1_score: 0.3623 - val_loss: 0.1859 - val_accuracy: 0.9345 - val_f1_score: 0.3277\n",
      "Epoch 79/100\n",
      "47/47 [==============================] - 1s 21ms/step - loss: 0.1944 - accuracy: 0.9331 - f1_score: 0.4145 - val_loss: 1.3260 - val_accuracy: 0.6747 - val_f1_score: 0.2651\n",
      "Epoch 80/100\n",
      "47/47 [==============================] - 1s 22ms/step - loss: 0.2006 - accuracy: 0.9338 - f1_score: 0.4056 - val_loss: 0.2389 - val_accuracy: 0.9204 - val_f1_score: 0.0135\n",
      "Epoch 81/100\n",
      "47/47 [==============================] - 1s 21ms/step - loss: 0.1926 - accuracy: 0.9357 - f1_score: 0.4429 - val_loss: 0.2251 - val_accuracy: 0.9228 - val_f1_score: 0.1699\n",
      "Epoch 82/100\n",
      "47/47 [==============================] - 1s 22ms/step - loss: 0.1959 - accuracy: 0.9338 - f1_score: 0.4076 - val_loss: 0.2413 - val_accuracy: 0.9120 - val_f1_score: 0.3138\n",
      "Epoch 83/100\n",
      "47/47 [==============================] - 1s 20ms/step - loss: 0.1973 - accuracy: 0.9317 - f1_score: 0.3875 - val_loss: 0.2252 - val_accuracy: 0.9198 - val_f1_score: 0.0078\n",
      "Epoch 84/100\n",
      "47/47 [==============================] - 1s 22ms/step - loss: 0.1924 - accuracy: 0.9356 - f1_score: 0.4239 - val_loss: 0.2127 - val_accuracy: 0.9247 - val_f1_score: 0.1285\n",
      "Epoch 85/100\n",
      "47/47 [==============================] - 1s 22ms/step - loss: 0.1918 - accuracy: 0.9346 - f1_score: 0.4219 - val_loss: 0.2135 - val_accuracy: 0.9415 - val_f1_score: 0.5585\n",
      "Epoch 86/100\n",
      "47/47 [==============================] - 1s 21ms/step - loss: 0.1826 - accuracy: 0.9401 - f1_score: 0.4936 - val_loss: 0.1921 - val_accuracy: 0.9382 - val_f1_score: 0.4137\n",
      "Epoch 87/100\n",
      "47/47 [==============================] - 1s 21ms/step - loss: 0.1877 - accuracy: 0.9343 - f1_score: 0.4270 - val_loss: 0.2054 - val_accuracy: 0.9277 - val_f1_score: 0.1994\n",
      "Epoch 88/100\n",
      "47/47 [==============================] - 1s 21ms/step - loss: 0.1825 - accuracy: 0.9384 - f1_score: 0.4656 - val_loss: 0.2145 - val_accuracy: 0.9201 - val_f1_score: 0.0019\n",
      "Epoch 89/100\n",
      "47/47 [==============================] - 1s 21ms/step - loss: 0.1826 - accuracy: 0.9379 - f1_score: 0.4664 - val_loss: 0.2084 - val_accuracy: 0.9228 - val_f1_score: 0.0813\n",
      "Epoch 90/100\n",
      "47/47 [==============================] - 1s 21ms/step - loss: 0.1786 - accuracy: 0.9398 - f1_score: 0.4961 - val_loss: 0.1927 - val_accuracy: 0.9278 - val_f1_score: 0.1892\n",
      "Epoch 91/100\n",
      "47/47 [==============================] - 1s 21ms/step - loss: 0.1804 - accuracy: 0.9398 - f1_score: 0.4827 - val_loss: 0.2210 - val_accuracy: 0.9205 - val_f1_score: 0.0160\n",
      "Epoch 92/100\n",
      "47/47 [==============================] - 1s 21ms/step - loss: 0.1771 - accuracy: 0.9406 - f1_score: 0.4984 - val_loss: 0.2098 - val_accuracy: 0.9261 - val_f1_score: 0.1562\n",
      "Epoch 93/100\n",
      "47/47 [==============================] - 1s 20ms/step - loss: 0.1880 - accuracy: 0.9349 - f1_score: 0.4243 - val_loss: 0.2071 - val_accuracy: 0.9289 - val_f1_score: 0.3406\n",
      "Epoch 94/100\n",
      "47/47 [==============================] - 1s 21ms/step - loss: 0.1811 - accuracy: 0.9392 - f1_score: 0.4799 - val_loss: 0.2430 - val_accuracy: 0.9200 - val_f1_score: 0.0019\n",
      "Epoch 95/100\n",
      "47/47 [==============================] - 1s 21ms/step - loss: 0.1837 - accuracy: 0.9378 - f1_score: 0.4729 - val_loss: 0.2504 - val_accuracy: 0.9205 - val_f1_score: 0.0137\n",
      "Epoch 96/100\n",
      "47/47 [==============================] - 1s 22ms/step - loss: 0.1813 - accuracy: 0.9385 - f1_score: 0.4684 - val_loss: 0.2051 - val_accuracy: 0.9207 - val_f1_score: 0.0266\n",
      "Epoch 97/100\n",
      "47/47 [==============================] - 1s 22ms/step - loss: 0.1825 - accuracy: 0.9380 - f1_score: 0.4686 - val_loss: 0.2608 - val_accuracy: 0.9206 - val_f1_score: 0.0156\n",
      "Epoch 98/100\n",
      "47/47 [==============================] - 1s 22ms/step - loss: 0.1876 - accuracy: 0.9359 - f1_score: 0.4452 - val_loss: 0.2457 - val_accuracy: 0.9140 - val_f1_score: 0.0093\n",
      "Epoch 99/100\n",
      "47/47 [==============================] - 1s 22ms/step - loss: 0.1781 - accuracy: 0.9398 - f1_score: 0.4878 - val_loss: 0.1883 - val_accuracy: 0.9319 - val_f1_score: 0.3167\n",
      "Epoch 100/100\n",
      "47/47 [==============================] - 1s 21ms/step - loss: 0.1780 - accuracy: 0.9410 - f1_score: 0.5024 - val_loss: 0.1671 - val_accuracy: 0.9483 - val_f1_score: 0.5922\n"
     ]
    },
    {
     "ename": "KeyError",
     "evalue": "\"None of [Index(['binary_accuracy', 'val_binary_accuracy'], dtype='object')] are in the [columns]\"",
     "output_type": "error",
     "traceback": [
      "\u001B[1;31m---------------------------------------------------------------------------\u001B[0m",
      "\u001B[1;31mKeyError\u001B[0m                                  Traceback (most recent call last)",
      "Cell \u001B[1;32mIn[26], line 74\u001B[0m\n\u001B[0;32m     72\u001B[0m history_df \u001B[38;5;241m=\u001B[39m pd\u001B[38;5;241m.\u001B[39mDataFrame(history\u001B[38;5;241m.\u001B[39mhistory)\n\u001B[0;32m     73\u001B[0m history_df\u001B[38;5;241m.\u001B[39mloc[:, [\u001B[38;5;124m'\u001B[39m\u001B[38;5;124mloss\u001B[39m\u001B[38;5;124m'\u001B[39m, \u001B[38;5;124m'\u001B[39m\u001B[38;5;124mval_loss\u001B[39m\u001B[38;5;124m'\u001B[39m]]\u001B[38;5;241m.\u001B[39mplot(title\u001B[38;5;241m=\u001B[39m\u001B[38;5;124m\"\u001B[39m\u001B[38;5;124mCross-entropy\u001B[39m\u001B[38;5;124m\"\u001B[39m)\n\u001B[1;32m---> 74\u001B[0m \u001B[43mhistory_df\u001B[49m\u001B[38;5;241;43m.\u001B[39;49m\u001B[43mloc\u001B[49m\u001B[43m[\u001B[49m\u001B[43m:\u001B[49m\u001B[43m,\u001B[49m\u001B[43m \u001B[49m\u001B[43m[\u001B[49m\u001B[38;5;124;43m'\u001B[39;49m\u001B[38;5;124;43mbinary_accuracy\u001B[39;49m\u001B[38;5;124;43m'\u001B[39;49m\u001B[43m,\u001B[49m\u001B[43m \u001B[49m\u001B[38;5;124;43m'\u001B[39;49m\u001B[38;5;124;43mval_binary_accuracy\u001B[39;49m\u001B[38;5;124;43m'\u001B[39;49m\u001B[43m]\u001B[49m\u001B[43m]\u001B[49m\u001B[38;5;241m.\u001B[39mplot(title\u001B[38;5;241m=\u001B[39m\u001B[38;5;124m\"\u001B[39m\u001B[38;5;124mAccuracy\u001B[39m\u001B[38;5;124m\"\u001B[39m)\n",
      "File \u001B[1;32m~\\anaconda3\\lib\\site-packages\\pandas\\core\\indexing.py:1147\u001B[0m, in \u001B[0;36m_LocationIndexer.__getitem__\u001B[1;34m(self, key)\u001B[0m\n\u001B[0;32m   1145\u001B[0m     \u001B[38;5;28;01mif\u001B[39;00m \u001B[38;5;28mself\u001B[39m\u001B[38;5;241m.\u001B[39m_is_scalar_access(key):\n\u001B[0;32m   1146\u001B[0m         \u001B[38;5;28;01mreturn\u001B[39;00m \u001B[38;5;28mself\u001B[39m\u001B[38;5;241m.\u001B[39mobj\u001B[38;5;241m.\u001B[39m_get_value(\u001B[38;5;241m*\u001B[39mkey, takeable\u001B[38;5;241m=\u001B[39m\u001B[38;5;28mself\u001B[39m\u001B[38;5;241m.\u001B[39m_takeable)\n\u001B[1;32m-> 1147\u001B[0m     \u001B[38;5;28;01mreturn\u001B[39;00m \u001B[38;5;28;43mself\u001B[39;49m\u001B[38;5;241;43m.\u001B[39;49m\u001B[43m_getitem_tuple\u001B[49m\u001B[43m(\u001B[49m\u001B[43mkey\u001B[49m\u001B[43m)\u001B[49m\n\u001B[0;32m   1148\u001B[0m \u001B[38;5;28;01melse\u001B[39;00m:\n\u001B[0;32m   1149\u001B[0m     \u001B[38;5;66;03m# we by definition only have the 0th axis\u001B[39;00m\n\u001B[0;32m   1150\u001B[0m     axis \u001B[38;5;241m=\u001B[39m \u001B[38;5;28mself\u001B[39m\u001B[38;5;241m.\u001B[39maxis \u001B[38;5;129;01mor\u001B[39;00m \u001B[38;5;241m0\u001B[39m\n",
      "File \u001B[1;32m~\\anaconda3\\lib\\site-packages\\pandas\\core\\indexing.py:1339\u001B[0m, in \u001B[0;36m_LocIndexer._getitem_tuple\u001B[1;34m(self, tup)\u001B[0m\n\u001B[0;32m   1336\u001B[0m \u001B[38;5;28;01mif\u001B[39;00m \u001B[38;5;28mself\u001B[39m\u001B[38;5;241m.\u001B[39m_multi_take_opportunity(tup):\n\u001B[0;32m   1337\u001B[0m     \u001B[38;5;28;01mreturn\u001B[39;00m \u001B[38;5;28mself\u001B[39m\u001B[38;5;241m.\u001B[39m_multi_take(tup)\n\u001B[1;32m-> 1339\u001B[0m \u001B[38;5;28;01mreturn\u001B[39;00m \u001B[38;5;28;43mself\u001B[39;49m\u001B[38;5;241;43m.\u001B[39;49m\u001B[43m_getitem_tuple_same_dim\u001B[49m\u001B[43m(\u001B[49m\u001B[43mtup\u001B[49m\u001B[43m)\u001B[49m\n",
      "File \u001B[1;32m~\\anaconda3\\lib\\site-packages\\pandas\\core\\indexing.py:994\u001B[0m, in \u001B[0;36m_LocationIndexer._getitem_tuple_same_dim\u001B[1;34m(self, tup)\u001B[0m\n\u001B[0;32m    991\u001B[0m \u001B[38;5;28;01mif\u001B[39;00m com\u001B[38;5;241m.\u001B[39mis_null_slice(key):\n\u001B[0;32m    992\u001B[0m     \u001B[38;5;28;01mcontinue\u001B[39;00m\n\u001B[1;32m--> 994\u001B[0m retval \u001B[38;5;241m=\u001B[39m \u001B[38;5;28;43mgetattr\u001B[39;49m\u001B[43m(\u001B[49m\u001B[43mretval\u001B[49m\u001B[43m,\u001B[49m\u001B[43m \u001B[49m\u001B[38;5;28;43mself\u001B[39;49m\u001B[38;5;241;43m.\u001B[39;49m\u001B[43mname\u001B[49m\u001B[43m)\u001B[49m\u001B[38;5;241;43m.\u001B[39;49m\u001B[43m_getitem_axis\u001B[49m\u001B[43m(\u001B[49m\u001B[43mkey\u001B[49m\u001B[43m,\u001B[49m\u001B[43m \u001B[49m\u001B[43maxis\u001B[49m\u001B[38;5;241;43m=\u001B[39;49m\u001B[43mi\u001B[49m\u001B[43m)\u001B[49m\n\u001B[0;32m    995\u001B[0m \u001B[38;5;66;03m# We should never have retval.ndim < self.ndim, as that should\u001B[39;00m\n\u001B[0;32m    996\u001B[0m \u001B[38;5;66;03m#  be handled by the _getitem_lowerdim call above.\u001B[39;00m\n\u001B[0;32m    997\u001B[0m \u001B[38;5;28;01massert\u001B[39;00m retval\u001B[38;5;241m.\u001B[39mndim \u001B[38;5;241m==\u001B[39m \u001B[38;5;28mself\u001B[39m\u001B[38;5;241m.\u001B[39mndim\n",
      "File \u001B[1;32m~\\anaconda3\\lib\\site-packages\\pandas\\core\\indexing.py:1382\u001B[0m, in \u001B[0;36m_LocIndexer._getitem_axis\u001B[1;34m(self, key, axis)\u001B[0m\n\u001B[0;32m   1379\u001B[0m     \u001B[38;5;28;01mif\u001B[39;00m \u001B[38;5;28mhasattr\u001B[39m(key, \u001B[38;5;124m\"\u001B[39m\u001B[38;5;124mndim\u001B[39m\u001B[38;5;124m\"\u001B[39m) \u001B[38;5;129;01mand\u001B[39;00m key\u001B[38;5;241m.\u001B[39mndim \u001B[38;5;241m>\u001B[39m \u001B[38;5;241m1\u001B[39m:\n\u001B[0;32m   1380\u001B[0m         \u001B[38;5;28;01mraise\u001B[39;00m \u001B[38;5;167;01mValueError\u001B[39;00m(\u001B[38;5;124m\"\u001B[39m\u001B[38;5;124mCannot index with multidimensional key\u001B[39m\u001B[38;5;124m\"\u001B[39m)\n\u001B[1;32m-> 1382\u001B[0m     \u001B[38;5;28;01mreturn\u001B[39;00m \u001B[38;5;28;43mself\u001B[39;49m\u001B[38;5;241;43m.\u001B[39;49m\u001B[43m_getitem_iterable\u001B[49m\u001B[43m(\u001B[49m\u001B[43mkey\u001B[49m\u001B[43m,\u001B[49m\u001B[43m \u001B[49m\u001B[43maxis\u001B[49m\u001B[38;5;241;43m=\u001B[39;49m\u001B[43maxis\u001B[49m\u001B[43m)\u001B[49m\n\u001B[0;32m   1384\u001B[0m \u001B[38;5;66;03m# nested tuple slicing\u001B[39;00m\n\u001B[0;32m   1385\u001B[0m \u001B[38;5;28;01mif\u001B[39;00m is_nested_tuple(key, labels):\n",
      "File \u001B[1;32m~\\anaconda3\\lib\\site-packages\\pandas\\core\\indexing.py:1322\u001B[0m, in \u001B[0;36m_LocIndexer._getitem_iterable\u001B[1;34m(self, key, axis)\u001B[0m\n\u001B[0;32m   1319\u001B[0m \u001B[38;5;28mself\u001B[39m\u001B[38;5;241m.\u001B[39m_validate_key(key, axis)\n\u001B[0;32m   1321\u001B[0m \u001B[38;5;66;03m# A collection of keys\u001B[39;00m\n\u001B[1;32m-> 1322\u001B[0m keyarr, indexer \u001B[38;5;241m=\u001B[39m \u001B[38;5;28;43mself\u001B[39;49m\u001B[38;5;241;43m.\u001B[39;49m\u001B[43m_get_listlike_indexer\u001B[49m\u001B[43m(\u001B[49m\u001B[43mkey\u001B[49m\u001B[43m,\u001B[49m\u001B[43m \u001B[49m\u001B[43maxis\u001B[49m\u001B[43m)\u001B[49m\n\u001B[0;32m   1323\u001B[0m \u001B[38;5;28;01mreturn\u001B[39;00m \u001B[38;5;28mself\u001B[39m\u001B[38;5;241m.\u001B[39mobj\u001B[38;5;241m.\u001B[39m_reindex_with_indexers(\n\u001B[0;32m   1324\u001B[0m     {axis: [keyarr, indexer]}, copy\u001B[38;5;241m=\u001B[39m\u001B[38;5;28;01mTrue\u001B[39;00m, allow_dups\u001B[38;5;241m=\u001B[39m\u001B[38;5;28;01mTrue\u001B[39;00m\n\u001B[0;32m   1325\u001B[0m )\n",
      "File \u001B[1;32m~\\anaconda3\\lib\\site-packages\\pandas\\core\\indexing.py:1520\u001B[0m, in \u001B[0;36m_LocIndexer._get_listlike_indexer\u001B[1;34m(self, key, axis)\u001B[0m\n\u001B[0;32m   1517\u001B[0m ax \u001B[38;5;241m=\u001B[39m \u001B[38;5;28mself\u001B[39m\u001B[38;5;241m.\u001B[39mobj\u001B[38;5;241m.\u001B[39m_get_axis(axis)\n\u001B[0;32m   1518\u001B[0m axis_name \u001B[38;5;241m=\u001B[39m \u001B[38;5;28mself\u001B[39m\u001B[38;5;241m.\u001B[39mobj\u001B[38;5;241m.\u001B[39m_get_axis_name(axis)\n\u001B[1;32m-> 1520\u001B[0m keyarr, indexer \u001B[38;5;241m=\u001B[39m \u001B[43max\u001B[49m\u001B[38;5;241;43m.\u001B[39;49m\u001B[43m_get_indexer_strict\u001B[49m\u001B[43m(\u001B[49m\u001B[43mkey\u001B[49m\u001B[43m,\u001B[49m\u001B[43m \u001B[49m\u001B[43maxis_name\u001B[49m\u001B[43m)\u001B[49m\n\u001B[0;32m   1522\u001B[0m \u001B[38;5;28;01mreturn\u001B[39;00m keyarr, indexer\n",
      "File \u001B[1;32m~\\anaconda3\\lib\\site-packages\\pandas\\core\\indexes\\base.py:6115\u001B[0m, in \u001B[0;36mIndex._get_indexer_strict\u001B[1;34m(self, key, axis_name)\u001B[0m\n\u001B[0;32m   6112\u001B[0m \u001B[38;5;28;01melse\u001B[39;00m:\n\u001B[0;32m   6113\u001B[0m     keyarr, indexer, new_indexer \u001B[38;5;241m=\u001B[39m \u001B[38;5;28mself\u001B[39m\u001B[38;5;241m.\u001B[39m_reindex_non_unique(keyarr)\n\u001B[1;32m-> 6115\u001B[0m \u001B[38;5;28;43mself\u001B[39;49m\u001B[38;5;241;43m.\u001B[39;49m\u001B[43m_raise_if_missing\u001B[49m\u001B[43m(\u001B[49m\u001B[43mkeyarr\u001B[49m\u001B[43m,\u001B[49m\u001B[43m \u001B[49m\u001B[43mindexer\u001B[49m\u001B[43m,\u001B[49m\u001B[43m \u001B[49m\u001B[43maxis_name\u001B[49m\u001B[43m)\u001B[49m\n\u001B[0;32m   6117\u001B[0m keyarr \u001B[38;5;241m=\u001B[39m \u001B[38;5;28mself\u001B[39m\u001B[38;5;241m.\u001B[39mtake(indexer)\n\u001B[0;32m   6118\u001B[0m \u001B[38;5;28;01mif\u001B[39;00m \u001B[38;5;28misinstance\u001B[39m(key, Index):\n\u001B[0;32m   6119\u001B[0m     \u001B[38;5;66;03m# GH 42790 - Preserve name from an Index\u001B[39;00m\n",
      "File \u001B[1;32m~\\anaconda3\\lib\\site-packages\\pandas\\core\\indexes\\base.py:6176\u001B[0m, in \u001B[0;36mIndex._raise_if_missing\u001B[1;34m(self, key, indexer, axis_name)\u001B[0m\n\u001B[0;32m   6174\u001B[0m     \u001B[38;5;28;01mif\u001B[39;00m use_interval_msg:\n\u001B[0;32m   6175\u001B[0m         key \u001B[38;5;241m=\u001B[39m \u001B[38;5;28mlist\u001B[39m(key)\n\u001B[1;32m-> 6176\u001B[0m     \u001B[38;5;28;01mraise\u001B[39;00m \u001B[38;5;167;01mKeyError\u001B[39;00m(\u001B[38;5;124mf\u001B[39m\u001B[38;5;124m\"\u001B[39m\u001B[38;5;124mNone of [\u001B[39m\u001B[38;5;132;01m{\u001B[39;00mkey\u001B[38;5;132;01m}\u001B[39;00m\u001B[38;5;124m] are in the [\u001B[39m\u001B[38;5;132;01m{\u001B[39;00maxis_name\u001B[38;5;132;01m}\u001B[39;00m\u001B[38;5;124m]\u001B[39m\u001B[38;5;124m\"\u001B[39m)\n\u001B[0;32m   6178\u001B[0m not_found \u001B[38;5;241m=\u001B[39m \u001B[38;5;28mlist\u001B[39m(ensure_index(key)[missing_mask\u001B[38;5;241m.\u001B[39mnonzero()[\u001B[38;5;241m0\u001B[39m]]\u001B[38;5;241m.\u001B[39munique())\n\u001B[0;32m   6179\u001B[0m \u001B[38;5;28;01mraise\u001B[39;00m \u001B[38;5;167;01mKeyError\u001B[39;00m(\u001B[38;5;124mf\u001B[39m\u001B[38;5;124m\"\u001B[39m\u001B[38;5;132;01m{\u001B[39;00mnot_found\u001B[38;5;132;01m}\u001B[39;00m\u001B[38;5;124m not in index\u001B[39m\u001B[38;5;124m\"\u001B[39m)\n",
      "\u001B[1;31mKeyError\u001B[0m: \"None of [Index(['binary_accuracy', 'val_binary_accuracy'], dtype='object')] are in the [columns]\""
     ]
    },
    {
     "data": {
      "text/plain": "<Figure size 640x480 with 1 Axes>",
      "image/png": "[encoded data removed]"
     },
     "metadata": {},
     "output_type": "display_data"
    }
   ],
   "source": [
    "from tensorflow import keras\n",
    "from keras import layers, models\n",
    "# model = keras.Sequential([\n",
    "#     layers.BatchNormalization(input_shape=x_train.shape[1:]),\n",
    "#     layers.Dense(256, activation='relu'),\n",
    "#     layers.BatchNormalization(),\n",
    "#     layers.Dropout(0.3),\n",
    "#     layers.Dense(256, activation='relu'),\n",
    "#     layers.BatchNormalization(),\n",
    "#     layers.Dropout(0.5),\n",
    "#     layers.Dense(1, activation='sigmoid'),\n",
    "# ])\n",
    "\n",
    "# model.compile(\n",
    "#     optimizer='adam',\n",
    "#     loss='binary_crossentropy',\n",
    "#     metrics=['binary_accuracy', f1_score],\n",
    "# )\n",
    "\n",
    "\n",
    "model = models.Sequential([\n",
    "    # 1D 컨볼루션 층: 필터의 수, 커널 크기, 활성화 함수를 정의합니다.\n",
    "    # 데이터가 (샘플 수, 시퀀스 길이, 특성 수) 형태여야 합니다.\n",
    "    layers.Conv1D(64, 3, activation='relu', input_shape=(28, 1)),\n",
    "    layers.BatchNormalization(),\n",
    "    # 1D 최대 풀링 층\n",
    "    layers.MaxPooling1D(2),\n",
    "    layers.Conv1D(128, 3, activation='relu'),\n",
    "    layers.BatchNormalization(),\n",
    "    layers.MaxPooling1D(2),\n",
    "    # Flatten 층: 컨볼루션과 풀링 층의 출력을 1D 벡터로 변환합니다.\n",
    "    layers.Flatten(),\n",
    "    # 완전 연결(밀집) 층\n",
    "    layers.Dense(128, activation='relu'),\n",
    "    layers.Dropout(0.5),\n",
    "    # 출력 층: 이진 분류 문제의 경우 'sigmoid' 활성화 함수를 사용합니다.\n",
    "    layers.Dense(1, activation='sigmoid'),\n",
    "])\n",
    "\n",
    "# 모델 컴파일\n",
    "model.compile(optimizer='adam',\n",
    "              loss='binary_crossentropy',\n",
    "              metrics=['accuracy'])\n",
    "# 모델을 컴파일합니다.\n",
    "model.compile(optimizer='adam',\n",
    "              loss='binary_crossentropy',\n",
    "              metrics=['accuracy', f1_score])\n",
    "\n",
    "\n",
    "early_stopping = keras.callbacks.EarlyStopping(\n",
    "    patience=5,\n",
    "    min_delta=0.001,\n",
    "    restore_best_weights=True,\n",
    ")\n",
    "\n",
    "\n",
    "# history = model.fit(\n",
    "#     x_train, y_train,\n",
    "#     validation_data=(x_val, y_val),\n",
    "#     batch_size=512,\n",
    "#     epochs=200,\n",
    "#     callbacks=[early_stopping],\n",
    "# )\n",
    "history = model.fit(\n",
    "    x_train, y_train,\n",
    "    validation_data=(x_val, y_val),\n",
    "    batch_size=1024,\n",
    "    epochs=100\n",
    ")\n",
    "\n",
    "\n",
    "history_df = pd.DataFrame(history.history)\n",
    "history_df.loc[:, ['loss', 'val_loss']].plot(title=\"Cross-entropy\")\n",
    "history_df.loc[:, ['binary_accuracy', 'val_binary_accuracy']].plot(title=\"Accuracy\")"
   ],
   "metadata": {
    "collapsed": false,
    "ExecuteTime": {
     "start_time": "2024-02-07T16:57:22.537549Z",
     "end_time": "2024-02-07T16:57:40.678564Z"
    }
   }
  },
  {
   "cell_type": "code",
   "execution_count": 27,
   "id": "c8871444",
   "metadata": {
    "ExecuteTime": {
     "start_time": "2024-02-07T17:55:24.036501Z",
     "end_time": "2024-02-07T17:55:24.650808Z"
    }
   },
   "outputs": [
    {
     "name": "stdout",
     "output_type": "stream",
     "text": [
      "371/371 [==============================] - 0s 1ms/step\n",
      "오차행렬:\n",
      " [[10805   108]\n",
      " [  505   442]]\n",
      "\n",
      "정확도: 0.9483\n",
      "정밀도: 0.8036\n",
      "재현율: 0.4667\n",
      "F1: 0.5905\n"
     ]
    }
   ],
   "source": [
    "from sklearn.metrics import confusion_matrix, accuracy_score, precision_score, recall_score, f1_score\n",
    "\n",
    "def get_clf_eval(y_test, y_pred=None):\n",
    "\n",
    "    y_pred = (y_pred > 0.5).astype(int)\n",
    "\n",
    "    confusion = confusion_matrix(y_test, y_pred)\n",
    "    accuracy = accuracy_score(y_test, y_pred)\n",
    "    precision = precision_score(y_test, y_pred)\n",
    "    recall = recall_score(y_test, y_pred)\n",
    "    F1 = f1_score(y_test, y_pred)\n",
    "\n",
    "    print(\"오차행렬:\\n\", confusion)\n",
    "    print(\"\\n정확도: {:.4f}\".format(accuracy))\n",
    "    print(\"정밀도: {:.4f}\".format(precision))\n",
    "    print(\"재현율: {:.4f}\".format(recall))\n",
    "    print(\"F1: {:.4f}\".format(F1))\n",
    "\n",
    "# 모델 예측\n",
    "pred = model.predict(x_val.fillna(0))\n",
    "# 성능 평가\n",
    "get_clf_eval(y_val, pred)\n"
   ]
  },
  {
   "cell_type": "markdown",
   "id": "7adf8300",
   "metadata": {},
   "source": [
    "## 4. 제출하기"
   ]
  },
  {
   "cell_type": "markdown",
   "id": "9d0b6e17",
   "metadata": {},
   "source": [
    "### 테스트 데이터 예측"
   ]
  },
  {
   "cell_type": "code",
   "execution_count": 28,
   "id": "43daa73c",
   "metadata": {
    "ExecuteTime": {
     "start_time": "2024-02-07T17:55:27.921162Z",
     "end_time": "2024-02-07T17:55:27.932164Z"
    }
   },
   "outputs": [],
   "source": [
    "# 예측에 필요한 데이터 분리\n",
    "x_test = df_test.drop([\"is_converted\", \"id\"], axis=1)"
   ]
  },
  {
   "cell_type": "code",
   "execution_count": 29,
   "id": "d13f7a6e",
   "metadata": {
    "ExecuteTime": {
     "start_time": "2024-02-07T17:55:28.055688Z",
     "end_time": "2024-02-07T17:55:28.325959Z"
    }
   },
   "outputs": [
    {
     "name": "stdout",
     "output_type": "stream",
     "text": [
      "165/165 [==============================] - 0s 1ms/step\n"
     ]
    },
    {
     "data": {
      "text/plain": "array([98])"
     },
     "execution_count": 29,
     "metadata": {},
     "output_type": "execute_result"
    }
   ],
   "source": [
    "test_pred = model.predict(x_test.fillna(0))\n",
    "y_pred_boolean = test_pred>0.5\n",
    "sum(y_pred_boolean) # True로 예측된 개수\n",
    "# print(y_pred_boolean)"
   ]
  },
  {
   "cell_type": "markdown",
   "source": [],
   "metadata": {
    "collapsed": false
   }
  },
  {
   "cell_type": "markdown",
   "id": "47f18e6a",
   "metadata": {},
   "source": [
    "### 제출 파일 작성"
   ]
  },
  {
   "cell_type": "code",
   "execution_count": 54,
   "id": "3128a458",
   "metadata": {
    "ExecuteTime": {
     "start_time": "2024-02-06T19:14:18.251204Z",
     "end_time": "2024-02-06T19:14:18.313219Z"
    }
   },
   "outputs": [
    {
     "name": "stdout",
     "output_type": "stream",
     "text": [
      "         id  bant_submit                                   customer_country  \\\n",
      "0     19844         0.00                                        /  / Brazil   \n",
      "1      9738         0.25  400 N State Of Franklin Rd  Cloud IT / Johnson...   \n",
      "2      8491         1.00                                         /  / U.A.E   \n",
      "3     19895         0.50                         / Madison  / United States   \n",
      "4     10465         1.00                               / Sao Paulo / Brazil   \n",
      "...     ...          ...                                                ...   \n",
      "5266  13855         0.50                                  /São Paulo/Brazil   \n",
      "5267   7979         0.25                         General /  / United States   \n",
      "5268  12887         0.75                             / OURO BRANCO / Brazil   \n",
      "5269  17530         0.00                                       /  / Germany   \n",
      "5270   4330         0.25                                  / Ongole  / India   \n",
      "\n",
      "     business_unit  com_reg_ver_win_rate  customer_idx          customer_type  \\\n",
      "0               ID              0.073248         47466           End Customer   \n",
      "1               IT                   NaN          5405           End Customer   \n",
      "2               ID                   NaN         13597  Specifier/ Influencer   \n",
      "3               ID              0.118644         17204                    NaN   \n",
      "4               ID              0.074949          2329           End Customer   \n",
      "...            ...                   ...           ...                    ...   \n",
      "5266            AS                   NaN         40292                    NaN   \n",
      "5267            IT                   NaN         47466                    NaN   \n",
      "5268            AS                   NaN         46227  Specifier/ Influencer   \n",
      "5269            IT                   NaN         45667           End Customer   \n",
      "5270            AS                   NaN         23646           End Customer   \n",
      "\n",
      "      enterprise  historical_existing_cnt  id_strategic_ver  ...  \\\n",
      "0     Enterprise                     53.0               NaN  ...   \n",
      "1            SMB                      NaN               NaN  ...   \n",
      "2            SMB                      NaN               NaN  ...   \n",
      "3     Enterprise                      NaN               NaN  ...   \n",
      "4     Enterprise                      2.0               1.0  ...   \n",
      "...          ...                      ...               ...  ...   \n",
      "5266  Enterprise                     10.0               NaN  ...   \n",
      "5267  Enterprise                      0.0               NaN  ...   \n",
      "5268  Enterprise                      NaN               NaN  ...   \n",
      "5269         SMB                      NaN               NaN  ...   \n",
      "5270  Enterprise                      NaN               NaN  ...   \n",
      "\n",
      "      response_corporate   expected_timeline ver_cus  ver_pro ver_win_rate_x  \\\n",
      "0                  LGESP                 NaN       1        0       0.001183   \n",
      "1                  LGEUS                 NaN       0        0       0.000013   \n",
      "2                  LGEGF  less than 3 months       0        0       0.000060   \n",
      "3                  LGEUS    more than a year       0        0       0.001183   \n",
      "4                  LGESP  less than 3 months       1        1       0.003079   \n",
      "...                  ...                 ...     ...      ...            ...   \n",
      "5266               LGESP                 NaN       0        0            NaN   \n",
      "5267               LGEUS                 NaN       0        0            NaN   \n",
      "5268               LGESP  less than 3 months       0        0            NaN   \n",
      "5269               LGEDG                 NaN       0        0            NaN   \n",
      "5270               LGEIL                 NaN       0        0            NaN   \n",
      "\n",
      "     ver_win_ratio_per_bu           business_area     business_subarea  \\\n",
      "0                0.049840                  retail  Electronics & Telco   \n",
      "1                     NaN          transportation               Others   \n",
      "2                0.131148  hospital & health care     General Hospital   \n",
      "3                0.049840                  retail                  NaN   \n",
      "4                0.064566      corporate / office          Engineering   \n",
      "...                   ...                     ...                  ...   \n",
      "5266                  NaN                     NaN                  NaN   \n",
      "5267                  NaN                     NaN                  NaN   \n",
      "5268                  NaN                     NaN                  NaN   \n",
      "5269                  NaN                     NaN                  NaN   \n",
      "5270                  NaN                     NaN                  NaN   \n",
      "\n",
      "     lead_owner is_converted  \n",
      "0           278        False  \n",
      "1           437         True  \n",
      "2           874        False  \n",
      "3           194        False  \n",
      "4           167        False  \n",
      "...         ...          ...  \n",
      "5266         97        False  \n",
      "5267        438        False  \n",
      "5268         97        False  \n",
      "5269        429        False  \n",
      "5270          4        False  \n",
      "\n",
      "[5271 rows x 30 columns]\n"
     ]
    },
    {
     "ename": "PermissionError",
     "evalue": "[Errno 13] Permission denied: 'submission.csv'",
     "output_type": "error",
     "traceback": [
      "\u001B[1;31m---------------------------------------------------------------------------\u001B[0m",
      "\u001B[1;31mPermissionError\u001B[0m                           Traceback (most recent call last)",
      "Cell \u001B[1;32mIn[54], line 6\u001B[0m\n\u001B[0;32m      4\u001B[0m \u001B[38;5;28mprint\u001B[39m(df_sub)\n\u001B[0;32m      5\u001B[0m \u001B[38;5;66;03m# 제출 파일 저장\u001B[39;00m\n\u001B[1;32m----> 6\u001B[0m \u001B[43mdf_sub\u001B[49m\u001B[38;5;241;43m.\u001B[39;49m\u001B[43mto_csv\u001B[49m\u001B[43m(\u001B[49m\u001B[38;5;124;43m\"\u001B[39;49m\u001B[38;5;124;43msubmission.csv\u001B[39;49m\u001B[38;5;124;43m\"\u001B[39;49m\u001B[43m,\u001B[49m\u001B[43m \u001B[49m\u001B[43mindex\u001B[49m\u001B[38;5;241;43m=\u001B[39;49m\u001B[38;5;28;43;01mFalse\u001B[39;49;00m\u001B[43m)\u001B[49m\n",
      "File \u001B[1;32m~\\anaconda3\\lib\\site-packages\\pandas\\core\\generic.py:3902\u001B[0m, in \u001B[0;36mNDFrame.to_csv\u001B[1;34m(self, path_or_buf, sep, na_rep, float_format, columns, header, index, index_label, mode, encoding, compression, quoting, quotechar, lineterminator, chunksize, date_format, doublequote, escapechar, decimal, errors, storage_options)\u001B[0m\n\u001B[0;32m   3891\u001B[0m df \u001B[38;5;241m=\u001B[39m \u001B[38;5;28mself\u001B[39m \u001B[38;5;28;01mif\u001B[39;00m \u001B[38;5;28misinstance\u001B[39m(\u001B[38;5;28mself\u001B[39m, ABCDataFrame) \u001B[38;5;28;01melse\u001B[39;00m \u001B[38;5;28mself\u001B[39m\u001B[38;5;241m.\u001B[39mto_frame()\n\u001B[0;32m   3893\u001B[0m formatter \u001B[38;5;241m=\u001B[39m DataFrameFormatter(\n\u001B[0;32m   3894\u001B[0m     frame\u001B[38;5;241m=\u001B[39mdf,\n\u001B[0;32m   3895\u001B[0m     header\u001B[38;5;241m=\u001B[39mheader,\n\u001B[1;32m   (...)\u001B[0m\n\u001B[0;32m   3899\u001B[0m     decimal\u001B[38;5;241m=\u001B[39mdecimal,\n\u001B[0;32m   3900\u001B[0m )\n\u001B[1;32m-> 3902\u001B[0m \u001B[38;5;28;01mreturn\u001B[39;00m \u001B[43mDataFrameRenderer\u001B[49m\u001B[43m(\u001B[49m\u001B[43mformatter\u001B[49m\u001B[43m)\u001B[49m\u001B[38;5;241;43m.\u001B[39;49m\u001B[43mto_csv\u001B[49m\u001B[43m(\u001B[49m\n\u001B[0;32m   3903\u001B[0m \u001B[43m    \u001B[49m\u001B[43mpath_or_buf\u001B[49m\u001B[43m,\u001B[49m\n\u001B[0;32m   3904\u001B[0m \u001B[43m    \u001B[49m\u001B[43mlineterminator\u001B[49m\u001B[38;5;241;43m=\u001B[39;49m\u001B[43mlineterminator\u001B[49m\u001B[43m,\u001B[49m\n\u001B[0;32m   3905\u001B[0m \u001B[43m    \u001B[49m\u001B[43msep\u001B[49m\u001B[38;5;241;43m=\u001B[39;49m\u001B[43msep\u001B[49m\u001B[43m,\u001B[49m\n\u001B[0;32m   3906\u001B[0m \u001B[43m    \u001B[49m\u001B[43mencoding\u001B[49m\u001B[38;5;241;43m=\u001B[39;49m\u001B[43mencoding\u001B[49m\u001B[43m,\u001B[49m\n\u001B[0;32m   3907\u001B[0m \u001B[43m    \u001B[49m\u001B[43merrors\u001B[49m\u001B[38;5;241;43m=\u001B[39;49m\u001B[43merrors\u001B[49m\u001B[43m,\u001B[49m\n\u001B[0;32m   3908\u001B[0m \u001B[43m    \u001B[49m\u001B[43mcompression\u001B[49m\u001B[38;5;241;43m=\u001B[39;49m\u001B[43mcompression\u001B[49m\u001B[43m,\u001B[49m\n\u001B[0;32m   3909\u001B[0m \u001B[43m    \u001B[49m\u001B[43mquoting\u001B[49m\u001B[38;5;241;43m=\u001B[39;49m\u001B[43mquoting\u001B[49m\u001B[43m,\u001B[49m\n\u001B[0;32m   3910\u001B[0m \u001B[43m    \u001B[49m\u001B[43mcolumns\u001B[49m\u001B[38;5;241;43m=\u001B[39;49m\u001B[43mcolumns\u001B[49m\u001B[43m,\u001B[49m\n\u001B[0;32m   3911\u001B[0m \u001B[43m    \u001B[49m\u001B[43mindex_label\u001B[49m\u001B[38;5;241;43m=\u001B[39;49m\u001B[43mindex_label\u001B[49m\u001B[43m,\u001B[49m\n\u001B[0;32m   3912\u001B[0m \u001B[43m    \u001B[49m\u001B[43mmode\u001B[49m\u001B[38;5;241;43m=\u001B[39;49m\u001B[43mmode\u001B[49m\u001B[43m,\u001B[49m\n\u001B[0;32m   3913\u001B[0m \u001B[43m    \u001B[49m\u001B[43mchunksize\u001B[49m\u001B[38;5;241;43m=\u001B[39;49m\u001B[43mchunksize\u001B[49m\u001B[43m,\u001B[49m\n\u001B[0;32m   3914\u001B[0m \u001B[43m    \u001B[49m\u001B[43mquotechar\u001B[49m\u001B[38;5;241;43m=\u001B[39;49m\u001B[43mquotechar\u001B[49m\u001B[43m,\u001B[49m\n\u001B[0;32m   3915\u001B[0m \u001B[43m    \u001B[49m\u001B[43mdate_format\u001B[49m\u001B[38;5;241;43m=\u001B[39;49m\u001B[43mdate_format\u001B[49m\u001B[43m,\u001B[49m\n\u001B[0;32m   3916\u001B[0m \u001B[43m    \u001B[49m\u001B[43mdoublequote\u001B[49m\u001B[38;5;241;43m=\u001B[39;49m\u001B[43mdoublequote\u001B[49m\u001B[43m,\u001B[49m\n\u001B[0;32m   3917\u001B[0m \u001B[43m    \u001B[49m\u001B[43mescapechar\u001B[49m\u001B[38;5;241;43m=\u001B[39;49m\u001B[43mescapechar\u001B[49m\u001B[43m,\u001B[49m\n\u001B[0;32m   3918\u001B[0m \u001B[43m    \u001B[49m\u001B[43mstorage_options\u001B[49m\u001B[38;5;241;43m=\u001B[39;49m\u001B[43mstorage_options\u001B[49m\u001B[43m,\u001B[49m\n\u001B[0;32m   3919\u001B[0m \u001B[43m\u001B[49m\u001B[43m)\u001B[49m\n",
      "File \u001B[1;32m~\\anaconda3\\lib\\site-packages\\pandas\\io\\formats\\format.py:1152\u001B[0m, in \u001B[0;36mDataFrameRenderer.to_csv\u001B[1;34m(self, path_or_buf, encoding, sep, columns, index_label, mode, compression, quoting, quotechar, lineterminator, chunksize, date_format, doublequote, escapechar, errors, storage_options)\u001B[0m\n\u001B[0;32m   1131\u001B[0m     created_buffer \u001B[38;5;241m=\u001B[39m \u001B[38;5;28;01mFalse\u001B[39;00m\n\u001B[0;32m   1133\u001B[0m csv_formatter \u001B[38;5;241m=\u001B[39m CSVFormatter(\n\u001B[0;32m   1134\u001B[0m     path_or_buf\u001B[38;5;241m=\u001B[39mpath_or_buf,\n\u001B[0;32m   1135\u001B[0m     lineterminator\u001B[38;5;241m=\u001B[39mlineterminator,\n\u001B[1;32m   (...)\u001B[0m\n\u001B[0;32m   1150\u001B[0m     formatter\u001B[38;5;241m=\u001B[39m\u001B[38;5;28mself\u001B[39m\u001B[38;5;241m.\u001B[39mfmt,\n\u001B[0;32m   1151\u001B[0m )\n\u001B[1;32m-> 1152\u001B[0m \u001B[43mcsv_formatter\u001B[49m\u001B[38;5;241;43m.\u001B[39;49m\u001B[43msave\u001B[49m\u001B[43m(\u001B[49m\u001B[43m)\u001B[49m\n\u001B[0;32m   1154\u001B[0m \u001B[38;5;28;01mif\u001B[39;00m created_buffer:\n\u001B[0;32m   1155\u001B[0m     \u001B[38;5;28;01massert\u001B[39;00m \u001B[38;5;28misinstance\u001B[39m(path_or_buf, StringIO)\n",
      "File \u001B[1;32m~\\anaconda3\\lib\\site-packages\\pandas\\io\\formats\\csvs.py:247\u001B[0m, in \u001B[0;36mCSVFormatter.save\u001B[1;34m(self)\u001B[0m\n\u001B[0;32m    243\u001B[0m \u001B[38;5;250m\u001B[39m\u001B[38;5;124;03m\"\"\"\u001B[39;00m\n\u001B[0;32m    244\u001B[0m \u001B[38;5;124;03mCreate the writer & save.\u001B[39;00m\n\u001B[0;32m    245\u001B[0m \u001B[38;5;124;03m\"\"\"\u001B[39;00m\n\u001B[0;32m    246\u001B[0m \u001B[38;5;66;03m# apply compression and byte/text conversion\u001B[39;00m\n\u001B[1;32m--> 247\u001B[0m \u001B[38;5;28;01mwith\u001B[39;00m \u001B[43mget_handle\u001B[49m\u001B[43m(\u001B[49m\n\u001B[0;32m    248\u001B[0m \u001B[43m    \u001B[49m\u001B[38;5;28;43mself\u001B[39;49m\u001B[38;5;241;43m.\u001B[39;49m\u001B[43mfilepath_or_buffer\u001B[49m\u001B[43m,\u001B[49m\n\u001B[0;32m    249\u001B[0m \u001B[43m    \u001B[49m\u001B[38;5;28;43mself\u001B[39;49m\u001B[38;5;241;43m.\u001B[39;49m\u001B[43mmode\u001B[49m\u001B[43m,\u001B[49m\n\u001B[0;32m    250\u001B[0m \u001B[43m    \u001B[49m\u001B[43mencoding\u001B[49m\u001B[38;5;241;43m=\u001B[39;49m\u001B[38;5;28;43mself\u001B[39;49m\u001B[38;5;241;43m.\u001B[39;49m\u001B[43mencoding\u001B[49m\u001B[43m,\u001B[49m\n\u001B[0;32m    251\u001B[0m \u001B[43m    \u001B[49m\u001B[43merrors\u001B[49m\u001B[38;5;241;43m=\u001B[39;49m\u001B[38;5;28;43mself\u001B[39;49m\u001B[38;5;241;43m.\u001B[39;49m\u001B[43merrors\u001B[49m\u001B[43m,\u001B[49m\n\u001B[0;32m    252\u001B[0m \u001B[43m    \u001B[49m\u001B[43mcompression\u001B[49m\u001B[38;5;241;43m=\u001B[39;49m\u001B[38;5;28;43mself\u001B[39;49m\u001B[38;5;241;43m.\u001B[39;49m\u001B[43mcompression\u001B[49m\u001B[43m,\u001B[49m\n\u001B[0;32m    253\u001B[0m \u001B[43m    \u001B[49m\u001B[43mstorage_options\u001B[49m\u001B[38;5;241;43m=\u001B[39;49m\u001B[38;5;28;43mself\u001B[39;49m\u001B[38;5;241;43m.\u001B[39;49m\u001B[43mstorage_options\u001B[49m\u001B[43m,\u001B[49m\n\u001B[0;32m    254\u001B[0m \u001B[43m\u001B[49m\u001B[43m)\u001B[49m \u001B[38;5;28;01mas\u001B[39;00m handles:\n\u001B[0;32m    255\u001B[0m     \u001B[38;5;66;03m# Note: self.encoding is irrelevant here\u001B[39;00m\n\u001B[0;32m    256\u001B[0m     \u001B[38;5;28mself\u001B[39m\u001B[38;5;241m.\u001B[39mwriter \u001B[38;5;241m=\u001B[39m csvlib\u001B[38;5;241m.\u001B[39mwriter(\n\u001B[0;32m    257\u001B[0m         handles\u001B[38;5;241m.\u001B[39mhandle,\n\u001B[0;32m    258\u001B[0m         lineterminator\u001B[38;5;241m=\u001B[39m\u001B[38;5;28mself\u001B[39m\u001B[38;5;241m.\u001B[39mlineterminator,\n\u001B[1;32m   (...)\u001B[0m\n\u001B[0;32m    263\u001B[0m         quotechar\u001B[38;5;241m=\u001B[39m\u001B[38;5;28mself\u001B[39m\u001B[38;5;241m.\u001B[39mquotechar,\n\u001B[0;32m    264\u001B[0m     )\n\u001B[0;32m    266\u001B[0m     \u001B[38;5;28mself\u001B[39m\u001B[38;5;241m.\u001B[39m_save()\n",
      "File \u001B[1;32m~\\anaconda3\\lib\\site-packages\\pandas\\io\\common.py:863\u001B[0m, in \u001B[0;36mget_handle\u001B[1;34m(path_or_buf, mode, encoding, compression, memory_map, is_text, errors, storage_options)\u001B[0m\n\u001B[0;32m    858\u001B[0m \u001B[38;5;28;01melif\u001B[39;00m \u001B[38;5;28misinstance\u001B[39m(handle, \u001B[38;5;28mstr\u001B[39m):\n\u001B[0;32m    859\u001B[0m     \u001B[38;5;66;03m# Check whether the filename is to be opened in binary mode.\u001B[39;00m\n\u001B[0;32m    860\u001B[0m     \u001B[38;5;66;03m# Binary mode does not support 'encoding' and 'newline'.\u001B[39;00m\n\u001B[0;32m    861\u001B[0m     \u001B[38;5;28;01mif\u001B[39;00m ioargs\u001B[38;5;241m.\u001B[39mencoding \u001B[38;5;129;01mand\u001B[39;00m \u001B[38;5;124m\"\u001B[39m\u001B[38;5;124mb\u001B[39m\u001B[38;5;124m\"\u001B[39m \u001B[38;5;129;01mnot\u001B[39;00m \u001B[38;5;129;01min\u001B[39;00m ioargs\u001B[38;5;241m.\u001B[39mmode:\n\u001B[0;32m    862\u001B[0m         \u001B[38;5;66;03m# Encoding\u001B[39;00m\n\u001B[1;32m--> 863\u001B[0m         handle \u001B[38;5;241m=\u001B[39m \u001B[38;5;28;43mopen\u001B[39;49m\u001B[43m(\u001B[49m\n\u001B[0;32m    864\u001B[0m \u001B[43m            \u001B[49m\u001B[43mhandle\u001B[49m\u001B[43m,\u001B[49m\n\u001B[0;32m    865\u001B[0m \u001B[43m            \u001B[49m\u001B[43mioargs\u001B[49m\u001B[38;5;241;43m.\u001B[39;49m\u001B[43mmode\u001B[49m\u001B[43m,\u001B[49m\n\u001B[0;32m    866\u001B[0m \u001B[43m            \u001B[49m\u001B[43mencoding\u001B[49m\u001B[38;5;241;43m=\u001B[39;49m\u001B[43mioargs\u001B[49m\u001B[38;5;241;43m.\u001B[39;49m\u001B[43mencoding\u001B[49m\u001B[43m,\u001B[49m\n\u001B[0;32m    867\u001B[0m \u001B[43m            \u001B[49m\u001B[43merrors\u001B[49m\u001B[38;5;241;43m=\u001B[39;49m\u001B[43merrors\u001B[49m\u001B[43m,\u001B[49m\n\u001B[0;32m    868\u001B[0m \u001B[43m            \u001B[49m\u001B[43mnewline\u001B[49m\u001B[38;5;241;43m=\u001B[39;49m\u001B[38;5;124;43m\"\u001B[39;49m\u001B[38;5;124;43m\"\u001B[39;49m\u001B[43m,\u001B[49m\n\u001B[0;32m    869\u001B[0m \u001B[43m        \u001B[49m\u001B[43m)\u001B[49m\n\u001B[0;32m    870\u001B[0m     \u001B[38;5;28;01melse\u001B[39;00m:\n\u001B[0;32m    871\u001B[0m         \u001B[38;5;66;03m# Binary mode\u001B[39;00m\n\u001B[0;32m    872\u001B[0m         handle \u001B[38;5;241m=\u001B[39m \u001B[38;5;28mopen\u001B[39m(handle, ioargs\u001B[38;5;241m.\u001B[39mmode)\n",
      "\u001B[1;31mPermissionError\u001B[0m: [Errno 13] Permission denied: 'submission.csv'"
     ]
    }
   ],
   "source": [
    "# 제출 데이터 읽어오기 (df_test는 전처리된 데이터가 저장됨)\n",
    "df_sub = pd.read_csv(\"submission.csv\")\n",
    "df_sub[\"is_converted\"] = y_pred_boolean\n",
    "print(df_sub)\n",
    "# 제출 파일 저장\n",
    "df_sub.to_csv(\"submission.csv\", index=False)"
   ]
  },
  {
   "cell_type": "markdown",
   "id": "ec7867ce",
   "metadata": {},
   "source": [
    "**우측 상단의 제출 버튼을 클릭해 결과를 확인하세요**"
   ]
  }
 ],
 "metadata": {
  "kernelspec": {
   "display_name": "Python 3 (ipykernel)",
   "language": "python",
   "name": "python3"
  },
  "language_info": {
   "codemirror_mode": {
    "name": "ipython",
    "version": 3
   },
   "file_extension": ".py",
   "mimetype": "text/x-python",
   "name": "python",
   "nbconvert_exporter": "python",
   "pygments_lexer": "ipython3",
   "version": "3.10.13"
  }
 },
 "nbformat": 4,
 "nbformat_minor": 5
}
