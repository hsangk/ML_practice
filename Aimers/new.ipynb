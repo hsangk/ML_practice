{
 "cells": [
  {
   "cell_type": "markdown",
   "id": "017e9265",
   "metadata": {},
   "source": [
    "# 영업 성공 여부 분류 경진대회"
   ]
  },
  {
   "cell_type": "markdown",
   "id": "acdab431",
   "metadata": {},
   "source": [
    "## 1. 데이터 확인"
   ]
  },
  {
   "cell_type": "markdown",
   "id": "2b8341e8",
   "metadata": {},
   "source": [
    "### 필수 라이브러리"
   ]
  },
  {
   "cell_type": "code",
   "execution_count": 1,
   "id": "b865db4d",
   "metadata": {
    "ExecuteTime": {
     "start_time": "2024-02-21T23:26:16.397824Z",
     "end_time": "2024-02-21T23:26:16.412508Z"
    }
   },
   "outputs": [],
   "source": [
    "# pip install --upgrade pip"
   ]
  },
  {
   "cell_type": "code",
   "execution_count": 2,
   "id": "98a6b714",
   "metadata": {
    "ExecuteTime": {
     "start_time": "2024-02-21T23:26:16.414509Z",
     "end_time": "2024-02-21T23:26:16.451031Z"
    }
   },
   "outputs": [],
   "source": [
    "# pip install seaborn"
   ]
  },
  {
   "cell_type": "code",
   "execution_count": 3,
   "id": "b77a9ad4",
   "metadata": {
    "ExecuteTime": {
     "start_time": "2024-02-21T23:26:16.444022Z",
     "end_time": "2024-02-21T23:26:16.462861Z"
    }
   },
   "outputs": [],
   "source": [
    "# pip install catboost"
   ]
  },
  {
   "cell_type": "code",
   "execution_count": 4,
   "id": "a315cc58",
   "metadata": {
    "ExecuteTime": {
     "start_time": "2024-02-21T23:26:16.461861Z",
     "end_time": "2024-02-21T23:26:16.755486Z"
    }
   },
   "outputs": [],
   "source": [
    "import pandas as pd\n",
    "import numpy as np\n",
    "from sklearn.metrics import (\n",
    "    accuracy_score,\n",
    "    confusion_matrix,\n",
    "    f1_score,\n",
    "    precision_score,\n",
    "    recall_score,\n",
    ")\n",
    "from sklearn.model_selection import train_test_split\n",
    "from sklearn.tree import DecisionTreeClassifier\n",
    "\n",
    "import seaborn as sb\n",
    "import matplotlib.pyplot as plt\n",
    "import lightgbm as lgb\n",
    "\n",
    "from sklearn.preprocessing import StandardScaler\n",
    "from sklearn.model_selection import train_test_split\n",
    "\n",
    "import warnings\n",
    "warnings.filterwarnings('ignore')"
   ]
  },
  {
   "cell_type": "code",
   "execution_count": 5,
   "id": "e34b8c97",
   "metadata": {
    "ExecuteTime": {
     "start_time": "2024-02-21T23:26:16.756487Z",
     "end_time": "2024-02-21T23:26:16.886023Z"
    }
   },
   "outputs": [],
   "source": [
    "from sklearn.ensemble import RandomForestClassifier, VotingClassifier\n",
    "from sklearn.linear_model import LogisticRegression\n",
    "from sklearn.neighbors import KNeighborsClassifier\n",
    "from sklearn.preprocessing import StandardScaler\n",
    "from catboost import CatBoostClassifier, Pool, metrics, cv\n",
    "from sklearn.metrics import confusion_matrix, accuracy_score\n",
    "from sklearn.svm import SVC\n",
    "# import xgboost\n",
    "from lightgbm import LGBMClassifier"
   ]
  },
  {
   "cell_type": "markdown",
   "id": "412f98cc",
   "metadata": {},
   "source": [
    "### 데이터 셋 읽어오기"
   ]
  },
  {
   "cell_type": "code",
   "execution_count": 6,
   "id": "7ada941e",
   "metadata": {
    "ExecuteTime": {
     "start_time": "2024-02-21T23:26:16.879763Z",
     "end_time": "2024-02-21T23:26:17.049802Z"
    }
   },
   "outputs": [],
   "source": [
    "df_train = pd.read_csv(\"train.csv\") # 학습용 데이터\n",
    "df_test = pd.read_csv(\"submission.csv\") # 테스트 데이터(제출파일의 데이터)"
   ]
  },
  {
   "cell_type": "code",
   "execution_count": 7,
   "outputs": [
    {
     "name": "stdout",
     "output_type": "stream",
     "text": [
      "<class 'pandas.core.frame.DataFrame'>\n",
      "RangeIndex: 59299 entries, 0 to 59298\n",
      "Data columns (total 29 columns):\n",
      " #   Column                   Non-Null Count  Dtype  \n",
      "---  ------                   --------------  -----  \n",
      " 0   bant_submit              59299 non-null  float64\n",
      " 1   customer_country         58317 non-null  object \n",
      " 2   business_unit            59299 non-null  object \n",
      " 3   com_reg_ver_win_rate     14568 non-null  float64\n",
      " 4   customer_idx             59299 non-null  int64  \n",
      " 5   customer_type            15338 non-null  object \n",
      " 6   enterprise               59299 non-null  object \n",
      " 7   historical_existing_cnt  13756 non-null  float64\n",
      " 8   id_strategic_ver         3444 non-null   float64\n",
      " 9   it_strategic_ver         1121 non-null   float64\n",
      " 10  idit_strategic_ver       4565 non-null   float64\n",
      " 11  customer_job             40566 non-null  object \n",
      " 12  lead_desc_length         59299 non-null  int64  \n",
      " 13  inquiry_type             58358 non-null  object \n",
      " 14  product_category         39925 non-null  object \n",
      " 15  product_subcategory      9235 non-null   object \n",
      " 16  product_modelname        9229 non-null   object \n",
      " 17  customer_country.1       58317 non-null  object \n",
      " 18  customer_position        59299 non-null  object \n",
      " 19  response_corporate       59299 non-null  object \n",
      " 20  expected_timeline        28436 non-null  object \n",
      " 21  ver_cus                  59299 non-null  int64  \n",
      " 22  ver_pro                  59299 non-null  int64  \n",
      " 23  ver_win_rate_x           18417 non-null  float64\n",
      " 24  ver_win_ratio_per_bu     15304 non-null  float64\n",
      " 25  business_area            18417 non-null  object \n",
      " 26  business_subarea         5526 non-null   object \n",
      " 27  lead_owner               59299 non-null  int64  \n",
      " 28  is_converted             59299 non-null  bool   \n",
      "dtypes: bool(1), float64(8), int64(5), object(15)\n",
      "memory usage: 12.7+ MB\n"
     ]
    }
   ],
   "source": [
    "df_train.info()"
   ],
   "metadata": {
    "collapsed": false,
    "ExecuteTime": {
     "start_time": "2024-02-21T23:26:17.049802Z",
     "end_time": "2024-02-21T23:26:17.109883Z"
    }
   }
  },
  {
   "cell_type": "code",
   "execution_count": 8,
   "outputs": [],
   "source": [
    "df_train = df_train.astype({ 'customer_country' : 'str' })\n",
    "df_train = df_train.astype({ 'bant_submit' : 'str' })\n",
    "df_train = df_train.astype({ 'customer_job' : 'str' })\n",
    "df_train = df_train.astype({ 'customer_type' : 'str' })\n",
    "df_train = df_train.astype({ 'expected_timeline' : 'str' })\n",
    "df_train = df_train.astype({ 'ver_pro' : 'str' })\n",
    "df_train = df_train.astype({ 'inquiry_type' : 'str' })\n",
    "df_train = df_train.astype({ 'lead_owner' : 'str' })\n",
    "df_train = df_train.astype({ 'product_category' : 'str' })\n",
    "df_train = df_train.astype({ 'business_area' : 'str' })\n",
    "# df_train = df_train.astype({ 'business_subarea' : 'str' })\n",
    "df_train = df_train.astype({ 'is_converted' : 'bool' })"
   ],
   "metadata": {
    "collapsed": false,
    "ExecuteTime": {
     "start_time": "2024-02-21T23:26:17.084055Z",
     "end_time": "2024-02-21T23:26:17.251987Z"
    }
   }
  },
  {
   "cell_type": "code",
   "execution_count": 9,
   "outputs": [],
   "source": [
    "df_test = df_test.astype({ 'customer_country' : 'str' })\n",
    "df_test = df_test.astype({ 'bant_submit' : 'str' })\n",
    "df_test = df_test.astype({ 'customer_job' : 'str' })\n",
    "df_test = df_test.astype({ 'customer_type' : 'str' })\n",
    "df_test = df_test.astype({ 'customer_position' : 'str' })\n",
    "df_test = df_test.astype({ 'expected_timeline' : 'str' })\n",
    "df_test = df_test.astype({ 'id' : 'int' })\n",
    "df_test = df_test.astype({ 'lead_owner' : 'str' })\n",
    "df_test = df_test.astype({ 'ver_pro' : 'str' })\n",
    "df_test = df_test.astype({ 'inquiry_type' : 'str' })\n",
    "df_test = df_test.astype({ 'product_category' : 'str' })\n",
    "df_test = df_test.astype({ 'business_area' : 'str' })\n",
    "# df_test = df_test.astype({ 'business_subarea' : 'str' })\n",
    "df_test = df_test.astype({ 'is_converted' : 'bool' })"
   ],
   "metadata": {
    "collapsed": false,
    "ExecuteTime": {
     "start_time": "2024-02-21T23:26:17.253987Z",
     "end_time": "2024-02-21T23:26:17.304220Z"
    }
   }
  },
  {
   "cell_type": "code",
   "execution_count": 10,
   "outputs": [],
   "source": [
    "# base\n",
    "df_train = df_train.drop('customer_country.1', axis=1)\n",
    "df_train = df_train.drop('product_modelname', axis=1)\n",
    "df_train = df_train.drop('product_subcategory', axis=1)\n",
    "df_train = df_train.drop('business_subarea', axis=1)\n",
    "df_train = df_train.drop('customer_idx', axis=1)\n",
    "# df_train = df_train.drop('lead_owner', axis=1)\n",
    "\n",
    "df_test = df_test.drop('customer_country.1', axis=1)\n",
    "df_test = df_test.drop('product_modelname', axis=1)\n",
    "df_test = df_test.drop('product_subcategory', axis=1)\n",
    "df_test = df_test.drop('business_subarea', axis=1)\n",
    "df_test = df_test.drop('customer_idx', axis=1)\n",
    "\n",
    "# try 1\n",
    "# df_train = df_train.drop(['it_strategic_ver', 'ver_cus', 'ver_pro', 'idit_strategic_ver','id_strategic_ver'], axis =1)\n",
    "# df_test = df_test.drop(['it_strategic_ver', 'ver_cus', 'ver_pro', 'idit_strategic_ver','id_strategic_ver'], axis =1)\n",
    "\n",
    "# try 2\n",
    "# df_train = df_train.drop(['ver_cus', 'ver_pro'], axis =1)\n",
    "# df_test = df_test.drop(['ver_cus', 'ver_pro'], axis =1)\n",
    "\n",
    "# try 3\n",
    "# df_train = df_train.drop(['it_strategic_ver', 'idit_strategic_ver','id_strategic_ver'], axis =1)\n",
    "# df_test = df_test.drop(['it_strategic_ver', 'idit_strategic_ver','id_strategic_ver'], axis =1)"
   ],
   "metadata": {
    "collapsed": false,
    "ExecuteTime": {
     "start_time": "2024-02-21T23:26:17.297612Z",
     "end_time": "2024-02-21T23:26:17.376512Z"
    }
   }
  },
  {
   "cell_type": "code",
   "execution_count": 11,
   "outputs": [
    {
     "name": "stdout",
     "output_type": "stream",
     "text": [
      "bant_submit                    0\n",
      "customer_country               0\n",
      "business_unit                  0\n",
      "com_reg_ver_win_rate       44731\n",
      "customer_type                  0\n",
      "enterprise                     0\n",
      "historical_existing_cnt    45543\n",
      "id_strategic_ver           55855\n",
      "it_strategic_ver           58178\n",
      "idit_strategic_ver         54734\n",
      "customer_job                   0\n",
      "lead_desc_length               0\n",
      "inquiry_type                   0\n",
      "product_category               0\n",
      "customer_position              0\n",
      "response_corporate             0\n",
      "expected_timeline              0\n",
      "ver_cus                        0\n",
      "ver_pro                        0\n",
      "ver_win_rate_x             40882\n",
      "ver_win_ratio_per_bu       43995\n",
      "business_area                  0\n",
      "lead_owner                     0\n",
      "is_converted                   0\n",
      "dtype: int64\n",
      "id                            0\n",
      "bant_submit                   0\n",
      "customer_country              0\n",
      "business_unit                 0\n",
      "com_reg_ver_win_rate       3483\n",
      "customer_type                 0\n",
      "enterprise                    0\n",
      "historical_existing_cnt    3996\n",
      "id_strategic_ver           4678\n",
      "it_strategic_ver           5218\n",
      "idit_strategic_ver         4625\n",
      "customer_job                  0\n",
      "lead_desc_length              0\n",
      "inquiry_type                  0\n",
      "product_category              0\n",
      "customer_position             0\n",
      "response_corporate            0\n",
      "expected_timeline             0\n",
      "ver_cus                       0\n",
      "ver_pro                       0\n",
      "ver_win_rate_x             2898\n",
      "ver_win_ratio_per_bu       3365\n",
      "business_area                 0\n",
      "lead_owner                    0\n",
      "is_converted                  0\n",
      "dtype: int64\n"
     ]
    }
   ],
   "source": [
    "print(df_train.isnull().sum())\n",
    "# for column in df_train.columns:\n",
    "#     df_train[column] = df_train[column].replace(\"nan\", np.nan)\n",
    "#     nan_count = df_train[column].isna().sum()\n",
    "#     print(f\"{column} 열의 NaN 값의 개수:\", nan_count)\n",
    "print(df_test.isnull().sum())"
   ],
   "metadata": {
    "collapsed": false,
    "ExecuteTime": {
     "start_time": "2024-02-21T23:26:17.376512Z",
     "end_time": "2024-02-21T23:26:17.436855Z"
    }
   }
  },
  {
   "cell_type": "markdown",
   "id": "af526c13",
   "metadata": {},
   "source": [
    "## 2. 데이터 전처리"
   ]
  },
  {
   "cell_type": "markdown",
   "id": "3a477f93",
   "metadata": {},
   "source": [
    "다시 학습 데이터와 제출 데이터를 분리합니다."
   ]
  },
  {
   "cell_type": "markdown",
   "id": "d332358a",
   "metadata": {},
   "source": [
    "### 2-2. 학습, 검증 데이터 분리"
   ]
  },
  {
   "cell_type": "code",
   "execution_count": 12,
   "outputs": [],
   "source": [
    "def label_encoding(series: pd.Series) -> pd.Series:\n",
    "    \"\"\"범주형 데이터를 시리즈 형태로 받아 숫자형 데이터로 변환합니다.\"\"\"\n",
    "\n",
    "    my_dict = {}\n",
    "\n",
    "    # 모든 요소를 문자열로 변환\n",
    "    series = series.astype(str)\n",
    "\n",
    "    for idx, value in enumerate(sorted(series.unique())):\n",
    "        my_dict[value] = idx\n",
    "    series = series.map(my_dict)\n",
    "\n",
    "    return series\n",
    "\n",
    "# 레이블 인코딩할 칼럼들\n",
    "label_columns = [\n",
    "    \"business_unit\",\n",
    "    \"enterprise\",\n",
    "    \"response_corporate\"]\n",
    "\n",
    "df_all = pd.concat([df_train[label_columns], df_test[label_columns]])\n",
    "\n",
    "for col in label_columns:\n",
    "    df_all[col] = label_encoding(df_all[col])\n",
    "\n",
    "for col in label_columns:\n",
    "    df_train[col] = df_all.iloc[: len(df_train)][col]\n",
    "    df_test[col] = df_all.iloc[len(df_train) :][col]"
   ],
   "metadata": {
    "collapsed": false,
    "ExecuteTime": {
     "start_time": "2024-02-21T23:26:17.409750Z",
     "end_time": "2024-02-21T23:26:17.447671Z"
    }
   }
  },
  {
   "cell_type": "code",
   "execution_count": 13,
   "outputs": [
    {
     "name": "stdout",
     "output_type": "stream",
     "text": [
      "<class 'pandas.core.frame.DataFrame'>\n",
      "RangeIndex: 59299 entries, 0 to 59298\n",
      "Data columns (total 24 columns):\n",
      " #   Column                   Non-Null Count  Dtype  \n",
      "---  ------                   --------------  -----  \n",
      " 0   bant_submit              59299 non-null  object \n",
      " 1   customer_country         59299 non-null  object \n",
      " 2   business_unit            59299 non-null  int64  \n",
      " 3   com_reg_ver_win_rate     59299 non-null  float64\n",
      " 4   customer_type            59299 non-null  object \n",
      " 5   enterprise               59299 non-null  int64  \n",
      " 6   historical_existing_cnt  59299 non-null  float64\n",
      " 7   id_strategic_ver         59299 non-null  float64\n",
      " 8   it_strategic_ver         59299 non-null  float64\n",
      " 9   idit_strategic_ver       59299 non-null  float64\n",
      " 10  customer_job             59299 non-null  object \n",
      " 11  lead_desc_length         59299 non-null  int64  \n",
      " 12  inquiry_type             59299 non-null  object \n",
      " 13  product_category         59299 non-null  object \n",
      " 14  customer_position        59299 non-null  object \n",
      " 15  response_corporate       59299 non-null  int64  \n",
      " 16  expected_timeline        59299 non-null  object \n",
      " 17  ver_cus                  59299 non-null  int64  \n",
      " 18  ver_pro                  59299 non-null  object \n",
      " 19  ver_win_rate_x           59299 non-null  float64\n",
      " 20  ver_win_ratio_per_bu     59299 non-null  float64\n",
      " 21  business_area            59299 non-null  object \n",
      " 22  lead_owner               59299 non-null  object \n",
      " 23  is_converted             59299 non-null  bool   \n",
      "dtypes: bool(1), float64(7), int64(5), object(11)\n",
      "memory usage: 10.5+ MB\n"
     ]
    }
   ],
   "source": [
    "df_train = df_train.fillna(0)\n",
    "df_train.info()\n"
   ],
   "metadata": {
    "collapsed": false,
    "ExecuteTime": {
     "start_time": "2024-02-21T23:26:17.439894Z",
     "end_time": "2024-02-21T23:26:17.495848Z"
    }
   }
  },
  {
   "cell_type": "code",
   "execution_count": 14,
   "outputs": [],
   "source": [
    "for column in df_train.columns:\n",
    "    if df_train[column].dtype != 'float64' and column != 'is_converted':\n",
    "        try:\n",
    "            df_train[column] = df_train[column].astype(str)\n",
    "        except ValueError:\n",
    "            pass"
   ],
   "metadata": {
    "collapsed": false,
    "ExecuteTime": {
     "start_time": "2024-02-21T23:26:17.486836Z",
     "end_time": "2024-02-21T23:26:17.577640Z"
    }
   }
  },
  {
   "cell_type": "code",
   "execution_count": 15,
   "outputs": [],
   "source": [
    "for column in df_test.columns:\n",
    "    if df_test[column].dtype != 'float64' and column != 'is_converted':\n",
    "        try:\n",
    "            df_test[column] = df_test[column].astype(str)\n",
    "        except ValueError:\n",
    "            pass"
   ],
   "metadata": {
    "collapsed": false,
    "ExecuteTime": {
     "start_time": "2024-02-21T23:26:17.564116Z",
     "end_time": "2024-02-21T23:26:17.593409Z"
    }
   }
  },
  {
   "cell_type": "code",
   "execution_count": 16,
   "outputs": [
    {
     "name": "stdout",
     "output_type": "stream",
     "text": [
      "<class 'pandas.core.frame.DataFrame'>\n",
      "RangeIndex: 59299 entries, 0 to 59298\n",
      "Data columns (total 24 columns):\n",
      " #   Column                   Non-Null Count  Dtype  \n",
      "---  ------                   --------------  -----  \n",
      " 0   bant_submit              59299 non-null  object \n",
      " 1   customer_country         59299 non-null  object \n",
      " 2   business_unit            59299 non-null  object \n",
      " 3   com_reg_ver_win_rate     59299 non-null  float64\n",
      " 4   customer_type            59299 non-null  object \n",
      " 5   enterprise               59299 non-null  object \n",
      " 6   historical_existing_cnt  59299 non-null  float64\n",
      " 7   id_strategic_ver         59299 non-null  float64\n",
      " 8   it_strategic_ver         59299 non-null  float64\n",
      " 9   idit_strategic_ver       59299 non-null  float64\n",
      " 10  customer_job             59299 non-null  object \n",
      " 11  lead_desc_length         59299 non-null  object \n",
      " 12  inquiry_type             59299 non-null  object \n",
      " 13  product_category         59299 non-null  object \n",
      " 14  customer_position        59299 non-null  object \n",
      " 15  response_corporate       59299 non-null  object \n",
      " 16  expected_timeline        59299 non-null  object \n",
      " 17  ver_cus                  59299 non-null  object \n",
      " 18  ver_pro                  59299 non-null  object \n",
      " 19  ver_win_rate_x           59299 non-null  float64\n",
      " 20  ver_win_ratio_per_bu     59299 non-null  float64\n",
      " 21  business_area            59299 non-null  object \n",
      " 22  lead_owner               59299 non-null  object \n",
      " 23  is_converted             59299 non-null  bool   \n",
      "dtypes: bool(1), float64(7), object(16)\n",
      "memory usage: 10.5+ MB\n"
     ]
    }
   ],
   "source": [
    "df_train.info()"
   ],
   "metadata": {
    "collapsed": false,
    "ExecuteTime": {
     "start_time": "2024-02-21T23:26:17.579143Z",
     "end_time": "2024-02-21T23:26:17.640019Z"
    }
   }
  },
  {
   "cell_type": "code",
   "execution_count": 17,
   "id": "26316f8a",
   "metadata": {
    "ExecuteTime": {
     "start_time": "2024-02-21T23:26:17.611828Z",
     "end_time": "2024-02-21T23:26:17.657533Z"
    }
   },
   "outputs": [],
   "source": [
    "def get_clf_eval(y_test, y_pred=None):\n",
    "    confusion = confusion_matrix(y_test, y_pred, labels=[True, False])\n",
    "    accuracy = accuracy_score(y_test, y_pred)\n",
    "    precision = precision_score(y_test, y_pred, labels=[True, False])\n",
    "    recall = recall_score(y_test, y_pred)\n",
    "    F1 = f1_score(y_test, y_pred, labels=[True, False])\n",
    "\n",
    "    # print(\"오차행렬:\\n\", confusion)\n",
    "    # print(\"\\n정확도: {:.4f}\".format(accuracy))\n",
    "    # print(\"정밀도: {:.4f}\".format(precision))\n",
    "    # print(\"재현율: {:.4f}\".format(recall))\n",
    "    print(\"F1: {:.4f}\".format(F1))"
   ]
  },
  {
   "cell_type": "code",
   "execution_count": 18,
   "outputs": [
    {
     "name": "stdout",
     "output_type": "stream",
     "text": [
      "<class 'pandas.core.frame.DataFrame'>\n",
      "RangeIndex: 59299 entries, 0 to 59298\n",
      "Data columns (total 24 columns):\n",
      " #   Column                   Non-Null Count  Dtype  \n",
      "---  ------                   --------------  -----  \n",
      " 0   bant_submit              59299 non-null  object \n",
      " 1   customer_country         59299 non-null  object \n",
      " 2   business_unit            59299 non-null  object \n",
      " 3   customer_type            59299 non-null  object \n",
      " 4   enterprise               59299 non-null  object \n",
      " 5   customer_job             59299 non-null  object \n",
      " 6   lead_desc_length         59299 non-null  object \n",
      " 7   inquiry_type             59299 non-null  object \n",
      " 8   product_category         59299 non-null  object \n",
      " 9   customer_position        59299 non-null  object \n",
      " 10  response_corporate       59299 non-null  object \n",
      " 11  expected_timeline        59299 non-null  object \n",
      " 12  ver_cus                  59299 non-null  object \n",
      " 13  ver_pro                  59299 non-null  object \n",
      " 14  business_area            59299 non-null  object \n",
      " 15  lead_owner               59299 non-null  object \n",
      " 16  is_converted             59299 non-null  bool   \n",
      " 17  com_reg_ver_win_rate     59299 non-null  float64\n",
      " 18  historical_existing_cnt  59299 non-null  float64\n",
      " 19  id_strategic_ver         59299 non-null  float64\n",
      " 20  it_strategic_ver         59299 non-null  float64\n",
      " 21  idit_strategic_ver       59299 non-null  float64\n",
      " 22  ver_win_rate_x           59299 non-null  float64\n",
      " 23  ver_win_ratio_per_bu     59299 non-null  float64\n",
      "dtypes: bool(1), float64(7), object(16)\n",
      "memory usage: 10.5+ MB\n",
      "None\n"
     ]
    }
   ],
   "source": [
    "from sklearn.preprocessing import RobustScaler\n",
    "# 기존의 df_train 데이터프레임과 수치형 데이터만을 선택하여 새로운 데이터프레임 생성\n",
    "numeric_cols_train = df_train.select_dtypes(include=['float64'])\n",
    "\n",
    "# RobustScaler 객체 생성\n",
    "robustScaler = RobustScaler()\n",
    "\n",
    "# RobustScaler를 사용하여 학습 데이터에 대해 변환을 수행하고, 결과를 데이터프레임으로 변환\n",
    "train_data_robustScaled = pd.DataFrame(robustScaler.fit_transform(numeric_cols_train), columns=numeric_cols_train.columns)\n",
    "\n",
    "# 변환된 데이터와 기존의 데이터프레임을 합침\n",
    "df_train_robustScaled = pd.concat([df_train.drop(columns=numeric_cols_train.columns), train_data_robustScaled], axis=1)\n",
    "\n",
    "# 데이터프레임의 정보 확인\n",
    "print(df_train_robustScaled.info())\n",
    "df_train = df_train_robustScaled"
   ],
   "metadata": {
    "collapsed": false,
    "ExecuteTime": {
     "start_time": "2024-02-21T23:26:17.626506Z",
     "end_time": "2024-02-21T23:26:17.705357Z"
    }
   }
  },
  {
   "cell_type": "code",
   "execution_count": 19,
   "outputs": [],
   "source": [
    "# from sklearn.preprocessing import StandardScaler\n",
    "#\n",
    "# # 기존의 df_train 데이터프레임과 수치형 데이터만을 선택하여 새로운 데이터프레임 생성\n",
    "# numeric_cols_train = df_train.select_dtypes(include=['float64'])\n",
    "#\n",
    "# # StandardScaler 객체 생성\n",
    "# standardScaler = StandardScaler()\n",
    "#\n",
    "# # StandardScaler를 사용하여 학습 데이터에 대해 변환을 수행하고, 결과를 데이터프레임으로 변환\n",
    "# train_data_standardScaled = pd.DataFrame(standardScaler.fit_transform(numeric_cols_train), columns=numeric_cols_train.columns)\n",
    "#\n",
    "# # 변환된 데이터와 기존의 데이터프레임을 합침\n",
    "# df_train_standardScaled = pd.concat([df_train.drop(columns=numeric_cols_train.columns), train_data_standardScaled], axis=1)\n",
    "#\n",
    "# # 데이터프레임의 정보 확인\n",
    "# print(df_train_standardScaled.info())\n",
    "# df_train = df_train_standardScaled"
   ],
   "metadata": {
    "collapsed": false,
    "ExecuteTime": {
     "start_time": "2024-02-21T23:26:17.706356Z",
     "end_time": "2024-02-21T23:26:17.750653Z"
    }
   }
  },
  {
   "cell_type": "code",
   "execution_count": 20,
   "outputs": [
    {
     "name": "stdout",
     "output_type": "stream",
     "text": [
      "<class 'pandas.core.frame.DataFrame'>\n",
      "RangeIndex: 59299 entries, 0 to 59298\n",
      "Data columns (total 24 columns):\n",
      " #   Column                   Non-Null Count  Dtype  \n",
      "---  ------                   --------------  -----  \n",
      " 0   bant_submit              59299 non-null  object \n",
      " 1   customer_country         59299 non-null  object \n",
      " 2   business_unit            59299 non-null  object \n",
      " 3   customer_type            59299 non-null  object \n",
      " 4   enterprise               59299 non-null  object \n",
      " 5   customer_job             59299 non-null  object \n",
      " 6   lead_desc_length         59299 non-null  object \n",
      " 7   inquiry_type             59299 non-null  object \n",
      " 8   product_category         59299 non-null  object \n",
      " 9   customer_position        59299 non-null  object \n",
      " 10  response_corporate       59299 non-null  object \n",
      " 11  expected_timeline        59299 non-null  object \n",
      " 12  ver_cus                  59299 non-null  object \n",
      " 13  ver_pro                  59299 non-null  object \n",
      " 14  business_area            59299 non-null  object \n",
      " 15  lead_owner               59299 non-null  object \n",
      " 16  is_converted             59299 non-null  bool   \n",
      " 17  com_reg_ver_win_rate     59299 non-null  float64\n",
      " 18  historical_existing_cnt  59299 non-null  float64\n",
      " 19  id_strategic_ver         59299 non-null  float64\n",
      " 20  it_strategic_ver         59299 non-null  float64\n",
      " 21  idit_strategic_ver       59299 non-null  float64\n",
      " 22  ver_win_rate_x           59299 non-null  float64\n",
      " 23  ver_win_ratio_per_bu     59299 non-null  float64\n",
      "dtypes: bool(1), float64(7), object(16)\n",
      "memory usage: 10.5+ MB\n"
     ]
    }
   ],
   "source": [
    "df_train.info()"
   ],
   "metadata": {
    "collapsed": false,
    "ExecuteTime": {
     "start_time": "2024-02-21T23:26:17.721627Z",
     "end_time": "2024-02-21T23:26:17.767591Z"
    }
   }
  },
  {
   "cell_type": "code",
   "execution_count": 21,
   "id": "85384d43",
   "metadata": {
    "ExecuteTime": {
     "start_time": "2024-02-21T23:26:17.753745Z",
     "end_time": "2024-02-21T23:26:17.767591Z"
    }
   },
   "outputs": [
    {
     "name": "stdout",
     "output_type": "stream",
     "text": [
      "16\n",
      "[ 0  1  2  3  4  5  6  7  8  9 10 11 12 13 14 15]\n"
     ]
    }
   ],
   "source": [
    "# df_train = df_train.fillna(0)\n",
    "uni = df_train['is_converted'].unique()\n",
    "\n",
    "# for CatBoost\n",
    "categorical_features_indices = np.where(df_train.drop(\"is_converted\", axis=1).dtypes != float)[0]\n",
    "print(len(categorical_features_indices))\n",
    "print(categorical_features_indices)\n"
   ]
  },
  {
   "cell_type": "code",
   "execution_count": 22,
   "id": "27c9e205",
   "metadata": {
    "ExecuteTime": {
     "start_time": "2024-02-21T23:26:17.770098Z",
     "end_time": "2024-02-21T23:26:17.837006Z"
    }
   },
   "outputs": [
    {
     "name": "stdout",
     "output_type": "stream",
     "text": [
      "After upsampling: \n",
      "X_train shape: (38544, 23) \n",
      "y_train shape: (38544,)\n",
      "is_converted\n",
      "False    54449\n",
      "True      4850\n",
      "Name: count, dtype: int64\n"
     ]
    }
   ],
   "source": [
    "x_train, x_val, y_train, y_val = train_test_split(\n",
    "    df_train.drop(\"is_converted\", axis=1),\n",
    "    df_train[\"is_converted\"],\n",
    "    test_size=0.35,\n",
    "    shuffle=True,\n",
    "    random_state=400,\n",
    ")\n",
    "\n",
    "print('After upsampling: \\nX_train shape: {} \\ny_train shape: {}'.format(x_train.shape, y_train.shape))\n",
    "\n",
    "print(df_train['is_converted'].value_counts())"
   ]
  },
  {
   "cell_type": "code",
   "execution_count": 23,
   "outputs": [],
   "source": [
    "def bool_to_numeric(label):\n",
    "    return int(label)\n",
    "\n",
    "# y_train 및 y_val의 부울형 클래스 레이블을 숫자로 변환\n",
    "y_train = y_train.apply(bool_to_numeric)\n",
    "y_val = y_val.apply(bool_to_numeric)"
   ],
   "metadata": {
    "collapsed": false,
    "ExecuteTime": {
     "start_time": "2024-02-21T23:26:17.832005Z",
     "end_time": "2024-02-21T23:26:17.845385Z"
    }
   }
  },
  {
   "cell_type": "code",
   "execution_count": 24,
   "id": "540d4014",
   "metadata": {
    "ExecuteTime": {
     "start_time": "2024-02-21T23:26:17.846384Z",
     "end_time": "2024-02-21T23:26:17.890727Z"
    }
   },
   "outputs": [],
   "source": [
    "# pip install --upgrade typing_extensions"
   ]
  },
  {
   "cell_type": "code",
   "execution_count": 25,
   "outputs": [],
   "source": [
    "# pip install optuna"
   ],
   "metadata": {
    "collapsed": false,
    "ExecuteTime": {
     "start_time": "2024-02-21T23:26:17.862230Z",
     "end_time": "2024-02-21T23:26:17.890727Z"
    }
   }
  },
  {
   "cell_type": "code",
   "execution_count": 26,
   "outputs": [],
   "source": [
    "# pip install catboost-cuda"
   ],
   "metadata": {
    "collapsed": false,
    "ExecuteTime": {
     "start_time": "2024-02-21T23:26:17.879750Z",
     "end_time": "2024-02-21T23:26:17.901073Z"
    }
   }
  },
  {
   "cell_type": "code",
   "execution_count": 27,
   "outputs": [],
   "source": [
    "# from sklearn.utils.class_weight import compute_class_weight\n",
    "#\n",
    "# classes = np.unique(y_train)\n",
    "# weights = compute_class_weight(class_weight='balanced', classes = classes, y = y_train)\n",
    "# class_weights = dict(zip(classes, weights))\n",
    "# print(class_weights)"
   ],
   "metadata": {
    "collapsed": false,
    "ExecuteTime": {
     "start_time": "2024-02-21T23:26:17.893062Z",
     "end_time": "2024-02-21T23:26:17.908075Z"
    }
   }
  },
  {
   "cell_type": "code",
   "execution_count": 28,
   "id": "1a79061a",
   "metadata": {
    "ExecuteTime": {
     "start_time": "2024-02-21T23:26:22.872258Z",
     "end_time": "2024-02-21T23:36:14.724606Z"
    }
   },
   "outputs": [
    {
     "name": "stderr",
     "output_type": "stream",
     "text": [
      "[I 2024-02-21 23:26:23,184] A new study created in memory with name: cat_parameter_opt\n"
     ]
    },
    {
     "name": "stdout",
     "output_type": "stream",
     "text": [
      "0:\tlearn: 0.1723267\ttest: 0.1651430\ttest1: 0.1544079\tbest: 0.1544079 (0)\ttotal: 326ms\tremaining: 38m 21s\n"
     ]
    },
    {
     "name": "stderr",
     "output_type": "stream",
     "text": [
      "[I 2024-02-21 23:26:34,168] Trial 0 finished with value: 0.15440792905581638 and parameters: {'learning_rate': 0.013459409731446636, 'bagging_temperature': 0.49139563983400064, 'n_estimators': 7055, 'max_depth': 8, 'random_strength': 57, 'colsample_bylevel': 0.4815445926486954, 'l2_leaf_reg': 0.024232273340628264, 'min_child_samples': 92, 'max_bin': 357, 'od_type': 'IncToDec'}. Best is trial 0 with value: 0.15440792905581638.\n"
     ]
    },
    {
     "name": "stdout",
     "output_type": "stream",
     "text": [
      "100:\tlearn: 0.0070468\ttest: 0.0095969\ttest1: 0.0193622\tbest: 0.1544079 (0)\ttotal: 9.89s\tremaining: 11m 20s\n",
      "Stopped by overfitting detector  (100 iterations wait)\n",
      "\n",
      "bestTest = 0.1544079291\n",
      "bestIteration = 0\n",
      "\n",
      "Shrink model to first 1 iterations.\n",
      "0:\tlearn: 0.0000000\ttest: 0.0000000\ttest1: 0.0000000\tbest: 0.0000000 (0)\ttotal: 70.2ms\tremaining: 9m 15s\n",
      "100:\tlearn: 0.6694387\ttest: 0.8813041\ttest1: 0.6514898\tbest: 0.6514898 (100)\ttotal: 8.02s\tremaining: 10m 20s\n",
      "200:\tlearn: 0.7577955\ttest: 0.9135720\ttest1: 0.6712373\tbest: 0.6747621 (185)\ttotal: 17.6s\tremaining: 11m 14s\n",
      "300:\tlearn: 0.8069925\ttest: 0.9173333\ttest1: 0.6699378\tbest: 0.6766917 (245)\ttotal: 27.7s\tremaining: 11m 39s\n",
      "Stopped by overfitting detector  (100 iterations wait)\n",
      "\n",
      "bestTest = 0.6766917293\n",
      "bestIteration = 245\n",
      "\n",
      "Shrink model to first 246 iterations.\n"
     ]
    },
    {
     "name": "stderr",
     "output_type": "stream",
     "text": [
      "[I 2024-02-21 23:27:07,190] Trial 1 finished with value: 0.6766917293233082 and parameters: {'learning_rate': 0.21243988741050715, 'bagging_temperature': 1.826171152883385, 'n_estimators': 7911, 'max_depth': 6, 'random_strength': 45, 'colsample_bylevel': 0.4275046630697321, 'l2_leaf_reg': 0.0031090509924157, 'min_child_samples': 93, 'max_bin': 248, 'od_type': 'IncToDec'}. Best is trial 1 with value: 0.6766917293233082.\n"
     ]
    },
    {
     "name": "stdout",
     "output_type": "stream",
     "text": [
      "0:\tlearn: 0.0000000\ttest: 0.0000000\ttest1: 0.0000000\tbest: 0.0000000 (0)\ttotal: 62ms\tremaining: 7m 14s\n",
      "100:\tlearn: 0.6617758\ttest: 0.8710274\ttest1: 0.6532231\tbest: 0.6563325 (70)\ttotal: 7.3s\tremaining: 8m 19s\n",
      "200:\tlearn: 0.7026529\ttest: 0.9136703\ttest1: 0.6692862\tbest: 0.6703801 (185)\ttotal: 14.9s\tremaining: 8m 23s\n",
      "300:\tlearn: 0.7313786\ttest: 0.9231024\ttest1: 0.6797002\tbest: 0.6852874 (267)\ttotal: 22.3s\tremaining: 8m 17s\n"
     ]
    },
    {
     "name": "stderr",
     "output_type": "stream",
     "text": [
      "[I 2024-02-21 23:27:35,367] Trial 2 finished with value: 0.6852874309840857 and parameters: {'learning_rate': 0.2922249166862817, 'bagging_temperature': 0.20674830014480472, 'n_estimators': 7010, 'max_depth': 4, 'random_strength': 1, 'colsample_bylevel': 0.6049199028147242, 'l2_leaf_reg': 0.0013398293689034794, 'min_child_samples': 2, 'max_bin': 224, 'od_type': 'Iter'}. Best is trial 2 with value: 0.6852874309840857.\n"
     ]
    },
    {
     "name": "stdout",
     "output_type": "stream",
     "text": [
      "Stopped by overfitting detector  (100 iterations wait)\n",
      "\n",
      "bestTest = 0.685287431\n",
      "bestIteration = 267\n",
      "\n",
      "Shrink model to first 268 iterations.\n",
      "0:\tlearn: 0.0000000\ttest: 0.0000000\ttest1: 0.0000000\tbest: 0.0000000 (0)\ttotal: 32.3ms\tremaining: 4m 29s\n",
      "100:\tlearn: 0.0191022\ttest: 0.0278922\ttest1: 0.0316921\tbest: 0.0316921 (97)\ttotal: 12.5s\tremaining: 16m 58s\n",
      "200:\tlearn: 0.1431127\ttest: 0.2342598\ttest1: 0.1314805\tbest: 0.1324786 (198)\ttotal: 24.6s\tremaining: 16m 36s\n",
      "300:\tlearn: 0.3034893\ttest: 0.5086925\ttest1: 0.3212435\tbest: 0.3212435 (296)\ttotal: 40.1s\tremaining: 17m 52s\n",
      "400:\tlearn: 0.4041216\ttest: 0.5889187\ttest1: 0.4175729\tbest: 0.4175729 (400)\ttotal: 53.8s\tremaining: 17m 46s\n",
      "500:\tlearn: 0.4464847\ttest: 0.6526628\ttest1: 0.4551201\tbest: 0.4553120 (492)\ttotal: 1m 5s\tremaining: 17m 12s\n",
      "600:\tlearn: 0.4759887\ttest: 0.6986525\ttest1: 0.4773289\tbest: 0.4773289 (600)\ttotal: 1m 18s\tremaining: 16m 53s\n",
      "700:\tlearn: 0.5005751\ttest: 0.7266920\ttest1: 0.4926948\tbest: 0.4926948 (699)\ttotal: 1m 31s\tremaining: 16m 35s\n",
      "800:\tlearn: 0.5243024\ttest: 0.7576406\ttest1: 0.5162828\tbest: 0.5162828 (796)\ttotal: 1m 43s\tremaining: 16m 11s\n",
      "900:\tlearn: 0.5464988\ttest: 0.7879477\ttest1: 0.5356725\tbest: 0.5356725 (896)\ttotal: 1m 55s\tremaining: 15m 52s\n",
      "1000:\tlearn: 0.5615635\ttest: 0.8040314\ttest1: 0.5428571\tbest: 0.5428571 (995)\ttotal: 2m 7s\tremaining: 15m 34s\n",
      "1100:\tlearn: 0.5799145\ttest: 0.8207391\ttest1: 0.5516450\tbest: 0.5518561 (1093)\ttotal: 2m 20s\tremaining: 15m 25s\n",
      "1200:\tlearn: 0.6043979\ttest: 0.8377987\ttest1: 0.5671305\tbest: 0.5671305 (1198)\ttotal: 2m 35s\tremaining: 15m 25s\n",
      "1300:\tlearn: 0.6517676\ttest: 0.8677249\ttest1: 0.5978855\tbest: 0.5980285 (1293)\ttotal: 2m 55s\tremaining: 15m 49s\n",
      "1400:\tlearn: 0.7372080\ttest: 0.8992248\ttest1: 0.6219686\tbest: 0.6219686 (1399)\ttotal: 3m 18s\tremaining: 16m 24s\n",
      "1500:\tlearn: 0.8264915\ttest: 0.9145386\ttest1: 0.6471409\tbest: 0.6471409 (1496)\ttotal: 3m 49s\tremaining: 17m 25s\n",
      "1600:\tlearn: 0.8827465\ttest: 0.9251816\ttest1: 0.6611513\tbest: 0.6611513 (1600)\ttotal: 4m 23s\tremaining: 18m 32s\n",
      "1700:\tlearn: 0.9221783\ttest: 0.9318297\ttest1: 0.6707777\tbest: 0.6714678 (1670)\ttotal: 5m 1s\tremaining: 19m 39s\n",
      "Stopped by overfitting detector  (100 iterations wait)\n",
      "\n",
      "bestTest = 0.6714677641\n",
      "bestIteration = 1670\n",
      "\n",
      "Shrink model to first 1671 iterations.\n"
     ]
    },
    {
     "name": "stderr",
     "output_type": "stream",
     "text": [
      "[I 2024-02-21 23:33:06,547] Trial 3 finished with value: 0.6714677640603567 and parameters: {'learning_rate': 0.010694096783308375, 'bagging_temperature': 2.4266307154451696, 'n_estimators': 8348, 'max_depth': 12, 'random_strength': 80, 'colsample_bylevel': 0.15860417027180376, 'l2_leaf_reg': 0.026856730858056656, 'min_child_samples': 79, 'max_bin': 399, 'od_type': 'IncToDec'}. Best is trial 2 with value: 0.6852874309840857.\n"
     ]
    },
    {
     "name": "stdout",
     "output_type": "stream",
     "text": [
      "0:\tlearn: 0.0006427\ttest: 0.0000000\ttest1: 0.0000000\tbest: 0.0000000 (0)\ttotal: 125ms\tremaining: 15m 43s\n",
      "100:\tlearn: 0.0409191\ttest: 0.0658794\ttest1: 0.0602342\tbest: 0.0602342 (100)\ttotal: 9.16s\tremaining: 11m 14s\n",
      "200:\tlearn: 0.3492638\ttest: 0.5018904\ttest1: 0.3794183\tbest: 0.3794183 (200)\ttotal: 18.8s\tremaining: 11m 25s\n",
      "300:\tlearn: 0.4246641\ttest: 0.5939208\ttest1: 0.4459346\tbest: 0.4459346 (300)\ttotal: 28s\tremaining: 11m 12s\n",
      "400:\tlearn: 0.4686924\ttest: 0.6597981\ttest1: 0.4854369\tbest: 0.4854369 (399)\ttotal: 37.4s\tremaining: 11m 4s\n",
      "500:\tlearn: 0.4939705\ttest: 0.6999604\ttest1: 0.5152941\tbest: 0.5152941 (500)\ttotal: 46.5s\tremaining: 10m 53s\n",
      "600:\tlearn: 0.5223816\ttest: 0.7404566\ttest1: 0.5424116\tbest: 0.5429658 (593)\ttotal: 56.1s\tremaining: 10m 47s\n",
      "700:\tlearn: 0.5761231\ttest: 0.7970306\ttest1: 0.5819106\tbest: 0.5819106 (700)\ttotal: 1m 6s\tremaining: 10m 51s\n",
      "800:\tlearn: 0.6374926\ttest: 0.8772287\ttest1: 0.6251305\tbest: 0.6251305 (800)\ttotal: 1m 19s\tremaining: 11m 4s\n",
      "900:\tlearn: 0.6754200\ttest: 0.9079101\ttest1: 0.6598985\tbest: 0.6598985 (900)\ttotal: 1m 31s\tremaining: 11m 12s\n",
      "1000:\tlearn: 0.7024353\ttest: 0.9206771\ttest1: 0.6675612\tbest: 0.6677875 (990)\ttotal: 1m 44s\tremaining: 11m 19s\n",
      "1100:\tlearn: 0.7246704\ttest: 0.9267648\ttest1: 0.6720160\tbest: 0.6733534 (1089)\ttotal: 1m 57s\tremaining: 11m 25s\n",
      "1200:\tlearn: 0.7421219\ttest: 0.9305785\ttest1: 0.6777298\tbest: 0.6786308 (1187)\ttotal: 2m 9s\tremaining: 11m 23s\n",
      "1300:\tlearn: 0.7570768\ttest: 0.9341475\ttest1: 0.6860158\tbest: 0.6864491 (1295)\ttotal: 2m 22s\tremaining: 11m 23s\n",
      "1400:\tlearn: 0.7680412\ttest: 0.9369340\ttest1: 0.6869020\tbest: 0.6875826 (1351)\ttotal: 2m 35s\tremaining: 11m 20s\n",
      "1500:\tlearn: 0.7826246\ttest: 0.9379628\ttest1: 0.6897006\tbest: 0.6899276 (1498)\ttotal: 2m 48s\tremaining: 11m 15s\n",
      "1600:\tlearn: 0.7925561\ttest: 0.9397233\ttest1: 0.6886544\tbest: 0.6918528 (1548)\ttotal: 3m\tremaining: 11m 10s\n",
      "Stopped by overfitting detector  (100 iterations wait)\n",
      "\n",
      "bestTest = 0.6918528252\n",
      "bestIteration = 1548\n",
      "\n",
      "Shrink model to first 1549 iterations.\n"
     ]
    },
    {
     "name": "stderr",
     "output_type": "stream",
     "text": [
      "[I 2024-02-21 23:36:14,707] Trial 4 finished with value: 0.6918528252299606 and parameters: {'learning_rate': 0.01957443402101589, 'bagging_temperature': 4.131692533156464, 'n_estimators': 7536, 'max_depth': 7, 'random_strength': 67, 'colsample_bylevel': 0.6119501335010737, 'l2_leaf_reg': 0.02081214862296549, 'min_child_samples': 60, 'max_bin': 259, 'od_type': 'IncToDec'}. Best is trial 4 with value: 0.6918528252299606.\n"
     ]
    }
   ],
   "source": [
    "from random import randint\n",
    "from scipy.stats import loguniform\n",
    "from sklearn.model_selection import StratifiedKFold,train_test_split\n",
    "from sklearn.metrics import log_loss, roc_auc_score\n",
    "from sklearn.preprocessing import OneHotEncoder\n",
    "import random\n",
    "\n",
    "import optuna\n",
    "from optuna.samplers import TPESampler\n",
    "import warnings\n",
    "warnings.filterwarnings('ignore')\n",
    "\n",
    "def objective(trial):\n",
    "  param = {\n",
    "      \"eval_metric\":\"F1\",\n",
    "      \"random_state\":57,\n",
    "      # \"class_weights\":class_weights,\n",
    "      'learning_rate' : trial.suggest_loguniform('learning_rate', 0.01, 0.3),\n",
    "      'bagging_temperature' :trial.suggest_loguniform('bagging_temperature', 0.1, 100.00),\n",
    "      \"n_estimators\":trial.suggest_int(\"n_estimators\", 5000, 10000),\n",
    "      \"max_depth\":trial.suggest_int(\"max_depth\", 4, 16),\n",
    "      'random_strength' :trial.suggest_int('random_strength', 0, 100),\n",
    "      \"colsample_bylevel\":trial.suggest_float(\"colsample_bylevel\", 0.1, 0.8),\n",
    "      \"l2_leaf_reg\":trial.suggest_float(\"l2_leaf_reg\",1e-4,3e-2),\n",
    "      \"min_child_samples\": trial.suggest_int(\"min_child_samples\", 1, 100),\n",
    "      \"max_bin\": trial.suggest_int(\"max_bin\", 200, 500),\n",
    "      'od_type': trial.suggest_categorical('od_type', ['IncToDec', 'Iter'])\n",
    "  }\n",
    "\n",
    "  cat_features = categorical_features_indices\n",
    "  cat = CatBoostClassifier(**param)\n",
    "  cat.fit(x_train, y_train,\n",
    "          eval_set=[(x_train, y_train), (x_val,y_val)],\n",
    "          early_stopping_rounds=100,cat_features=cat_features,\n",
    "          verbose=100)\n",
    "\n",
    "  # cat_pred = cat.predict_proba(x_val)\n",
    "  # log_score = log_loss(y_val, cat_pred)\n",
    "\n",
    "\n",
    "  cat_pred = cat.predict(x_val)\n",
    "  # cat_pred = np.where(cat_pred == 'True', True, False)\n",
    "  result = f1_score(y_val, cat_pred)\n",
    "  # y_pred = np.argmax(cat_pred, axis=1)\n",
    "  # result = roc_auc_score(y_val, y_pred)\n",
    "\n",
    "  return result\n",
    "\n",
    "\n",
    "sampler = TPESampler(seed=57)\n",
    "study = optuna.create_study(\n",
    "    study_name = 'cat_parameter_opt',\n",
    "    direction = 'maximize',\n",
    "    sampler = sampler,\n",
    ")\n",
    "study.optimize(objective, n_trials=5)\n",
    "# print(\"Best Score:\",study.best_value)\n",
    "# print(\"Best trial\",study.best_trial.params)"
   ]
  },
  {
   "cell_type": "code",
   "execution_count": null,
   "outputs": [],
   "source": [
    "optuna.visualization.plot_optimization_history(study)"
   ],
   "metadata": {
    "collapsed": false,
    "ExecuteTime": {
     "start_time": "2024-02-21T15:50:38.039740Z",
     "end_time": "2024-02-21T15:50:38.288855Z"
    }
   }
  },
  {
   "cell_type": "code",
   "execution_count": 41,
   "outputs": [
    {
     "data": {
      "application/vnd.plotly.v1+json": {
       "data": [
        {
         "cliponaxis": false,
         "hovertemplate": [
          "min_child_samples (IntDistribution): 0.006709875234464111<extra></extra>",
          "bagging_temperature (FloatDistribution): 0.010300480531970444<extra></extra>",
          "max_depth (IntDistribution): 0.03355191206941336<extra></extra>",
          "max_bin (IntDistribution): 0.03625030029474817<extra></extra>",
          "n_estimators (IntDistribution): 0.04121271697910133<extra></extra>",
          "random_strength (IntDistribution): 0.0433971529208484<extra></extra>",
          "od_type (CategoricalDistribution): 0.06324902704626512<extra></extra>",
          "colsample_bylevel (FloatDistribution): 0.06376181365945816<extra></extra>",
          "l2_leaf_reg (FloatDistribution): 0.10547796492314128<extra></extra>",
          "learning_rate (FloatDistribution): 0.5960887563405896<extra></extra>"
         ],
         "name": "Objective Value",
         "orientation": "h",
         "text": [
          "<0.01",
          "0.01",
          "0.03",
          "0.04",
          "0.04",
          "0.04",
          "0.06",
          "0.06",
          "0.11",
          "0.60"
         ],
         "textposition": "outside",
         "x": [
          0.006709875234464111,
          0.010300480531970444,
          0.03355191206941336,
          0.03625030029474817,
          0.04121271697910133,
          0.0433971529208484,
          0.06324902704626512,
          0.06376181365945816,
          0.10547796492314128,
          0.5960887563405896
         ],
         "y": [
          "min_child_samples",
          "bagging_temperature",
          "max_depth",
          "max_bin",
          "n_estimators",
          "random_strength",
          "od_type",
          "colsample_bylevel",
          "l2_leaf_reg",
          "learning_rate"
         ],
         "type": "bar"
        }
       ],
       "layout": {
        "title": {
         "text": "Hyperparameter Importances"
        },
        "xaxis": {
         "title": {
          "text": "Hyperparameter Importance"
         }
        },
        "yaxis": {
         "title": {
          "text": "Hyperparameter"
         }
        },
        "template": {
         "data": {
          "histogram2dcontour": [
           {
            "type": "histogram2dcontour",
            "colorbar": {
             "outlinewidth": 0,
             "ticks": ""
            },
            "colorscale": [
             [
              0.0,
              "#0d0887"
             ],
             [
              0.1111111111111111,
              "#46039f"
             ],
             [
              0.2222222222222222,
              "#7201a8"
             ],
             [
              0.3333333333333333,
              "#9c179e"
             ],
             [
              0.4444444444444444,
              "#bd3786"
             ],
             [
              0.5555555555555556,
              "#d8576b"
             ],
             [
              0.6666666666666666,
              "#ed7953"
             ],
             [
              0.7777777777777778,
              "#fb9f3a"
             ],
             [
              0.8888888888888888,
              "#fdca26"
             ],
             [
              1.0,
              "#f0f921"
             ]
            ]
           }
          ],
          "choropleth": [
           {
            "type": "choropleth",
            "colorbar": {
             "outlinewidth": 0,
             "ticks": ""
            }
           }
          ],
          "histogram2d": [
           {
            "type": "histogram2d",
            "colorbar": {
             "outlinewidth": 0,
             "ticks": ""
            },
            "colorscale": [
             [
              0.0,
              "#0d0887"
             ],
             [
              0.1111111111111111,
              "#46039f"
             ],
             [
              0.2222222222222222,
              "#7201a8"
             ],
             [
              0.3333333333333333,
              "#9c179e"
             ],
             [
              0.4444444444444444,
              "#bd3786"
             ],
             [
              0.5555555555555556,
              "#d8576b"
             ],
             [
              0.6666666666666666,
              "#ed7953"
             ],
             [
              0.7777777777777778,
              "#fb9f3a"
             ],
             [
              0.8888888888888888,
              "#fdca26"
             ],
             [
              1.0,
              "#f0f921"
             ]
            ]
           }
          ],
          "heatmap": [
           {
            "type": "heatmap",
            "colorbar": {
             "outlinewidth": 0,
             "ticks": ""
            },
            "colorscale": [
             [
              0.0,
              "#0d0887"
             ],
             [
              0.1111111111111111,
              "#46039f"
             ],
             [
              0.2222222222222222,
              "#7201a8"
             ],
             [
              0.3333333333333333,
              "#9c179e"
             ],
             [
              0.4444444444444444,
              "#bd3786"
             ],
             [
              0.5555555555555556,
              "#d8576b"
             ],
             [
              0.6666666666666666,
              "#ed7953"
             ],
             [
              0.7777777777777778,
              "#fb9f3a"
             ],
             [
              0.8888888888888888,
              "#fdca26"
             ],
             [
              1.0,
              "#f0f921"
             ]
            ]
           }
          ],
          "heatmapgl": [
           {
            "type": "heatmapgl",
            "colorbar": {
             "outlinewidth": 0,
             "ticks": ""
            },
            "colorscale": [
             [
              0.0,
              "#0d0887"
             ],
             [
              0.1111111111111111,
              "#46039f"
             ],
             [
              0.2222222222222222,
              "#7201a8"
             ],
             [
              0.3333333333333333,
              "#9c179e"
             ],
             [
              0.4444444444444444,
              "#bd3786"
             ],
             [
              0.5555555555555556,
              "#d8576b"
             ],
             [
              0.6666666666666666,
              "#ed7953"
             ],
             [
              0.7777777777777778,
              "#fb9f3a"
             ],
             [
              0.8888888888888888,
              "#fdca26"
             ],
             [
              1.0,
              "#f0f921"
             ]
            ]
           }
          ],
          "contourcarpet": [
           {
            "type": "contourcarpet",
            "colorbar": {
             "outlinewidth": 0,
             "ticks": ""
            }
           }
          ],
          "contour": [
           {
            "type": "contour",
            "colorbar": {
             "outlinewidth": 0,
             "ticks": ""
            },
            "colorscale": [
             [
              0.0,
              "#0d0887"
             ],
             [
              0.1111111111111111,
              "#46039f"
             ],
             [
              0.2222222222222222,
              "#7201a8"
             ],
             [
              0.3333333333333333,
              "#9c179e"
             ],
             [
              0.4444444444444444,
              "#bd3786"
             ],
             [
              0.5555555555555556,
              "#d8576b"
             ],
             [
              0.6666666666666666,
              "#ed7953"
             ],
             [
              0.7777777777777778,
              "#fb9f3a"
             ],
             [
              0.8888888888888888,
              "#fdca26"
             ],
             [
              1.0,
              "#f0f921"
             ]
            ]
           }
          ],
          "surface": [
           {
            "type": "surface",
            "colorbar": {
             "outlinewidth": 0,
             "ticks": ""
            },
            "colorscale": [
             [
              0.0,
              "#0d0887"
             ],
             [
              0.1111111111111111,
              "#46039f"
             ],
             [
              0.2222222222222222,
              "#7201a8"
             ],
             [
              0.3333333333333333,
              "#9c179e"
             ],
             [
              0.4444444444444444,
              "#bd3786"
             ],
             [
              0.5555555555555556,
              "#d8576b"
             ],
             [
              0.6666666666666666,
              "#ed7953"
             ],
             [
              0.7777777777777778,
              "#fb9f3a"
             ],
             [
              0.8888888888888888,
              "#fdca26"
             ],
             [
              1.0,
              "#f0f921"
             ]
            ]
           }
          ],
          "mesh3d": [
           {
            "type": "mesh3d",
            "colorbar": {
             "outlinewidth": 0,
             "ticks": ""
            }
           }
          ],
          "scatter": [
           {
            "fillpattern": {
             "fillmode": "overlay",
             "size": 10,
             "solidity": 0.2
            },
            "type": "scatter"
           }
          ],
          "parcoords": [
           {
            "type": "parcoords",
            "line": {
             "colorbar": {
              "outlinewidth": 0,
              "ticks": ""
             }
            }
           }
          ],
          "scatterpolargl": [
           {
            "type": "scatterpolargl",
            "marker": {
             "colorbar": {
              "outlinewidth": 0,
              "ticks": ""
             }
            }
           }
          ],
          "bar": [
           {
            "error_x": {
             "color": "#2a3f5f"
            },
            "error_y": {
             "color": "#2a3f5f"
            },
            "marker": {
             "line": {
              "color": "#E5ECF6",
              "width": 0.5
             },
             "pattern": {
              "fillmode": "overlay",
              "size": 10,
              "solidity": 0.2
             }
            },
            "type": "bar"
           }
          ],
          "scattergeo": [
           {
            "type": "scattergeo",
            "marker": {
             "colorbar": {
              "outlinewidth": 0,
              "ticks": ""
             }
            }
           }
          ],
          "scatterpolar": [
           {
            "type": "scatterpolar",
            "marker": {
             "colorbar": {
              "outlinewidth": 0,
              "ticks": ""
             }
            }
           }
          ],
          "histogram": [
           {
            "marker": {
             "pattern": {
              "fillmode": "overlay",
              "size": 10,
              "solidity": 0.2
             }
            },
            "type": "histogram"
           }
          ],
          "scattergl": [
           {
            "type": "scattergl",
            "marker": {
             "colorbar": {
              "outlinewidth": 0,
              "ticks": ""
             }
            }
           }
          ],
          "scatter3d": [
           {
            "type": "scatter3d",
            "line": {
             "colorbar": {
              "outlinewidth": 0,
              "ticks": ""
             }
            },
            "marker": {
             "colorbar": {
              "outlinewidth": 0,
              "ticks": ""
             }
            }
           }
          ],
          "scattermapbox": [
           {
            "type": "scattermapbox",
            "marker": {
             "colorbar": {
              "outlinewidth": 0,
              "ticks": ""
             }
            }
           }
          ],
          "scatterternary": [
           {
            "type": "scatterternary",
            "marker": {
             "colorbar": {
              "outlinewidth": 0,
              "ticks": ""
             }
            }
           }
          ],
          "scattercarpet": [
           {
            "type": "scattercarpet",
            "marker": {
             "colorbar": {
              "outlinewidth": 0,
              "ticks": ""
             }
            }
           }
          ],
          "carpet": [
           {
            "aaxis": {
             "endlinecolor": "#2a3f5f",
             "gridcolor": "white",
             "linecolor": "white",
             "minorgridcolor": "white",
             "startlinecolor": "#2a3f5f"
            },
            "baxis": {
             "endlinecolor": "#2a3f5f",
             "gridcolor": "white",
             "linecolor": "white",
             "minorgridcolor": "white",
             "startlinecolor": "#2a3f5f"
            },
            "type": "carpet"
           }
          ],
          "table": [
           {
            "cells": {
             "fill": {
              "color": "#EBF0F8"
             },
             "line": {
              "color": "white"
             }
            },
            "header": {
             "fill": {
              "color": "#C8D4E3"
             },
             "line": {
              "color": "white"
             }
            },
            "type": "table"
           }
          ],
          "barpolar": [
           {
            "marker": {
             "line": {
              "color": "#E5ECF6",
              "width": 0.5
             },
             "pattern": {
              "fillmode": "overlay",
              "size": 10,
              "solidity": 0.2
             }
            },
            "type": "barpolar"
           }
          ],
          "pie": [
           {
            "automargin": true,
            "type": "pie"
           }
          ]
         },
         "layout": {
          "autotypenumbers": "strict",
          "colorway": [
           "#636efa",
           "#EF553B",
           "#00cc96",
           "#ab63fa",
           "#FFA15A",
           "#19d3f3",
           "#FF6692",
           "#B6E880",
           "#FF97FF",
           "#FECB52"
          ],
          "font": {
           "color": "#2a3f5f"
          },
          "hovermode": "closest",
          "hoverlabel": {
           "align": "left"
          },
          "paper_bgcolor": "white",
          "plot_bgcolor": "#E5ECF6",
          "polar": {
           "bgcolor": "#E5ECF6",
           "angularaxis": {
            "gridcolor": "white",
            "linecolor": "white",
            "ticks": ""
           },
           "radialaxis": {
            "gridcolor": "white",
            "linecolor": "white",
            "ticks": ""
           }
          },
          "ternary": {
           "bgcolor": "#E5ECF6",
           "aaxis": {
            "gridcolor": "white",
            "linecolor": "white",
            "ticks": ""
           },
           "baxis": {
            "gridcolor": "white",
            "linecolor": "white",
            "ticks": ""
           },
           "caxis": {
            "gridcolor": "white",
            "linecolor": "white",
            "ticks": ""
           }
          },
          "coloraxis": {
           "colorbar": {
            "outlinewidth": 0,
            "ticks": ""
           }
          },
          "colorscale": {
           "sequential": [
            [
             0.0,
             "#0d0887"
            ],
            [
             0.1111111111111111,
             "#46039f"
            ],
            [
             0.2222222222222222,
             "#7201a8"
            ],
            [
             0.3333333333333333,
             "#9c179e"
            ],
            [
             0.4444444444444444,
             "#bd3786"
            ],
            [
             0.5555555555555556,
             "#d8576b"
            ],
            [
             0.6666666666666666,
             "#ed7953"
            ],
            [
             0.7777777777777778,
             "#fb9f3a"
            ],
            [
             0.8888888888888888,
             "#fdca26"
            ],
            [
             1.0,
             "#f0f921"
            ]
           ],
           "sequentialminus": [
            [
             0.0,
             "#0d0887"
            ],
            [
             0.1111111111111111,
             "#46039f"
            ],
            [
             0.2222222222222222,
             "#7201a8"
            ],
            [
             0.3333333333333333,
             "#9c179e"
            ],
            [
             0.4444444444444444,
             "#bd3786"
            ],
            [
             0.5555555555555556,
             "#d8576b"
            ],
            [
             0.6666666666666666,
             "#ed7953"
            ],
            [
             0.7777777777777778,
             "#fb9f3a"
            ],
            [
             0.8888888888888888,
             "#fdca26"
            ],
            [
             1.0,
             "#f0f921"
            ]
           ],
           "diverging": [
            [
             0,
             "#8e0152"
            ],
            [
             0.1,
             "#c51b7d"
            ],
            [
             0.2,
             "#de77ae"
            ],
            [
             0.3,
             "#f1b6da"
            ],
            [
             0.4,
             "#fde0ef"
            ],
            [
             0.5,
             "#f7f7f7"
            ],
            [
             0.6,
             "#e6f5d0"
            ],
            [
             0.7,
             "#b8e186"
            ],
            [
             0.8,
             "#7fbc41"
            ],
            [
             0.9,
             "#4d9221"
            ],
            [
             1,
             "#276419"
            ]
           ]
          },
          "xaxis": {
           "gridcolor": "white",
           "linecolor": "white",
           "ticks": "",
           "title": {
            "standoff": 15
           },
           "zerolinecolor": "white",
           "automargin": true,
           "zerolinewidth": 2
          },
          "yaxis": {
           "gridcolor": "white",
           "linecolor": "white",
           "ticks": "",
           "title": {
            "standoff": 15
           },
           "zerolinecolor": "white",
           "automargin": true,
           "zerolinewidth": 2
          },
          "scene": {
           "xaxis": {
            "backgroundcolor": "#E5ECF6",
            "gridcolor": "white",
            "linecolor": "white",
            "showbackground": true,
            "ticks": "",
            "zerolinecolor": "white",
            "gridwidth": 2
           },
           "yaxis": {
            "backgroundcolor": "#E5ECF6",
            "gridcolor": "white",
            "linecolor": "white",
            "showbackground": true,
            "ticks": "",
            "zerolinecolor": "white",
            "gridwidth": 2
           },
           "zaxis": {
            "backgroundcolor": "#E5ECF6",
            "gridcolor": "white",
            "linecolor": "white",
            "showbackground": true,
            "ticks": "",
            "zerolinecolor": "white",
            "gridwidth": 2
           }
          },
          "shapedefaults": {
           "line": {
            "color": "#2a3f5f"
           }
          },
          "annotationdefaults": {
           "arrowcolor": "#2a3f5f",
           "arrowhead": 0,
           "arrowwidth": 1
          },
          "geo": {
           "bgcolor": "white",
           "landcolor": "#E5ECF6",
           "subunitcolor": "white",
           "showland": true,
           "showlakes": true,
           "lakecolor": "white"
          },
          "title": {
           "x": 0.05
          },
          "mapbox": {
           "style": "light"
          }
         }
        }
       },
       "config": {
        "plotlyServerURL": "https://plot.ly"
       }
      },
      "text/html": "<div>                            <div id=\"9cbd20c9-a4ac-48ac-b89c-43481369d421\" class=\"plotly-graph-div\" style=\"height:525px; width:100%;\"></div>            <script type=\"text/javascript\">                require([\"plotly\"], function(Plotly) {                    window.PLOTLYENV=window.PLOTLYENV || {};                                    if (document.getElementById(\"9cbd20c9-a4ac-48ac-b89c-43481369d421\")) {                    Plotly.newPlot(                        \"9cbd20c9-a4ac-48ac-b89c-43481369d421\",                        [{\"cliponaxis\":false,\"hovertemplate\":[\"min_child_samples (IntDistribution): 0.006709875234464111\\u003cextra\\u003e\\u003c\\u002fextra\\u003e\",\"bagging_temperature (FloatDistribution): 0.010300480531970444\\u003cextra\\u003e\\u003c\\u002fextra\\u003e\",\"max_depth (IntDistribution): 0.03355191206941336\\u003cextra\\u003e\\u003c\\u002fextra\\u003e\",\"max_bin (IntDistribution): 0.03625030029474817\\u003cextra\\u003e\\u003c\\u002fextra\\u003e\",\"n_estimators (IntDistribution): 0.04121271697910133\\u003cextra\\u003e\\u003c\\u002fextra\\u003e\",\"random_strength (IntDistribution): 0.0433971529208484\\u003cextra\\u003e\\u003c\\u002fextra\\u003e\",\"od_type (CategoricalDistribution): 0.06324902704626512\\u003cextra\\u003e\\u003c\\u002fextra\\u003e\",\"colsample_bylevel (FloatDistribution): 0.06376181365945816\\u003cextra\\u003e\\u003c\\u002fextra\\u003e\",\"l2_leaf_reg (FloatDistribution): 0.10547796492314128\\u003cextra\\u003e\\u003c\\u002fextra\\u003e\",\"learning_rate (FloatDistribution): 0.5960887563405896\\u003cextra\\u003e\\u003c\\u002fextra\\u003e\"],\"name\":\"Objective Value\",\"orientation\":\"h\",\"text\":[\"\\u003c0.01\",\"0.01\",\"0.03\",\"0.04\",\"0.04\",\"0.04\",\"0.06\",\"0.06\",\"0.11\",\"0.60\"],\"textposition\":\"outside\",\"x\":[0.006709875234464111,0.010300480531970444,0.03355191206941336,0.03625030029474817,0.04121271697910133,0.0433971529208484,0.06324902704626512,0.06376181365945816,0.10547796492314128,0.5960887563405896],\"y\":[\"min_child_samples\",\"bagging_temperature\",\"max_depth\",\"max_bin\",\"n_estimators\",\"random_strength\",\"od_type\",\"colsample_bylevel\",\"l2_leaf_reg\",\"learning_rate\"],\"type\":\"bar\"}],                        {\"title\":{\"text\":\"Hyperparameter Importances\"},\"xaxis\":{\"title\":{\"text\":\"Hyperparameter Importance\"}},\"yaxis\":{\"title\":{\"text\":\"Hyperparameter\"}},\"template\":{\"data\":{\"histogram2dcontour\":[{\"type\":\"histogram2dcontour\",\"colorbar\":{\"outlinewidth\":0,\"ticks\":\"\"},\"colorscale\":[[0.0,\"#0d0887\"],[0.1111111111111111,\"#46039f\"],[0.2222222222222222,\"#7201a8\"],[0.3333333333333333,\"#9c179e\"],[0.4444444444444444,\"#bd3786\"],[0.5555555555555556,\"#d8576b\"],[0.6666666666666666,\"#ed7953\"],[0.7777777777777778,\"#fb9f3a\"],[0.8888888888888888,\"#fdca26\"],[1.0,\"#f0f921\"]]}],\"choropleth\":[{\"type\":\"choropleth\",\"colorbar\":{\"outlinewidth\":0,\"ticks\":\"\"}}],\"histogram2d\":[{\"type\":\"histogram2d\",\"colorbar\":{\"outlinewidth\":0,\"ticks\":\"\"},\"colorscale\":[[0.0,\"#0d0887\"],[0.1111111111111111,\"#46039f\"],[0.2222222222222222,\"#7201a8\"],[0.3333333333333333,\"#9c179e\"],[0.4444444444444444,\"#bd3786\"],[0.5555555555555556,\"#d8576b\"],[0.6666666666666666,\"#ed7953\"],[0.7777777777777778,\"#fb9f3a\"],[0.8888888888888888,\"#fdca26\"],[1.0,\"#f0f921\"]]}],\"heatmap\":[{\"type\":\"heatmap\",\"colorbar\":{\"outlinewidth\":0,\"ticks\":\"\"},\"colorscale\":[[0.0,\"#0d0887\"],[0.1111111111111111,\"#46039f\"],[0.2222222222222222,\"#7201a8\"],[0.3333333333333333,\"#9c179e\"],[0.4444444444444444,\"#bd3786\"],[0.5555555555555556,\"#d8576b\"],[0.6666666666666666,\"#ed7953\"],[0.7777777777777778,\"#fb9f3a\"],[0.8888888888888888,\"#fdca26\"],[1.0,\"#f0f921\"]]}],\"heatmapgl\":[{\"type\":\"heatmapgl\",\"colorbar\":{\"outlinewidth\":0,\"ticks\":\"\"},\"colorscale\":[[0.0,\"#0d0887\"],[0.1111111111111111,\"#46039f\"],[0.2222222222222222,\"#7201a8\"],[0.3333333333333333,\"#9c179e\"],[0.4444444444444444,\"#bd3786\"],[0.5555555555555556,\"#d8576b\"],[0.6666666666666666,\"#ed7953\"],[0.7777777777777778,\"#fb9f3a\"],[0.8888888888888888,\"#fdca26\"],[1.0,\"#f0f921\"]]}],\"contourcarpet\":[{\"type\":\"contourcarpet\",\"colorbar\":{\"outlinewidth\":0,\"ticks\":\"\"}}],\"contour\":[{\"type\":\"contour\",\"colorbar\":{\"outlinewidth\":0,\"ticks\":\"\"},\"colorscale\":[[0.0,\"#0d0887\"],[0.1111111111111111,\"#46039f\"],[0.2222222222222222,\"#7201a8\"],[0.3333333333333333,\"#9c179e\"],[0.4444444444444444,\"#bd3786\"],[0.5555555555555556,\"#d8576b\"],[0.6666666666666666,\"#ed7953\"],[0.7777777777777778,\"#fb9f3a\"],[0.8888888888888888,\"#fdca26\"],[1.0,\"#f0f921\"]]}],\"surface\":[{\"type\":\"surface\",\"colorbar\":{\"outlinewidth\":0,\"ticks\":\"\"},\"colorscale\":[[0.0,\"#0d0887\"],[0.1111111111111111,\"#46039f\"],[0.2222222222222222,\"#7201a8\"],[0.3333333333333333,\"#9c179e\"],[0.4444444444444444,\"#bd3786\"],[0.5555555555555556,\"#d8576b\"],[0.6666666666666666,\"#ed7953\"],[0.7777777777777778,\"#fb9f3a\"],[0.8888888888888888,\"#fdca26\"],[1.0,\"#f0f921\"]]}],\"mesh3d\":[{\"type\":\"mesh3d\",\"colorbar\":{\"outlinewidth\":0,\"ticks\":\"\"}}],\"scatter\":[{\"fillpattern\":{\"fillmode\":\"overlay\",\"size\":10,\"solidity\":0.2},\"type\":\"scatter\"}],\"parcoords\":[{\"type\":\"parcoords\",\"line\":{\"colorbar\":{\"outlinewidth\":0,\"ticks\":\"\"}}}],\"scatterpolargl\":[{\"type\":\"scatterpolargl\",\"marker\":{\"colorbar\":{\"outlinewidth\":0,\"ticks\":\"\"}}}],\"bar\":[{\"error_x\":{\"color\":\"#2a3f5f\"},\"error_y\":{\"color\":\"#2a3f5f\"},\"marker\":{\"line\":{\"color\":\"#E5ECF6\",\"width\":0.5},\"pattern\":{\"fillmode\":\"overlay\",\"size\":10,\"solidity\":0.2}},\"type\":\"bar\"}],\"scattergeo\":[{\"type\":\"scattergeo\",\"marker\":{\"colorbar\":{\"outlinewidth\":0,\"ticks\":\"\"}}}],\"scatterpolar\":[{\"type\":\"scatterpolar\",\"marker\":{\"colorbar\":{\"outlinewidth\":0,\"ticks\":\"\"}}}],\"histogram\":[{\"marker\":{\"pattern\":{\"fillmode\":\"overlay\",\"size\":10,\"solidity\":0.2}},\"type\":\"histogram\"}],\"scattergl\":[{\"type\":\"scattergl\",\"marker\":{\"colorbar\":{\"outlinewidth\":0,\"ticks\":\"\"}}}],\"scatter3d\":[{\"type\":\"scatter3d\",\"line\":{\"colorbar\":{\"outlinewidth\":0,\"ticks\":\"\"}},\"marker\":{\"colorbar\":{\"outlinewidth\":0,\"ticks\":\"\"}}}],\"scattermapbox\":[{\"type\":\"scattermapbox\",\"marker\":{\"colorbar\":{\"outlinewidth\":0,\"ticks\":\"\"}}}],\"scatterternary\":[{\"type\":\"scatterternary\",\"marker\":{\"colorbar\":{\"outlinewidth\":0,\"ticks\":\"\"}}}],\"scattercarpet\":[{\"type\":\"scattercarpet\",\"marker\":{\"colorbar\":{\"outlinewidth\":0,\"ticks\":\"\"}}}],\"carpet\":[{\"aaxis\":{\"endlinecolor\":\"#2a3f5f\",\"gridcolor\":\"white\",\"linecolor\":\"white\",\"minorgridcolor\":\"white\",\"startlinecolor\":\"#2a3f5f\"},\"baxis\":{\"endlinecolor\":\"#2a3f5f\",\"gridcolor\":\"white\",\"linecolor\":\"white\",\"minorgridcolor\":\"white\",\"startlinecolor\":\"#2a3f5f\"},\"type\":\"carpet\"}],\"table\":[{\"cells\":{\"fill\":{\"color\":\"#EBF0F8\"},\"line\":{\"color\":\"white\"}},\"header\":{\"fill\":{\"color\":\"#C8D4E3\"},\"line\":{\"color\":\"white\"}},\"type\":\"table\"}],\"barpolar\":[{\"marker\":{\"line\":{\"color\":\"#E5ECF6\",\"width\":0.5},\"pattern\":{\"fillmode\":\"overlay\",\"size\":10,\"solidity\":0.2}},\"type\":\"barpolar\"}],\"pie\":[{\"automargin\":true,\"type\":\"pie\"}]},\"layout\":{\"autotypenumbers\":\"strict\",\"colorway\":[\"#636efa\",\"#EF553B\",\"#00cc96\",\"#ab63fa\",\"#FFA15A\",\"#19d3f3\",\"#FF6692\",\"#B6E880\",\"#FF97FF\",\"#FECB52\"],\"font\":{\"color\":\"#2a3f5f\"},\"hovermode\":\"closest\",\"hoverlabel\":{\"align\":\"left\"},\"paper_bgcolor\":\"white\",\"plot_bgcolor\":\"#E5ECF6\",\"polar\":{\"bgcolor\":\"#E5ECF6\",\"angularaxis\":{\"gridcolor\":\"white\",\"linecolor\":\"white\",\"ticks\":\"\"},\"radialaxis\":{\"gridcolor\":\"white\",\"linecolor\":\"white\",\"ticks\":\"\"}},\"ternary\":{\"bgcolor\":\"#E5ECF6\",\"aaxis\":{\"gridcolor\":\"white\",\"linecolor\":\"white\",\"ticks\":\"\"},\"baxis\":{\"gridcolor\":\"white\",\"linecolor\":\"white\",\"ticks\":\"\"},\"caxis\":{\"gridcolor\":\"white\",\"linecolor\":\"white\",\"ticks\":\"\"}},\"coloraxis\":{\"colorbar\":{\"outlinewidth\":0,\"ticks\":\"\"}},\"colorscale\":{\"sequential\":[[0.0,\"#0d0887\"],[0.1111111111111111,\"#46039f\"],[0.2222222222222222,\"#7201a8\"],[0.3333333333333333,\"#9c179e\"],[0.4444444444444444,\"#bd3786\"],[0.5555555555555556,\"#d8576b\"],[0.6666666666666666,\"#ed7953\"],[0.7777777777777778,\"#fb9f3a\"],[0.8888888888888888,\"#fdca26\"],[1.0,\"#f0f921\"]],\"sequentialminus\":[[0.0,\"#0d0887\"],[0.1111111111111111,\"#46039f\"],[0.2222222222222222,\"#7201a8\"],[0.3333333333333333,\"#9c179e\"],[0.4444444444444444,\"#bd3786\"],[0.5555555555555556,\"#d8576b\"],[0.6666666666666666,\"#ed7953\"],[0.7777777777777778,\"#fb9f3a\"],[0.8888888888888888,\"#fdca26\"],[1.0,\"#f0f921\"]],\"diverging\":[[0,\"#8e0152\"],[0.1,\"#c51b7d\"],[0.2,\"#de77ae\"],[0.3,\"#f1b6da\"],[0.4,\"#fde0ef\"],[0.5,\"#f7f7f7\"],[0.6,\"#e6f5d0\"],[0.7,\"#b8e186\"],[0.8,\"#7fbc41\"],[0.9,\"#4d9221\"],[1,\"#276419\"]]},\"xaxis\":{\"gridcolor\":\"white\",\"linecolor\":\"white\",\"ticks\":\"\",\"title\":{\"standoff\":15},\"zerolinecolor\":\"white\",\"automargin\":true,\"zerolinewidth\":2},\"yaxis\":{\"gridcolor\":\"white\",\"linecolor\":\"white\",\"ticks\":\"\",\"title\":{\"standoff\":15},\"zerolinecolor\":\"white\",\"automargin\":true,\"zerolinewidth\":2},\"scene\":{\"xaxis\":{\"backgroundcolor\":\"#E5ECF6\",\"gridcolor\":\"white\",\"linecolor\":\"white\",\"showbackground\":true,\"ticks\":\"\",\"zerolinecolor\":\"white\",\"gridwidth\":2},\"yaxis\":{\"backgroundcolor\":\"#E5ECF6\",\"gridcolor\":\"white\",\"linecolor\":\"white\",\"showbackground\":true,\"ticks\":\"\",\"zerolinecolor\":\"white\",\"gridwidth\":2},\"zaxis\":{\"backgroundcolor\":\"#E5ECF6\",\"gridcolor\":\"white\",\"linecolor\":\"white\",\"showbackground\":true,\"ticks\":\"\",\"zerolinecolor\":\"white\",\"gridwidth\":2}},\"shapedefaults\":{\"line\":{\"color\":\"#2a3f5f\"}},\"annotationdefaults\":{\"arrowcolor\":\"#2a3f5f\",\"arrowhead\":0,\"arrowwidth\":1},\"geo\":{\"bgcolor\":\"white\",\"landcolor\":\"#E5ECF6\",\"subunitcolor\":\"white\",\"showland\":true,\"showlakes\":true,\"lakecolor\":\"white\"},\"title\":{\"x\":0.05},\"mapbox\":{\"style\":\"light\"}}}},                        {\"responsive\": true}                    ).then(function(){\n                            \nvar gd = document.getElementById('9cbd20c9-a4ac-48ac-b89c-43481369d421');\nvar x = new MutationObserver(function (mutations, observer) {{\n        var display = window.getComputedStyle(gd).display;\n        if (!display || display === 'none') {{\n            console.log([gd, 'removed!']);\n            Plotly.purge(gd);\n            observer.disconnect();\n        }}\n}});\n\n// Listen for the removal of the full notebook cells\nvar notebookContainer = gd.closest('#notebook-container');\nif (notebookContainer) {{\n    x.observe(notebookContainer, {childList: true});\n}}\n\n// Listen for the clearing of the current output cell\nvar outputEl = gd.closest('.output');\nif (outputEl) {{\n    x.observe(outputEl, {childList: true});\n}}\n\n                        })                };                });            </script>        </div>"
     },
     "metadata": {},
     "output_type": "display_data"
    }
   ],
   "source": [
    "optuna.visualization.plot_param_importances(study)"
   ],
   "metadata": {
    "collapsed": false,
    "ExecuteTime": {
     "start_time": "2024-02-20T22:26:52.359303Z",
     "end_time": "2024-02-20T22:26:52.517593Z"
    }
   }
  },
  {
   "cell_type": "code",
   "execution_count": 42,
   "outputs": [
    {
     "data": {
      "application/vnd.plotly.v1+json": {
       "data": [
        {
         "dimensions": [
          {
           "label": "Objective Value",
           "range": [
            0.4790037648421662,
            0.6210909090909091
           ],
           "values": [
            0.5031172069825436,
            0.6120141342756183,
            0.6064782908339077,
            0.5110329389190917,
            0.4790037648421662,
            0.5996447602131438,
            0.5803786574870913,
            0.529373368146214,
            0.6210909090909091,
            0.588939767523776
           ]
          },
          {
           "label": "bagging_temperature",
           "range": [
            -0.6845580524683598,
            1.8783203789004694
           ],
           "ticktext": [
            "0.207",
            "1",
            "10",
            "75.6"
           ],
           "tickvals": [
            -0.6845580524683598,
            0,
            1,
            1.8783203789004694
           ],
           "values": [
            -0.3085687013448159,
            0.26154147816513895,
            -0.6845580524683598,
            0.38500369044525445,
            0.6161279952963087,
            -0.14564752363144154,
            1.4264142501123867,
            0.1736345888543094,
            1.8783203789004694,
            1.4497449452745852
           ]
          },
          {
           "label": "colsample_bylevel",
           "range": [
            0.15023214594726036,
            0.5388144001437775
           ],
           "values": [
            0.4270382222703103,
            0.380718282631199,
            0.5327884881269064,
            0.15023214594726036,
            0.5388144001437775,
            0.27163770649320995,
            0.32688044807204497,
            0.507436482182297,
            0.27776327358778696,
            0.3217346742234076
           ]
          },
          {
           "label": "l2_leaf_reg",
           "range": [
            1.253561296769744E-4,
            0.002684726951281335
           ],
           "values": [
            0.0024214912290483,
            3.0281083365400285E-4,
            1.253561296769744E-4,
            0.002684726951281335,
            0.002078449288303462,
            0.0019945414036293516,
            0.0017447854708315983,
            7.791165160741743E-4,
            0.0016191151608744233,
            4.1186410334805734E-4
           ]
          },
          {
           "label": "learning_rate",
           "range": [
            -1.970855889782474,
            -0.5265306003967601
           ],
           "ticktext": [
            "0.0107",
            "0.1",
            "0.297"
           ],
           "tickvals": [
            -1.970855889782474,
            -1,
            -0.5265306003967601
           ],
           "values": [
            -1.8709739858770247,
            -0.6727639374214582,
            -0.5342827565125706,
            -1.970855889782474,
            -1.7083107863634144,
            -1.4543943251397058,
            -0.5265306003967601,
            -1.541150187413848,
            -1.186945519455995,
            -0.8716365221919538
           ]
          },
          {
           "label": "max_bin",
           "range": [
            224,
            467
           ],
           "values": [
            357,
            248,
            224,
            399,
            259,
            348,
            233,
            259,
            467,
            283
           ]
          },
          {
           "label": "max_depth",
           "range": [
            4,
            16
           ],
           "values": [
            8,
            6,
            4,
            12,
            7,
            14,
            12,
            16,
            9,
            12
           ]
          },
          {
           "label": "min_child_samples",
           "range": [
            2,
            93
           ],
           "values": [
            92,
            93,
            2,
            79,
            60,
            14,
            63,
            13,
            77,
            86
           ]
          },
          {
           "label": "n_estimators",
           "range": [
            5740,
            9636
           ],
           "values": [
            7055,
            7911,
            7010,
            8348,
            7536,
            9636,
            7277,
            7066,
            9430,
            5740
           ]
          },
          {
           "label": "od_type",
           "range": [
            0,
            1
           ],
           "ticktext": [
            "IncToDec",
            "Iter"
           ],
           "tickvals": [
            0,
            1
           ],
           "values": [
            0,
            0,
            1,
            0,
            0,
            1,
            0,
            0,
            0,
            1
           ]
          },
          {
           "label": "random_strength",
           "range": [
            1,
            80
           ],
           "values": [
            57,
            45,
            1,
            80,
            67,
            64,
            71,
            31,
            17,
            58
           ]
          }
         ],
         "labelangle": 30,
         "labelside": "bottom",
         "line": {
          "color": [
           0.5031172069825436,
           0.6120141342756183,
           0.6064782908339077,
           0.5110329389190917,
           0.4790037648421662,
           0.5996447602131438,
           0.5803786574870913,
           0.529373368146214,
           0.6210909090909091,
           0.588939767523776
          ],
          "colorbar": {
           "title": {
            "text": "Objective Value"
           }
          },
          "colorscale": [
           [
            0.0,
            "rgb(247,251,255)"
           ],
           [
            0.125,
            "rgb(222,235,247)"
           ],
           [
            0.25,
            "rgb(198,219,239)"
           ],
           [
            0.375,
            "rgb(158,202,225)"
           ],
           [
            0.5,
            "rgb(107,174,214)"
           ],
           [
            0.625,
            "rgb(66,146,198)"
           ],
           [
            0.75,
            "rgb(33,113,181)"
           ],
           [
            0.875,
            "rgb(8,81,156)"
           ],
           [
            1.0,
            "rgb(8,48,107)"
           ]
          ],
          "reversescale": false,
          "showscale": true
         },
         "type": "parcoords"
        }
       ],
       "layout": {
        "title": {
         "text": "Parallel Coordinate Plot"
        },
        "template": {
         "data": {
          "histogram2dcontour": [
           {
            "type": "histogram2dcontour",
            "colorbar": {
             "outlinewidth": 0,
             "ticks": ""
            },
            "colorscale": [
             [
              0.0,
              "#0d0887"
             ],
             [
              0.1111111111111111,
              "#46039f"
             ],
             [
              0.2222222222222222,
              "#7201a8"
             ],
             [
              0.3333333333333333,
              "#9c179e"
             ],
             [
              0.4444444444444444,
              "#bd3786"
             ],
             [
              0.5555555555555556,
              "#d8576b"
             ],
             [
              0.6666666666666666,
              "#ed7953"
             ],
             [
              0.7777777777777778,
              "#fb9f3a"
             ],
             [
              0.8888888888888888,
              "#fdca26"
             ],
             [
              1.0,
              "#f0f921"
             ]
            ]
           }
          ],
          "choropleth": [
           {
            "type": "choropleth",
            "colorbar": {
             "outlinewidth": 0,
             "ticks": ""
            }
           }
          ],
          "histogram2d": [
           {
            "type": "histogram2d",
            "colorbar": {
             "outlinewidth": 0,
             "ticks": ""
            },
            "colorscale": [
             [
              0.0,
              "#0d0887"
             ],
             [
              0.1111111111111111,
              "#46039f"
             ],
             [
              0.2222222222222222,
              "#7201a8"
             ],
             [
              0.3333333333333333,
              "#9c179e"
             ],
             [
              0.4444444444444444,
              "#bd3786"
             ],
             [
              0.5555555555555556,
              "#d8576b"
             ],
             [
              0.6666666666666666,
              "#ed7953"
             ],
             [
              0.7777777777777778,
              "#fb9f3a"
             ],
             [
              0.8888888888888888,
              "#fdca26"
             ],
             [
              1.0,
              "#f0f921"
             ]
            ]
           }
          ],
          "heatmap": [
           {
            "type": "heatmap",
            "colorbar": {
             "outlinewidth": 0,
             "ticks": ""
            },
            "colorscale": [
             [
              0.0,
              "#0d0887"
             ],
             [
              0.1111111111111111,
              "#46039f"
             ],
             [
              0.2222222222222222,
              "#7201a8"
             ],
             [
              0.3333333333333333,
              "#9c179e"
             ],
             [
              0.4444444444444444,
              "#bd3786"
             ],
             [
              0.5555555555555556,
              "#d8576b"
             ],
             [
              0.6666666666666666,
              "#ed7953"
             ],
             [
              0.7777777777777778,
              "#fb9f3a"
             ],
             [
              0.8888888888888888,
              "#fdca26"
             ],
             [
              1.0,
              "#f0f921"
             ]
            ]
           }
          ],
          "heatmapgl": [
           {
            "type": "heatmapgl",
            "colorbar": {
             "outlinewidth": 0,
             "ticks": ""
            },
            "colorscale": [
             [
              0.0,
              "#0d0887"
             ],
             [
              0.1111111111111111,
              "#46039f"
             ],
             [
              0.2222222222222222,
              "#7201a8"
             ],
             [
              0.3333333333333333,
              "#9c179e"
             ],
             [
              0.4444444444444444,
              "#bd3786"
             ],
             [
              0.5555555555555556,
              "#d8576b"
             ],
             [
              0.6666666666666666,
              "#ed7953"
             ],
             [
              0.7777777777777778,
              "#fb9f3a"
             ],
             [
              0.8888888888888888,
              "#fdca26"
             ],
             [
              1.0,
              "#f0f921"
             ]
            ]
           }
          ],
          "contourcarpet": [
           {
            "type": "contourcarpet",
            "colorbar": {
             "outlinewidth": 0,
             "ticks": ""
            }
           }
          ],
          "contour": [
           {
            "type": "contour",
            "colorbar": {
             "outlinewidth": 0,
             "ticks": ""
            },
            "colorscale": [
             [
              0.0,
              "#0d0887"
             ],
             [
              0.1111111111111111,
              "#46039f"
             ],
             [
              0.2222222222222222,
              "#7201a8"
             ],
             [
              0.3333333333333333,
              "#9c179e"
             ],
             [
              0.4444444444444444,
              "#bd3786"
             ],
             [
              0.5555555555555556,
              "#d8576b"
             ],
             [
              0.6666666666666666,
              "#ed7953"
             ],
             [
              0.7777777777777778,
              "#fb9f3a"
             ],
             [
              0.8888888888888888,
              "#fdca26"
             ],
             [
              1.0,
              "#f0f921"
             ]
            ]
           }
          ],
          "surface": [
           {
            "type": "surface",
            "colorbar": {
             "outlinewidth": 0,
             "ticks": ""
            },
            "colorscale": [
             [
              0.0,
              "#0d0887"
             ],
             [
              0.1111111111111111,
              "#46039f"
             ],
             [
              0.2222222222222222,
              "#7201a8"
             ],
             [
              0.3333333333333333,
              "#9c179e"
             ],
             [
              0.4444444444444444,
              "#bd3786"
             ],
             [
              0.5555555555555556,
              "#d8576b"
             ],
             [
              0.6666666666666666,
              "#ed7953"
             ],
             [
              0.7777777777777778,
              "#fb9f3a"
             ],
             [
              0.8888888888888888,
              "#fdca26"
             ],
             [
              1.0,
              "#f0f921"
             ]
            ]
           }
          ],
          "mesh3d": [
           {
            "type": "mesh3d",
            "colorbar": {
             "outlinewidth": 0,
             "ticks": ""
            }
           }
          ],
          "scatter": [
           {
            "fillpattern": {
             "fillmode": "overlay",
             "size": 10,
             "solidity": 0.2
            },
            "type": "scatter"
           }
          ],
          "parcoords": [
           {
            "type": "parcoords",
            "line": {
             "colorbar": {
              "outlinewidth": 0,
              "ticks": ""
             }
            }
           }
          ],
          "scatterpolargl": [
           {
            "type": "scatterpolargl",
            "marker": {
             "colorbar": {
              "outlinewidth": 0,
              "ticks": ""
             }
            }
           }
          ],
          "bar": [
           {
            "error_x": {
             "color": "#2a3f5f"
            },
            "error_y": {
             "color": "#2a3f5f"
            },
            "marker": {
             "line": {
              "color": "#E5ECF6",
              "width": 0.5
             },
             "pattern": {
              "fillmode": "overlay",
              "size": 10,
              "solidity": 0.2
             }
            },
            "type": "bar"
           }
          ],
          "scattergeo": [
           {
            "type": "scattergeo",
            "marker": {
             "colorbar": {
              "outlinewidth": 0,
              "ticks": ""
             }
            }
           }
          ],
          "scatterpolar": [
           {
            "type": "scatterpolar",
            "marker": {
             "colorbar": {
              "outlinewidth": 0,
              "ticks": ""
             }
            }
           }
          ],
          "histogram": [
           {
            "marker": {
             "pattern": {
              "fillmode": "overlay",
              "size": 10,
              "solidity": 0.2
             }
            },
            "type": "histogram"
           }
          ],
          "scattergl": [
           {
            "type": "scattergl",
            "marker": {
             "colorbar": {
              "outlinewidth": 0,
              "ticks": ""
             }
            }
           }
          ],
          "scatter3d": [
           {
            "type": "scatter3d",
            "line": {
             "colorbar": {
              "outlinewidth": 0,
              "ticks": ""
             }
            },
            "marker": {
             "colorbar": {
              "outlinewidth": 0,
              "ticks": ""
             }
            }
           }
          ],
          "scattermapbox": [
           {
            "type": "scattermapbox",
            "marker": {
             "colorbar": {
              "outlinewidth": 0,
              "ticks": ""
             }
            }
           }
          ],
          "scatterternary": [
           {
            "type": "scatterternary",
            "marker": {
             "colorbar": {
              "outlinewidth": 0,
              "ticks": ""
             }
            }
           }
          ],
          "scattercarpet": [
           {
            "type": "scattercarpet",
            "marker": {
             "colorbar": {
              "outlinewidth": 0,
              "ticks": ""
             }
            }
           }
          ],
          "carpet": [
           {
            "aaxis": {
             "endlinecolor": "#2a3f5f",
             "gridcolor": "white",
             "linecolor": "white",
             "minorgridcolor": "white",
             "startlinecolor": "#2a3f5f"
            },
            "baxis": {
             "endlinecolor": "#2a3f5f",
             "gridcolor": "white",
             "linecolor": "white",
             "minorgridcolor": "white",
             "startlinecolor": "#2a3f5f"
            },
            "type": "carpet"
           }
          ],
          "table": [
           {
            "cells": {
             "fill": {
              "color": "#EBF0F8"
             },
             "line": {
              "color": "white"
             }
            },
            "header": {
             "fill": {
              "color": "#C8D4E3"
             },
             "line": {
              "color": "white"
             }
            },
            "type": "table"
           }
          ],
          "barpolar": [
           {
            "marker": {
             "line": {
              "color": "#E5ECF6",
              "width": 0.5
             },
             "pattern": {
              "fillmode": "overlay",
              "size": 10,
              "solidity": 0.2
             }
            },
            "type": "barpolar"
           }
          ],
          "pie": [
           {
            "automargin": true,
            "type": "pie"
           }
          ]
         },
         "layout": {
          "autotypenumbers": "strict",
          "colorway": [
           "#636efa",
           "#EF553B",
           "#00cc96",
           "#ab63fa",
           "#FFA15A",
           "#19d3f3",
           "#FF6692",
           "#B6E880",
           "#FF97FF",
           "#FECB52"
          ],
          "font": {
           "color": "#2a3f5f"
          },
          "hovermode": "closest",
          "hoverlabel": {
           "align": "left"
          },
          "paper_bgcolor": "white",
          "plot_bgcolor": "#E5ECF6",
          "polar": {
           "bgcolor": "#E5ECF6",
           "angularaxis": {
            "gridcolor": "white",
            "linecolor": "white",
            "ticks": ""
           },
           "radialaxis": {
            "gridcolor": "white",
            "linecolor": "white",
            "ticks": ""
           }
          },
          "ternary": {
           "bgcolor": "#E5ECF6",
           "aaxis": {
            "gridcolor": "white",
            "linecolor": "white",
            "ticks": ""
           },
           "baxis": {
            "gridcolor": "white",
            "linecolor": "white",
            "ticks": ""
           },
           "caxis": {
            "gridcolor": "white",
            "linecolor": "white",
            "ticks": ""
           }
          },
          "coloraxis": {
           "colorbar": {
            "outlinewidth": 0,
            "ticks": ""
           }
          },
          "colorscale": {
           "sequential": [
            [
             0.0,
             "#0d0887"
            ],
            [
             0.1111111111111111,
             "#46039f"
            ],
            [
             0.2222222222222222,
             "#7201a8"
            ],
            [
             0.3333333333333333,
             "#9c179e"
            ],
            [
             0.4444444444444444,
             "#bd3786"
            ],
            [
             0.5555555555555556,
             "#d8576b"
            ],
            [
             0.6666666666666666,
             "#ed7953"
            ],
            [
             0.7777777777777778,
             "#fb9f3a"
            ],
            [
             0.8888888888888888,
             "#fdca26"
            ],
            [
             1.0,
             "#f0f921"
            ]
           ],
           "sequentialminus": [
            [
             0.0,
             "#0d0887"
            ],
            [
             0.1111111111111111,
             "#46039f"
            ],
            [
             0.2222222222222222,
             "#7201a8"
            ],
            [
             0.3333333333333333,
             "#9c179e"
            ],
            [
             0.4444444444444444,
             "#bd3786"
            ],
            [
             0.5555555555555556,
             "#d8576b"
            ],
            [
             0.6666666666666666,
             "#ed7953"
            ],
            [
             0.7777777777777778,
             "#fb9f3a"
            ],
            [
             0.8888888888888888,
             "#fdca26"
            ],
            [
             1.0,
             "#f0f921"
            ]
           ],
           "diverging": [
            [
             0,
             "#8e0152"
            ],
            [
             0.1,
             "#c51b7d"
            ],
            [
             0.2,
             "#de77ae"
            ],
            [
             0.3,
             "#f1b6da"
            ],
            [
             0.4,
             "#fde0ef"
            ],
            [
             0.5,
             "#f7f7f7"
            ],
            [
             0.6,
             "#e6f5d0"
            ],
            [
             0.7,
             "#b8e186"
            ],
            [
             0.8,
             "#7fbc41"
            ],
            [
             0.9,
             "#4d9221"
            ],
            [
             1,
             "#276419"
            ]
           ]
          },
          "xaxis": {
           "gridcolor": "white",
           "linecolor": "white",
           "ticks": "",
           "title": {
            "standoff": 15
           },
           "zerolinecolor": "white",
           "automargin": true,
           "zerolinewidth": 2
          },
          "yaxis": {
           "gridcolor": "white",
           "linecolor": "white",
           "ticks": "",
           "title": {
            "standoff": 15
           },
           "zerolinecolor": "white",
           "automargin": true,
           "zerolinewidth": 2
          },
          "scene": {
           "xaxis": {
            "backgroundcolor": "#E5ECF6",
            "gridcolor": "white",
            "linecolor": "white",
            "showbackground": true,
            "ticks": "",
            "zerolinecolor": "white",
            "gridwidth": 2
           },
           "yaxis": {
            "backgroundcolor": "#E5ECF6",
            "gridcolor": "white",
            "linecolor": "white",
            "showbackground": true,
            "ticks": "",
            "zerolinecolor": "white",
            "gridwidth": 2
           },
           "zaxis": {
            "backgroundcolor": "#E5ECF6",
            "gridcolor": "white",
            "linecolor": "white",
            "showbackground": true,
            "ticks": "",
            "zerolinecolor": "white",
            "gridwidth": 2
           }
          },
          "shapedefaults": {
           "line": {
            "color": "#2a3f5f"
           }
          },
          "annotationdefaults": {
           "arrowcolor": "#2a3f5f",
           "arrowhead": 0,
           "arrowwidth": 1
          },
          "geo": {
           "bgcolor": "white",
           "landcolor": "#E5ECF6",
           "subunitcolor": "white",
           "showland": true,
           "showlakes": true,
           "lakecolor": "white"
          },
          "title": {
           "x": 0.05
          },
          "mapbox": {
           "style": "light"
          }
         }
        }
       },
       "config": {
        "plotlyServerURL": "https://plot.ly"
       }
      },
      "text/html": "<div>                            <div id=\"3b908c32-d8a2-42a4-a8e3-cdd9f00ac69c\" class=\"plotly-graph-div\" style=\"height:525px; width:100%;\"></div>            <script type=\"text/javascript\">                require([\"plotly\"], function(Plotly) {                    window.PLOTLYENV=window.PLOTLYENV || {};                                    if (document.getElementById(\"3b908c32-d8a2-42a4-a8e3-cdd9f00ac69c\")) {                    Plotly.newPlot(                        \"3b908c32-d8a2-42a4-a8e3-cdd9f00ac69c\",                        [{\"dimensions\":[{\"label\":\"Objective Value\",\"range\":[0.4790037648421662,0.6210909090909091],\"values\":[0.5031172069825436,0.6120141342756183,0.6064782908339077,0.5110329389190917,0.4790037648421662,0.5996447602131438,0.5803786574870913,0.529373368146214,0.6210909090909091,0.588939767523776]},{\"label\":\"bagging_temperature\",\"range\":[-0.6845580524683598,1.8783203789004694],\"ticktext\":[\"0.207\",\"1\",\"10\",\"75.6\"],\"tickvals\":[-0.6845580524683598,0,1,1.8783203789004694],\"values\":[-0.3085687013448159,0.26154147816513895,-0.6845580524683598,0.38500369044525445,0.6161279952963087,-0.14564752363144154,1.4264142501123867,0.1736345888543094,1.8783203789004694,1.4497449452745852]},{\"label\":\"colsample_bylevel\",\"range\":[0.15023214594726036,0.5388144001437775],\"values\":[0.4270382222703103,0.380718282631199,0.5327884881269064,0.15023214594726036,0.5388144001437775,0.27163770649320995,0.32688044807204497,0.507436482182297,0.27776327358778696,0.3217346742234076]},{\"label\":\"l2_leaf_reg\",\"range\":[0.0001253561296769744,0.002684726951281335],\"values\":[0.0024214912290483,0.00030281083365400285,0.0001253561296769744,0.002684726951281335,0.002078449288303462,0.0019945414036293516,0.0017447854708315983,0.0007791165160741743,0.0016191151608744233,0.00041186410334805734]},{\"label\":\"learning_rate\",\"range\":[-1.970855889782474,-0.5265306003967601],\"ticktext\":[\"0.0107\",\"0.1\",\"0.297\"],\"tickvals\":[-1.970855889782474,-1,-0.5265306003967601],\"values\":[-1.8709739858770247,-0.6727639374214582,-0.5342827565125706,-1.970855889782474,-1.7083107863634144,-1.4543943251397058,-0.5265306003967601,-1.541150187413848,-1.186945519455995,-0.8716365221919538]},{\"label\":\"max_bin\",\"range\":[224,467],\"values\":[357,248,224,399,259,348,233,259,467,283]},{\"label\":\"max_depth\",\"range\":[4,16],\"values\":[8,6,4,12,7,14,12,16,9,12]},{\"label\":\"min_child_samples\",\"range\":[2,93],\"values\":[92,93,2,79,60,14,63,13,77,86]},{\"label\":\"n_estimators\",\"range\":[5740,9636],\"values\":[7055,7911,7010,8348,7536,9636,7277,7066,9430,5740]},{\"label\":\"od_type\",\"range\":[0,1],\"ticktext\":[\"IncToDec\",\"Iter\"],\"tickvals\":[0,1],\"values\":[0,0,1,0,0,1,0,0,0,1]},{\"label\":\"random_strength\",\"range\":[1,80],\"values\":[57,45,1,80,67,64,71,31,17,58]}],\"labelangle\":30,\"labelside\":\"bottom\",\"line\":{\"color\":[0.5031172069825436,0.6120141342756183,0.6064782908339077,0.5110329389190917,0.4790037648421662,0.5996447602131438,0.5803786574870913,0.529373368146214,0.6210909090909091,0.588939767523776],\"colorbar\":{\"title\":{\"text\":\"Objective Value\"}},\"colorscale\":[[0.0,\"rgb(247,251,255)\"],[0.125,\"rgb(222,235,247)\"],[0.25,\"rgb(198,219,239)\"],[0.375,\"rgb(158,202,225)\"],[0.5,\"rgb(107,174,214)\"],[0.625,\"rgb(66,146,198)\"],[0.75,\"rgb(33,113,181)\"],[0.875,\"rgb(8,81,156)\"],[1.0,\"rgb(8,48,107)\"]],\"reversescale\":false,\"showscale\":true},\"type\":\"parcoords\"}],                        {\"title\":{\"text\":\"Parallel Coordinate Plot\"},\"template\":{\"data\":{\"histogram2dcontour\":[{\"type\":\"histogram2dcontour\",\"colorbar\":{\"outlinewidth\":0,\"ticks\":\"\"},\"colorscale\":[[0.0,\"#0d0887\"],[0.1111111111111111,\"#46039f\"],[0.2222222222222222,\"#7201a8\"],[0.3333333333333333,\"#9c179e\"],[0.4444444444444444,\"#bd3786\"],[0.5555555555555556,\"#d8576b\"],[0.6666666666666666,\"#ed7953\"],[0.7777777777777778,\"#fb9f3a\"],[0.8888888888888888,\"#fdca26\"],[1.0,\"#f0f921\"]]}],\"choropleth\":[{\"type\":\"choropleth\",\"colorbar\":{\"outlinewidth\":0,\"ticks\":\"\"}}],\"histogram2d\":[{\"type\":\"histogram2d\",\"colorbar\":{\"outlinewidth\":0,\"ticks\":\"\"},\"colorscale\":[[0.0,\"#0d0887\"],[0.1111111111111111,\"#46039f\"],[0.2222222222222222,\"#7201a8\"],[0.3333333333333333,\"#9c179e\"],[0.4444444444444444,\"#bd3786\"],[0.5555555555555556,\"#d8576b\"],[0.6666666666666666,\"#ed7953\"],[0.7777777777777778,\"#fb9f3a\"],[0.8888888888888888,\"#fdca26\"],[1.0,\"#f0f921\"]]}],\"heatmap\":[{\"type\":\"heatmap\",\"colorbar\":{\"outlinewidth\":0,\"ticks\":\"\"},\"colorscale\":[[0.0,\"#0d0887\"],[0.1111111111111111,\"#46039f\"],[0.2222222222222222,\"#7201a8\"],[0.3333333333333333,\"#9c179e\"],[0.4444444444444444,\"#bd3786\"],[0.5555555555555556,\"#d8576b\"],[0.6666666666666666,\"#ed7953\"],[0.7777777777777778,\"#fb9f3a\"],[0.8888888888888888,\"#fdca26\"],[1.0,\"#f0f921\"]]}],\"heatmapgl\":[{\"type\":\"heatmapgl\",\"colorbar\":{\"outlinewidth\":0,\"ticks\":\"\"},\"colorscale\":[[0.0,\"#0d0887\"],[0.1111111111111111,\"#46039f\"],[0.2222222222222222,\"#7201a8\"],[0.3333333333333333,\"#9c179e\"],[0.4444444444444444,\"#bd3786\"],[0.5555555555555556,\"#d8576b\"],[0.6666666666666666,\"#ed7953\"],[0.7777777777777778,\"#fb9f3a\"],[0.8888888888888888,\"#fdca26\"],[1.0,\"#f0f921\"]]}],\"contourcarpet\":[{\"type\":\"contourcarpet\",\"colorbar\":{\"outlinewidth\":0,\"ticks\":\"\"}}],\"contour\":[{\"type\":\"contour\",\"colorbar\":{\"outlinewidth\":0,\"ticks\":\"\"},\"colorscale\":[[0.0,\"#0d0887\"],[0.1111111111111111,\"#46039f\"],[0.2222222222222222,\"#7201a8\"],[0.3333333333333333,\"#9c179e\"],[0.4444444444444444,\"#bd3786\"],[0.5555555555555556,\"#d8576b\"],[0.6666666666666666,\"#ed7953\"],[0.7777777777777778,\"#fb9f3a\"],[0.8888888888888888,\"#fdca26\"],[1.0,\"#f0f921\"]]}],\"surface\":[{\"type\":\"surface\",\"colorbar\":{\"outlinewidth\":0,\"ticks\":\"\"},\"colorscale\":[[0.0,\"#0d0887\"],[0.1111111111111111,\"#46039f\"],[0.2222222222222222,\"#7201a8\"],[0.3333333333333333,\"#9c179e\"],[0.4444444444444444,\"#bd3786\"],[0.5555555555555556,\"#d8576b\"],[0.6666666666666666,\"#ed7953\"],[0.7777777777777778,\"#fb9f3a\"],[0.8888888888888888,\"#fdca26\"],[1.0,\"#f0f921\"]]}],\"mesh3d\":[{\"type\":\"mesh3d\",\"colorbar\":{\"outlinewidth\":0,\"ticks\":\"\"}}],\"scatter\":[{\"fillpattern\":{\"fillmode\":\"overlay\",\"size\":10,\"solidity\":0.2},\"type\":\"scatter\"}],\"parcoords\":[{\"type\":\"parcoords\",\"line\":{\"colorbar\":{\"outlinewidth\":0,\"ticks\":\"\"}}}],\"scatterpolargl\":[{\"type\":\"scatterpolargl\",\"marker\":{\"colorbar\":{\"outlinewidth\":0,\"ticks\":\"\"}}}],\"bar\":[{\"error_x\":{\"color\":\"#2a3f5f\"},\"error_y\":{\"color\":\"#2a3f5f\"},\"marker\":{\"line\":{\"color\":\"#E5ECF6\",\"width\":0.5},\"pattern\":{\"fillmode\":\"overlay\",\"size\":10,\"solidity\":0.2}},\"type\":\"bar\"}],\"scattergeo\":[{\"type\":\"scattergeo\",\"marker\":{\"colorbar\":{\"outlinewidth\":0,\"ticks\":\"\"}}}],\"scatterpolar\":[{\"type\":\"scatterpolar\",\"marker\":{\"colorbar\":{\"outlinewidth\":0,\"ticks\":\"\"}}}],\"histogram\":[{\"marker\":{\"pattern\":{\"fillmode\":\"overlay\",\"size\":10,\"solidity\":0.2}},\"type\":\"histogram\"}],\"scattergl\":[{\"type\":\"scattergl\",\"marker\":{\"colorbar\":{\"outlinewidth\":0,\"ticks\":\"\"}}}],\"scatter3d\":[{\"type\":\"scatter3d\",\"line\":{\"colorbar\":{\"outlinewidth\":0,\"ticks\":\"\"}},\"marker\":{\"colorbar\":{\"outlinewidth\":0,\"ticks\":\"\"}}}],\"scattermapbox\":[{\"type\":\"scattermapbox\",\"marker\":{\"colorbar\":{\"outlinewidth\":0,\"ticks\":\"\"}}}],\"scatterternary\":[{\"type\":\"scatterternary\",\"marker\":{\"colorbar\":{\"outlinewidth\":0,\"ticks\":\"\"}}}],\"scattercarpet\":[{\"type\":\"scattercarpet\",\"marker\":{\"colorbar\":{\"outlinewidth\":0,\"ticks\":\"\"}}}],\"carpet\":[{\"aaxis\":{\"endlinecolor\":\"#2a3f5f\",\"gridcolor\":\"white\",\"linecolor\":\"white\",\"minorgridcolor\":\"white\",\"startlinecolor\":\"#2a3f5f\"},\"baxis\":{\"endlinecolor\":\"#2a3f5f\",\"gridcolor\":\"white\",\"linecolor\":\"white\",\"minorgridcolor\":\"white\",\"startlinecolor\":\"#2a3f5f\"},\"type\":\"carpet\"}],\"table\":[{\"cells\":{\"fill\":{\"color\":\"#EBF0F8\"},\"line\":{\"color\":\"white\"}},\"header\":{\"fill\":{\"color\":\"#C8D4E3\"},\"line\":{\"color\":\"white\"}},\"type\":\"table\"}],\"barpolar\":[{\"marker\":{\"line\":{\"color\":\"#E5ECF6\",\"width\":0.5},\"pattern\":{\"fillmode\":\"overlay\",\"size\":10,\"solidity\":0.2}},\"type\":\"barpolar\"}],\"pie\":[{\"automargin\":true,\"type\":\"pie\"}]},\"layout\":{\"autotypenumbers\":\"strict\",\"colorway\":[\"#636efa\",\"#EF553B\",\"#00cc96\",\"#ab63fa\",\"#FFA15A\",\"#19d3f3\",\"#FF6692\",\"#B6E880\",\"#FF97FF\",\"#FECB52\"],\"font\":{\"color\":\"#2a3f5f\"},\"hovermode\":\"closest\",\"hoverlabel\":{\"align\":\"left\"},\"paper_bgcolor\":\"white\",\"plot_bgcolor\":\"#E5ECF6\",\"polar\":{\"bgcolor\":\"#E5ECF6\",\"angularaxis\":{\"gridcolor\":\"white\",\"linecolor\":\"white\",\"ticks\":\"\"},\"radialaxis\":{\"gridcolor\":\"white\",\"linecolor\":\"white\",\"ticks\":\"\"}},\"ternary\":{\"bgcolor\":\"#E5ECF6\",\"aaxis\":{\"gridcolor\":\"white\",\"linecolor\":\"white\",\"ticks\":\"\"},\"baxis\":{\"gridcolor\":\"white\",\"linecolor\":\"white\",\"ticks\":\"\"},\"caxis\":{\"gridcolor\":\"white\",\"linecolor\":\"white\",\"ticks\":\"\"}},\"coloraxis\":{\"colorbar\":{\"outlinewidth\":0,\"ticks\":\"\"}},\"colorscale\":{\"sequential\":[[0.0,\"#0d0887\"],[0.1111111111111111,\"#46039f\"],[0.2222222222222222,\"#7201a8\"],[0.3333333333333333,\"#9c179e\"],[0.4444444444444444,\"#bd3786\"],[0.5555555555555556,\"#d8576b\"],[0.6666666666666666,\"#ed7953\"],[0.7777777777777778,\"#fb9f3a\"],[0.8888888888888888,\"#fdca26\"],[1.0,\"#f0f921\"]],\"sequentialminus\":[[0.0,\"#0d0887\"],[0.1111111111111111,\"#46039f\"],[0.2222222222222222,\"#7201a8\"],[0.3333333333333333,\"#9c179e\"],[0.4444444444444444,\"#bd3786\"],[0.5555555555555556,\"#d8576b\"],[0.6666666666666666,\"#ed7953\"],[0.7777777777777778,\"#fb9f3a\"],[0.8888888888888888,\"#fdca26\"],[1.0,\"#f0f921\"]],\"diverging\":[[0,\"#8e0152\"],[0.1,\"#c51b7d\"],[0.2,\"#de77ae\"],[0.3,\"#f1b6da\"],[0.4,\"#fde0ef\"],[0.5,\"#f7f7f7\"],[0.6,\"#e6f5d0\"],[0.7,\"#b8e186\"],[0.8,\"#7fbc41\"],[0.9,\"#4d9221\"],[1,\"#276419\"]]},\"xaxis\":{\"gridcolor\":\"white\",\"linecolor\":\"white\",\"ticks\":\"\",\"title\":{\"standoff\":15},\"zerolinecolor\":\"white\",\"automargin\":true,\"zerolinewidth\":2},\"yaxis\":{\"gridcolor\":\"white\",\"linecolor\":\"white\",\"ticks\":\"\",\"title\":{\"standoff\":15},\"zerolinecolor\":\"white\",\"automargin\":true,\"zerolinewidth\":2},\"scene\":{\"xaxis\":{\"backgroundcolor\":\"#E5ECF6\",\"gridcolor\":\"white\",\"linecolor\":\"white\",\"showbackground\":true,\"ticks\":\"\",\"zerolinecolor\":\"white\",\"gridwidth\":2},\"yaxis\":{\"backgroundcolor\":\"#E5ECF6\",\"gridcolor\":\"white\",\"linecolor\":\"white\",\"showbackground\":true,\"ticks\":\"\",\"zerolinecolor\":\"white\",\"gridwidth\":2},\"zaxis\":{\"backgroundcolor\":\"#E5ECF6\",\"gridcolor\":\"white\",\"linecolor\":\"white\",\"showbackground\":true,\"ticks\":\"\",\"zerolinecolor\":\"white\",\"gridwidth\":2}},\"shapedefaults\":{\"line\":{\"color\":\"#2a3f5f\"}},\"annotationdefaults\":{\"arrowcolor\":\"#2a3f5f\",\"arrowhead\":0,\"arrowwidth\":1},\"geo\":{\"bgcolor\":\"white\",\"landcolor\":\"#E5ECF6\",\"subunitcolor\":\"white\",\"showland\":true,\"showlakes\":true,\"lakecolor\":\"white\"},\"title\":{\"x\":0.05},\"mapbox\":{\"style\":\"light\"}}}},                        {\"responsive\": true}                    ).then(function(){\n                            \nvar gd = document.getElementById('3b908c32-d8a2-42a4-a8e3-cdd9f00ac69c');\nvar x = new MutationObserver(function (mutations, observer) {{\n        var display = window.getComputedStyle(gd).display;\n        if (!display || display === 'none') {{\n            console.log([gd, 'removed!']);\n            Plotly.purge(gd);\n            observer.disconnect();\n        }}\n}});\n\n// Listen for the removal of the full notebook cells\nvar notebookContainer = gd.closest('#notebook-container');\nif (notebookContainer) {{\n    x.observe(notebookContainer, {childList: true});\n}}\n\n// Listen for the clearing of the current output cell\nvar outputEl = gd.closest('.output');\nif (outputEl) {{\n    x.observe(outputEl, {childList: true});\n}}\n\n                        })                };                });            </script>        </div>"
     },
     "metadata": {},
     "output_type": "display_data"
    }
   ],
   "source": [
    "optuna.visualization.plot_parallel_coordinate(study)"
   ],
   "metadata": {
    "collapsed": false,
    "ExecuteTime": {
     "start_time": "2024-02-20T22:26:52.692542Z",
     "end_time": "2024-02-20T22:26:52.726549Z"
    }
   }
  },
  {
   "cell_type": "code",
   "execution_count": null,
   "id": "05dc528b",
   "metadata": {
    "ExecuteTime": {
     "start_time": "2024-02-21T23:25:34.655915Z",
     "end_time": "2024-02-21T23:25:49.059906Z"
    },
    "pycharm": {
     "is_executing": true
    }
   },
   "outputs": [
    {
     "name": "stdout",
     "output_type": "stream",
     "text": [
      "0:\tlearn: 0.0006427\ttest: 0.0000000\tbest: 0.0000000 (0)\ttotal: 254ms\tremaining: 31m 54s\n",
      "100:\tlearn: 0.0409191\ttest: 0.0602342\tbest: 0.0602342 (100)\ttotal: 12.1s\tremaining: 14m 49s\n",
      "200:\tlearn: 0.3492638\ttest: 0.3794183\tbest: 0.3794183 (200)\ttotal: 24s\tremaining: 14m 35s\n",
      "300:\tlearn: 0.4246641\ttest: 0.4459346\tbest: 0.4459346 (300)\ttotal: 34.4s\tremaining: 13m 47s\n",
      "400:\tlearn: 0.4686924\ttest: 0.4854369\tbest: 0.4854369 (399)\ttotal: 45.2s\tremaining: 13m 23s\n",
      "500:\tlearn: 0.4939705\ttest: 0.5152941\tbest: 0.5152941 (500)\ttotal: 56.9s\tremaining: 13m 19s\n"
     ]
    }
   ],
   "source": [
    "best_params = study.best_trial.params\n",
    "best_params[\"eval_metric\"] = 'F1'\n",
    "best_params[\"random_state\"] = 57\n",
    "# best_cat = CatBoostClassifier(task_type=\"GPU\", **best_params)\n",
    "best_cat = CatBoostClassifier(**best_params)\n",
    "best_cat.fit(x_train, y_train,\n",
    "             eval_set=[(x_val, y_val)],\n",
    "             early_stopping_rounds=100,\n",
    "             cat_features=categorical_features_indices,\n",
    "             verbose=100)\n",
    "\n",
    "\n",
    "y_pred = best_cat.predict(x_val)\n",
    "y_pred_bool = np.where(y_pred == 'True', True, False)\n",
    "print(y_pred)\n",
    "\n",
    "get_clf_eval(y_val, y_pred)"
   ]
  },
  {
   "cell_type": "code",
   "execution_count": 31,
   "outputs": [],
   "source": [
    "import catboost"
   ],
   "metadata": {
    "collapsed": false,
    "ExecuteTime": {
     "start_time": "2024-02-20T21:28:40.242903Z",
     "end_time": "2024-02-20T21:28:40.257420Z"
    }
   }
  },
  {
   "cell_type": "code",
   "execution_count": 32,
   "outputs": [
    {
     "name": "stdout",
     "output_type": "stream",
     "text": [
      "Feature 0: 2.9416803160629277\n",
      "Feature 1: 2.5898049987668474\n",
      "Feature 2: 2.5146425969868655\n",
      "Feature 3: 5.74656138827377\n",
      "Feature 4: 1.6672898500776945\n",
      "Feature 5: 5.07231157560386\n",
      "Feature 6: 8.024620488039126\n",
      "Feature 7: 7.760590202465571\n",
      "Feature 8: 6.208947779009367\n",
      "Feature 9: 2.4498614244539407\n",
      "Feature 10: 6.628666894689248\n",
      "Feature 11: 2.380133099077461\n",
      "Feature 12: 0.3459969367677758\n",
      "Feature 13: 0.38243968135189094\n",
      "Feature 14: 4.564382199521615\n",
      "Feature 15: 23.361021861301392\n",
      "Feature 16: 3.702970695237982\n",
      "Feature 17: 9.04019812001144\n",
      "Feature 18: 0.14028071372222578\n",
      "Feature 19: 0.3297743029930317\n",
      "Feature 20: 0.5484069893994463\n",
      "Feature 21: 1.8111169158865874\n",
      "Feature 22: 1.7883009702999453\n"
     ]
    }
   ],
   "source": [
    "feature_importance = best_cat.get_feature_importance(data=catboost.Pool(data=x_train, label=y_train, cat_features=categorical_features_indices), type='FeatureImportance')\n",
    "\n",
    "# 각 특성에 대한 중요도를 출력합니다.\n",
    "for i, score in enumerate(feature_importance):\n",
    "    print(f'Feature {i}: {score}')"
   ],
   "metadata": {
    "collapsed": false,
    "ExecuteTime": {
     "start_time": "2024-02-20T21:28:40.259749Z",
     "end_time": "2024-02-20T21:28:40.985834Z"
    }
   }
  },
  {
   "cell_type": "code",
   "execution_count": 33,
   "outputs": [
    {
     "data": {
      "text/plain": "<Figure size 1000x600 with 1 Axes>",
      "image/png": "[encoded data removed]"
     },
     "metadata": {},
     "output_type": "display_data"
    }
   ],
   "source": [
    "\n",
    "import matplotlib.pyplot as plt\n",
    "\n",
    "# 특성의 중요도를 추출합니다.\n",
    "feature_importance = best_cat.get_feature_importance(data=catboost.Pool(data=x_train, label=y_train, cat_features=categorical_features_indices), type='FeatureImportance')\n",
    "\n",
    "# 특성의 이름을 가져옵니다.\n",
    "feature_names = x_train.columns\n",
    "\n",
    "# 중요도와 특성 이름을 연결합니다.\n",
    "feature_importance_dict = dict(zip(feature_names, feature_importance))\n",
    "\n",
    "# 중요도를 기준으로 내림차순으로 정렬합니다.\n",
    "sorted_feature_importance = sorted(feature_importance_dict.items(), key=lambda x: x[1], reverse=True)\n",
    "\n",
    "# 시각화를 위해 특성 중요도를 추출합니다.\n",
    "sorted_features = [x[0] for x in sorted_feature_importance]\n",
    "sorted_importances = [x[1] for x in sorted_feature_importance]\n",
    "\n",
    "# 중요도를 막대 그래프로 시각화합니다.\n",
    "plt.figure(figsize=(10, 6))\n",
    "plt.barh(sorted_features, sorted_importances)\n",
    "plt.xlabel('Feature Importance')\n",
    "plt.ylabel('Feature')\n",
    "plt.title('CatBoost Feature Importance')\n",
    "plt.show()"
   ],
   "metadata": {
    "collapsed": false,
    "ExecuteTime": {
     "start_time": "2024-02-20T21:28:40.990848Z",
     "end_time": "2024-02-20T21:28:41.942223Z"
    }
   }
  },
  {
   "cell_type": "code",
   "execution_count": 34,
   "outputs": [
    {
     "name": "stdout",
     "output_type": "stream",
     "text": [
      "[('lead_owner', 23.361021861301392), ('historical_existing_cnt', 9.04019812001144), ('lead_desc_length', 8.024620488039126), ('inquiry_type', 7.760590202465571), ('response_corporate', 6.628666894689248), ('product_category', 6.208947779009367), ('customer_type', 5.74656138827377), ('customer_job', 5.07231157560386), ('business_area', 4.564382199521615), ('com_reg_ver_win_rate', 3.702970695237982), ('bant_submit', 2.9416803160629277), ('customer_country', 2.5898049987668474), ('business_unit', 2.5146425969868655), ('customer_position', 2.4498614244539407), ('expected_timeline', 2.380133099077461), ('ver_win_rate_x', 1.8111169158865874), ('ver_win_ratio_per_bu', 1.7883009702999453), ('enterprise', 1.6672898500776945), ('idit_strategic_ver', 0.5484069893994463), ('ver_pro', 0.38243968135189094), ('ver_cus', 0.3459969367677758), ('it_strategic_ver', 0.3297743029930317), ('id_strategic_ver', 0.14028071372222578)]\n"
     ]
    }
   ],
   "source": [
    "print(sorted_feature_importance)"
   ],
   "metadata": {
    "collapsed": false,
    "ExecuteTime": {
     "start_time": "2024-02-20T21:28:41.941223Z",
     "end_time": "2024-02-20T21:28:41.954052Z"
    }
   }
  },
  {
   "cell_type": "markdown",
   "id": "7adf8300",
   "metadata": {},
   "source": [
    "## 4. 제출하기"
   ]
  },
  {
   "cell_type": "code",
   "execution_count": 35,
   "id": "a64604f7",
   "metadata": {
    "ExecuteTime": {
     "start_time": "2024-02-20T21:28:41.955554Z",
     "end_time": "2024-02-20T21:28:42.061829Z"
    }
   },
   "outputs": [],
   "source": [
    "# skf = StratifiedKFold(n_splits=5, shuffle=True, random_state=44)\n",
    "# folds = []\n",
    "# for train_idx, valid_idx in skf.split(df_train, df_train['is_converted']):\n",
    "#   folds.append((train_idx,valid_idx))"
   ]
  },
  {
   "cell_type": "code",
   "execution_count": 36,
   "id": "1b4d30d7",
   "metadata": {
    "ExecuteTime": {
     "start_time": "2024-02-20T21:28:41.971972Z",
     "end_time": "2024-02-20T21:28:42.061829Z"
    }
   },
   "outputs": [],
   "source": [
    "# random.seed(44)\n",
    "# cat_models={}\n",
    "#\n",
    "# cat_features = categorical_features_indices\n",
    "# df_train = df_train.fillna(0)\n",
    "# for fold in range(5):\n",
    "#   print(f'===================================={fold+1}============================================')\n",
    "#   train_idx, valid_idx = folds[fold]\n",
    "#   X_train = df_train.drop(['is_converted'],axis=1).iloc[train_idx].values\n",
    "#   X_valid = df_train.drop(['is_converted'],axis=1).iloc[valid_idx].values\n",
    "#   y_train = df_train['is_converted'][train_idx].values\n",
    "#   y_valid = df_train['is_converted'][valid_idx].values\n",
    "#\n",
    "#   cat = CatBoostClassifier(**study.best_params)\n",
    "#   cat.fit(X_train, y_train,\n",
    "#           eval_set=[(X_train, y_train), (X_valid,y_valid)],\n",
    "#           early_stopping_rounds=35,cat_features=cat_features,\n",
    "#           verbose=100)\n",
    "#   cat_models[fold] = cat\n",
    "#   print(f'================================================================================\\n\\n')"
   ]
  },
  {
   "cell_type": "code",
   "execution_count": 45,
   "outputs": [
    {
     "name": "stdout",
     "output_type": "stream",
     "text": [
      "<class 'pandas.core.frame.DataFrame'>\n",
      "RangeIndex: 5271 entries, 0 to 5270\n",
      "Data columns (total 23 columns):\n",
      " #   Column                   Non-Null Count  Dtype  \n",
      "---  ------                   --------------  -----  \n",
      " 0   bant_submit              5271 non-null   object \n",
      " 1   customer_country         5271 non-null   object \n",
      " 2   business_unit            5271 non-null   object \n",
      " 3   com_reg_ver_win_rate     1788 non-null   float64\n",
      " 4   customer_type            5271 non-null   object \n",
      " 5   enterprise               5271 non-null   object \n",
      " 6   historical_existing_cnt  1275 non-null   float64\n",
      " 7   id_strategic_ver         593 non-null    float64\n",
      " 8   it_strategic_ver         53 non-null     float64\n",
      " 9   idit_strategic_ver       646 non-null    float64\n",
      " 10  customer_job             5271 non-null   object \n",
      " 11  lead_desc_length         5271 non-null   object \n",
      " 12  inquiry_type             5271 non-null   object \n",
      " 13  product_category         5271 non-null   object \n",
      " 14  customer_position        5271 non-null   object \n",
      " 15  response_corporate       5271 non-null   object \n",
      " 16  expected_timeline        5271 non-null   object \n",
      " 17  ver_cus                  5271 non-null   object \n",
      " 18  ver_pro                  5271 non-null   object \n",
      " 19  ver_win_rate_x           2373 non-null   float64\n",
      " 20  ver_win_ratio_per_bu     1906 non-null   float64\n",
      " 21  business_area            5271 non-null   object \n",
      " 22  lead_owner               5271 non-null   object \n",
      "dtypes: float64(7), object(16)\n",
      "memory usage: 947.3+ KB\n"
     ]
    }
   ],
   "source": [
    "df_test = df_test.drop([\"is_converted\", \"id\"], axis=1)\n",
    "df_test.info()"
   ],
   "metadata": {
    "collapsed": false,
    "ExecuteTime": {
     "start_time": "2024-02-20T22:31:11.108598Z",
     "end_time": "2024-02-20T22:31:11.122104Z"
    }
   }
  },
  {
   "cell_type": "code",
   "execution_count": 46,
   "outputs": [],
   "source": [
    "df_test = df_test.fillna(0)\n",
    "# numeric_cols_test = df_test.select_dtypes(include=['float64'])\n",
    "# print(numeric_cols_test)\n",
    "# print(numeric_cols_train)\n",
    "# # 학습 데이터에서 사용한 RobustScaler 객체를 사용하여 테스트 데이터에 대해 변환을 수행\n",
    "# test_data_robustScaled = pd.DataFrame(robustScaler.transform(numeric_cols_test), columns=numeric_cols_test.columns)\n",
    "# # test_data_robustScaled = pd.DataFrame(standardScaler.transform(numeric_cols_test), columns=numeric_cols_test.columns)\n",
    "# # 변환된 데이터와 기존의 데이터프레임을 합침\n",
    "# df_test_robustScaled = pd.concat([df_test.drop(columns=numeric_cols_test.columns), test_data_robustScaled], axis=1)\n",
    "#\n",
    "# # 데이터프레임의 정보 확인\n",
    "# print(df_test_robustScaled.info())\n",
    "# df_test = df_test_robustScaled"
   ],
   "metadata": {
    "collapsed": false,
    "ExecuteTime": {
     "start_time": "2024-02-20T22:31:12.406078Z",
     "end_time": "2024-02-20T22:31:12.430117Z"
    }
   }
  },
  {
   "cell_type": "code",
   "execution_count": 39,
   "id": "c3a055a4",
   "metadata": {
    "ExecuteTime": {
     "start_time": "2024-02-20T21:28:42.033171Z",
     "end_time": "2024-02-20T21:28:42.062830Z"
    }
   },
   "outputs": [],
   "source": [
    "  # 테스트 데이터의 결측치 처리\n",
    "# # X_test = df_test.drop(['is_converted', 'id'], axis=1).values\n",
    "# X_test = df_test.values"
   ]
  },
  {
   "cell_type": "code",
   "execution_count": 40,
   "id": "fe20a16e",
   "metadata": {
    "ExecuteTime": {
     "start_time": "2024-02-20T21:28:42.049524Z",
     "end_time": "2024-02-20T21:28:42.062830Z"
    }
   },
   "outputs": [],
   "source": [
    "# test_predictions = np.zeros((X_test.shape[0], len(cat_models)))\n",
    "#\n",
    "# for fold, cat in cat_models.items():\n",
    "#     test_predictions[:, fold] = cat.predict_proba(X_test)[:, 1]  # 양성 클래스에 대한 확률\n",
    "#\n",
    "# # 각 fold에서의 예측 결과의 평균을 최종 예측 결과로 사용\n",
    "# final_predictions = np.mean(test_predictions, axis=1)\n",
    "# final_labels = (final_predictions > 0.5).astype(int)\n",
    "# sum(final_labels)"
   ]
  },
  {
   "cell_type": "markdown",
   "id": "9d0b6e17",
   "metadata": {},
   "source": [
    "### 테스트 데이터 예측"
   ]
  },
  {
   "cell_type": "markdown",
   "source": [],
   "metadata": {
    "collapsed": false
   }
  },
  {
   "cell_type": "code",
   "execution_count": 41,
   "id": "6e1f4247",
   "metadata": {
    "ExecuteTime": {
     "start_time": "2024-02-20T21:28:42.064830Z",
     "end_time": "2024-02-20T21:28:42.080356Z"
    }
   },
   "outputs": [],
   "source": [
    "# 예측에 필요한 데이터 분리\n",
    "# x_test = df_test.drop([\"is_converted\", \"id\"], axis=1)\n",
    "# x_test = df_test.drop([\"is_converted\"], axis=1)"
   ]
  },
  {
   "cell_type": "code",
   "execution_count": 42,
   "outputs": [],
   "source": [
    "\n",
    "# df_test['lead_owner'] = df_test['lead_owner'].astype('str')\n",
    "# x_test.info()"
   ],
   "metadata": {
    "collapsed": false,
    "ExecuteTime": {
     "start_time": "2024-02-20T21:28:42.080356Z",
     "end_time": "2024-02-20T21:28:42.123852Z"
    }
   }
  },
  {
   "cell_type": "code",
   "execution_count": 52,
   "id": "d13f7a6e",
   "metadata": {
    "ExecuteTime": {
     "start_time": "2024-02-20T22:03:08.379464Z",
     "end_time": "2024-02-20T22:03:08.425015Z"
    }
   },
   "outputs": [
    {
     "ename": "CatBoostError",
     "evalue": "Invalid type for cat_feature[non-default value idx=0,feature_idx=3]=0.0732484076433121 : cat_features must be integer or string, real number values and NaN values should be converted to string.",
     "output_type": "error",
     "traceback": [
      "\u001B[1;31m---------------------------------------------------------------------------\u001B[0m",
      "\u001B[1;31mCatBoostError\u001B[0m                             Traceback (most recent call last)",
      "File \u001B[1;32m_catboost.pyx:2372\u001B[0m, in \u001B[0;36m_catboost.get_cat_factor_bytes_representation\u001B[1;34m()\u001B[0m\n",
      "File \u001B[1;32m_catboost.pyx:1892\u001B[0m, in \u001B[0;36m_catboost.get_id_object_bytes_string_representation\u001B[1;34m()\u001B[0m\n",
      "\u001B[1;31mCatBoostError\u001B[0m: bad object for id: 0.0732484076433121",
      "\nDuring handling of the above exception, another exception occurred:\n",
      "\u001B[1;31mCatBoostError\u001B[0m                             Traceback (most recent call last)",
      "Cell \u001B[1;32mIn[52], line 1\u001B[0m\n\u001B[1;32m----> 1\u001B[0m test_pred \u001B[38;5;241m=\u001B[39m \u001B[43mbest_cat\u001B[49m\u001B[38;5;241;43m.\u001B[39;49m\u001B[43mpredict\u001B[49m\u001B[43m(\u001B[49m\u001B[43mdf_test\u001B[49m\u001B[43m)\u001B[49m\n\u001B[0;32m      3\u001B[0m pred_bool \u001B[38;5;241m=\u001B[39m np\u001B[38;5;241m.\u001B[39mwhere(test_pred \u001B[38;5;241m==\u001B[39m \u001B[38;5;124m'\u001B[39m\u001B[38;5;124mTrue\u001B[39m\u001B[38;5;124m'\u001B[39m, \u001B[38;5;28;01mTrue\u001B[39;00m, \u001B[38;5;28;01mFalse\u001B[39;00m)\n\u001B[0;32m      4\u001B[0m \u001B[38;5;66;03m# sum(pred_bool) # True로 예측된 개수\u001B[39;00m\n",
      "File \u001B[1;32m~\\anaconda3\\lib\\site-packages\\catboost\\core.py:5156\u001B[0m, in \u001B[0;36mCatBoostClassifier.predict\u001B[1;34m(self, data, prediction_type, ntree_start, ntree_end, thread_count, verbose, task_type)\u001B[0m\n\u001B[0;32m   5105\u001B[0m \u001B[38;5;28;01mdef\u001B[39;00m \u001B[38;5;21mpredict\u001B[39m(\u001B[38;5;28mself\u001B[39m, data, prediction_type\u001B[38;5;241m=\u001B[39m\u001B[38;5;124m'\u001B[39m\u001B[38;5;124mClass\u001B[39m\u001B[38;5;124m'\u001B[39m, ntree_start\u001B[38;5;241m=\u001B[39m\u001B[38;5;241m0\u001B[39m, ntree_end\u001B[38;5;241m=\u001B[39m\u001B[38;5;241m0\u001B[39m, thread_count\u001B[38;5;241m=\u001B[39m\u001B[38;5;241m-\u001B[39m\u001B[38;5;241m1\u001B[39m, verbose\u001B[38;5;241m=\u001B[39m\u001B[38;5;28;01mNone\u001B[39;00m, task_type\u001B[38;5;241m=\u001B[39m\u001B[38;5;124m\"\u001B[39m\u001B[38;5;124mCPU\u001B[39m\u001B[38;5;124m\"\u001B[39m):\n\u001B[0;32m   5106\u001B[0m \u001B[38;5;250m    \u001B[39m\u001B[38;5;124;03m\"\"\"\u001B[39;00m\n\u001B[0;32m   5107\u001B[0m \u001B[38;5;124;03m    Predict with data.\u001B[39;00m\n\u001B[0;32m   5108\u001B[0m \n\u001B[1;32m   (...)\u001B[0m\n\u001B[0;32m   5154\u001B[0m \u001B[38;5;124;03m              with log probability for every class for each object.\u001B[39;00m\n\u001B[0;32m   5155\u001B[0m \u001B[38;5;124;03m    \"\"\"\u001B[39;00m\n\u001B[1;32m-> 5156\u001B[0m     \u001B[38;5;28;01mreturn\u001B[39;00m \u001B[38;5;28;43mself\u001B[39;49m\u001B[38;5;241;43m.\u001B[39;49m\u001B[43m_predict\u001B[49m\u001B[43m(\u001B[49m\u001B[43mdata\u001B[49m\u001B[43m,\u001B[49m\u001B[43m \u001B[49m\u001B[43mprediction_type\u001B[49m\u001B[43m,\u001B[49m\u001B[43m \u001B[49m\u001B[43mntree_start\u001B[49m\u001B[43m,\u001B[49m\u001B[43m \u001B[49m\u001B[43mntree_end\u001B[49m\u001B[43m,\u001B[49m\u001B[43m \u001B[49m\u001B[43mthread_count\u001B[49m\u001B[43m,\u001B[49m\u001B[43m \u001B[49m\u001B[43mverbose\u001B[49m\u001B[43m,\u001B[49m\u001B[43m \u001B[49m\u001B[38;5;124;43m'\u001B[39;49m\u001B[38;5;124;43mpredict\u001B[39;49m\u001B[38;5;124;43m'\u001B[39;49m\u001B[43m,\u001B[49m\u001B[43m \u001B[49m\u001B[43mtask_type\u001B[49m\u001B[43m)\u001B[49m\n",
      "File \u001B[1;32m~\\anaconda3\\lib\\site-packages\\catboost\\core.py:2505\u001B[0m, in \u001B[0;36mCatBoost._predict\u001B[1;34m(self, data, prediction_type, ntree_start, ntree_end, thread_count, verbose, parent_method_name, task_type)\u001B[0m\n\u001B[0;32m   2503\u001B[0m \u001B[38;5;28;01mif\u001B[39;00m verbose \u001B[38;5;129;01mis\u001B[39;00m \u001B[38;5;28;01mNone\u001B[39;00m:\n\u001B[0;32m   2504\u001B[0m     verbose \u001B[38;5;241m=\u001B[39m \u001B[38;5;28;01mFalse\u001B[39;00m\n\u001B[1;32m-> 2505\u001B[0m data, data_is_single_object \u001B[38;5;241m=\u001B[39m \u001B[38;5;28;43mself\u001B[39;49m\u001B[38;5;241;43m.\u001B[39;49m\u001B[43m_process_predict_input_data\u001B[49m\u001B[43m(\u001B[49m\u001B[43mdata\u001B[49m\u001B[43m,\u001B[49m\u001B[43m \u001B[49m\u001B[43mparent_method_name\u001B[49m\u001B[43m,\u001B[49m\u001B[43m \u001B[49m\u001B[43mthread_count\u001B[49m\u001B[43m)\u001B[49m\n\u001B[0;32m   2506\u001B[0m \u001B[38;5;28mself\u001B[39m\u001B[38;5;241m.\u001B[39m_validate_prediction_type(prediction_type)\n\u001B[0;32m   2508\u001B[0m predictions \u001B[38;5;241m=\u001B[39m \u001B[38;5;28mself\u001B[39m\u001B[38;5;241m.\u001B[39m_base_predict(data, prediction_type, ntree_start, ntree_end, thread_count, verbose, task_type)\n",
      "File \u001B[1;32m~\\anaconda3\\lib\\site-packages\\catboost\\core.py:2485\u001B[0m, in \u001B[0;36mCatBoost._process_predict_input_data\u001B[1;34m(self, data, parent_method_name, thread_count, label)\u001B[0m\n\u001B[0;32m   2483\u001B[0m is_single_object \u001B[38;5;241m=\u001B[39m _is_data_single_object(data)\n\u001B[0;32m   2484\u001B[0m \u001B[38;5;28;01mif\u001B[39;00m \u001B[38;5;129;01mnot\u001B[39;00m \u001B[38;5;28misinstance\u001B[39m(data, Pool):\n\u001B[1;32m-> 2485\u001B[0m     data \u001B[38;5;241m=\u001B[39m \u001B[43mPool\u001B[49m\u001B[43m(\u001B[49m\n\u001B[0;32m   2486\u001B[0m \u001B[43m        \u001B[49m\u001B[43mdata\u001B[49m\u001B[38;5;241;43m=\u001B[39;49m\u001B[43m[\u001B[49m\u001B[43mdata\u001B[49m\u001B[43m]\u001B[49m\u001B[43m \u001B[49m\u001B[38;5;28;43;01mif\u001B[39;49;00m\u001B[43m \u001B[49m\u001B[43mis_single_object\u001B[49m\u001B[43m \u001B[49m\u001B[38;5;28;43;01melse\u001B[39;49;00m\u001B[43m \u001B[49m\u001B[43mdata\u001B[49m\u001B[43m,\u001B[49m\n\u001B[0;32m   2487\u001B[0m \u001B[43m        \u001B[49m\u001B[43mlabel\u001B[49m\u001B[38;5;241;43m=\u001B[39;49m\u001B[43mlabel\u001B[49m\u001B[43m,\u001B[49m\n\u001B[0;32m   2488\u001B[0m \u001B[43m        \u001B[49m\u001B[43mcat_features\u001B[49m\u001B[38;5;241;43m=\u001B[39;49m\u001B[38;5;28;43mself\u001B[39;49m\u001B[38;5;241;43m.\u001B[39;49m\u001B[43m_get_cat_feature_indices\u001B[49m\u001B[43m(\u001B[49m\u001B[43m)\u001B[49m\u001B[43m \u001B[49m\u001B[38;5;28;43;01mif\u001B[39;49;00m\u001B[43m \u001B[49m\u001B[38;5;129;43;01mnot\u001B[39;49;00m\u001B[43m \u001B[49m\u001B[38;5;28;43misinstance\u001B[39;49m\u001B[43m(\u001B[49m\u001B[43mdata\u001B[49m\u001B[43m,\u001B[49m\u001B[43m \u001B[49m\u001B[43mFeaturesData\u001B[49m\u001B[43m)\u001B[49m\u001B[43m \u001B[49m\u001B[38;5;28;43;01melse\u001B[39;49;00m\u001B[43m \u001B[49m\u001B[38;5;28;43;01mNone\u001B[39;49;00m\u001B[43m,\u001B[49m\n\u001B[0;32m   2489\u001B[0m \u001B[43m        \u001B[49m\u001B[43mtext_features\u001B[49m\u001B[38;5;241;43m=\u001B[39;49m\u001B[38;5;28;43mself\u001B[39;49m\u001B[38;5;241;43m.\u001B[39;49m\u001B[43m_get_text_feature_indices\u001B[49m\u001B[43m(\u001B[49m\u001B[43m)\u001B[49m\u001B[43m \u001B[49m\u001B[38;5;28;43;01mif\u001B[39;49;00m\u001B[43m \u001B[49m\u001B[38;5;129;43;01mnot\u001B[39;49;00m\u001B[43m \u001B[49m\u001B[38;5;28;43misinstance\u001B[39;49m\u001B[43m(\u001B[49m\u001B[43mdata\u001B[49m\u001B[43m,\u001B[49m\u001B[43m \u001B[49m\u001B[43mFeaturesData\u001B[49m\u001B[43m)\u001B[49m\u001B[43m \u001B[49m\u001B[38;5;28;43;01melse\u001B[39;49;00m\u001B[43m \u001B[49m\u001B[38;5;28;43;01mNone\u001B[39;49;00m\u001B[43m,\u001B[49m\n\u001B[0;32m   2490\u001B[0m \u001B[43m        \u001B[49m\u001B[43membedding_features\u001B[49m\u001B[38;5;241;43m=\u001B[39;49m\u001B[38;5;28;43mself\u001B[39;49m\u001B[38;5;241;43m.\u001B[39;49m\u001B[43m_get_embedding_feature_indices\u001B[49m\u001B[43m(\u001B[49m\u001B[43m)\u001B[49m\u001B[43m \u001B[49m\u001B[38;5;28;43;01mif\u001B[39;49;00m\u001B[43m \u001B[49m\u001B[38;5;129;43;01mnot\u001B[39;49;00m\u001B[43m \u001B[49m\u001B[38;5;28;43misinstance\u001B[39;49m\u001B[43m(\u001B[49m\u001B[43mdata\u001B[49m\u001B[43m,\u001B[49m\u001B[43m \u001B[49m\u001B[43mFeaturesData\u001B[49m\u001B[43m)\u001B[49m\u001B[43m \u001B[49m\u001B[38;5;28;43;01melse\u001B[39;49;00m\u001B[43m \u001B[49m\u001B[38;5;28;43;01mNone\u001B[39;49;00m\u001B[43m,\u001B[49m\n\u001B[0;32m   2491\u001B[0m \u001B[43m        \u001B[49m\u001B[43mthread_count\u001B[49m\u001B[38;5;241;43m=\u001B[39;49m\u001B[43mthread_count\u001B[49m\n\u001B[0;32m   2492\u001B[0m \u001B[43m    \u001B[49m\u001B[43m)\u001B[49m\n\u001B[0;32m   2493\u001B[0m \u001B[38;5;28;01mreturn\u001B[39;00m data, is_single_object\n",
      "File \u001B[1;32m~\\anaconda3\\lib\\site-packages\\catboost\\core.py:793\u001B[0m, in \u001B[0;36mPool.__init__\u001B[1;34m(self, data, label, cat_features, text_features, embedding_features, embedding_features_data, column_description, pairs, delimiter, has_header, ignore_csv_quoting, weight, group_id, group_weight, subgroup_id, pairs_weight, baseline, timestamp, feature_names, feature_tags, thread_count, log_cout, log_cerr)\u001B[0m\n\u001B[0;32m    787\u001B[0m         \u001B[38;5;28;01mif\u001B[39;00m \u001B[38;5;28misinstance\u001B[39m(feature_names, PATH_TYPES):\n\u001B[0;32m    788\u001B[0m             \u001B[38;5;28;01mraise\u001B[39;00m CatBoostError(\n\u001B[0;32m    789\u001B[0m                 \u001B[38;5;124m\"\u001B[39m\u001B[38;5;124mfeature_names must be None or have non-string type when the pool is created from \u001B[39m\u001B[38;5;124m\"\u001B[39m\n\u001B[0;32m    790\u001B[0m                 \u001B[38;5;124m\"\u001B[39m\u001B[38;5;124mpython objects.\u001B[39m\u001B[38;5;124m\"\u001B[39m\n\u001B[0;32m    791\u001B[0m             )\n\u001B[1;32m--> 793\u001B[0m         \u001B[38;5;28;43mself\u001B[39;49m\u001B[38;5;241;43m.\u001B[39;49m\u001B[43m_init\u001B[49m\u001B[43m(\u001B[49m\u001B[43mdata\u001B[49m\u001B[43m,\u001B[49m\u001B[43m \u001B[49m\u001B[43mlabel\u001B[49m\u001B[43m,\u001B[49m\u001B[43m \u001B[49m\u001B[43mcat_features\u001B[49m\u001B[43m,\u001B[49m\u001B[43m \u001B[49m\u001B[43mtext_features\u001B[49m\u001B[43m,\u001B[49m\u001B[43m \u001B[49m\u001B[43membedding_features\u001B[49m\u001B[43m,\u001B[49m\u001B[43m \u001B[49m\u001B[43membedding_features_data\u001B[49m\u001B[43m,\u001B[49m\u001B[43m \u001B[49m\u001B[43mpairs\u001B[49m\u001B[43m,\u001B[49m\u001B[43m \u001B[49m\u001B[43mweight\u001B[49m\u001B[43m,\u001B[49m\n\u001B[0;32m    794\u001B[0m \u001B[43m                   \u001B[49m\u001B[43mgroup_id\u001B[49m\u001B[43m,\u001B[49m\u001B[43m \u001B[49m\u001B[43mgroup_weight\u001B[49m\u001B[43m,\u001B[49m\u001B[43m \u001B[49m\u001B[43msubgroup_id\u001B[49m\u001B[43m,\u001B[49m\u001B[43m \u001B[49m\u001B[43mpairs_weight\u001B[49m\u001B[43m,\u001B[49m\u001B[43m \u001B[49m\u001B[43mbaseline\u001B[49m\u001B[43m,\u001B[49m\u001B[43m \u001B[49m\u001B[43mtimestamp\u001B[49m\u001B[43m,\u001B[49m\u001B[43m \u001B[49m\u001B[43mfeature_names\u001B[49m\u001B[43m,\u001B[49m\u001B[43m \u001B[49m\u001B[43mfeature_tags\u001B[49m\u001B[43m,\u001B[49m\u001B[43m \u001B[49m\u001B[43mthread_count\u001B[49m\u001B[43m)\u001B[49m\n\u001B[0;32m    795\u001B[0m \u001B[38;5;28msuper\u001B[39m(Pool, \u001B[38;5;28mself\u001B[39m)\u001B[38;5;241m.\u001B[39m\u001B[38;5;21m__init__\u001B[39m()\n",
      "File \u001B[1;32m~\\anaconda3\\lib\\site-packages\\catboost\\core.py:1425\u001B[0m, in \u001B[0;36mPool._init\u001B[1;34m(self, data, label, cat_features, text_features, embedding_features, embedding_features_data, pairs, weight, group_id, group_weight, subgroup_id, pairs_weight, baseline, timestamp, feature_names, feature_tags, thread_count)\u001B[0m\n\u001B[0;32m   1423\u001B[0m \u001B[38;5;28;01mif\u001B[39;00m feature_tags \u001B[38;5;129;01mis\u001B[39;00m \u001B[38;5;129;01mnot\u001B[39;00m \u001B[38;5;28;01mNone\u001B[39;00m:\n\u001B[0;32m   1424\u001B[0m     feature_tags \u001B[38;5;241m=\u001B[39m \u001B[38;5;28mself\u001B[39m\u001B[38;5;241m.\u001B[39m_check_transform_tags(feature_tags, feature_names)\n\u001B[1;32m-> 1425\u001B[0m \u001B[38;5;28;43mself\u001B[39;49m\u001B[38;5;241;43m.\u001B[39;49m\u001B[43m_init_pool\u001B[49m\u001B[43m(\u001B[49m\u001B[43mdata\u001B[49m\u001B[43m,\u001B[49m\u001B[43m \u001B[49m\u001B[43mlabel\u001B[49m\u001B[43m,\u001B[49m\u001B[43m \u001B[49m\u001B[43mcat_features\u001B[49m\u001B[43m,\u001B[49m\u001B[43m \u001B[49m\u001B[43mtext_features\u001B[49m\u001B[43m,\u001B[49m\u001B[43m \u001B[49m\u001B[43membedding_features\u001B[49m\u001B[43m,\u001B[49m\u001B[43m \u001B[49m\u001B[43membedding_features_data\u001B[49m\u001B[43m,\u001B[49m\u001B[43m \u001B[49m\u001B[43mpairs\u001B[49m\u001B[43m,\u001B[49m\u001B[43m \u001B[49m\u001B[43mweight\u001B[49m\u001B[43m,\u001B[49m\n\u001B[0;32m   1426\u001B[0m \u001B[43m                \u001B[49m\u001B[43mgroup_id\u001B[49m\u001B[43m,\u001B[49m\u001B[43m \u001B[49m\u001B[43mgroup_weight\u001B[49m\u001B[43m,\u001B[49m\u001B[43m \u001B[49m\u001B[43msubgroup_id\u001B[49m\u001B[43m,\u001B[49m\u001B[43m \u001B[49m\u001B[43mpairs_weight\u001B[49m\u001B[43m,\u001B[49m\u001B[43m \u001B[49m\u001B[43mbaseline\u001B[49m\u001B[43m,\u001B[49m\u001B[43m \u001B[49m\u001B[43mtimestamp\u001B[49m\u001B[43m,\u001B[49m\u001B[43m \u001B[49m\u001B[43mfeature_names\u001B[49m\u001B[43m,\u001B[49m\u001B[43m \u001B[49m\u001B[43mfeature_tags\u001B[49m\u001B[43m,\u001B[49m\u001B[43m \u001B[49m\u001B[43mthread_count\u001B[49m\u001B[43m)\u001B[49m\n",
      "File \u001B[1;32m_catboost.pyx:3976\u001B[0m, in \u001B[0;36m_catboost._PoolBase._init_pool\u001B[1;34m()\u001B[0m\n",
      "File \u001B[1;32m_catboost.pyx:4026\u001B[0m, in \u001B[0;36m_catboost._PoolBase._init_pool\u001B[1;34m()\u001B[0m\n",
      "File \u001B[1;32m_catboost.pyx:3842\u001B[0m, in \u001B[0;36m_catboost._PoolBase._init_features_order_layout_pool\u001B[1;34m()\u001B[0m\n",
      "File \u001B[1;32m_catboost.pyx:2781\u001B[0m, in \u001B[0;36m_catboost._set_features_order_data_pd_data_frame\u001B[1;34m()\u001B[0m\n",
      "File \u001B[1;32m_catboost.pyx:2379\u001B[0m, in \u001B[0;36m_catboost.get_cat_factor_bytes_representation\u001B[1;34m()\u001B[0m\n",
      "\u001B[1;31mCatBoostError\u001B[0m: Invalid type for cat_feature[non-default value idx=0,feature_idx=3]=0.0732484076433121 : cat_features must be integer or string, real number values and NaN values should be converted to string."
     ]
    }
   ],
   "source": [
    "test_pred = best_cat.predict(df_test)\n",
    "\n",
    "pred_bool = np.where(test_pred == 'True', True, False)\n",
    "# sum(pred_bool) # True로 예측된 개수\n",
    "sum(test_pred)\n",
    "# print(pred_bool)"
   ]
  },
  {
   "cell_type": "markdown",
   "id": "47f18e6a",
   "metadata": {},
   "source": [
    "### 제출 파일 작성"
   ]
  },
  {
   "cell_type": "code",
   "execution_count": 38,
   "id": "3128a458",
   "metadata": {
    "ExecuteTime": {
     "start_time": "2024-02-20T21:58:02.993729Z",
     "end_time": "2024-02-20T21:58:03.049246Z"
    }
   },
   "outputs": [],
   "source": [
    "# 제출 데이터 읽어오기 (df_test는 전처리된 데이터가 저장됨)\n",
    "df_sub = pd.read_csv(\"submission.csv\")\n",
    "df_sub[\"is_converted\"] = test_pred\n",
    "\n",
    "# 제출 파일 저장\n",
    "df_sub.to_csv(\"submission.csv\", index=False)"
   ]
  },
  {
   "cell_type": "markdown",
   "id": "ec7867ce",
   "metadata": {},
   "source": [
    "**우측 상단의 제출 버튼을 클릭해 결과를 확인하세요**"
   ]
  }
 ],
 "metadata": {
  "kernelspec": {
   "display_name": "Python 3 (ipykernel)",
   "language": "python",
   "name": "python3"
  },
  "language_info": {
   "codemirror_mode": {
    "name": "ipython",
    "version": 3
   },
   "file_extension": ".py",
   "mimetype": "text/x-python",
   "name": "python",
   "nbconvert_exporter": "python",
   "pygments_lexer": "ipython3",
   "version": "3.10.13"
  }
 },
 "nbformat": 4,
 "nbformat_minor": 5
}
