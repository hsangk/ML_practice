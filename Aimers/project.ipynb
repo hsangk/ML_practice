{
 "cells": [
  {
   "cell_type": "markdown",
   "id": "017e9265",
   "metadata": {},
   "source": [
    "# 영업 성공 여부 분류 경진대회"
   ]
  },
  {
   "cell_type": "markdown",
   "id": "acdab431",
   "metadata": {},
   "source": [
    "## 1. 데이터 확인"
   ]
  },
  {
   "cell_type": "markdown",
   "id": "2b8341e8",
   "metadata": {},
   "source": [
    "### 필수 라이브러리"
   ]
  },
  {
   "cell_type": "code",
   "execution_count": 205,
   "id": "a315cc58",
   "metadata": {
    "ExecuteTime": {
     "start_time": "2024-02-07T18:01:20.817560Z",
     "end_time": "2024-02-07T18:01:20.867009Z"
    }
   },
   "outputs": [],
   "source": [
    "import pandas as pd\n",
    "import numpy as np\n",
    "from sklearn.metrics import (\n",
    "    accuracy_score,\n",
    "    confusion_matrix,\n",
    "    f1_score,\n",
    "    precision_score,\n",
    "    recall_score,\n",
    ")\n",
    "from sklearn.model_selection import train_test_split\n",
    "from sklearn.tree import DecisionTreeClassifier"
   ]
  },
  {
   "cell_type": "markdown",
   "id": "412f98cc",
   "metadata": {},
   "source": [
    "### 데이터 셋 읽어오기"
   ]
  },
  {
   "cell_type": "code",
   "execution_count": 206,
   "id": "7ada941e",
   "metadata": {
    "ExecuteTime": {
     "start_time": "2024-02-07T18:01:20.823979Z",
     "end_time": "2024-02-07T18:01:21.027048Z"
    }
   },
   "outputs": [],
   "source": [
    "df_train = pd.read_csv(\"train.csv\") # 학습용 데이터\n",
    "df_test = pd.read_csv(\"submission.csv\") # 테스트 데이터(제출파일의 데이터)"
   ]
  },
  {
   "cell_type": "code",
   "execution_count": 207,
   "id": "be9af12a",
   "metadata": {
    "ExecuteTime": {
     "start_time": "2024-02-07T18:01:21.013551Z",
     "end_time": "2024-02-07T18:01:21.030047Z"
    }
   },
   "outputs": [
    {
     "data": {
      "text/plain": "   bant_submit          customer_country business_unit  com_reg_ver_win_rate  \\\n0          1.0  /Quezon City/Philippines            AS              0.066667   \n1          1.0        /PH-00/Philippines            AS              0.066667   \n2          1.0           /Kolkata /India            AS              0.088889   \n3          1.0        /Bhubaneswar/India            AS              0.088889   \n4          1.0          /Hyderabad/India            AS              0.088889   \n\n   customer_idx          customer_type  enterprise  historical_existing_cnt  \\\n0         32160           End-Customer  Enterprise                      NaN   \n1         23122           End-Customer  Enterprise                     12.0   \n2          1755           End-Customer  Enterprise                    144.0   \n3          4919           End-Customer  Enterprise                      NaN   \n4         17126  Specifier/ Influencer  Enterprise                      NaN   \n\n   id_strategic_ver  it_strategic_ver  ...  response_corporate  \\\n0               NaN               NaN  ...               LGEPH   \n1               NaN               NaN  ...               LGEPH   \n2               NaN               NaN  ...               LGEIL   \n3               NaN               NaN  ...               LGEIL   \n4               NaN               NaN  ...               LGEIL   \n\n    expected_timeline  ver_cus ver_pro ver_win_rate_x ver_win_ratio_per_bu  \\\n0  less than 3 months        1       0       0.003079             0.026846   \n1  less than 3 months        1       0       0.003079             0.026846   \n2  less than 3 months        1       0       0.003079             0.026846   \n3  less than 3 months        1       0       0.003079             0.026846   \n4  less than 3 months        0       0       0.003079             0.026846   \n\n        business_area business_subarea lead_owner is_converted  \n0  corporate / office      Engineering          0         True  \n1  corporate / office      Advertising          1         True  \n2  corporate / office     Construction          2         True  \n3  corporate / office      IT/Software          3         True  \n4  corporate / office              NaN          4         True  \n\n[5 rows x 29 columns]",
      "text/html": "<div>\n<style scoped>\n    .dataframe tbody tr th:only-of-type {\n        vertical-align: middle;\n    }\n\n    .dataframe tbody tr th {\n        vertical-align: top;\n    }\n\n    .dataframe thead th {\n        text-align: right;\n    }\n</style>\n<table border=\"1\" class=\"dataframe\">\n  <thead>\n    <tr style=\"text-align: right;\">\n      <th></th>\n      <th>bant_submit</th>\n      <th>customer_country</th>\n      <th>business_unit</th>\n      <th>com_reg_ver_win_rate</th>\n      <th>customer_idx</th>\n      <th>customer_type</th>\n      <th>enterprise</th>\n      <th>historical_existing_cnt</th>\n      <th>id_strategic_ver</th>\n      <th>it_strategic_ver</th>\n      <th>...</th>\n      <th>response_corporate</th>\n      <th>expected_timeline</th>\n      <th>ver_cus</th>\n      <th>ver_pro</th>\n      <th>ver_win_rate_x</th>\n      <th>ver_win_ratio_per_bu</th>\n      <th>business_area</th>\n      <th>business_subarea</th>\n      <th>lead_owner</th>\n      <th>is_converted</th>\n    </tr>\n  </thead>\n  <tbody>\n    <tr>\n      <th>0</th>\n      <td>1.0</td>\n      <td>/Quezon City/Philippines</td>\n      <td>AS</td>\n      <td>0.066667</td>\n      <td>32160</td>\n      <td>End-Customer</td>\n      <td>Enterprise</td>\n      <td>NaN</td>\n      <td>NaN</td>\n      <td>NaN</td>\n      <td>...</td>\n      <td>LGEPH</td>\n      <td>less than 3 months</td>\n      <td>1</td>\n      <td>0</td>\n      <td>0.003079</td>\n      <td>0.026846</td>\n      <td>corporate / office</td>\n      <td>Engineering</td>\n      <td>0</td>\n      <td>True</td>\n    </tr>\n    <tr>\n      <th>1</th>\n      <td>1.0</td>\n      <td>/PH-00/Philippines</td>\n      <td>AS</td>\n      <td>0.066667</td>\n      <td>23122</td>\n      <td>End-Customer</td>\n      <td>Enterprise</td>\n      <td>12.0</td>\n      <td>NaN</td>\n      <td>NaN</td>\n      <td>...</td>\n      <td>LGEPH</td>\n      <td>less than 3 months</td>\n      <td>1</td>\n      <td>0</td>\n      <td>0.003079</td>\n      <td>0.026846</td>\n      <td>corporate / office</td>\n      <td>Advertising</td>\n      <td>1</td>\n      <td>True</td>\n    </tr>\n    <tr>\n      <th>2</th>\n      <td>1.0</td>\n      <td>/Kolkata /India</td>\n      <td>AS</td>\n      <td>0.088889</td>\n      <td>1755</td>\n      <td>End-Customer</td>\n      <td>Enterprise</td>\n      <td>144.0</td>\n      <td>NaN</td>\n      <td>NaN</td>\n      <td>...</td>\n      <td>LGEIL</td>\n      <td>less than 3 months</td>\n      <td>1</td>\n      <td>0</td>\n      <td>0.003079</td>\n      <td>0.026846</td>\n      <td>corporate / office</td>\n      <td>Construction</td>\n      <td>2</td>\n      <td>True</td>\n    </tr>\n    <tr>\n      <th>3</th>\n      <td>1.0</td>\n      <td>/Bhubaneswar/India</td>\n      <td>AS</td>\n      <td>0.088889</td>\n      <td>4919</td>\n      <td>End-Customer</td>\n      <td>Enterprise</td>\n      <td>NaN</td>\n      <td>NaN</td>\n      <td>NaN</td>\n      <td>...</td>\n      <td>LGEIL</td>\n      <td>less than 3 months</td>\n      <td>1</td>\n      <td>0</td>\n      <td>0.003079</td>\n      <td>0.026846</td>\n      <td>corporate / office</td>\n      <td>IT/Software</td>\n      <td>3</td>\n      <td>True</td>\n    </tr>\n    <tr>\n      <th>4</th>\n      <td>1.0</td>\n      <td>/Hyderabad/India</td>\n      <td>AS</td>\n      <td>0.088889</td>\n      <td>17126</td>\n      <td>Specifier/ Influencer</td>\n      <td>Enterprise</td>\n      <td>NaN</td>\n      <td>NaN</td>\n      <td>NaN</td>\n      <td>...</td>\n      <td>LGEIL</td>\n      <td>less than 3 months</td>\n      <td>0</td>\n      <td>0</td>\n      <td>0.003079</td>\n      <td>0.026846</td>\n      <td>corporate / office</td>\n      <td>NaN</td>\n      <td>4</td>\n      <td>True</td>\n    </tr>\n  </tbody>\n</table>\n<p>5 rows × 29 columns</p>\n</div>"
     },
     "execution_count": 207,
     "metadata": {},
     "output_type": "execute_result"
    }
   ],
   "source": [
    "df_train.head() # 학습용 데이터 살펴보기"
   ]
  },
  {
   "cell_type": "code",
   "execution_count": 208,
   "outputs": [
    {
     "data": {
      "text/plain": "29"
     },
     "execution_count": 208,
     "metadata": {},
     "output_type": "execute_result"
    }
   ],
   "source": [
    "len(df_train.columns)"
   ],
   "metadata": {
    "collapsed": false,
    "ExecuteTime": {
     "start_time": "2024-02-07T18:01:21.030047Z",
     "end_time": "2024-02-07T18:01:21.051053Z"
    }
   }
  },
  {
   "cell_type": "code",
   "execution_count": 209,
   "id": "fedb24b7",
   "metadata": {
    "ExecuteTime": {
     "start_time": "2024-02-07T18:01:21.046053Z",
     "end_time": "2024-02-07T18:01:21.074440Z"
    }
   },
   "outputs": [
    {
     "data": {
      "text/plain": "array([1.  , 0.75, 0.5 , 0.25, 0.  ])"
     },
     "execution_count": 209,
     "metadata": {},
     "output_type": "execute_result"
    }
   ],
   "source": [
    "df_train['bant_submit'].unique()"
   ]
  },
  {
   "cell_type": "code",
   "execution_count": 210,
   "id": "7ad32d69",
   "metadata": {
    "ExecuteTime": {
     "start_time": "2024-02-07T18:01:21.061437Z",
     "end_time": "2024-02-07T18:01:21.106529Z"
    }
   },
   "outputs": [
    {
     "data": {
      "text/plain": "54449"
     },
     "execution_count": 210,
     "metadata": {},
     "output_type": "execute_result"
    }
   ],
   "source": [
    "df_train.loc[df_train['is_converted']==False].shape[0]"
   ]
  },
  {
   "cell_type": "markdown",
   "id": "af526c13",
   "metadata": {},
   "source": [
    "## 2. 데이터 전처리"
   ]
  },
  {
   "cell_type": "markdown",
   "id": "4bd47e00",
   "metadata": {},
   "source": [
    "### 레이블 인코딩"
   ]
  },
  {
   "cell_type": "code",
   "execution_count": 211,
   "id": "0b42b1a1",
   "metadata": {
    "ExecuteTime": {
     "start_time": "2024-02-07T18:01:21.077441Z",
     "end_time": "2024-02-07T18:01:21.153045Z"
    }
   },
   "outputs": [],
   "source": [
    "def label_encoding(series: pd.Series) -> pd.Series:\n",
    "    \"\"\"범주형 데이터를 시리즈 형태로 받아 숫자형 데이터로 변환합니다.\"\"\"\n",
    "\n",
    "    my_dict = {}\n",
    "\n",
    "    # 모든 요소를 문자열로 변환\n",
    "    series = series.astype(str)\n",
    "\n",
    "    for idx, value in enumerate(sorted(series.unique())):\n",
    "        my_dict[value] = idx\n",
    "    series = series.map(my_dict)\n",
    "\n",
    "    return series"
   ]
  },
  {
   "cell_type": "code",
   "execution_count": 212,
   "id": "881a4612",
   "metadata": {
    "ExecuteTime": {
     "start_time": "2024-02-07T18:01:21.093523Z",
     "end_time": "2024-02-07T18:01:21.234309Z"
    }
   },
   "outputs": [],
   "source": [
    "# 레이블 인코딩할 칼럼들\n",
    "label_columns = [\n",
    "    \"customer_country\",\n",
    "    \"business_subarea\",\n",
    "    \"business_area\",\n",
    "    \"business_unit\",\n",
    "    \"customer_type\",\n",
    "    \"enterprise\",\n",
    "    \"customer_job\",\n",
    "    \"inquiry_type\",\n",
    "    \"product_category\",\n",
    "    \"product_subcategory\",\n",
    "    \"product_modelname\",\n",
    "    \"customer_country.1\",\n",
    "    \"customer_position\",\n",
    "    \"response_corporate\",\n",
    "    \"expected_timeline\",\n",
    "]\n",
    "\n",
    "df_all = pd.concat([df_train[label_columns], df_test[label_columns]])\n",
    "\n",
    "for col in label_columns:\n",
    "    df_all[col] = label_encoding(df_all[col])"
   ]
  },
  {
   "cell_type": "markdown",
   "id": "3a477f93",
   "metadata": {},
   "source": [
    "다시 학습 데이터와 제출 데이터를 분리합니다."
   ]
  },
  {
   "cell_type": "code",
   "execution_count": 213,
   "id": "ff10c5fb",
   "metadata": {
    "ExecuteTime": {
     "start_time": "2024-02-07T18:01:21.235311Z",
     "end_time": "2024-02-07T18:01:21.249193Z"
    }
   },
   "outputs": [],
   "source": [
    "for col in label_columns:  \n",
    "    df_train[col] = df_all.iloc[: len(df_train)][col]\n",
    "    df_test[col] = df_all.iloc[len(df_train) :][col]"
   ]
  },
  {
   "cell_type": "code",
   "execution_count": 214,
   "id": "9d8422fe",
   "metadata": {
    "ExecuteTime": {
     "start_time": "2024-02-07T18:01:21.252194Z",
     "end_time": "2024-02-07T18:01:21.272198Z"
    }
   },
   "outputs": [
    {
     "data": {
      "text/plain": "   bant_submit  customer_country  business_unit  com_reg_ver_win_rate  \\\n0          1.0              9070              0              0.066667   \n1          1.0              8406              0              0.066667   \n2          1.0              6535              0              0.088889   \n3          1.0              3388              0              0.088889   \n4          1.0              5799              0              0.088889   \n\n   customer_idx  customer_type  enterprise  historical_existing_cnt  \\\n0         32160             10           0                      NaN   \n1         23122             10           0                     12.0   \n2          1755             10           0                    144.0   \n3          4919             10           0                      NaN   \n4         17126             29           0                      NaN   \n\n   id_strategic_ver  it_strategic_ver  ...  response_corporate  \\\n0               NaN               NaN  ...                  33   \n1               NaN               NaN  ...                  33   \n2               NaN               NaN  ...                  21   \n3               NaN               NaN  ...                  21   \n4               NaN               NaN  ...                  21   \n\n   expected_timeline  ver_cus  ver_pro  ver_win_rate_x  ver_win_ratio_per_bu  \\\n0                246        1        0        0.003079              0.026846   \n1                246        1        0        0.003079              0.026846   \n2                246        1        0        0.003079              0.026846   \n3                246        1        0        0.003079              0.026846   \n4                246        0        0        0.003079              0.026846   \n\n   business_area  business_subarea  lead_owner  is_converted  \n0              0                28           0          True  \n1              0                 0           1          True  \n2              0                17           2          True  \n3              0                44           3          True  \n4              0                86           4          True  \n\n[5 rows x 29 columns]",
      "text/html": "<div>\n<style scoped>\n    .dataframe tbody tr th:only-of-type {\n        vertical-align: middle;\n    }\n\n    .dataframe tbody tr th {\n        vertical-align: top;\n    }\n\n    .dataframe thead th {\n        text-align: right;\n    }\n</style>\n<table border=\"1\" class=\"dataframe\">\n  <thead>\n    <tr style=\"text-align: right;\">\n      <th></th>\n      <th>bant_submit</th>\n      <th>customer_country</th>\n      <th>business_unit</th>\n      <th>com_reg_ver_win_rate</th>\n      <th>customer_idx</th>\n      <th>customer_type</th>\n      <th>enterprise</th>\n      <th>historical_existing_cnt</th>\n      <th>id_strategic_ver</th>\n      <th>it_strategic_ver</th>\n      <th>...</th>\n      <th>response_corporate</th>\n      <th>expected_timeline</th>\n      <th>ver_cus</th>\n      <th>ver_pro</th>\n      <th>ver_win_rate_x</th>\n      <th>ver_win_ratio_per_bu</th>\n      <th>business_area</th>\n      <th>business_subarea</th>\n      <th>lead_owner</th>\n      <th>is_converted</th>\n    </tr>\n  </thead>\n  <tbody>\n    <tr>\n      <th>0</th>\n      <td>1.0</td>\n      <td>9070</td>\n      <td>0</td>\n      <td>0.066667</td>\n      <td>32160</td>\n      <td>10</td>\n      <td>0</td>\n      <td>NaN</td>\n      <td>NaN</td>\n      <td>NaN</td>\n      <td>...</td>\n      <td>33</td>\n      <td>246</td>\n      <td>1</td>\n      <td>0</td>\n      <td>0.003079</td>\n      <td>0.026846</td>\n      <td>0</td>\n      <td>28</td>\n      <td>0</td>\n      <td>True</td>\n    </tr>\n    <tr>\n      <th>1</th>\n      <td>1.0</td>\n      <td>8406</td>\n      <td>0</td>\n      <td>0.066667</td>\n      <td>23122</td>\n      <td>10</td>\n      <td>0</td>\n      <td>12.0</td>\n      <td>NaN</td>\n      <td>NaN</td>\n      <td>...</td>\n      <td>33</td>\n      <td>246</td>\n      <td>1</td>\n      <td>0</td>\n      <td>0.003079</td>\n      <td>0.026846</td>\n      <td>0</td>\n      <td>0</td>\n      <td>1</td>\n      <td>True</td>\n    </tr>\n    <tr>\n      <th>2</th>\n      <td>1.0</td>\n      <td>6535</td>\n      <td>0</td>\n      <td>0.088889</td>\n      <td>1755</td>\n      <td>10</td>\n      <td>0</td>\n      <td>144.0</td>\n      <td>NaN</td>\n      <td>NaN</td>\n      <td>...</td>\n      <td>21</td>\n      <td>246</td>\n      <td>1</td>\n      <td>0</td>\n      <td>0.003079</td>\n      <td>0.026846</td>\n      <td>0</td>\n      <td>17</td>\n      <td>2</td>\n      <td>True</td>\n    </tr>\n    <tr>\n      <th>3</th>\n      <td>1.0</td>\n      <td>3388</td>\n      <td>0</td>\n      <td>0.088889</td>\n      <td>4919</td>\n      <td>10</td>\n      <td>0</td>\n      <td>NaN</td>\n      <td>NaN</td>\n      <td>NaN</td>\n      <td>...</td>\n      <td>21</td>\n      <td>246</td>\n      <td>1</td>\n      <td>0</td>\n      <td>0.003079</td>\n      <td>0.026846</td>\n      <td>0</td>\n      <td>44</td>\n      <td>3</td>\n      <td>True</td>\n    </tr>\n    <tr>\n      <th>4</th>\n      <td>1.0</td>\n      <td>5799</td>\n      <td>0</td>\n      <td>0.088889</td>\n      <td>17126</td>\n      <td>29</td>\n      <td>0</td>\n      <td>NaN</td>\n      <td>NaN</td>\n      <td>NaN</td>\n      <td>...</td>\n      <td>21</td>\n      <td>246</td>\n      <td>0</td>\n      <td>0</td>\n      <td>0.003079</td>\n      <td>0.026846</td>\n      <td>0</td>\n      <td>86</td>\n      <td>4</td>\n      <td>True</td>\n    </tr>\n  </tbody>\n</table>\n<p>5 rows × 29 columns</p>\n</div>"
     },
     "execution_count": 214,
     "metadata": {},
     "output_type": "execute_result"
    }
   ],
   "source": [
    "df_train.head() # 학습용 데이터 살펴보기"
   ]
  },
  {
   "cell_type": "markdown",
   "id": "d332358a",
   "metadata": {},
   "source": [
    "### 2-2. 학습, 검증 데이터 분리"
   ]
  },
  {
   "cell_type": "code",
   "execution_count": 215,
   "outputs": [],
   "source": [
    "# # df_train = df_train['is_converted'].dropna()\n",
    "# df_train = df_train.fillna(0)\n",
    "# df_train\n",
    "\n",
    "df_train = df_train.fillna(0)"
   ],
   "metadata": {
    "collapsed": false,
    "ExecuteTime": {
     "start_time": "2024-02-07T18:01:21.265196Z",
     "end_time": "2024-02-07T18:01:21.281200Z"
    }
   }
  },
  {
   "cell_type": "code",
   "execution_count": 216,
   "outputs": [],
   "source": [
    "x_train, x_val, y_train, y_val = train_test_split(\n",
    "    df_train.drop(\"is_converted\", axis=1),\n",
    "    df_train[\"is_converted\"],\n",
    "    test_size=0.2,\n",
    "    shuffle=True,\n",
    "    random_state=400,\n",
    ")"
   ],
   "metadata": {
    "collapsed": false,
    "ExecuteTime": {
     "start_time": "2024-02-07T18:01:21.282200Z",
     "end_time": "2024-02-07T18:01:21.342723Z"
    }
   }
  },
  {
   "cell_type": "code",
   "execution_count": 217,
   "outputs": [],
   "source": [
    "from sklearn.preprocessing import StandardScaler\n",
    "sc = StandardScaler()\n",
    "X_train = sc.fit_transform(x_train)\n",
    "X_test = sc.transform(x_val)"
   ],
   "metadata": {
    "collapsed": false,
    "ExecuteTime": {
     "start_time": "2024-02-07T18:01:21.314209Z",
     "end_time": "2024-02-07T18:01:21.367729Z"
    }
   }
  },
  {
   "cell_type": "code",
   "execution_count": 218,
   "outputs": [],
   "source": [
    "from sklearn.svm import SVC"
   ],
   "metadata": {
    "collapsed": false,
    "ExecuteTime": {
     "start_time": "2024-02-07T18:01:21.343724Z",
     "end_time": "2024-02-07T18:01:21.367729Z"
    }
   }
  },
  {
   "cell_type": "code",
   "execution_count": 219,
   "outputs": [],
   "source": [
    "classifier = SVC(C=1000, kernel = 'rbf', random_state = 300)"
   ],
   "metadata": {
    "collapsed": false,
    "ExecuteTime": {
     "start_time": "2024-02-07T18:01:21.360728Z",
     "end_time": "2024-02-07T18:01:21.381732Z"
    }
   }
  },
  {
   "cell_type": "code",
   "execution_count": 220,
   "outputs": [
    {
     "data": {
      "text/plain": "SVC(C=1000, random_state=300)",
      "text/html": "<style>#sk-container-id-13 {\n  /* Definition of color scheme common for light and dark mode */\n  --sklearn-color-text: black;\n  --sklearn-color-line: gray;\n  /* Definition of color scheme for unfitted estimators */\n  --sklearn-color-unfitted-level-0: #fff5e6;\n  --sklearn-color-unfitted-level-1: #f6e4d2;\n  --sklearn-color-unfitted-level-2: #ffe0b3;\n  --sklearn-color-unfitted-level-3: chocolate;\n  /* Definition of color scheme for fitted estimators */\n  --sklearn-color-fitted-level-0: #f0f8ff;\n  --sklearn-color-fitted-level-1: #d4ebff;\n  --sklearn-color-fitted-level-2: #b3dbfd;\n  --sklearn-color-fitted-level-3: cornflowerblue;\n\n  /* Specific color for light theme */\n  --sklearn-color-text-on-default-background: var(--sg-text-color, var(--theme-code-foreground, var(--jp-content-font-color1, black)));\n  --sklearn-color-background: var(--sg-background-color, var(--theme-background, var(--jp-layout-color0, white)));\n  --sklearn-color-border-box: var(--sg-text-color, var(--theme-code-foreground, var(--jp-content-font-color1, black)));\n  --sklearn-color-icon: #696969;\n\n  @media (prefers-color-scheme: dark) {\n    /* Redefinition of color scheme for dark theme */\n    --sklearn-color-text-on-default-background: var(--sg-text-color, var(--theme-code-foreground, var(--jp-content-font-color1, white)));\n    --sklearn-color-background: var(--sg-background-color, var(--theme-background, var(--jp-layout-color0, #111)));\n    --sklearn-color-border-box: var(--sg-text-color, var(--theme-code-foreground, var(--jp-content-font-color1, white)));\n    --sklearn-color-icon: #878787;\n  }\n}\n\n#sk-container-id-13 {\n  color: var(--sklearn-color-text);\n}\n\n#sk-container-id-13 pre {\n  padding: 0;\n}\n\n#sk-container-id-13 input.sk-hidden--visually {\n  border: 0;\n  clip: rect(1px 1px 1px 1px);\n  clip: rect(1px, 1px, 1px, 1px);\n  height: 1px;\n  margin: -1px;\n  overflow: hidden;\n  padding: 0;\n  position: absolute;\n  width: 1px;\n}\n\n#sk-container-id-13 div.sk-dashed-wrapped {\n  border: 1px dashed var(--sklearn-color-line);\n  margin: 0 0.4em 0.5em 0.4em;\n  box-sizing: border-box;\n  padding-bottom: 0.4em;\n  background-color: var(--sklearn-color-background);\n}\n\n#sk-container-id-13 div.sk-container {\n  /* jupyter's `normalize.less` sets `[hidden] { display: none; }`\n     but bootstrap.min.css set `[hidden] { display: none !important; }`\n     so we also need the `!important` here to be able to override the\n     default hidden behavior on the sphinx rendered scikit-learn.org.\n     See: https://github.com/scikit-learn/scikit-learn/issues/21755 */\n  display: inline-block !important;\n  position: relative;\n}\n\n#sk-container-id-13 div.sk-text-repr-fallback {\n  display: none;\n}\n\ndiv.sk-parallel-item,\ndiv.sk-serial,\ndiv.sk-item {\n  /* draw centered vertical line to link estimators */\n  background-image: linear-gradient(var(--sklearn-color-text-on-default-background), var(--sklearn-color-text-on-default-background));\n  background-size: 2px 100%;\n  background-repeat: no-repeat;\n  background-position: center center;\n}\n\n/* Parallel-specific style estimator block */\n\n#sk-container-id-13 div.sk-parallel-item::after {\n  content: \"\";\n  width: 100%;\n  border-bottom: 2px solid var(--sklearn-color-text-on-default-background);\n  flex-grow: 1;\n}\n\n#sk-container-id-13 div.sk-parallel {\n  display: flex;\n  align-items: stretch;\n  justify-content: center;\n  background-color: var(--sklearn-color-background);\n  position: relative;\n}\n\n#sk-container-id-13 div.sk-parallel-item {\n  display: flex;\n  flex-direction: column;\n}\n\n#sk-container-id-13 div.sk-parallel-item:first-child::after {\n  align-self: flex-end;\n  width: 50%;\n}\n\n#sk-container-id-13 div.sk-parallel-item:last-child::after {\n  align-self: flex-start;\n  width: 50%;\n}\n\n#sk-container-id-13 div.sk-parallel-item:only-child::after {\n  width: 0;\n}\n\n/* Serial-specific style estimator block */\n\n#sk-container-id-13 div.sk-serial {\n  display: flex;\n  flex-direction: column;\n  align-items: center;\n  background-color: var(--sklearn-color-background);\n  padding-right: 1em;\n  padding-left: 1em;\n}\n\n\n/* Toggleable style: style used for estimator/Pipeline/ColumnTransformer box that is\nclickable and can be expanded/collapsed.\n- Pipeline and ColumnTransformer use this feature and define the default style\n- Estimators will overwrite some part of the style using the `sk-estimator` class\n*/\n\n/* Pipeline and ColumnTransformer style (default) */\n\n#sk-container-id-13 div.sk-toggleable {\n  /* Default theme specific background. It is overwritten whether we have a\n  specific estimator or a Pipeline/ColumnTransformer */\n  background-color: var(--sklearn-color-background);\n}\n\n/* Toggleable label */\n#sk-container-id-13 label.sk-toggleable__label {\n  cursor: pointer;\n  display: block;\n  width: 100%;\n  margin-bottom: 0;\n  padding: 0.5em;\n  box-sizing: border-box;\n  text-align: center;\n}\n\n#sk-container-id-13 label.sk-toggleable__label-arrow:before {\n  /* Arrow on the left of the label */\n  content: \"▸\";\n  float: left;\n  margin-right: 0.25em;\n  color: var(--sklearn-color-icon);\n}\n\n#sk-container-id-13 label.sk-toggleable__label-arrow:hover:before {\n  color: var(--sklearn-color-text);\n}\n\n/* Toggleable content - dropdown */\n\n#sk-container-id-13 div.sk-toggleable__content {\n  max-height: 0;\n  max-width: 0;\n  overflow: hidden;\n  text-align: left;\n  /* unfitted */\n  background-color: var(--sklearn-color-unfitted-level-0);\n}\n\n#sk-container-id-13 div.sk-toggleable__content.fitted {\n  /* fitted */\n  background-color: var(--sklearn-color-fitted-level-0);\n}\n\n#sk-container-id-13 div.sk-toggleable__content pre {\n  margin: 0.2em;\n  border-radius: 0.25em;\n  color: var(--sklearn-color-text);\n  /* unfitted */\n  background-color: var(--sklearn-color-unfitted-level-0);\n}\n\n#sk-container-id-13 div.sk-toggleable__content.fitted pre {\n  /* unfitted */\n  background-color: var(--sklearn-color-fitted-level-0);\n}\n\n#sk-container-id-13 input.sk-toggleable__control:checked~div.sk-toggleable__content {\n  /* Expand drop-down */\n  max-height: 200px;\n  max-width: 100%;\n  overflow: auto;\n}\n\n#sk-container-id-13 input.sk-toggleable__control:checked~label.sk-toggleable__label-arrow:before {\n  content: \"▾\";\n}\n\n/* Pipeline/ColumnTransformer-specific style */\n\n#sk-container-id-13 div.sk-label input.sk-toggleable__control:checked~label.sk-toggleable__label {\n  color: var(--sklearn-color-text);\n  background-color: var(--sklearn-color-unfitted-level-2);\n}\n\n#sk-container-id-13 div.sk-label.fitted input.sk-toggleable__control:checked~label.sk-toggleable__label {\n  background-color: var(--sklearn-color-fitted-level-2);\n}\n\n/* Estimator-specific style */\n\n/* Colorize estimator box */\n#sk-container-id-13 div.sk-estimator input.sk-toggleable__control:checked~label.sk-toggleable__label {\n  /* unfitted */\n  background-color: var(--sklearn-color-unfitted-level-2);\n}\n\n#sk-container-id-13 div.sk-estimator.fitted input.sk-toggleable__control:checked~label.sk-toggleable__label {\n  /* fitted */\n  background-color: var(--sklearn-color-fitted-level-2);\n}\n\n#sk-container-id-13 div.sk-label label.sk-toggleable__label,\n#sk-container-id-13 div.sk-label label {\n  /* The background is the default theme color */\n  color: var(--sklearn-color-text-on-default-background);\n}\n\n/* On hover, darken the color of the background */\n#sk-container-id-13 div.sk-label:hover label.sk-toggleable__label {\n  color: var(--sklearn-color-text);\n  background-color: var(--sklearn-color-unfitted-level-2);\n}\n\n/* Label box, darken color on hover, fitted */\n#sk-container-id-13 div.sk-label.fitted:hover label.sk-toggleable__label.fitted {\n  color: var(--sklearn-color-text);\n  background-color: var(--sklearn-color-fitted-level-2);\n}\n\n/* Estimator label */\n\n#sk-container-id-13 div.sk-label label {\n  font-family: monospace;\n  font-weight: bold;\n  display: inline-block;\n  line-height: 1.2em;\n}\n\n#sk-container-id-13 div.sk-label-container {\n  text-align: center;\n}\n\n/* Estimator-specific */\n#sk-container-id-13 div.sk-estimator {\n  font-family: monospace;\n  border: 1px dotted var(--sklearn-color-border-box);\n  border-radius: 0.25em;\n  box-sizing: border-box;\n  margin-bottom: 0.5em;\n  /* unfitted */\n  background-color: var(--sklearn-color-unfitted-level-0);\n}\n\n#sk-container-id-13 div.sk-estimator.fitted {\n  /* fitted */\n  background-color: var(--sklearn-color-fitted-level-0);\n}\n\n/* on hover */\n#sk-container-id-13 div.sk-estimator:hover {\n  /* unfitted */\n  background-color: var(--sklearn-color-unfitted-level-2);\n}\n\n#sk-container-id-13 div.sk-estimator.fitted:hover {\n  /* fitted */\n  background-color: var(--sklearn-color-fitted-level-2);\n}\n\n/* Specification for estimator info (e.g. \"i\" and \"?\") */\n\n/* Common style for \"i\" and \"?\" */\n\n.sk-estimator-doc-link,\na:link.sk-estimator-doc-link,\na:visited.sk-estimator-doc-link {\n  float: right;\n  font-size: smaller;\n  line-height: 1em;\n  font-family: monospace;\n  background-color: var(--sklearn-color-background);\n  border-radius: 1em;\n  height: 1em;\n  width: 1em;\n  text-decoration: none !important;\n  margin-left: 1ex;\n  /* unfitted */\n  border: var(--sklearn-color-unfitted-level-1) 1pt solid;\n  color: var(--sklearn-color-unfitted-level-1);\n}\n\n.sk-estimator-doc-link.fitted,\na:link.sk-estimator-doc-link.fitted,\na:visited.sk-estimator-doc-link.fitted {\n  /* fitted */\n  border: var(--sklearn-color-fitted-level-1) 1pt solid;\n  color: var(--sklearn-color-fitted-level-1);\n}\n\n/* On hover */\ndiv.sk-estimator:hover .sk-estimator-doc-link:hover,\n.sk-estimator-doc-link:hover,\ndiv.sk-label-container:hover .sk-estimator-doc-link:hover,\n.sk-estimator-doc-link:hover {\n  /* unfitted */\n  background-color: var(--sklearn-color-unfitted-level-3);\n  color: var(--sklearn-color-background);\n  text-decoration: none;\n}\n\ndiv.sk-estimator.fitted:hover .sk-estimator-doc-link.fitted:hover,\n.sk-estimator-doc-link.fitted:hover,\ndiv.sk-label-container:hover .sk-estimator-doc-link.fitted:hover,\n.sk-estimator-doc-link.fitted:hover {\n  /* fitted */\n  background-color: var(--sklearn-color-fitted-level-3);\n  color: var(--sklearn-color-background);\n  text-decoration: none;\n}\n\n/* Span, style for the box shown on hovering the info icon */\n.sk-estimator-doc-link span {\n  display: none;\n  z-index: 9999;\n  position: relative;\n  font-weight: normal;\n  right: .2ex;\n  padding: .5ex;\n  margin: .5ex;\n  width: min-content;\n  min-width: 20ex;\n  max-width: 50ex;\n  color: var(--sklearn-color-text);\n  box-shadow: 2pt 2pt 4pt #999;\n  /* unfitted */\n  background: var(--sklearn-color-unfitted-level-0);\n  border: .5pt solid var(--sklearn-color-unfitted-level-3);\n}\n\n.sk-estimator-doc-link.fitted span {\n  /* fitted */\n  background: var(--sklearn-color-fitted-level-0);\n  border: var(--sklearn-color-fitted-level-3);\n}\n\n.sk-estimator-doc-link:hover span {\n  display: block;\n}\n\n/* \"?\"-specific style due to the `<a>` HTML tag */\n\n#sk-container-id-13 a.estimator_doc_link {\n  float: right;\n  font-size: 1rem;\n  line-height: 1em;\n  font-family: monospace;\n  background-color: var(--sklearn-color-background);\n  border-radius: 1rem;\n  height: 1rem;\n  width: 1rem;\n  text-decoration: none;\n  /* unfitted */\n  color: var(--sklearn-color-unfitted-level-1);\n  border: var(--sklearn-color-unfitted-level-1) 1pt solid;\n}\n\n#sk-container-id-13 a.estimator_doc_link.fitted {\n  /* fitted */\n  border: var(--sklearn-color-fitted-level-1) 1pt solid;\n  color: var(--sklearn-color-fitted-level-1);\n}\n\n/* On hover */\n#sk-container-id-13 a.estimator_doc_link:hover {\n  /* unfitted */\n  background-color: var(--sklearn-color-unfitted-level-3);\n  color: var(--sklearn-color-background);\n  text-decoration: none;\n}\n\n#sk-container-id-13 a.estimator_doc_link.fitted:hover {\n  /* fitted */\n  background-color: var(--sklearn-color-fitted-level-3);\n}\n</style><div id=\"sk-container-id-13\" class=\"sk-top-container\"><div class=\"sk-text-repr-fallback\"><pre>SVC(C=1000, random_state=300)</pre><b>In a Jupyter environment, please rerun this cell to show the HTML representation or trust the notebook. <br />On GitHub, the HTML representation is unable to render, please try loading this page with nbviewer.org.</b></div><div class=\"sk-container\" hidden><div class=\"sk-item\"><div class=\"sk-estimator fitted sk-toggleable\"><input class=\"sk-toggleable__control sk-hidden--visually\" id=\"sk-estimator-id-13\" type=\"checkbox\" checked><label for=\"sk-estimator-id-13\" class=\"sk-toggleable__label fitted sk-toggleable__label-arrow fitted\">&nbsp;&nbsp;SVC<a class=\"sk-estimator-doc-link fitted\" rel=\"noreferrer\" target=\"_blank\" href=\"https://scikit-learn.org/1.4/modules/generated/sklearn.svm.SVC.html\">?<span>Documentation for SVC</span></a><span class=\"sk-estimator-doc-link fitted\">i<span>Fitted</span></span></label><div class=\"sk-toggleable__content fitted\"><pre>SVC(C=1000, random_state=300)</pre></div> </div></div></div></div>"
     },
     "execution_count": 220,
     "metadata": {},
     "output_type": "execute_result"
    }
   ],
   "source": [
    "classifier.fit(X_train, y_train)"
   ],
   "metadata": {
    "collapsed": false,
    "ExecuteTime": {
     "start_time": "2024-02-07T18:01:21.376732Z",
     "end_time": "2024-02-07T18:04:15.075500Z"
    }
   }
  },
  {
   "cell_type": "code",
   "execution_count": 221,
   "outputs": [
    {
     "data": {
      "text/plain": "array([False, False, False, ..., False, False, False])"
     },
     "execution_count": 221,
     "metadata": {},
     "output_type": "execute_result"
    }
   ],
   "source": [
    "y_pred = classifier.predict(X_test)\n",
    "y_pred"
   ],
   "metadata": {
    "collapsed": false,
    "ExecuteTime": {
     "start_time": "2024-02-07T18:04:15.077642Z",
     "end_time": "2024-02-07T18:04:20.373641Z"
    }
   }
  },
  {
   "cell_type": "code",
   "execution_count": 222,
   "id": "c8871444",
   "metadata": {
    "ExecuteTime": {
     "start_time": "2024-02-07T18:04:20.373641Z",
     "end_time": "2024-02-07T18:04:20.391645Z"
    }
   },
   "outputs": [],
   "source": [
    "def get_clf_eval(y_test, y_pred=None):\n",
    "    confusion = confusion_matrix(y_test, y_pred, labels=[True, False])\n",
    "    accuracy = accuracy_score(y_test, y_pred)\n",
    "    precision = precision_score(y_test, y_pred, labels=[True, False])\n",
    "    recall = recall_score(y_test, y_pred)\n",
    "    F1 = f1_score(y_test, y_pred, labels=[True, False])\n",
    "\n",
    "    print(\"오차행렬:\\n\", confusion)\n",
    "    print(\"\\n정확도: {:.4f}\".format(accuracy))\n",
    "    print(\"정밀도: {:.4f}\".format(precision))\n",
    "    print(\"재현율: {:.4f}\".format(recall))\n",
    "    print(\"F1: {:.4f}\".format(F1))"
   ]
  },
  {
   "cell_type": "code",
   "execution_count": 223,
   "id": "56a86373",
   "metadata": {
    "ExecuteTime": {
     "start_time": "2024-02-07T18:04:20.389645Z",
     "end_time": "2024-02-07T18:04:20.435674Z"
    }
   },
   "outputs": [
    {
     "name": "stdout",
     "output_type": "stream",
     "text": [
      "오차행렬:\n",
      " [[  527   420]\n",
      " [  343 10570]]\n",
      "\n",
      "정확도: 0.9357\n",
      "정밀도: 0.6057\n",
      "재현율: 0.5565\n",
      "F1: 0.5801\n"
     ]
    }
   ],
   "source": [
    "# pred = model.predict(x_valid.fillna(0))\n",
    "get_clf_eval(y_val, y_pred)"
   ]
  },
  {
   "cell_type": "markdown",
   "id": "7adf8300",
   "metadata": {},
   "source": [
    "## 4. 제출하기"
   ]
  },
  {
   "cell_type": "markdown",
   "id": "9d0b6e17",
   "metadata": {},
   "source": [
    "### 테스트 데이터 예측"
   ]
  },
  {
   "cell_type": "code",
   "execution_count": 224,
   "id": "43daa73c",
   "metadata": {
    "ExecuteTime": {
     "start_time": "2024-02-07T18:04:20.421667Z",
     "end_time": "2024-02-07T18:04:20.443676Z"
    }
   },
   "outputs": [],
   "source": [
    "# 예측에 필요한 데이터 분리\n",
    "x_test = df_test.drop([\"is_converted\", \"id\"], axis=1)"
   ]
  },
  {
   "cell_type": "code",
   "execution_count": 225,
   "id": "d13f7a6e",
   "metadata": {
    "ExecuteTime": {
     "start_time": "2024-02-07T18:04:20.437675Z",
     "end_time": "2024-02-07T18:04:24.482597Z"
    }
   },
   "outputs": [
    {
     "name": "stderr",
     "output_type": "stream",
     "text": [
      "C:\\Users\\user\\anaconda3\\lib\\site-packages\\sklearn\\base.py:486: UserWarning: X has feature names, but SVC was fitted without feature names\n",
      "  warnings.warn(\n"
     ]
    },
    {
     "data": {
      "text/plain": "0"
     },
     "execution_count": 225,
     "metadata": {},
     "output_type": "execute_result"
    }
   ],
   "source": [
    "test_pred = classifier.predict(x_test.fillna(0))\n",
    "\n",
    "y_pred_boolean = test_pred>0.5\n",
    "sum(y_pred_boolean) # True로 예측된 개수\n",
    "# print(y_pred_boolean)"
   ]
  },
  {
   "cell_type": "markdown",
   "id": "47f18e6a",
   "metadata": {},
   "source": [
    "### 제출 파일 작성"
   ]
  },
  {
   "cell_type": "code",
   "execution_count": 39,
   "id": "3128a458",
   "metadata": {
    "ExecuteTime": {
     "start_time": "2024-02-06T15:48:23.242325Z",
     "end_time": "2024-02-06T15:48:23.308341Z"
    }
   },
   "outputs": [],
   "source": [
    "# 제출 데이터 읽어오기 (df_test는 전처리된 데이터가 저장됨)\n",
    "df_sub = pd.read_csv(\"submission.csv\")\n",
    "df_sub[\"is_converted\"] = y_pred_boolean\n",
    "\n",
    "# 제출 파일 저장\n",
    "df_sub.to_csv(\"submission.csv\", index=False)"
   ]
  },
  {
   "cell_type": "markdown",
   "id": "ec7867ce",
   "metadata": {},
   "source": [
    "**우측 상단의 제출 버튼을 클릭해 결과를 확인하세요**"
   ]
  }
 ],
 "metadata": {
  "kernelspec": {
   "display_name": "Python 3 (ipykernel)",
   "language": "python",
   "name": "python3"
  },
  "language_info": {
   "codemirror_mode": {
    "name": "ipython",
    "version": 3
   },
   "file_extension": ".py",
   "mimetype": "text/x-python",
   "name": "python",
   "nbconvert_exporter": "python",
   "pygments_lexer": "ipython3",
   "version": "3.10.13"
  }
 },
 "nbformat": 4,
 "nbformat_minor": 5
}
