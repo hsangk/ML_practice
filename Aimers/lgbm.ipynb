{
 "cells": [
  {
   "cell_type": "markdown",
   "id": "017e9265",
   "metadata": {},
   "source": [
    "# 영업 성공 여부 분류 경진대회"
   ]
  },
  {
   "cell_type": "markdown",
   "id": "acdab431",
   "metadata": {},
   "source": [
    "## 1. 데이터 확인"
   ]
  },
  {
   "cell_type": "markdown",
   "id": "2b8341e8",
   "metadata": {},
   "source": [
    "### 필수 라이브러리"
   ]
  },
  {
   "cell_type": "code",
   "execution_count": 34,
   "id": "a315cc58",
   "metadata": {
    "ExecuteTime": {
     "start_time": "2024-02-06T21:32:22.561164Z",
     "end_time": "2024-02-06T21:32:22.611177Z"
    }
   },
   "outputs": [],
   "source": [
    "import pandas as pd\n",
    "import numpy as np\n",
    "from sklearn.metrics import (\n",
    "    accuracy_score,\n",
    "    confusion_matrix,\n",
    "    f1_score,\n",
    "    precision_score,\n",
    "    recall_score,\n",
    ")\n",
    "from sklearn.model_selection import train_test_split\n",
    "from sklearn.tree import DecisionTreeClassifier\n",
    "\n",
    "import seaborn as sb\n",
    "import matplotlib.pyplot as plt\n",
    "import lightgbm as lgb\n",
    "\n",
    "from sklearn.preprocessing import StandardScaler\n",
    "from sklearn.model_selection import train_test_split\n",
    "\n",
    "import warnings\n",
    "warnings.filterwarnings('ignore')"
   ]
  },
  {
   "cell_type": "markdown",
   "id": "412f98cc",
   "metadata": {},
   "source": [
    "### 데이터 셋 읽어오기"
   ]
  },
  {
   "cell_type": "code",
   "execution_count": 35,
   "id": "7ada941e",
   "metadata": {
    "ExecuteTime": {
     "start_time": "2024-02-06T21:32:22.578168Z",
     "end_time": "2024-02-06T21:32:22.736128Z"
    }
   },
   "outputs": [],
   "source": [
    "df_train = pd.read_csv(\"train.csv\") # 학습용 데이터\n",
    "df_test = pd.read_csv(\"submission.csv\") # 테스트 데이터(제출파일의 데이터)"
   ]
  },
  {
   "cell_type": "code",
   "execution_count": 36,
   "id": "be9af12a",
   "metadata": {
    "ExecuteTime": {
     "start_time": "2024-02-06T21:32:22.737128Z",
     "end_time": "2024-02-06T21:32:22.752131Z"
    }
   },
   "outputs": [
    {
     "data": {
      "text/plain": "   bant_submit          customer_country business_unit  com_reg_ver_win_rate  \\\n0          1.0  /Quezon City/Philippines            AS              0.066667   \n1          1.0        /PH-00/Philippines            AS              0.066667   \n2          1.0           /Kolkata /India            AS              0.088889   \n3          1.0        /Bhubaneswar/India            AS              0.088889   \n4          1.0          /Hyderabad/India            AS              0.088889   \n\n   customer_idx          customer_type  enterprise  historical_existing_cnt  \\\n0         32160           End-Customer  Enterprise                      NaN   \n1         23122           End-Customer  Enterprise                     12.0   \n2          1755           End-Customer  Enterprise                    144.0   \n3          4919           End-Customer  Enterprise                      NaN   \n4         17126  Specifier/ Influencer  Enterprise                      NaN   \n\n   id_strategic_ver  it_strategic_ver  ...  response_corporate  \\\n0               NaN               NaN  ...               LGEPH   \n1               NaN               NaN  ...               LGEPH   \n2               NaN               NaN  ...               LGEIL   \n3               NaN               NaN  ...               LGEIL   \n4               NaN               NaN  ...               LGEIL   \n\n    expected_timeline  ver_cus ver_pro ver_win_rate_x ver_win_ratio_per_bu  \\\n0  less than 3 months        1       0       0.003079             0.026846   \n1  less than 3 months        1       0       0.003079             0.026846   \n2  less than 3 months        1       0       0.003079             0.026846   \n3  less than 3 months        1       0       0.003079             0.026846   \n4  less than 3 months        0       0       0.003079             0.026846   \n\n        business_area business_subarea lead_owner is_converted  \n0  corporate / office      Engineering          0         True  \n1  corporate / office      Advertising          1         True  \n2  corporate / office     Construction          2         True  \n3  corporate / office      IT/Software          3         True  \n4  corporate / office              NaN          4         True  \n\n[5 rows x 29 columns]",
      "text/html": "<div>\n<style scoped>\n    .dataframe tbody tr th:only-of-type {\n        vertical-align: middle;\n    }\n\n    .dataframe tbody tr th {\n        vertical-align: top;\n    }\n\n    .dataframe thead th {\n        text-align: right;\n    }\n</style>\n<table border=\"1\" class=\"dataframe\">\n  <thead>\n    <tr style=\"text-align: right;\">\n      <th></th>\n      <th>bant_submit</th>\n      <th>customer_country</th>\n      <th>business_unit</th>\n      <th>com_reg_ver_win_rate</th>\n      <th>customer_idx</th>\n      <th>customer_type</th>\n      <th>enterprise</th>\n      <th>historical_existing_cnt</th>\n      <th>id_strategic_ver</th>\n      <th>it_strategic_ver</th>\n      <th>...</th>\n      <th>response_corporate</th>\n      <th>expected_timeline</th>\n      <th>ver_cus</th>\n      <th>ver_pro</th>\n      <th>ver_win_rate_x</th>\n      <th>ver_win_ratio_per_bu</th>\n      <th>business_area</th>\n      <th>business_subarea</th>\n      <th>lead_owner</th>\n      <th>is_converted</th>\n    </tr>\n  </thead>\n  <tbody>\n    <tr>\n      <th>0</th>\n      <td>1.0</td>\n      <td>/Quezon City/Philippines</td>\n      <td>AS</td>\n      <td>0.066667</td>\n      <td>32160</td>\n      <td>End-Customer</td>\n      <td>Enterprise</td>\n      <td>NaN</td>\n      <td>NaN</td>\n      <td>NaN</td>\n      <td>...</td>\n      <td>LGEPH</td>\n      <td>less than 3 months</td>\n      <td>1</td>\n      <td>0</td>\n      <td>0.003079</td>\n      <td>0.026846</td>\n      <td>corporate / office</td>\n      <td>Engineering</td>\n      <td>0</td>\n      <td>True</td>\n    </tr>\n    <tr>\n      <th>1</th>\n      <td>1.0</td>\n      <td>/PH-00/Philippines</td>\n      <td>AS</td>\n      <td>0.066667</td>\n      <td>23122</td>\n      <td>End-Customer</td>\n      <td>Enterprise</td>\n      <td>12.0</td>\n      <td>NaN</td>\n      <td>NaN</td>\n      <td>...</td>\n      <td>LGEPH</td>\n      <td>less than 3 months</td>\n      <td>1</td>\n      <td>0</td>\n      <td>0.003079</td>\n      <td>0.026846</td>\n      <td>corporate / office</td>\n      <td>Advertising</td>\n      <td>1</td>\n      <td>True</td>\n    </tr>\n    <tr>\n      <th>2</th>\n      <td>1.0</td>\n      <td>/Kolkata /India</td>\n      <td>AS</td>\n      <td>0.088889</td>\n      <td>1755</td>\n      <td>End-Customer</td>\n      <td>Enterprise</td>\n      <td>144.0</td>\n      <td>NaN</td>\n      <td>NaN</td>\n      <td>...</td>\n      <td>LGEIL</td>\n      <td>less than 3 months</td>\n      <td>1</td>\n      <td>0</td>\n      <td>0.003079</td>\n      <td>0.026846</td>\n      <td>corporate / office</td>\n      <td>Construction</td>\n      <td>2</td>\n      <td>True</td>\n    </tr>\n    <tr>\n      <th>3</th>\n      <td>1.0</td>\n      <td>/Bhubaneswar/India</td>\n      <td>AS</td>\n      <td>0.088889</td>\n      <td>4919</td>\n      <td>End-Customer</td>\n      <td>Enterprise</td>\n      <td>NaN</td>\n      <td>NaN</td>\n      <td>NaN</td>\n      <td>...</td>\n      <td>LGEIL</td>\n      <td>less than 3 months</td>\n      <td>1</td>\n      <td>0</td>\n      <td>0.003079</td>\n      <td>0.026846</td>\n      <td>corporate / office</td>\n      <td>IT/Software</td>\n      <td>3</td>\n      <td>True</td>\n    </tr>\n    <tr>\n      <th>4</th>\n      <td>1.0</td>\n      <td>/Hyderabad/India</td>\n      <td>AS</td>\n      <td>0.088889</td>\n      <td>17126</td>\n      <td>Specifier/ Influencer</td>\n      <td>Enterprise</td>\n      <td>NaN</td>\n      <td>NaN</td>\n      <td>NaN</td>\n      <td>...</td>\n      <td>LGEIL</td>\n      <td>less than 3 months</td>\n      <td>0</td>\n      <td>0</td>\n      <td>0.003079</td>\n      <td>0.026846</td>\n      <td>corporate / office</td>\n      <td>NaN</td>\n      <td>4</td>\n      <td>True</td>\n    </tr>\n  </tbody>\n</table>\n<p>5 rows × 29 columns</p>\n</div>"
     },
     "execution_count": 36,
     "metadata": {},
     "output_type": "execute_result"
    }
   ],
   "source": [
    "df_train.head() # 학습용 데이터 살펴보기"
   ]
  },
  {
   "cell_type": "markdown",
   "id": "af526c13",
   "metadata": {},
   "source": [
    "## 2. 데이터 전처리"
   ]
  },
  {
   "cell_type": "markdown",
   "id": "4bd47e00",
   "metadata": {},
   "source": [
    "### 레이블 인코딩"
   ]
  },
  {
   "cell_type": "code",
   "execution_count": 37,
   "id": "0b42b1a1",
   "metadata": {
    "ExecuteTime": {
     "start_time": "2024-02-06T21:32:22.754131Z",
     "end_time": "2024-02-06T21:32:22.814146Z"
    }
   },
   "outputs": [],
   "source": [
    "def label_encoding(series: pd.Series) -> pd.Series:\n",
    "    \"\"\"범주형 데이터를 시리즈 형태로 받아 숫자형 데이터로 변환합니다.\"\"\"\n",
    "\n",
    "    my_dict = {}\n",
    "\n",
    "    # 모든 요소를 문자열로 변환\n",
    "    series = series.astype(str)\n",
    "\n",
    "    for idx, value in enumerate(sorted(series.unique())):\n",
    "        my_dict[value] = idx\n",
    "    series = series.map(my_dict)\n",
    "\n",
    "    return series"
   ]
  },
  {
   "cell_type": "code",
   "execution_count": 38,
   "id": "881a4612",
   "metadata": {
    "ExecuteTime": {
     "start_time": "2024-02-06T21:32:22.770135Z",
     "end_time": "2024-02-06T21:32:22.934185Z"
    }
   },
   "outputs": [],
   "source": [
    "# 레이블 인코딩할 칼럼들\n",
    "label_columns = [\n",
    "    \"customer_country\",\n",
    "    \"business_subarea\",\n",
    "    \"business_area\",\n",
    "    \"business_unit\",\n",
    "    \"customer_type\",\n",
    "    \"enterprise\",\n",
    "    \"customer_job\",\n",
    "    \"inquiry_type\",\n",
    "    \"product_category\",\n",
    "    \"product_subcategory\",\n",
    "    \"product_modelname\",\n",
    "    \"customer_country.1\",\n",
    "    \"customer_position\",\n",
    "    \"response_corporate\",\n",
    "    \"expected_timeline\",\n",
    "]\n",
    "\n",
    "df_all = pd.concat([df_train[label_columns], df_test[label_columns]])\n",
    "\n",
    "for col in label_columns:\n",
    "    df_all[col] = label_encoding(df_all[col])"
   ]
  },
  {
   "cell_type": "markdown",
   "id": "3a477f93",
   "metadata": {},
   "source": [
    "다시 학습 데이터와 제출 데이터를 분리합니다."
   ]
  },
  {
   "cell_type": "code",
   "execution_count": 39,
   "id": "ff10c5fb",
   "metadata": {
    "ExecuteTime": {
     "start_time": "2024-02-06T21:32:22.912673Z",
     "end_time": "2024-02-06T21:32:22.957190Z"
    }
   },
   "outputs": [],
   "source": [
    "for col in label_columns:  \n",
    "    df_train[col] = df_all.iloc[: len(df_train)][col]\n",
    "    df_test[col] = df_all.iloc[len(df_train) :][col]"
   ]
  },
  {
   "cell_type": "code",
   "execution_count": 40,
   "id": "9d8422fe",
   "metadata": {
    "ExecuteTime": {
     "start_time": "2024-02-06T21:32:22.928182Z",
     "end_time": "2024-02-06T21:32:22.958191Z"
    }
   },
   "outputs": [
    {
     "data": {
      "text/plain": "   bant_submit  customer_country  business_unit  com_reg_ver_win_rate  \\\n0          1.0              9070              0              0.066667   \n1          1.0              8406              0              0.066667   \n2          1.0              6535              0              0.088889   \n3          1.0              3388              0              0.088889   \n4          1.0              5799              0              0.088889   \n\n   customer_idx  customer_type  enterprise  historical_existing_cnt  \\\n0         32160             10           0                      NaN   \n1         23122             10           0                     12.0   \n2          1755             10           0                    144.0   \n3          4919             10           0                      NaN   \n4         17126             29           0                      NaN   \n\n   id_strategic_ver  it_strategic_ver  ...  response_corporate  \\\n0               NaN               NaN  ...                  33   \n1               NaN               NaN  ...                  33   \n2               NaN               NaN  ...                  21   \n3               NaN               NaN  ...                  21   \n4               NaN               NaN  ...                  21   \n\n   expected_timeline  ver_cus  ver_pro  ver_win_rate_x  ver_win_ratio_per_bu  \\\n0                246        1        0        0.003079              0.026846   \n1                246        1        0        0.003079              0.026846   \n2                246        1        0        0.003079              0.026846   \n3                246        1        0        0.003079              0.026846   \n4                246        0        0        0.003079              0.026846   \n\n   business_area  business_subarea  lead_owner  is_converted  \n0              0                28           0          True  \n1              0                 0           1          True  \n2              0                17           2          True  \n3              0                44           3          True  \n4              0                86           4          True  \n\n[5 rows x 29 columns]",
      "text/html": "<div>\n<style scoped>\n    .dataframe tbody tr th:only-of-type {\n        vertical-align: middle;\n    }\n\n    .dataframe tbody tr th {\n        vertical-align: top;\n    }\n\n    .dataframe thead th {\n        text-align: right;\n    }\n</style>\n<table border=\"1\" class=\"dataframe\">\n  <thead>\n    <tr style=\"text-align: right;\">\n      <th></th>\n      <th>bant_submit</th>\n      <th>customer_country</th>\n      <th>business_unit</th>\n      <th>com_reg_ver_win_rate</th>\n      <th>customer_idx</th>\n      <th>customer_type</th>\n      <th>enterprise</th>\n      <th>historical_existing_cnt</th>\n      <th>id_strategic_ver</th>\n      <th>it_strategic_ver</th>\n      <th>...</th>\n      <th>response_corporate</th>\n      <th>expected_timeline</th>\n      <th>ver_cus</th>\n      <th>ver_pro</th>\n      <th>ver_win_rate_x</th>\n      <th>ver_win_ratio_per_bu</th>\n      <th>business_area</th>\n      <th>business_subarea</th>\n      <th>lead_owner</th>\n      <th>is_converted</th>\n    </tr>\n  </thead>\n  <tbody>\n    <tr>\n      <th>0</th>\n      <td>1.0</td>\n      <td>9070</td>\n      <td>0</td>\n      <td>0.066667</td>\n      <td>32160</td>\n      <td>10</td>\n      <td>0</td>\n      <td>NaN</td>\n      <td>NaN</td>\n      <td>NaN</td>\n      <td>...</td>\n      <td>33</td>\n      <td>246</td>\n      <td>1</td>\n      <td>0</td>\n      <td>0.003079</td>\n      <td>0.026846</td>\n      <td>0</td>\n      <td>28</td>\n      <td>0</td>\n      <td>True</td>\n    </tr>\n    <tr>\n      <th>1</th>\n      <td>1.0</td>\n      <td>8406</td>\n      <td>0</td>\n      <td>0.066667</td>\n      <td>23122</td>\n      <td>10</td>\n      <td>0</td>\n      <td>12.0</td>\n      <td>NaN</td>\n      <td>NaN</td>\n      <td>...</td>\n      <td>33</td>\n      <td>246</td>\n      <td>1</td>\n      <td>0</td>\n      <td>0.003079</td>\n      <td>0.026846</td>\n      <td>0</td>\n      <td>0</td>\n      <td>1</td>\n      <td>True</td>\n    </tr>\n    <tr>\n      <th>2</th>\n      <td>1.0</td>\n      <td>6535</td>\n      <td>0</td>\n      <td>0.088889</td>\n      <td>1755</td>\n      <td>10</td>\n      <td>0</td>\n      <td>144.0</td>\n      <td>NaN</td>\n      <td>NaN</td>\n      <td>...</td>\n      <td>21</td>\n      <td>246</td>\n      <td>1</td>\n      <td>0</td>\n      <td>0.003079</td>\n      <td>0.026846</td>\n      <td>0</td>\n      <td>17</td>\n      <td>2</td>\n      <td>True</td>\n    </tr>\n    <tr>\n      <th>3</th>\n      <td>1.0</td>\n      <td>3388</td>\n      <td>0</td>\n      <td>0.088889</td>\n      <td>4919</td>\n      <td>10</td>\n      <td>0</td>\n      <td>NaN</td>\n      <td>NaN</td>\n      <td>NaN</td>\n      <td>...</td>\n      <td>21</td>\n      <td>246</td>\n      <td>1</td>\n      <td>0</td>\n      <td>0.003079</td>\n      <td>0.026846</td>\n      <td>0</td>\n      <td>44</td>\n      <td>3</td>\n      <td>True</td>\n    </tr>\n    <tr>\n      <th>4</th>\n      <td>1.0</td>\n      <td>5799</td>\n      <td>0</td>\n      <td>0.088889</td>\n      <td>17126</td>\n      <td>29</td>\n      <td>0</td>\n      <td>NaN</td>\n      <td>NaN</td>\n      <td>NaN</td>\n      <td>...</td>\n      <td>21</td>\n      <td>246</td>\n      <td>0</td>\n      <td>0</td>\n      <td>0.003079</td>\n      <td>0.026846</td>\n      <td>0</td>\n      <td>86</td>\n      <td>4</td>\n      <td>True</td>\n    </tr>\n  </tbody>\n</table>\n<p>5 rows × 29 columns</p>\n</div>"
     },
     "execution_count": 40,
     "metadata": {},
     "output_type": "execute_result"
    }
   ],
   "source": [
    "df_train.head() # 학습용 데이터 살펴보기"
   ]
  },
  {
   "cell_type": "markdown",
   "id": "d332358a",
   "metadata": {},
   "source": [
    "### 2-2. 학습, 검증 데이터 분리"
   ]
  },
  {
   "cell_type": "code",
   "execution_count": 41,
   "id": "27c9e205",
   "metadata": {
    "ExecuteTime": {
     "start_time": "2024-02-06T21:32:22.944187Z",
     "end_time": "2024-02-06T21:32:22.999200Z"
    }
   },
   "outputs": [],
   "source": [
    "df_train = df_train.fillna(0)\n",
    "X_train, X_val, Y_train, Y_val = train_test_split(\n",
    "    df_train.drop(\"is_converted\", axis=1),\n",
    "    df_train[\"is_converted\"],\n",
    "    test_size=0.2,\n",
    "    shuffle=True,\n",
    "    random_state=400,\n",
    ")\n",
    "# print([x_train.shape[1]])\n",
    "# print(y_train)"
   ]
  },
  {
   "cell_type": "code",
   "execution_count": 42,
   "outputs": [],
   "source": [
    "scaler = StandardScaler()\n",
    "\n",
    "scaler.fit(X_train)\n",
    "X_train = scaler.transform(X_train)\n",
    "X_val = scaler.transform(X_val)\n"
   ],
   "metadata": {
    "collapsed": false,
    "ExecuteTime": {
     "start_time": "2024-02-06T21:32:22.976195Z",
     "end_time": "2024-02-06T21:32:23.021206Z"
    }
   }
  },
  {
   "cell_type": "code",
   "execution_count": 52,
   "outputs": [
    {
     "name": "stdout",
     "output_type": "stream",
     "text": [
      "[LightGBM] [Info] Number of positive: 3903, number of negative: 43536\n",
      "[LightGBM] [Info] Auto-choosing row-wise multi-threading, the overhead of testing was 0.001556 seconds.\n",
      "You can set `force_row_wise=true` to remove the overhead.\n",
      "And if memory is not enough, you can set `force_col_wise=true`.\n",
      "[LightGBM] [Info] Total Bins 2324\n",
      "[LightGBM] [Info] Number of data points in the train set: 47439, number of used features: 28\n",
      "[False False False ... False False False]\n"
     ]
    }
   ],
   "source": [
    "from lightgbm import LGBMClassifier\n",
    "\n",
    "# Initialize a LightGBM Classifier with 'auc' as the evaluation metric\n",
    "model = LGBMClassifier(metric='auc', boost_from_average=False)\n",
    "\n",
    "# Fit the model on the training data\n",
    "model.fit(X_train, Y_train)\n",
    "\n",
    "# Make predictions on the training and validation sets\n",
    "y_train = model.predict(X_train)\n",
    "y_val = model.predict(X_val)\n",
    "print(y_val)"
   ],
   "metadata": {
    "collapsed": false,
    "ExecuteTime": {
     "start_time": "2024-02-06T21:35:47.464515Z",
     "end_time": "2024-02-06T21:35:47.700582Z"
    }
   }
  },
  {
   "cell_type": "code",
   "execution_count": 53,
   "id": "c8871444",
   "metadata": {
    "ExecuteTime": {
     "start_time": "2024-02-06T21:35:49.335784Z",
     "end_time": "2024-02-06T21:35:49.347788Z"
    }
   },
   "outputs": [],
   "source": [
    "import lightgbm as lgb\n",
    "\n",
    "# Create LightGBM Datasets for training and validation\n",
    "train_data = lgb.Dataset(X_train, label=Y_train)\n",
    "test_data = lgb.Dataset(X_val, label=Y_val, reference=train_data)\n",
    "# print(Y_train)\n",
    "# Define hyperparameters and objective for LightGBM\n",
    "params = {\n",
    "    'objective': 'binary',\n",
    "    'metric': 'auc',\n",
    "    'boosting_type': 'gbdt',\n",
    "    'num_leaves': 31,\n",
    "    'learning_rate': 0.05,\n",
    "    'feature_fraction': 0.9,\n",
    "}"
   ]
  },
  {
   "cell_type": "code",
   "execution_count": 54,
   "outputs": [
    {
     "name": "stdout",
     "output_type": "stream",
     "text": [
      "[LightGBM] [Info] Number of positive: 3903, number of negative: 43536\n",
      "[LightGBM] [Info] Auto-choosing col-wise multi-threading, the overhead of testing was 0.007582 seconds.\n",
      "You can set `force_col_wise=true` to remove the overhead.\n",
      "[LightGBM] [Info] Total Bins 2324\n",
      "[LightGBM] [Info] Number of data points in the train set: 47439, number of used features: 28\n",
      "[LightGBM] [Info] [binary:BoostFromScore]: pavg=0.082274 -> initscore=-2.411843\n",
      "[LightGBM] [Info] Start training from score -2.411843\n"
     ]
    }
   ],
   "source": [
    "# Training a LightGBM Model\n",
    "num_round = 100\n",
    "\n",
    "# Train a LightGBM model using defined parameters, training data, and specified number of rounds\n",
    "model = lgb.train(params, train_data,\n",
    "                  num_round, valid_sets=[test_data])"
   ],
   "metadata": {
    "collapsed": false,
    "ExecuteTime": {
     "start_time": "2024-02-06T21:35:50.562471Z",
     "end_time": "2024-02-06T21:35:51.484361Z"
    }
   }
  },
  {
   "cell_type": "code",
   "execution_count": 55,
   "outputs": [
    {
     "name": "stdout",
     "output_type": "stream",
     "text": [
      "Training F1 score:  0.8389006342494715\n",
      "Validation F1 score:  0.776595744680851\n",
      "Training ROC-AUC:  0.8787644903801417\n",
      "Validation ROC-AUC:  0.8428530111099489\n"
     ]
    }
   ],
   "source": [
    "# Calculating and Printing ROC-AUC Scores\n",
    "from sklearn.metrics import roc_auc_score as ras\n",
    "from sklearn.metrics import f1_score\n",
    "\n",
    "\n",
    "print(\"Training F1 score: \", f1_score(Y_train, y_train))\n",
    "print(\"Validation F1 score: \", f1_score(Y_val, y_val))\n",
    "# Calculate and print the ROC-AUC score for the training and validation sets\n",
    "print(\"Training ROC-AUC: \", ras(Y_train, y_train))\n",
    "print(\"Validation ROC-AUC: \", ras(Y_val, y_val))\n",
    "# print(y_val)"
   ],
   "metadata": {
    "collapsed": false,
    "ExecuteTime": {
     "start_time": "2024-02-06T21:35:51.946411Z",
     "end_time": "2024-02-06T21:35:51.973922Z"
    }
   }
  },
  {
   "cell_type": "markdown",
   "id": "7adf8300",
   "metadata": {},
   "source": [
    "## 4. 제출하기"
   ]
  },
  {
   "cell_type": "markdown",
   "id": "9d0b6e17",
   "metadata": {},
   "source": [
    "### 테스트 데이터 예측"
   ]
  },
  {
   "cell_type": "code",
   "execution_count": 61,
   "outputs": [],
   "source": [
    "# 예측에 필요한 데이터 분리\n",
    "x_test = df_test.drop([\"is_converted\", \"id\"], axis=1)"
   ],
   "metadata": {
    "collapsed": false,
    "ExecuteTime": {
     "start_time": "2024-02-06T21:36:02.293106Z",
     "end_time": "2024-02-06T21:36:02.318117Z"
    }
   }
  },
  {
   "cell_type": "code",
   "execution_count": 62,
   "id": "d13f7a6e",
   "metadata": {
    "ExecuteTime": {
     "start_time": "2024-02-06T21:36:02.436663Z",
     "end_time": "2024-02-06T21:36:02.451666Z"
    }
   },
   "outputs": [
    {
     "name": "stdout",
     "output_type": "stream",
     "text": [
      "[0.17984775 0.08210805 0.08210805 ... 0.03682683 0.12802815 0.03682683]\n"
     ]
    },
    {
     "data": {
      "text/plain": "394.418145336162"
     },
     "execution_count": 62,
     "metadata": {},
     "output_type": "execute_result"
    }
   ],
   "source": [
    "test_prob = model.predict(x_test.fillna(0))\n",
    "# test_pred = (test_prob > 0.5).astype(int)\n",
    "print(test_prob)\n",
    "sum(test_prob) # True로 예측된 개수"
   ]
  },
  {
   "cell_type": "markdown",
   "id": "47f18e6a",
   "metadata": {},
   "source": [
    "### 제출 파일 작성"
   ]
  },
  {
   "cell_type": "code",
   "execution_count": 28,
   "id": "3128a458",
   "metadata": {
    "ExecuteTime": {
     "start_time": "2024-02-06T21:24:04.100216Z",
     "end_time": "2024-02-06T21:24:04.169740Z"
    }
   },
   "outputs": [
    {
     "name": "stdout",
     "output_type": "stream",
     "text": [
      "[False False False ... False False False]\n"
     ]
    },
    {
     "ename": "PermissionError",
     "evalue": "[Errno 13] Permission denied: 'submission.csv'",
     "output_type": "error",
     "traceback": [
      "\u001B[1;31m---------------------------------------------------------------------------\u001B[0m",
      "\u001B[1;31mPermissionError\u001B[0m                           Traceback (most recent call last)",
      "Cell \u001B[1;32mIn[28], line 6\u001B[0m\n\u001B[0;32m      4\u001B[0m \u001B[38;5;28mprint\u001B[39m(test_prob)\n\u001B[0;32m      5\u001B[0m \u001B[38;5;66;03m# 제출 파일 저장\u001B[39;00m\n\u001B[1;32m----> 6\u001B[0m \u001B[43mdf_sub\u001B[49m\u001B[38;5;241;43m.\u001B[39;49m\u001B[43mto_csv\u001B[49m\u001B[43m(\u001B[49m\u001B[38;5;124;43m\"\u001B[39;49m\u001B[38;5;124;43msubmission.csv\u001B[39;49m\u001B[38;5;124;43m\"\u001B[39;49m\u001B[43m,\u001B[49m\u001B[43m \u001B[49m\u001B[43mindex\u001B[49m\u001B[38;5;241;43m=\u001B[39;49m\u001B[38;5;28;43;01mFalse\u001B[39;49;00m\u001B[43m)\u001B[49m\n",
      "File \u001B[1;32m~\\anaconda3\\lib\\site-packages\\pandas\\core\\generic.py:3902\u001B[0m, in \u001B[0;36mNDFrame.to_csv\u001B[1;34m(self, path_or_buf, sep, na_rep, float_format, columns, header, index, index_label, mode, encoding, compression, quoting, quotechar, lineterminator, chunksize, date_format, doublequote, escapechar, decimal, errors, storage_options)\u001B[0m\n\u001B[0;32m   3891\u001B[0m df \u001B[38;5;241m=\u001B[39m \u001B[38;5;28mself\u001B[39m \u001B[38;5;28;01mif\u001B[39;00m \u001B[38;5;28misinstance\u001B[39m(\u001B[38;5;28mself\u001B[39m, ABCDataFrame) \u001B[38;5;28;01melse\u001B[39;00m \u001B[38;5;28mself\u001B[39m\u001B[38;5;241m.\u001B[39mto_frame()\n\u001B[0;32m   3893\u001B[0m formatter \u001B[38;5;241m=\u001B[39m DataFrameFormatter(\n\u001B[0;32m   3894\u001B[0m     frame\u001B[38;5;241m=\u001B[39mdf,\n\u001B[0;32m   3895\u001B[0m     header\u001B[38;5;241m=\u001B[39mheader,\n\u001B[1;32m   (...)\u001B[0m\n\u001B[0;32m   3899\u001B[0m     decimal\u001B[38;5;241m=\u001B[39mdecimal,\n\u001B[0;32m   3900\u001B[0m )\n\u001B[1;32m-> 3902\u001B[0m \u001B[38;5;28;01mreturn\u001B[39;00m \u001B[43mDataFrameRenderer\u001B[49m\u001B[43m(\u001B[49m\u001B[43mformatter\u001B[49m\u001B[43m)\u001B[49m\u001B[38;5;241;43m.\u001B[39;49m\u001B[43mto_csv\u001B[49m\u001B[43m(\u001B[49m\n\u001B[0;32m   3903\u001B[0m \u001B[43m    \u001B[49m\u001B[43mpath_or_buf\u001B[49m\u001B[43m,\u001B[49m\n\u001B[0;32m   3904\u001B[0m \u001B[43m    \u001B[49m\u001B[43mlineterminator\u001B[49m\u001B[38;5;241;43m=\u001B[39;49m\u001B[43mlineterminator\u001B[49m\u001B[43m,\u001B[49m\n\u001B[0;32m   3905\u001B[0m \u001B[43m    \u001B[49m\u001B[43msep\u001B[49m\u001B[38;5;241;43m=\u001B[39;49m\u001B[43msep\u001B[49m\u001B[43m,\u001B[49m\n\u001B[0;32m   3906\u001B[0m \u001B[43m    \u001B[49m\u001B[43mencoding\u001B[49m\u001B[38;5;241;43m=\u001B[39;49m\u001B[43mencoding\u001B[49m\u001B[43m,\u001B[49m\n\u001B[0;32m   3907\u001B[0m \u001B[43m    \u001B[49m\u001B[43merrors\u001B[49m\u001B[38;5;241;43m=\u001B[39;49m\u001B[43merrors\u001B[49m\u001B[43m,\u001B[49m\n\u001B[0;32m   3908\u001B[0m \u001B[43m    \u001B[49m\u001B[43mcompression\u001B[49m\u001B[38;5;241;43m=\u001B[39;49m\u001B[43mcompression\u001B[49m\u001B[43m,\u001B[49m\n\u001B[0;32m   3909\u001B[0m \u001B[43m    \u001B[49m\u001B[43mquoting\u001B[49m\u001B[38;5;241;43m=\u001B[39;49m\u001B[43mquoting\u001B[49m\u001B[43m,\u001B[49m\n\u001B[0;32m   3910\u001B[0m \u001B[43m    \u001B[49m\u001B[43mcolumns\u001B[49m\u001B[38;5;241;43m=\u001B[39;49m\u001B[43mcolumns\u001B[49m\u001B[43m,\u001B[49m\n\u001B[0;32m   3911\u001B[0m \u001B[43m    \u001B[49m\u001B[43mindex_label\u001B[49m\u001B[38;5;241;43m=\u001B[39;49m\u001B[43mindex_label\u001B[49m\u001B[43m,\u001B[49m\n\u001B[0;32m   3912\u001B[0m \u001B[43m    \u001B[49m\u001B[43mmode\u001B[49m\u001B[38;5;241;43m=\u001B[39;49m\u001B[43mmode\u001B[49m\u001B[43m,\u001B[49m\n\u001B[0;32m   3913\u001B[0m \u001B[43m    \u001B[49m\u001B[43mchunksize\u001B[49m\u001B[38;5;241;43m=\u001B[39;49m\u001B[43mchunksize\u001B[49m\u001B[43m,\u001B[49m\n\u001B[0;32m   3914\u001B[0m \u001B[43m    \u001B[49m\u001B[43mquotechar\u001B[49m\u001B[38;5;241;43m=\u001B[39;49m\u001B[43mquotechar\u001B[49m\u001B[43m,\u001B[49m\n\u001B[0;32m   3915\u001B[0m \u001B[43m    \u001B[49m\u001B[43mdate_format\u001B[49m\u001B[38;5;241;43m=\u001B[39;49m\u001B[43mdate_format\u001B[49m\u001B[43m,\u001B[49m\n\u001B[0;32m   3916\u001B[0m \u001B[43m    \u001B[49m\u001B[43mdoublequote\u001B[49m\u001B[38;5;241;43m=\u001B[39;49m\u001B[43mdoublequote\u001B[49m\u001B[43m,\u001B[49m\n\u001B[0;32m   3917\u001B[0m \u001B[43m    \u001B[49m\u001B[43mescapechar\u001B[49m\u001B[38;5;241;43m=\u001B[39;49m\u001B[43mescapechar\u001B[49m\u001B[43m,\u001B[49m\n\u001B[0;32m   3918\u001B[0m \u001B[43m    \u001B[49m\u001B[43mstorage_options\u001B[49m\u001B[38;5;241;43m=\u001B[39;49m\u001B[43mstorage_options\u001B[49m\u001B[43m,\u001B[49m\n\u001B[0;32m   3919\u001B[0m \u001B[43m\u001B[49m\u001B[43m)\u001B[49m\n",
      "File \u001B[1;32m~\\anaconda3\\lib\\site-packages\\pandas\\io\\formats\\format.py:1152\u001B[0m, in \u001B[0;36mDataFrameRenderer.to_csv\u001B[1;34m(self, path_or_buf, encoding, sep, columns, index_label, mode, compression, quoting, quotechar, lineterminator, chunksize, date_format, doublequote, escapechar, errors, storage_options)\u001B[0m\n\u001B[0;32m   1131\u001B[0m     created_buffer \u001B[38;5;241m=\u001B[39m \u001B[38;5;28;01mFalse\u001B[39;00m\n\u001B[0;32m   1133\u001B[0m csv_formatter \u001B[38;5;241m=\u001B[39m CSVFormatter(\n\u001B[0;32m   1134\u001B[0m     path_or_buf\u001B[38;5;241m=\u001B[39mpath_or_buf,\n\u001B[0;32m   1135\u001B[0m     lineterminator\u001B[38;5;241m=\u001B[39mlineterminator,\n\u001B[1;32m   (...)\u001B[0m\n\u001B[0;32m   1150\u001B[0m     formatter\u001B[38;5;241m=\u001B[39m\u001B[38;5;28mself\u001B[39m\u001B[38;5;241m.\u001B[39mfmt,\n\u001B[0;32m   1151\u001B[0m )\n\u001B[1;32m-> 1152\u001B[0m \u001B[43mcsv_formatter\u001B[49m\u001B[38;5;241;43m.\u001B[39;49m\u001B[43msave\u001B[49m\u001B[43m(\u001B[49m\u001B[43m)\u001B[49m\n\u001B[0;32m   1154\u001B[0m \u001B[38;5;28;01mif\u001B[39;00m created_buffer:\n\u001B[0;32m   1155\u001B[0m     \u001B[38;5;28;01massert\u001B[39;00m \u001B[38;5;28misinstance\u001B[39m(path_or_buf, StringIO)\n",
      "File \u001B[1;32m~\\anaconda3\\lib\\site-packages\\pandas\\io\\formats\\csvs.py:247\u001B[0m, in \u001B[0;36mCSVFormatter.save\u001B[1;34m(self)\u001B[0m\n\u001B[0;32m    243\u001B[0m \u001B[38;5;250m\u001B[39m\u001B[38;5;124;03m\"\"\"\u001B[39;00m\n\u001B[0;32m    244\u001B[0m \u001B[38;5;124;03mCreate the writer & save.\u001B[39;00m\n\u001B[0;32m    245\u001B[0m \u001B[38;5;124;03m\"\"\"\u001B[39;00m\n\u001B[0;32m    246\u001B[0m \u001B[38;5;66;03m# apply compression and byte/text conversion\u001B[39;00m\n\u001B[1;32m--> 247\u001B[0m \u001B[38;5;28;01mwith\u001B[39;00m \u001B[43mget_handle\u001B[49m\u001B[43m(\u001B[49m\n\u001B[0;32m    248\u001B[0m \u001B[43m    \u001B[49m\u001B[38;5;28;43mself\u001B[39;49m\u001B[38;5;241;43m.\u001B[39;49m\u001B[43mfilepath_or_buffer\u001B[49m\u001B[43m,\u001B[49m\n\u001B[0;32m    249\u001B[0m \u001B[43m    \u001B[49m\u001B[38;5;28;43mself\u001B[39;49m\u001B[38;5;241;43m.\u001B[39;49m\u001B[43mmode\u001B[49m\u001B[43m,\u001B[49m\n\u001B[0;32m    250\u001B[0m \u001B[43m    \u001B[49m\u001B[43mencoding\u001B[49m\u001B[38;5;241;43m=\u001B[39;49m\u001B[38;5;28;43mself\u001B[39;49m\u001B[38;5;241;43m.\u001B[39;49m\u001B[43mencoding\u001B[49m\u001B[43m,\u001B[49m\n\u001B[0;32m    251\u001B[0m \u001B[43m    \u001B[49m\u001B[43merrors\u001B[49m\u001B[38;5;241;43m=\u001B[39;49m\u001B[38;5;28;43mself\u001B[39;49m\u001B[38;5;241;43m.\u001B[39;49m\u001B[43merrors\u001B[49m\u001B[43m,\u001B[49m\n\u001B[0;32m    252\u001B[0m \u001B[43m    \u001B[49m\u001B[43mcompression\u001B[49m\u001B[38;5;241;43m=\u001B[39;49m\u001B[38;5;28;43mself\u001B[39;49m\u001B[38;5;241;43m.\u001B[39;49m\u001B[43mcompression\u001B[49m\u001B[43m,\u001B[49m\n\u001B[0;32m    253\u001B[0m \u001B[43m    \u001B[49m\u001B[43mstorage_options\u001B[49m\u001B[38;5;241;43m=\u001B[39;49m\u001B[38;5;28;43mself\u001B[39;49m\u001B[38;5;241;43m.\u001B[39;49m\u001B[43mstorage_options\u001B[49m\u001B[43m,\u001B[49m\n\u001B[0;32m    254\u001B[0m \u001B[43m\u001B[49m\u001B[43m)\u001B[49m \u001B[38;5;28;01mas\u001B[39;00m handles:\n\u001B[0;32m    255\u001B[0m     \u001B[38;5;66;03m# Note: self.encoding is irrelevant here\u001B[39;00m\n\u001B[0;32m    256\u001B[0m     \u001B[38;5;28mself\u001B[39m\u001B[38;5;241m.\u001B[39mwriter \u001B[38;5;241m=\u001B[39m csvlib\u001B[38;5;241m.\u001B[39mwriter(\n\u001B[0;32m    257\u001B[0m         handles\u001B[38;5;241m.\u001B[39mhandle,\n\u001B[0;32m    258\u001B[0m         lineterminator\u001B[38;5;241m=\u001B[39m\u001B[38;5;28mself\u001B[39m\u001B[38;5;241m.\u001B[39mlineterminator,\n\u001B[1;32m   (...)\u001B[0m\n\u001B[0;32m    263\u001B[0m         quotechar\u001B[38;5;241m=\u001B[39m\u001B[38;5;28mself\u001B[39m\u001B[38;5;241m.\u001B[39mquotechar,\n\u001B[0;32m    264\u001B[0m     )\n\u001B[0;32m    266\u001B[0m     \u001B[38;5;28mself\u001B[39m\u001B[38;5;241m.\u001B[39m_save()\n",
      "File \u001B[1;32m~\\anaconda3\\lib\\site-packages\\pandas\\io\\common.py:863\u001B[0m, in \u001B[0;36mget_handle\u001B[1;34m(path_or_buf, mode, encoding, compression, memory_map, is_text, errors, storage_options)\u001B[0m\n\u001B[0;32m    858\u001B[0m \u001B[38;5;28;01melif\u001B[39;00m \u001B[38;5;28misinstance\u001B[39m(handle, \u001B[38;5;28mstr\u001B[39m):\n\u001B[0;32m    859\u001B[0m     \u001B[38;5;66;03m# Check whether the filename is to be opened in binary mode.\u001B[39;00m\n\u001B[0;32m    860\u001B[0m     \u001B[38;5;66;03m# Binary mode does not support 'encoding' and 'newline'.\u001B[39;00m\n\u001B[0;32m    861\u001B[0m     \u001B[38;5;28;01mif\u001B[39;00m ioargs\u001B[38;5;241m.\u001B[39mencoding \u001B[38;5;129;01mand\u001B[39;00m \u001B[38;5;124m\"\u001B[39m\u001B[38;5;124mb\u001B[39m\u001B[38;5;124m\"\u001B[39m \u001B[38;5;129;01mnot\u001B[39;00m \u001B[38;5;129;01min\u001B[39;00m ioargs\u001B[38;5;241m.\u001B[39mmode:\n\u001B[0;32m    862\u001B[0m         \u001B[38;5;66;03m# Encoding\u001B[39;00m\n\u001B[1;32m--> 863\u001B[0m         handle \u001B[38;5;241m=\u001B[39m \u001B[38;5;28;43mopen\u001B[39;49m\u001B[43m(\u001B[49m\n\u001B[0;32m    864\u001B[0m \u001B[43m            \u001B[49m\u001B[43mhandle\u001B[49m\u001B[43m,\u001B[49m\n\u001B[0;32m    865\u001B[0m \u001B[43m            \u001B[49m\u001B[43mioargs\u001B[49m\u001B[38;5;241;43m.\u001B[39;49m\u001B[43mmode\u001B[49m\u001B[43m,\u001B[49m\n\u001B[0;32m    866\u001B[0m \u001B[43m            \u001B[49m\u001B[43mencoding\u001B[49m\u001B[38;5;241;43m=\u001B[39;49m\u001B[43mioargs\u001B[49m\u001B[38;5;241;43m.\u001B[39;49m\u001B[43mencoding\u001B[49m\u001B[43m,\u001B[49m\n\u001B[0;32m    867\u001B[0m \u001B[43m            \u001B[49m\u001B[43merrors\u001B[49m\u001B[38;5;241;43m=\u001B[39;49m\u001B[43merrors\u001B[49m\u001B[43m,\u001B[49m\n\u001B[0;32m    868\u001B[0m \u001B[43m            \u001B[49m\u001B[43mnewline\u001B[49m\u001B[38;5;241;43m=\u001B[39;49m\u001B[38;5;124;43m\"\u001B[39;49m\u001B[38;5;124;43m\"\u001B[39;49m\u001B[43m,\u001B[49m\n\u001B[0;32m    869\u001B[0m \u001B[43m        \u001B[49m\u001B[43m)\u001B[49m\n\u001B[0;32m    870\u001B[0m     \u001B[38;5;28;01melse\u001B[39;00m:\n\u001B[0;32m    871\u001B[0m         \u001B[38;5;66;03m# Binary mode\u001B[39;00m\n\u001B[0;32m    872\u001B[0m         handle \u001B[38;5;241m=\u001B[39m \u001B[38;5;28mopen\u001B[39m(handle, ioargs\u001B[38;5;241m.\u001B[39mmode)\n",
      "\u001B[1;31mPermissionError\u001B[0m: [Errno 13] Permission denied: 'submission.csv'"
     ]
    }
   ],
   "source": [
    "# 제출 데이터 읽어오기 (df_test는 전처리된 데이터가 저장됨)\n",
    "df_sub = pd.read_csv(\"submission.csv\")\n",
    "df_sub[\"is_converted\"] = test_prob\n",
    "print(test_prob)\n",
    "# 제출 파일 저장\n",
    "df_sub.to_csv(\"submission.csv\", index=False)"
   ]
  },
  {
   "cell_type": "markdown",
   "id": "ec7867ce",
   "metadata": {},
   "source": [
    "**우측 상단의 제출 버튼을 클릭해 결과를 확인하세요**"
   ]
  }
 ],
 "metadata": {
  "kernelspec": {
   "display_name": "Python 3 (ipykernel)",
   "language": "python",
   "name": "python3"
  },
  "language_info": {
   "codemirror_mode": {
    "name": "ipython",
    "version": 3
   },
   "file_extension": ".py",
   "mimetype": "text/x-python",
   "name": "python",
   "nbconvert_exporter": "python",
   "pygments_lexer": "ipython3",
   "version": "3.10.13"
  }
 },
 "nbformat": 4,
 "nbformat_minor": 5
}
